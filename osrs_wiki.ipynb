{
 "cells": [
  {
   "cell_type": "markdown",
   "metadata": {},
   "source": [
    "# Libraries + Torch check"
   ]
  },
  {
   "cell_type": "code",
   "execution_count": null,
   "metadata": {
    "scrolled": true
   },
   "outputs": [],
   "source": [
    "import pandas as pd\n",
    "import requests\n",
    "import json\n",
    "from pathlib import Path\n",
    "import re\n",
    "from datetime import date\n",
    "import time\n",
    "import os\n",
    "from fastai.tabular import *\n",
    "import matplotlib.pyplot as plt\n",
    "import numpy as np\n",
    "from sklearn import linear_model\n",
    "import sklearn.metrics\n",
    "from sklearn.model_selection import train_test_split\n",
    "import math"
   ]
  },
  {
   "cell_type": "code",
   "execution_count": 22,
   "metadata": {},
   "outputs": [],
   "source": [
    "import torch"
   ]
  },
  {
   "cell_type": "code",
   "execution_count": 23,
   "metadata": {},
   "outputs": [
    {
     "data": {
      "text/plain": [
       "<torch.cuda.device at 0x7f9126849cd0>"
      ]
     },
     "execution_count": 23,
     "metadata": {},
     "output_type": "execute_result"
    }
   ],
   "source": [
    "torch.cuda.device(0)"
   ]
  },
  {
   "cell_type": "code",
   "execution_count": 4,
   "metadata": {},
   "outputs": [
    {
     "ename": "AssertionError",
     "evalue": "\nFound no NVIDIA driver on your system. Please check that you\nhave an NVIDIA GPU and installed a driver from\nhttp://www.nvidia.com/Download/index.aspx",
     "output_type": "error",
     "traceback": [
      "\u001b[0;31m---------------------------------------------------------------------------\u001b[0m",
      "\u001b[0;31mAssertionError\u001b[0m                            Traceback (most recent call last)",
      "\u001b[0;32m<ipython-input-4-f9c260299c38>\u001b[0m in \u001b[0;36m<module>\u001b[0;34m\u001b[0m\n\u001b[0;32m----> 1\u001b[0;31m \u001b[0mtorch\u001b[0m\u001b[0;34m.\u001b[0m\u001b[0mcuda\u001b[0m\u001b[0;34m.\u001b[0m\u001b[0mget_device_name\u001b[0m\u001b[0;34m(\u001b[0m\u001b[0;36m0\u001b[0m\u001b[0;34m)\u001b[0m\u001b[0;34m\u001b[0m\u001b[0;34m\u001b[0m\u001b[0m\n\u001b[0m",
      "\u001b[0;32m~/PycharmProjects/OSBuddy/venv/lib/python3.8/site-packages/torch/cuda/__init__.py\u001b[0m in \u001b[0;36mget_device_name\u001b[0;34m(device)\u001b[0m\n\u001b[1;32m    255\u001b[0m             \u001b[0;32mif\u001b[0m \u001b[0;34m:\u001b[0m\u001b[0mattr\u001b[0m\u001b[0;34m:\u001b[0m\u001b[0;31m`\u001b[0m\u001b[0mdevice\u001b[0m\u001b[0;31m`\u001b[0m \u001b[0;32mis\u001b[0m\u001b[0;31m \u001b[0m\u001b[0;31m`\u001b[0m\u001b[0;31m`\u001b[0m\u001b[0;32mNone\u001b[0m\u001b[0;31m`\u001b[0m\u001b[0;31m`\u001b[0m \u001b[0;34m(\u001b[0m\u001b[0mdefault\u001b[0m\u001b[0;34m)\u001b[0m\u001b[0;34m.\u001b[0m\u001b[0;34m\u001b[0m\u001b[0;34m\u001b[0m\u001b[0m\n\u001b[1;32m    256\u001b[0m     \"\"\"\n\u001b[0;32m--> 257\u001b[0;31m     \u001b[0;32mreturn\u001b[0m \u001b[0mget_device_properties\u001b[0m\u001b[0;34m(\u001b[0m\u001b[0mdevice\u001b[0m\u001b[0;34m)\u001b[0m\u001b[0;34m.\u001b[0m\u001b[0mname\u001b[0m\u001b[0;34m\u001b[0m\u001b[0;34m\u001b[0m\u001b[0m\n\u001b[0m\u001b[1;32m    258\u001b[0m \u001b[0;34m\u001b[0m\u001b[0m\n\u001b[1;32m    259\u001b[0m \u001b[0;34m\u001b[0m\u001b[0m\n",
      "\u001b[0;32m~/PycharmProjects/OSBuddy/venv/lib/python3.8/site-packages/torch/cuda/__init__.py\u001b[0m in \u001b[0;36mget_device_properties\u001b[0;34m(device)\u001b[0m\n\u001b[1;32m    276\u001b[0m \u001b[0;34m\u001b[0m\u001b[0m\n\u001b[1;32m    277\u001b[0m \u001b[0;32mdef\u001b[0m \u001b[0mget_device_properties\u001b[0m\u001b[0;34m(\u001b[0m\u001b[0mdevice\u001b[0m\u001b[0;34m)\u001b[0m\u001b[0;34m:\u001b[0m\u001b[0;34m\u001b[0m\u001b[0;34m\u001b[0m\u001b[0m\n\u001b[0;32m--> 278\u001b[0;31m     \u001b[0m_lazy_init\u001b[0m\u001b[0;34m(\u001b[0m\u001b[0;34m)\u001b[0m  \u001b[0;31m# will define _get_device_properties and _CudaDeviceProperties\u001b[0m\u001b[0;34m\u001b[0m\u001b[0;34m\u001b[0m\u001b[0m\n\u001b[0m\u001b[1;32m    279\u001b[0m     \u001b[0mdevice\u001b[0m \u001b[0;34m=\u001b[0m \u001b[0m_get_device_index\u001b[0m\u001b[0;34m(\u001b[0m\u001b[0mdevice\u001b[0m\u001b[0;34m,\u001b[0m \u001b[0moptional\u001b[0m\u001b[0;34m=\u001b[0m\u001b[0;32mTrue\u001b[0m\u001b[0;34m)\u001b[0m\u001b[0;34m\u001b[0m\u001b[0;34m\u001b[0m\u001b[0m\n\u001b[1;32m    280\u001b[0m     \u001b[0;32mif\u001b[0m \u001b[0mdevice\u001b[0m \u001b[0;34m<\u001b[0m \u001b[0;36m0\u001b[0m \u001b[0;32mor\u001b[0m \u001b[0mdevice\u001b[0m \u001b[0;34m>=\u001b[0m \u001b[0mdevice_count\u001b[0m\u001b[0;34m(\u001b[0m\u001b[0;34m)\u001b[0m\u001b[0;34m:\u001b[0m\u001b[0;34m\u001b[0m\u001b[0;34m\u001b[0m\u001b[0m\n",
      "\u001b[0;32m~/PycharmProjects/OSBuddy/venv/lib/python3.8/site-packages/torch/cuda/__init__.py\u001b[0m in \u001b[0;36m_lazy_init\u001b[0;34m()\u001b[0m\n\u001b[1;32m    147\u001b[0m             raise RuntimeError(\n\u001b[1;32m    148\u001b[0m                 \"Cannot re-initialize CUDA in forked subprocess. \" + msg)\n\u001b[0;32m--> 149\u001b[0;31m         \u001b[0m_check_driver\u001b[0m\u001b[0;34m(\u001b[0m\u001b[0;34m)\u001b[0m\u001b[0;34m\u001b[0m\u001b[0;34m\u001b[0m\u001b[0m\n\u001b[0m\u001b[1;32m    150\u001b[0m         \u001b[0;32mif\u001b[0m \u001b[0m_cudart\u001b[0m \u001b[0;32mis\u001b[0m \u001b[0;32mNone\u001b[0m\u001b[0;34m:\u001b[0m\u001b[0;34m\u001b[0m\u001b[0;34m\u001b[0m\u001b[0m\n\u001b[1;32m    151\u001b[0m             raise AssertionError(\n",
      "\u001b[0;32m~/PycharmProjects/OSBuddy/venv/lib/python3.8/site-packages/torch/cuda/__init__.py\u001b[0m in \u001b[0;36m_check_driver\u001b[0;34m()\u001b[0m\n\u001b[1;32m     49\u001b[0m         \u001b[0;32mif\u001b[0m \u001b[0mtorch\u001b[0m\u001b[0;34m.\u001b[0m\u001b[0m_C\u001b[0m\u001b[0;34m.\u001b[0m\u001b[0m_cuda_getDriverVersion\u001b[0m\u001b[0;34m(\u001b[0m\u001b[0;34m)\u001b[0m \u001b[0;34m==\u001b[0m \u001b[0;36m0\u001b[0m\u001b[0;34m:\u001b[0m\u001b[0;34m\u001b[0m\u001b[0;34m\u001b[0m\u001b[0m\n\u001b[1;32m     50\u001b[0m             \u001b[0;31m# found no NVIDIA driver on the system\u001b[0m\u001b[0;34m\u001b[0m\u001b[0;34m\u001b[0m\u001b[0;34m\u001b[0m\u001b[0m\n\u001b[0;32m---> 51\u001b[0;31m             raise AssertionError(\"\"\"\n\u001b[0m\u001b[1;32m     52\u001b[0m \u001b[0mFound\u001b[0m \u001b[0mno\u001b[0m \u001b[0mNVIDIA\u001b[0m \u001b[0mdriver\u001b[0m \u001b[0mon\u001b[0m \u001b[0myour\u001b[0m \u001b[0msystem\u001b[0m\u001b[0;34m.\u001b[0m \u001b[0mPlease\u001b[0m \u001b[0mcheck\u001b[0m \u001b[0mthat\u001b[0m \u001b[0myou\u001b[0m\u001b[0;34m\u001b[0m\u001b[0;34m\u001b[0m\u001b[0m\n\u001b[1;32m     53\u001b[0m \u001b[0mhave\u001b[0m \u001b[0man\u001b[0m \u001b[0mNVIDIA\u001b[0m \u001b[0mGPU\u001b[0m \u001b[0;32mand\u001b[0m \u001b[0minstalled\u001b[0m \u001b[0ma\u001b[0m \u001b[0mdriver\u001b[0m \u001b[0;32mfrom\u001b[0m\u001b[0;34m\u001b[0m\u001b[0;34m\u001b[0m\u001b[0m\n",
      "\u001b[0;31mAssertionError\u001b[0m: \nFound no NVIDIA driver on your system. Please check that you\nhave an NVIDIA GPU and installed a driver from\nhttp://www.nvidia.com/Download/index.aspx"
     ]
    }
   ],
   "source": [
    "torch.cuda.get_device_name(0)"
   ]
  },
  {
   "cell_type": "markdown",
   "metadata": {},
   "source": [
    "# Data Retrieval"
   ]
  },
  {
   "cell_type": "code",
   "execution_count": 24,
   "metadata": {},
   "outputs": [],
   "source": [
    "#cleaned_item_names = [name[:-10] for name in list(os.walk(r'data/wiki_prices'))[0][2]]"
   ]
  },
  {
   "cell_type": "code",
   "execution_count": 25,
   "metadata": {},
   "outputs": [],
   "source": [
    "item_names = pd.read_csv('wiki_item_names', header=None,names=['name'])"
   ]
  },
  {
   "cell_type": "code",
   "execution_count": 26,
   "metadata": {},
   "outputs": [
    {
     "data": {
      "text/html": [
       "<div>\n",
       "<style scoped>\n",
       "    .dataframe tbody tr th:only-of-type {\n",
       "        vertical-align: middle;\n",
       "    }\n",
       "\n",
       "    .dataframe tbody tr th {\n",
       "        vertical-align: top;\n",
       "    }\n",
       "\n",
       "    .dataframe thead th {\n",
       "        text-align: right;\n",
       "    }\n",
       "</style>\n",
       "<table border=\"1\" class=\"dataframe\">\n",
       "  <thead>\n",
       "    <tr style=\"text-align: right;\">\n",
       "      <th></th>\n",
       "      <th>name</th>\n",
       "    </tr>\n",
       "  </thead>\n",
       "  <tbody>\n",
       "    <tr>\n",
       "      <th>0</th>\n",
       "      <td>3rd age amulet</td>\n",
       "    </tr>\n",
       "    <tr>\n",
       "      <th>1</th>\n",
       "      <td>3rd age axe</td>\n",
       "    </tr>\n",
       "    <tr>\n",
       "      <th>2</th>\n",
       "      <td>3rd age bow</td>\n",
       "    </tr>\n",
       "    <tr>\n",
       "      <th>3</th>\n",
       "      <td>3rd age cloak</td>\n",
       "    </tr>\n",
       "    <tr>\n",
       "      <th>4</th>\n",
       "      <td>3rd age druidic cloak</td>\n",
       "    </tr>\n",
       "    <tr>\n",
       "      <th>...</th>\n",
       "      <td>...</td>\n",
       "    </tr>\n",
       "    <tr>\n",
       "      <th>3286</th>\n",
       "      <td>Zogre bones</td>\n",
       "    </tr>\n",
       "    <tr>\n",
       "      <th>3287</th>\n",
       "      <td>Zombie head (Treasure Trails)</td>\n",
       "    </tr>\n",
       "    <tr>\n",
       "      <th>3288</th>\n",
       "      <td>Zul-andra teleport</td>\n",
       "    </tr>\n",
       "    <tr>\n",
       "      <th>3289</th>\n",
       "      <td>Zulrah's scales</td>\n",
       "    </tr>\n",
       "    <tr>\n",
       "      <th>3290</th>\n",
       "      <td>Zuriel's staff</td>\n",
       "    </tr>\n",
       "  </tbody>\n",
       "</table>\n",
       "<p>3291 rows × 1 columns</p>\n",
       "</div>"
      ],
      "text/plain": [
       "                               name\n",
       "0                    3rd age amulet\n",
       "1                       3rd age axe\n",
       "2                       3rd age bow\n",
       "3                     3rd age cloak\n",
       "4             3rd age druidic cloak\n",
       "...                             ...\n",
       "3286                    Zogre bones\n",
       "3287  Zombie head (Treasure Trails)\n",
       "3288             Zul-andra teleport\n",
       "3289                Zulrah's scales\n",
       "3290                 Zuriel's staff\n",
       "\n",
       "[3291 rows x 1 columns]"
      ]
     },
     "execution_count": 26,
     "metadata": {},
     "output_type": "execute_result"
    }
   ],
   "source": [
    "item_names"
   ]
  },
  {
   "cell_type": "code",
   "execution_count": 27,
   "metadata": {},
   "outputs": [],
   "source": [
    "cleaned_item_names = [name[0].replace(' ', '%20') for name in item_names.values]"
   ]
  },
  {
   "cell_type": "code",
   "execution_count": 28,
   "metadata": {},
   "outputs": [
    {
     "data": {
      "text/plain": [
       "name    3rd age amulet\n",
       "Name: 0, dtype: object"
      ]
     },
     "execution_count": 28,
     "metadata": {},
     "output_type": "execute_result"
    }
   ],
   "source": [
    "item_names.loc[0]"
   ]
  },
  {
   "cell_type": "code",
   "execution_count": 29,
   "metadata": {
    "scrolled": true
   },
   "outputs": [
    {
     "data": {
      "text/plain": [
       "['3rd%20age%20amulet',\n",
       " '3rd%20age%20axe',\n",
       " '3rd%20age%20bow',\n",
       " '3rd%20age%20cloak',\n",
       " '3rd%20age%20druidic%20cloak']"
      ]
     },
     "execution_count": 29,
     "metadata": {},
     "output_type": "execute_result"
    }
   ],
   "source": [
    "cleaned_item_names[0:5]"
   ]
  },
  {
   "cell_type": "code",
   "execution_count": 30,
   "metadata": {},
   "outputs": [],
   "source": [
    "#pd.Series(cleaned_item_names).to_csv('./data/cleaned_item_names', index=False, header=False)"
   ]
  },
  {
   "cell_type": "code",
   "execution_count": 31,
   "metadata": {},
   "outputs": [
    {
     "data": {
      "text/plain": [
       "3291"
      ]
     },
     "execution_count": 31,
     "metadata": {},
     "output_type": "execute_result"
    }
   ],
   "source": [
    "len(cleaned_item_names)"
   ]
  },
  {
   "cell_type": "code",
   "execution_count": 32,
   "metadata": {},
   "outputs": [],
   "source": [
    "# cleaned_item_names"
   ]
  },
  {
   "cell_type": "code",
   "execution_count": 33,
   "metadata": {},
   "outputs": [],
   "source": [
    "def get_item_df(item_name, sleppy_time=1):\n",
    "    base_url = r\"https://oldschool.runescape.wiki/api.php?action=query&prop=revisions&rvprop=content&format=json&titles=Module%3AExchange%2F\"\n",
    "    postfix_url = r\"%2FData\"\n",
    "    full_url = f'{base_url}{item_name}{postfix_url}'\n",
    "    resp = requests.get(full_url)\n",
    "    jsond = resp.json()\n",
    "    try:\n",
    "        regex_text = jsond['query']['pages'][next(iter(jsond['query']['pages'].keys()))]['revisions'][0]['*']\n",
    "        #get all of the ones that have volume as well as price\n",
    "        m = re.findall(r'[\\d]+:[\\d]+:[\\d]+', regex_text)\n",
    "        item_df = pd.DataFrame()\n",
    "        item_df['dt'] = [int(string.split(':')[0]) for string in m]\n",
    "        item_df[f'{item_name} price'] = [int(string.split(':')[1]) for string in m]\n",
    "        item_df[f'{item_name} volume'] = [int(string.split(':')[2]) for string in m]\n",
    "        item_df['date_obj'] = item_df['dt'].apply(lambda x: date.fromtimestamp(x))\n",
    "        #take the ones that just have price so we can get the most recent price as well\n",
    "        n = re.findall(r'[\\d]+:[\\d]+', regex_text)\n",
    "        last_time = date.fromtimestamp(int(n[-1].split(':')[0]))\n",
    "        last_price = int(n[-1].split(':')[1])\n",
    "        item_df.loc[-1, 'date_obj'] = last_time\n",
    "        item_df.loc[-1, f'{item_name} price'] = last_price\n",
    "        item_df = item_df.fillna(method='ffill')\n",
    "        item_df.set_index('date_obj', inplace=True)\n",
    "        item_df = item_df.drop('dt', axis=1)\n",
    "        return item_df\n",
    "    except:\n",
    "        pass\n",
    "\n"
   ]
  },
  {
   "cell_type": "code",
   "execution_count": 34,
   "metadata": {},
   "outputs": [],
   "source": [
    "def retrieve_dfs(xslice = True):\n",
    "    if xslice:\n",
    "        item_dfs = [get_item_df(item_name,1) for item_name in cleaned_item_names[40:45]]\n",
    "    else:\n",
    "        item_dfs = [get_item_df(item_name,1) for item_name in cleaned_item_names]\n",
    "    return item_dfs"
   ]
  },
  {
   "cell_type": "code",
   "execution_count": null,
   "metadata": {},
   "outputs": [],
   "source": [
    "item_dfs = retrieve_dfs(False)"
   ]
  },
  {
   "cell_type": "code",
   "execution_count": null,
   "metadata": {},
   "outputs": [],
   "source": [
    "len(item_dfs)"
   ]
  },
  {
   "cell_type": "code",
   "execution_count": null,
   "metadata": {},
   "outputs": [],
   "source": [
    "item_dfs[0]"
   ]
  },
  {
   "cell_type": "code",
   "execution_count": null,
   "metadata": {},
   "outputs": [],
   "source": [
    "def save_dfs(item_dfs):\n",
    "    for df in item_dfs:\n",
    "        try:\n",
    "            df.to_csv(f'./data/wiki_prices/{df.columns[0]}.csv')\n",
    "        except:\n",
    "            pass"
   ]
  },
  {
   "cell_type": "code",
   "execution_count": null,
   "metadata": {},
   "outputs": [],
   "source": [
    "save_dfs(item_dfs)"
   ]
  },
  {
   "cell_type": "code",
   "execution_count": null,
   "metadata": {},
   "outputs": [],
   "source": [
    "def load_dfs(drop_blank=True):\n",
    "    item_dfs = []\n",
    "    for name in list(os.walk('./data/wiki_prices'))[0][2]:\n",
    "        df = pd.read_csv(f'./data/wiki_prices/{name}')\n",
    "        df = df.set_index(df.columns[0])\n",
    "#         if drop_blank:\n",
    "#             if df.empty:\n",
    "#                 item_dfs.append(df)\n",
    "#         else:\n",
    "#             item_dfs.append(df)\n",
    "        item_dfs.append(df)\n",
    "    return item_dfs"
   ]
  },
  {
   "cell_type": "code",
   "execution_count": null,
   "metadata": {},
   "outputs": [],
   "source": [
    "item_dfs = load_dfs()"
   ]
  },
  {
   "cell_type": "code",
   "execution_count": null,
   "metadata": {},
   "outputs": [],
   "source": [
    "len(item_dfs)"
   ]
  },
  {
   "cell_type": "code",
   "execution_count": null,
   "metadata": {},
   "outputs": [],
   "source": [
    "type(item_dfs)"
   ]
  },
  {
   "cell_type": "code",
   "execution_count": null,
   "metadata": {},
   "outputs": [],
   "source": [
    "cleaned_item_names[0]"
   ]
  },
  {
   "cell_type": "code",
   "execution_count": null,
   "metadata": {},
   "outputs": [],
   "source": [
    "for item_df in item_dfs:\n",
    "    try:\n",
    "        col = item_df.columns[0]\n",
    "    except:\n",
    "        invalid_dfs += 1 \n",
    "        print(item_df)"
   ]
  },
  {
   "cell_type": "code",
   "execution_count": null,
   "metadata": {},
   "outputs": [],
   "source": [
    "retrieved_names = [item_df.columns[0][:-6] for item_df in item_dfs]"
   ]
  },
  {
   "cell_type": "code",
   "execution_count": null,
   "metadata": {},
   "outputs": [],
   "source": [
    "len(retrieved_names)"
   ]
  },
  {
   "cell_type": "code",
   "execution_count": null,
   "metadata": {},
   "outputs": [],
   "source": [
    "len(item_dfs)"
   ]
  },
  {
   "cell_type": "code",
   "execution_count": null,
   "metadata": {},
   "outputs": [],
   "source": [
    "df = pd.DataFrame({'name': retrieved_names, 'price_df': item_dfs})"
   ]
  },
  {
   "cell_type": "code",
   "execution_count": null,
   "metadata": {
    "scrolled": true
   },
   "outputs": [],
   "source": [
    "df.head()"
   ]
  },
  {
   "cell_type": "markdown",
   "metadata": {},
   "source": [
    "# Feature creation"
   ]
  },
  {
   "cell_type": "code",
   "execution_count": null,
   "metadata": {},
   "outputs": [],
   "source": [
    "#item_df_training = tl_df['price_df'][300]"
   ]
  },
  {
   "cell_type": "code",
   "execution_count": null,
   "metadata": {},
   "outputs": [],
   "source": [
    "days_back = 90\n",
    "\n",
    "rolling_averages = [3,7,14,21,30,60,90]\n",
    "\n",
    "days_ahead_to_predict = 4"
   ]
  },
  {
   "cell_type": "code",
   "execution_count": null,
   "metadata": {},
   "outputs": [],
   "source": [
    "def create_predictive_features(price_df):\n",
    "    item_df_training = price_df\n",
    "    item_name = item_df_training.columns[0]\n",
    "    for i in range(days_back):\n",
    "        item_df_training[f'{item_name} {i} days ago'] = item_df_training[item_name].shift(i)\n",
    "    for i in range(days_back):\n",
    "        item_df_training[f'{item_name} {i} delta days ago'] = item_df_training[item_name].shift(i) - item_df_training[item_name]\n",
    "    for rolling_average in rolling_averages:\n",
    "        item_df_training[f'{item_name} {rolling_average} day rolling average'] = item_df_training[item_name].rolling(rolling_average).mean()\n",
    "    for rolling_average in rolling_averages:\n",
    "        item_df_training[f'{item_name} delta {rolling_average} day rolling average'] = item_df_training[item_name] - item_df_training[f'{item_name} {rolling_average} day rolling average']\n",
    "    item_df_training['Y'] = item_df_training[item_name].shift(-1*days_ahead_to_predict)\n",
    "    return item_df_training\n",
    "\n",
    "        "
   ]
  },
  {
   "cell_type": "code",
   "execution_count": null,
   "metadata": {},
   "outputs": [],
   "source": [
    "#price_df = tl_df['price_df'][300]"
   ]
  },
  {
   "cell_type": "code",
   "execution_count": null,
   "metadata": {},
   "outputs": [],
   "source": [
    "def trim_df(item_df_training):\n",
    "    trimmed_df = item_df_training.dropna(how='any')\n",
    "    return trimmed_df\n",
    "    "
   ]
  },
  {
   "cell_type": "markdown",
   "metadata": {},
   "source": [
    "# SGD LR"
   ]
  },
  {
   "cell_type": "code",
   "execution_count": null,
   "metadata": {},
   "outputs": [],
   "source": [
    "def create_model(tl_df_row):\n",
    "    trimmed_df = tl_df_row['trimmed_df']\n",
    "    try:\n",
    "        X = trimmed_df.drop(['Y'], axis=1)\n",
    "        y = trimmed_df['Y']\n",
    "        X_train, X_test, y_train, y_test = train_test_split(X, y, test_size = 0.2, shuffle=False)\n",
    "        regr = linear_model.LinearRegression()\n",
    "        regr.fit(X_train, y_train)\n",
    "        y_pred = regr.predict(X_test)\n",
    "        mean_squared_error = sklearn.metrics.mean_squared_error(y_test, y_pred)\n",
    "        r2_score = sklearn.metrics.r2_score(y_test, y_pred)\n",
    "        return (regr, y_pred, y_test, mean_squared_error, r2_score)\n",
    "    except:\n",
    "        return (0, 0, 0, 0, 0)"
   ]
  },
  {
   "cell_type": "code",
   "execution_count": null,
   "metadata": {},
   "outputs": [],
   "source": [
    "#plt.scatter(y_test, y_pred)"
   ]
  },
  {
   "cell_type": "markdown",
   "metadata": {},
   "source": [
    "# \"Backtest\""
   ]
  },
  {
   "cell_type": "code",
   "execution_count": null,
   "metadata": {},
   "outputs": [],
   "source": [
    "starting_cash = 10**7"
   ]
  },
  {
   "cell_type": "code",
   "execution_count": null,
   "metadata": {},
   "outputs": [],
   "source": [
    "slippage = 0\n",
    "thresh_buy = 0.00\n",
    "thresh_sell = 0\n",
    "max_volume_buy = 0.01"
   ]
  },
  {
   "cell_type": "code",
   "execution_count": null,
   "metadata": {},
   "outputs": [],
   "source": [
    "def should_buy(row):\n",
    "    if row['perc predicted increase'] > thresh_buy:\n",
    "        return True\n",
    "\n",
    "def should_sell(row):\n",
    "    if row['perc predicted increase'] < thresh_sell:\n",
    "        return True\n",
    "    \n",
    "def buy_price(row):\n",
    "    return row['current_price']\n",
    "\n",
    "def sell_price(row):\n",
    "    return row['current_price']\n",
    "\n",
    "def max_buy(row):\n",
    "    d_stock = max(\n",
    "        min(\n",
    "        (row['starting_cash']//buy_price(row)),\n",
    "        math.floor(row['volume']*max_volume_buy)\n",
    "        ),\n",
    "        0\n",
    "    )\n",
    "    d_cash = -1 * d_stock * buy_price(row)\n",
    "    return (d_stock, d_cash)\n",
    "\n",
    "def max_sell(row):\n",
    "    d_stock = -1 * max(\n",
    "        0,\n",
    "        min(row['starting_stock'],\n",
    "        math.floor(row['volume'] * max_volume_buy)\n",
    "        )\n",
    "    )\n",
    "    d_cash = d_stock *-1 * sell_price(row)\n",
    "    return (d_stock, d_cash)"
   ]
  },
  {
   "cell_type": "code",
   "execution_count": null,
   "metadata": {},
   "outputs": [],
   "source": [
    "def get_ending_cash(record_df):\n",
    "    last_row = record_df.iloc[-1,:]\n",
    "    cash = last_row['ending_cash']\n",
    "    cash += sell_price(last_row) * last_row['ending_stock']\n",
    "    return cash"
   ]
  },
  {
   "cell_type": "code",
   "execution_count": null,
   "metadata": {},
   "outputs": [],
   "source": []
  },
  {
   "cell_type": "code",
   "execution_count": null,
   "metadata": {},
   "outputs": [],
   "source": [
    "def create_backtest_df(tl_df_row):\n",
    "    try:\n",
    "        y_pred = tl_df_row['y_pred']\n",
    "        y_test = tl_df_row['y_test']\n",
    "        item_df_training = tl_df_row['item_df_training']\n",
    "        item_name = tl_df_row['name']\n",
    "\n",
    "        bt_df = pd.concat([pd.Series(y_pred, index= y_test.index, name='Prediction'), y_test.rename(index='Y')], axis=1)\n",
    "        bt_df['Y + 1'] = bt_df['Y'].shift(-1)\n",
    "        bt_df['Y - 1'] = bt_df['Y'].shift(1)\n",
    "\n",
    "\n",
    "        bt_df = bt_df.fillna(method='ffill').fillna(method='bfill')\n",
    "\n",
    "        volume_column = f'{item_name} volume'\n",
    "        volume = item_df_training[volume_column]\n",
    "\n",
    "        bt_df = bt_df.join(item_df_training[volume_column].rename(index='volume'))\n",
    "        bt_df = bt_df.join(item_df_training[f'{item_name} price'].rename(index='current_price'))\n",
    "        bt_df['perc predicted increase'] = (bt_df['Prediction'] - bt_df['current_price'])/bt_df['current_price']\n",
    "\n",
    "        bt_df['starting_stock'] = 0\n",
    "        bt_df['starting_cash'] = 0\n",
    "        bt_df['ending_stock'] = 0\n",
    "        bt_df['ending_cash'] = 0\n",
    "\n",
    "        bt_df.loc[bt_df.index[0], 'starting_cash'] = starting_cash\n",
    "        bt_df.loc[bt_df.index[0], 'ending_cash'] = starting_cash\n",
    "\n",
    "        bt_df['action'] = ''\n",
    "\n",
    "        copy_df = bt_df.copy()\n",
    "        record_df = bt_df.copy()\n",
    "\n",
    "        first_row = True\n",
    "        for i, row in copy_df.iterrows():\n",
    "            current_row = row\n",
    "            if first_row:\n",
    "                prev_row = current_row\n",
    "                first_row = False\n",
    "                continue\n",
    "            current_row['starting_cash'] = prev_row['ending_cash']\n",
    "            current_row['starting_stock'] = prev_row['ending_stock']\n",
    "            cash = current_row['starting_cash']\n",
    "            stock = current_row['starting_stock']\n",
    "            if should_buy(current_row):\n",
    "                d_stock, d_cash = max_buy(current_row)\n",
    "                cash += d_cash\n",
    "                stock += d_stock\n",
    "                current_row['action'] = f'Buying + {d_stock} stock, - {d_cash} cash'\n",
    "            elif should_sell(row):\n",
    "                d_stock, d_cash = max_sell(current_row)\n",
    "                cash += d_cash\n",
    "                stock += d_stock\n",
    "                current_row['action'] = f'Selling + {d_stock} stock, + {d_cash} cash'\n",
    "            else:\n",
    "                current_row['action'] = 'hold'\n",
    "            current_row['ending_cash'] = cash\n",
    "            current_row['ending_stock'] = stock\n",
    "            record_df.loc[i, :] = current_row\n",
    "            prev_row = current_row\n",
    "        roi = get_ending_cash(record_df)/starting_cash\n",
    "        last_perc_prediction = bt_df\n",
    "        return (roi, record_df)\n",
    "    except:\n",
    "        return (0, 0)\n"
   ]
  },
  {
   "cell_type": "markdown",
   "metadata": {},
   "source": [
    "# Predict for right now"
   ]
  },
  {
   "cell_type": "code",
   "execution_count": null,
   "metadata": {},
   "outputs": [],
   "source": [
    "def make_predictions(tl_df_row):\n",
    "    try:\n",
    "        item_name = tl_df_row['name']\n",
    "        regr = tl_df_row['regr']\n",
    "        item_df_training = tl_df_row['item_df_training']\n",
    "        current_price = item_df_training.loc[item_df_training.index[-1], f'{item_name} price']\n",
    "        pred_price = regr.predict(np.array(item_df_training.drop('Y', axis=1).loc[item_df_training.index[-1],:]).reshape(1, -1))[0]\n",
    "        perc_pred_increase = (pred_price - current_price)/(current_price)\n",
    "        last_day = item_df_training.index[-1]\n",
    "        return (perc_pred_increase, last_day, current_price)\n",
    "    except:\n",
    "        return(0, 0, 0)"
   ]
  },
  {
   "cell_type": "markdown",
   "metadata": {},
   "source": [
    "# Filter and find trades"
   ]
  },
  {
   "cell_type": "code",
   "execution_count": null,
   "metadata": {},
   "outputs": [],
   "source": [
    "r2_score_thresh = .85\n",
    "roi_thresh = 1.05\n",
    "perc_pred_increase_thresh = 0.03"
   ]
  },
  {
   "cell_type": "code",
   "execution_count": null,
   "metadata": {},
   "outputs": [],
   "source": [
    "batch_size = 100\n"
   ]
  },
  {
   "cell_type": "code",
   "execution_count": null,
   "metadata": {},
   "outputs": [],
   "source": [
    "df_list = []"
   ]
  },
  {
   "cell_type": "code",
   "execution_count": null,
   "metadata": {},
   "outputs": [],
   "source": [
    "bought_names = []"
   ]
  },
  {
   "cell_type": "code",
   "execution_count": null,
   "metadata": {},
   "outputs": [],
   "source": [
    "name = df.name.loc[df.name.str.contains('Clue')]\n",
    "name"
   ]
  },
  {
   "cell_type": "code",
   "execution_count": null,
   "metadata": {},
   "outputs": [],
   "source": [
    "#bought_names.append(name[2831])"
   ]
  },
  {
   "cell_type": "code",
   "execution_count": null,
   "metadata": {},
   "outputs": [],
   "source": [
    "bought_names"
   ]
  },
  {
   "cell_type": "code",
   "execution_count": 17,
   "metadata": {},
   "outputs": [
    {
     "ename": "NameError",
     "evalue": "name 'bought_names' is not defined",
     "output_type": "error",
     "traceback": [
      "\u001b[0;31m---------------------------------------------------------------------------\u001b[0m",
      "\u001b[0;31mNameError\u001b[0m                                 Traceback (most recent call last)",
      "\u001b[0;32m<ipython-input-17-6f7b836984d9>\u001b[0m in \u001b[0;36m<module>\u001b[0;34m\u001b[0m\n\u001b[0;32m----> 1\u001b[0;31m \u001b[0mbought\u001b[0m \u001b[0;34m=\u001b[0m \u001b[0mpd\u001b[0m\u001b[0;34m.\u001b[0m\u001b[0mDataFrame\u001b[0m\u001b[0;34m(\u001b[0m\u001b[0;34m{\u001b[0m\u001b[0;34m'name'\u001b[0m\u001b[0;34m:\u001b[0m \u001b[0mbought_names\u001b[0m\u001b[0;34m}\u001b[0m\u001b[0;34m)\u001b[0m\u001b[0;34m\u001b[0m\u001b[0;34m\u001b[0m\u001b[0m\n\u001b[0m\u001b[1;32m      2\u001b[0m \u001b[0mbought\u001b[0m\u001b[0;34m\u001b[0m\u001b[0;34m\u001b[0m\u001b[0m\n",
      "\u001b[0;31mNameError\u001b[0m: name 'bought_names' is not defined"
     ]
    }
   ],
   "source": [
    "bought = pd.DataFrame({'name': bought_names})\n",
    "bought"
   ]
  },
  {
   "cell_type": "code",
   "execution_count": 18,
   "metadata": {},
   "outputs": [],
   "source": [
    "bought = pd.read_csv('data/bought')\n"
   ]
  },
  {
   "cell_type": "code",
   "execution_count": 19,
   "metadata": {},
   "outputs": [
    {
     "data": {
      "text/plain": [
       "array(['Frog%20slippers', 'Granite%20hammer', 'Black%20wizard%20hat%20(g)', 'Willow%20sapling', 'Clue%20box',\n",
       "       'Dareeyak%20teleport%20(tablet)', \"Zamorak%20d'hide%20shield\"], dtype=object)"
      ]
     },
     "execution_count": 19,
     "metadata": {},
     "output_type": "execute_result"
    }
   ],
   "source": [
    "bought['name'].values"
   ]
  },
  {
   "cell_type": "code",
   "execution_count": 20,
   "metadata": {
    "scrolled": true
   },
   "outputs": [
    {
     "ename": "NameError",
     "evalue": "name 'df' is not defined",
     "output_type": "error",
     "traceback": [
      "\u001b[0;31m---------------------------------------------------------------------------\u001b[0m",
      "\u001b[0;31mNameError\u001b[0m                                 Traceback (most recent call last)",
      "\u001b[0;32m<ipython-input-20-f432ad81a498>\u001b[0m in \u001b[0;36m<module>\u001b[0;34m\u001b[0m\n\u001b[0;32m----> 1\u001b[0;31m \u001b[0;32mfor\u001b[0m \u001b[0mi\u001b[0m \u001b[0;32min\u001b[0m \u001b[0mrange\u001b[0m\u001b[0;34m(\u001b[0m\u001b[0;36m0\u001b[0m\u001b[0;34m,\u001b[0m\u001b[0mdf\u001b[0m\u001b[0;34m.\u001b[0m\u001b[0mshape\u001b[0m\u001b[0;34m[\u001b[0m\u001b[0;36m0\u001b[0m\u001b[0;34m]\u001b[0m\u001b[0;34m,\u001b[0m\u001b[0mbatch_size\u001b[0m\u001b[0;34m)\u001b[0m\u001b[0;34m:\u001b[0m\u001b[0;34m\u001b[0m\u001b[0;34m\u001b[0m\u001b[0m\n\u001b[0m\u001b[1;32m      2\u001b[0m     \u001b[0mtl_df\u001b[0m \u001b[0;34m=\u001b[0m \u001b[0mdf\u001b[0m\u001b[0;34m.\u001b[0m\u001b[0miloc\u001b[0m\u001b[0;34m[\u001b[0m\u001b[0mi\u001b[0m\u001b[0;34m:\u001b[0m\u001b[0mi\u001b[0m\u001b[0;34m+\u001b[0m\u001b[0;36m100\u001b[0m\u001b[0;34m,\u001b[0m\u001b[0;34m:\u001b[0m\u001b[0;34m]\u001b[0m\u001b[0;34m\u001b[0m\u001b[0;34m\u001b[0m\u001b[0m\n\u001b[1;32m      3\u001b[0m     \u001b[0mtl_df\u001b[0m\u001b[0;34m[\u001b[0m\u001b[0;34m'item_df_training'\u001b[0m\u001b[0;34m]\u001b[0m \u001b[0;34m=\u001b[0m \u001b[0mtl_df\u001b[0m\u001b[0;34m[\u001b[0m\u001b[0;34m'price_df'\u001b[0m\u001b[0;34m]\u001b[0m\u001b[0;34m.\u001b[0m\u001b[0mapply\u001b[0m\u001b[0;34m(\u001b[0m\u001b[0mcreate_predictive_features\u001b[0m\u001b[0;34m)\u001b[0m\u001b[0;34m\u001b[0m\u001b[0;34m\u001b[0m\u001b[0m\n\u001b[1;32m      4\u001b[0m \u001b[0;34m\u001b[0m\u001b[0m\n\u001b[1;32m      5\u001b[0m     \u001b[0mtl_df\u001b[0m\u001b[0;34m[\u001b[0m\u001b[0;34m'trimmed_df'\u001b[0m\u001b[0;34m]\u001b[0m \u001b[0;34m=\u001b[0m \u001b[0mtl_df\u001b[0m\u001b[0;34m[\u001b[0m\u001b[0;34m'item_df_training'\u001b[0m\u001b[0;34m]\u001b[0m\u001b[0;34m.\u001b[0m\u001b[0mapply\u001b[0m\u001b[0;34m(\u001b[0m\u001b[0mtrim_df\u001b[0m\u001b[0;34m)\u001b[0m\u001b[0;34m\u001b[0m\u001b[0;34m\u001b[0m\u001b[0m\n",
      "\u001b[0;31mNameError\u001b[0m: name 'df' is not defined"
     ]
    }
   ],
   "source": [
    "for i in range(0,df.shape[0],batch_size):\n",
    "    tl_df = df.iloc[i:i+100,:] \n",
    "    tl_df['item_df_training'] = tl_df['price_df'].apply(create_predictive_features)\n",
    "\n",
    "    tl_df['trimmed_df'] = tl_df['item_df_training'].apply(trim_df)\n",
    "    \n",
    "\n",
    "    tl_df['regr'], tl_df['y_pred'], tl_df['y_test'], tl_df['mean_squared_error'], tl_df['r2_score'] = zip(*tl_df.apply(create_model, axis=1))\n",
    "\n",
    "\n",
    "    tl_df['roi'], tl_df['record_df'] = zip(*tl_df.apply(create_backtest_df, axis=1))\n",
    "\n",
    "\n",
    "    tl_df.sort_values(by='roi', ascending = False)\n",
    "\n",
    "    tl_df['perc_pred_increase'], tl_df['last_day'], tl_df['current_price'] = zip(*tl_df.apply(make_predictions, axis=1))\n",
    "\n",
    "\n",
    "    filter_tl_df = tl_df.copy()\n",
    "\n",
    "    filter_tl_df = filter_tl_df.dropna(how='any')\n",
    "\n",
    "    filter_tl_df =filter_tl_df.loc[filter_tl_df['r2_score'].apply(lambda x: type(x)) != list]\n",
    "\n",
    "    filter_tl_df = filter_tl_df.loc[filter_tl_df['r2_score'] > r2_score_thresh]\n",
    "\n",
    "    print(filter_tl_df.shape)\n",
    "\n",
    "    filter_tl_df = filter_tl_df.loc[filter_tl_df['roi'] > roi_thresh]\n",
    "\n",
    "    print(filter_tl_df.shape)\n",
    "\n",
    "    filter_tl_df = filter_tl_df.loc[\n",
    "            (filter_tl_df['perc_pred_increase'] > perc_pred_increase_thresh) \\\n",
    "        | (filter_tl_df['name'].isin(bought['name']))\n",
    "                                   ]\n",
    "\n",
    "    print(filter_tl_df.shape)\n",
    "\n",
    "    print(filter_tl_df)\n",
    "    df_list.append(filter_tl_df)"
   ]
  },
  {
   "cell_type": "code",
   "execution_count": null,
   "metadata": {},
   "outputs": [],
   "source": []
  },
  {
   "cell_type": "code",
   "execution_count": 58,
   "metadata": {},
   "outputs": [
    {
     "data": {
      "text/html": [
       "<div>\n",
       "<style scoped>\n",
       "    .dataframe tbody tr th:only-of-type {\n",
       "        vertical-align: middle;\n",
       "    }\n",
       "\n",
       "    .dataframe tbody tr th {\n",
       "        vertical-align: top;\n",
       "    }\n",
       "\n",
       "    .dataframe thead th {\n",
       "        text-align: right;\n",
       "    }\n",
       "</style>\n",
       "<table border=\"1\" class=\"dataframe\">\n",
       "  <thead>\n",
       "    <tr style=\"text-align: right;\">\n",
       "      <th></th>\n",
       "      <th>name</th>\n",
       "      <th>price_df</th>\n",
       "      <th>item_df_training</th>\n",
       "      <th>trimmed_df</th>\n",
       "      <th>regr</th>\n",
       "      <th>y_pred</th>\n",
       "      <th>y_test</th>\n",
       "      <th>mean_squared_error</th>\n",
       "      <th>r2_score</th>\n",
       "      <th>roi</th>\n",
       "      <th>record_df</th>\n",
       "      <th>perc_pred_increase</th>\n",
       "      <th>last_day</th>\n",
       "      <th>current_price</th>\n",
       "    </tr>\n",
       "  </thead>\n",
       "  <tbody>\n",
       "  </tbody>\n",
       "</table>\n",
       "</div>"
      ],
      "text/plain": [
       "Empty DataFrame\n",
       "Columns: [name, price_df, item_df_training, trimmed_df, regr, y_pred, y_test, mean_squared_error, r2_score, roi, record_df, perc_pred_increase, last_day, current_price]\n",
       "Index: []"
      ]
     },
     "execution_count": 58,
     "metadata": {},
     "output_type": "execute_result"
    }
   ],
   "source": [
    "filter_tl_df"
   ]
  },
  {
   "cell_type": "code",
   "execution_count": 59,
   "metadata": {},
   "outputs": [
    {
     "data": {
      "text/plain": [
       "[                name                                           price_df  \\\n",
       " 14  Wildblood%20seed              Wildblood%20seed price  Wildblood%...   \n",
       " \n",
       "                                      item_df_training  \\\n",
       " 14              Wildblood%20seed price  Wildblood%...   \n",
       " \n",
       "                                            trimmed_df                regr  \\\n",
       " 14              Wildblood%20seed price  Wildblood%...  LinearRegression()   \n",
       " \n",
       "                                                y_pred  \\\n",
       " 14  [140.19508315409934, 146.8516792931727, 147.25...   \n",
       " \n",
       "                                                y_test  mean_squared_error  \\\n",
       " 14  date_obj\n",
       " 2020-04-17    143.0\n",
       " 2020-04-18    148...           79.731955   \n",
       " \n",
       "     r2_score       roi                                          record_df  \\\n",
       " 14   0.93529  1.082853              Prediction      Y  Y + 1  Y - 1   ...   \n",
       " \n",
       "     perc_pred_increase    last_day  current_price  \n",
       " 14            0.090415  2020-08-19           95.0  ,\n",
       "                 name                                           price_df  \\\n",
       " 180  Frog%20slippers              Frog%20slippers price  Frog%20slip...   \n",
       " \n",
       "                                       item_df_training  \\\n",
       " 180              Frog%20slippers price  Frog%20slip...   \n",
       " \n",
       "                                             trimmed_df                regr  \\\n",
       " 180              Frog%20slippers price  Frog%20slip...  LinearRegression()   \n",
       " \n",
       "                                                 y_pred  \\\n",
       " 180  [48772.3727747678, 47580.0270716428, 47421.124...   \n",
       " \n",
       "                                                 y_test  mean_squared_error  \\\n",
       " 180  date_obj\n",
       " 2020-05-26     48314.0\n",
       " 2020-05-27    ...        3.314156e+07   \n",
       " \n",
       "      r2_score       roi                                          record_df  \\\n",
       " 180  0.972149  1.104523                 Prediction         Y     Y + 1 ...   \n",
       " \n",
       "      perc_pred_increase    last_day  current_price  \n",
       " 180           -0.088115  2020-08-19       117550.0  ,\n",
       "                                name  \\\n",
       " 280  Dareeyak%20teleport%20(tablet)   \n",
       " \n",
       "                                               price_df  \\\n",
       " 280              Dareeyak%20teleport%20(tablet) pri...   \n",
       " \n",
       "                                       item_df_training  \\\n",
       " 280              Dareeyak%20teleport%20(tablet) pri...   \n",
       " \n",
       "                                             trimmed_df                regr  \\\n",
       " 280              Dareeyak%20teleport%20(tablet) pri...  LinearRegression()   \n",
       " \n",
       "                                                 y_pred  \\\n",
       " 280  [4893.84156206459, 4960.718148978653, 4953.113...   \n",
       " \n",
       "                                                 y_test  mean_squared_error  \\\n",
       " 280  date_obj\n",
       " 2020-04-19    5068.0\n",
       " 2020-04-20    53...       380741.926194   \n",
       " \n",
       "      r2_score       roi                                          record_df  \\\n",
       " 280  0.903465  1.277237               Prediction       Y   Y + 1   Y - ...   \n",
       " \n",
       "      perc_pred_increase    last_day  current_price  \n",
       " 280            0.064452  2020-08-19         8319.0  ,\n",
       " Empty DataFrame\n",
       " Columns: [name, price_df, item_df_training, trimmed_df, regr, y_pred, y_test, mean_squared_error, r2_score, roi, record_df, perc_pred_increase, last_day, current_price]\n",
       " Index: [],\n",
       " Empty DataFrame\n",
       " Columns: [name, price_df, item_df_training, trimmed_df, regr, y_pred, y_test, mean_squared_error, r2_score, roi, record_df, perc_pred_increase, last_day, current_price]\n",
       " Index: [],\n",
       " Empty DataFrame\n",
       " Columns: [name, price_df, item_df_training, trimmed_df, regr, y_pred, y_test, mean_squared_error, r2_score, roi, record_df, perc_pred_increase, last_day, current_price]\n",
       " Index: [],\n",
       " Empty DataFrame\n",
       " Columns: [name, price_df, item_df_training, trimmed_df, regr, y_pred, y_test, mean_squared_error, r2_score, roi, record_df, perc_pred_increase, last_day, current_price]\n",
       " Index: [],\n",
       " Empty DataFrame\n",
       " Columns: [name, price_df, item_df_training, trimmed_df, regr, y_pred, y_test, mean_squared_error, r2_score, roi, record_df, perc_pred_increase, last_day, current_price]\n",
       " Index: [],\n",
       " Empty DataFrame\n",
       " Columns: [name, price_df, item_df_training, trimmed_df, regr, y_pred, y_test, mean_squared_error, r2_score, roi, record_df, perc_pred_increase, last_day, current_price]\n",
       " Index: [],\n",
       " Empty DataFrame\n",
       " Columns: [name, price_df, item_df_training, trimmed_df, regr, y_pred, y_test, mean_squared_error, r2_score, roi, record_df, perc_pred_increase, last_day, current_price]\n",
       " Index: [],\n",
       " Empty DataFrame\n",
       " Columns: [name, price_df, item_df_training, trimmed_df, regr, y_pred, y_test, mean_squared_error, r2_score, roi, record_df, perc_pred_increase, last_day, current_price]\n",
       " Index: [],\n",
       " Empty DataFrame\n",
       " Columns: [name, price_df, item_df_training, trimmed_df, regr, y_pred, y_test, mean_squared_error, r2_score, roi, record_df, perc_pred_increase, last_day, current_price]\n",
       " Index: [],\n",
       " Empty DataFrame\n",
       " Columns: [name, price_df, item_df_training, trimmed_df, regr, y_pred, y_test, mean_squared_error, r2_score, roi, record_df, perc_pred_increase, last_day, current_price]\n",
       " Index: [],\n",
       " Empty DataFrame\n",
       " Columns: [name, price_df, item_df_training, trimmed_df, regr, y_pred, y_test, mean_squared_error, r2_score, roi, record_df, perc_pred_increase, last_day, current_price]\n",
       " Index: [],\n",
       "                  name                                           price_df  \\\n",
       " 1474  Musketeer%20hat              Musketeer%20hat price  Musketeer%2...   \n",
       " 1475    Shaman%20mask              Shaman%20mask price  Shaman%20mask...   \n",
       " \n",
       "                                        item_df_training  \\\n",
       " 1474              Musketeer%20hat price  Musketeer%2...   \n",
       " 1475              Shaman%20mask price  Shaman%20mask...   \n",
       " \n",
       "                                              trimmed_df                regr  \\\n",
       " 1474              Musketeer%20hat price  Musketeer%2...  LinearRegression()   \n",
       " 1475              Shaman%20mask price  Shaman%20mask...  LinearRegression()   \n",
       " \n",
       "                                                  y_pred  \\\n",
       " 1474  [104465.51454260314, 106935.88954260314, 11544...   \n",
       " 1475  [8259.125382738272, 7855.656632738272, 8042.28...   \n",
       " \n",
       "                                                  y_test  mean_squared_error  \\\n",
       " 1474  date_obj\n",
       " 2020-05-05    111536.0\n",
       " 2020-05-06    ...        3.961510e+07   \n",
       " 1475  date_obj\n",
       " 2020-05-01     7865.0\n",
       " 2020-05-02     ...        2.181453e+06   \n",
       " \n",
       "       r2_score       roi                                          record_df  \\\n",
       " 1474  0.916067  1.173366                 Prediction         Y     Y + 1 ...   \n",
       " 1475  0.916722  1.079189                Prediction        Y   Y + 1    Y...   \n",
       " \n",
       "       perc_pred_increase    last_day  current_price  \n",
       " 1474            0.035390  2020-08-19       165651.0  \n",
       " 1475            0.125055  2020-08-19         9605.0  ,\n",
       "                                        name  \\\n",
       " 1508  Saradomin%20godsword%20ornament%20kit   \n",
       " \n",
       "                                                price_df  \\\n",
       " 1508              Saradomin%20godsword%20ornament%20...   \n",
       " \n",
       "                                        item_df_training  \\\n",
       " 1508              Saradomin%20godsword%20ornament%20...   \n",
       " \n",
       "                                              trimmed_df                regr  \\\n",
       " 1508              Saradomin%20godsword%20ornament%20...  LinearRegression()   \n",
       " \n",
       "                                                  y_pred  \\\n",
       " 1508  [3473859.8749814434, 3539929.8749814434, 35350...   \n",
       " \n",
       "                                                  y_test  mean_squared_error  \\\n",
       " 1508  date_obj\n",
       " 2020-05-01    3500715.0\n",
       " 2020-05-02   ...        7.220791e+10   \n",
       " \n",
       "       r2_score       roi                                          record_df  \\\n",
       " 1508  0.894929  1.293358                Prediction          Y      Y + 1...   \n",
       " \n",
       "       perc_pred_increase    last_day  current_price  \n",
       " 1508            0.031916  2020-08-19      5580814.0  ,\n",
       " Empty DataFrame\n",
       " Columns: [name, price_df, item_df_training, trimmed_df, regr, y_pred, y_test, mean_squared_error, r2_score, roi, record_df, perc_pred_increase, last_day, current_price]\n",
       " Index: [],\n",
       " Empty DataFrame\n",
       " Columns: [name, price_df, item_df_training, trimmed_df, regr, y_pred, y_test, mean_squared_error, r2_score, roi, record_df, perc_pred_increase, last_day, current_price]\n",
       " Index: [],\n",
       "                             name  \\\n",
       " 1868  Black%20wizard%20hat%20(g)   \n",
       " \n",
       "                                                price_df  \\\n",
       " 1868              Black%20wizard%20hat%20(g) price  ...   \n",
       " \n",
       "                                        item_df_training  \\\n",
       " 1868              Black%20wizard%20hat%20(g) price  ...   \n",
       " \n",
       "                                              trimmed_df                regr  \\\n",
       " 1868              Black%20wizard%20hat%20(g) price  ...  LinearRegression()   \n",
       " \n",
       "                                                  y_pred  \\\n",
       " 1868  [346573.921875, 348549.25, 338751.234375, 3317...   \n",
       " \n",
       "                                                  y_test  mean_squared_error  \\\n",
       " 1868  date_obj\n",
       " 2020-04-21    336454.0\n",
       " 2020-04-22    ...        1.064399e+08   \n",
       " \n",
       "       r2_score       roi                                          record_df  \\\n",
       " 1868  0.945345  1.479078                 Prediction         Y     Y + 1 ...   \n",
       " \n",
       "       perc_pred_increase    last_day  current_price  \n",
       " 1868            0.016905  2020-08-19       338836.0  ,\n",
       " Empty DataFrame\n",
       " Columns: [name, price_df, item_df_training, trimmed_df, regr, y_pred, y_test, mean_squared_error, r2_score, roi, record_df, perc_pred_increase, last_day, current_price]\n",
       " Index: [],\n",
       " Empty DataFrame\n",
       " Columns: [name, price_df, item_df_training, trimmed_df, regr, y_pred, y_test, mean_squared_error, r2_score, roi, record_df, perc_pred_increase, last_day, current_price]\n",
       " Index: [],\n",
       "                   name                                           price_df  \\\n",
       " 2130  Granite%20hammer              Granite%20hammer price  Granite%20...   \n",
       " \n",
       "                                        item_df_training  \\\n",
       " 2130              Granite%20hammer price  Granite%20...   \n",
       " \n",
       "                                              trimmed_df                regr  \\\n",
       " 2130              Granite%20hammer price  Granite%20...  LinearRegression()   \n",
       " \n",
       "                                                  y_pred  \\\n",
       " 2130  [728763.9435096155, 785406.1935096155, 835298....   \n",
       " \n",
       "                                                  y_test  mean_squared_error  \\\n",
       " 2130  date_obj\n",
       " 2020-05-02    759634.0\n",
       " 2020-05-03    ...        1.185856e+09   \n",
       " \n",
       "       r2_score       roi                                          record_df  \\\n",
       " 2130  0.947357  1.412291                Prediction         Y     Y + 1  ...   \n",
       " \n",
       "       perc_pred_increase    last_day  current_price  \n",
       " 2130            0.075942  2020-08-19       329222.0  ,\n",
       " Empty DataFrame\n",
       " Columns: [name, price_df, item_df_training, trimmed_df, regr, y_pred, y_test, mean_squared_error, r2_score, roi, record_df, perc_pred_increase, last_day, current_price]\n",
       " Index: [],\n",
       " Empty DataFrame\n",
       " Columns: [name, price_df, item_df_training, trimmed_df, regr, y_pred, y_test, mean_squared_error, r2_score, roi, record_df, perc_pred_increase, last_day, current_price]\n",
       " Index: [],\n",
       " Empty DataFrame\n",
       " Columns: [name, price_df, item_df_training, trimmed_df, regr, y_pred, y_test, mean_squared_error, r2_score, roi, record_df, perc_pred_increase, last_day, current_price]\n",
       " Index: [],\n",
       " Empty DataFrame\n",
       " Columns: [name, price_df, item_df_training, trimmed_df, regr, y_pred, y_test, mean_squared_error, r2_score, roi, record_df, perc_pred_increase, last_day, current_price]\n",
       " Index: [],\n",
       "                name                                           price_df  \\\n",
       " 2682  Willow%20seed              Willow%20seed price  Willow%20seed...   \n",
       " \n",
       "                                        item_df_training  \\\n",
       " 2682              Willow%20seed price  Willow%20seed...   \n",
       " \n",
       "                                              trimmed_df                regr  \\\n",
       " 2682              Willow%20seed price  Willow%20seed...  LinearRegression()   \n",
       " \n",
       "                                                  y_pred  \\\n",
       " 2682  [3672.8541311055674, 3785.0572561055674, 3922....   \n",
       " \n",
       "                                                  y_test  mean_squared_error  \\\n",
       " 2682  date_obj\n",
       " 2020-04-17    3934.0\n",
       " 2020-04-18    40...        63943.254953   \n",
       " \n",
       "       r2_score       roi                                          record_df  \\\n",
       " 2682  0.917992  1.104406               Prediction       Y   Y + 1   Y - ...   \n",
       " \n",
       "       perc_pred_increase    last_day  current_price  \n",
       " 2682            0.131213  2020-08-19         1984.0  ,\n",
       "             name                                           price_df  \\\n",
       " 2790  Oak%20logs              Oak%20logs price  Oak%20logs volum...   \n",
       " \n",
       "                                        item_df_training  \\\n",
       " 2790              Oak%20logs price  Oak%20logs volum...   \n",
       " \n",
       "                                              trimmed_df                regr  \\\n",
       " 2790              Oak%20logs price  Oak%20logs volum...  LinearRegression()   \n",
       " \n",
       "                                                  y_pred  \\\n",
       " 2790  [19.528145257804642, 21.20374433875561, 19.771...   \n",
       " \n",
       "                                                  y_test  mean_squared_error  \\\n",
       " 2790  date_obj\n",
       " 2020-03-06    19.0\n",
       " 2020-03-07    19.0...          101.882053   \n",
       " \n",
       "       r2_score      roi                                          record_df  \\\n",
       " 2790   0.93133  6.22032              Prediction     Y  Y + 1  Y - 1    ...   \n",
       " \n",
       "       perc_pred_increase    last_day  current_price  \n",
       " 2790            0.063589  2020-08-19           66.0  ,\n",
       "             name                                           price_df  \\\n",
       " 2831  Clue%20box              Clue%20box price  Clue%20box volum...   \n",
       " \n",
       "                                        item_df_training  \\\n",
       " 2831              Clue%20box price  Clue%20box volum...   \n",
       " \n",
       "                                              trimmed_df                regr  \\\n",
       " 2831              Clue%20box price  Clue%20box volum...  LinearRegression()   \n",
       " \n",
       "                                                  y_pred  \\\n",
       " 2831  [42514.00825516687, 45692.01020829187, 48986.9...   \n",
       " \n",
       "                                                  y_test  mean_squared_error  \\\n",
       " 2831  date_obj\n",
       " 2020-04-19     46026.0\n",
       " 2020-04-20    ...        3.435254e+07   \n",
       " \n",
       "       r2_score       roi                                          record_df  \\\n",
       " 2831  0.854827  1.473612                Prediction         Y     Y + 1  ...   \n",
       " \n",
       "       perc_pred_increase    last_day  current_price  \n",
       " 2831            0.049831  2020-08-19       101553.0  ,\n",
       "                   name                                           price_df  \\\n",
       " 2986  Willow%20sapling              Willow%20sapling price  Willow%20s...   \n",
       " \n",
       "                                        item_df_training  \\\n",
       " 2986              Willow%20sapling price  Willow%20s...   \n",
       " \n",
       "                                              trimmed_df                regr  \\\n",
       " 2986              Willow%20sapling price  Willow%20s...  LinearRegression()   \n",
       " \n",
       "                                                  y_pred  \\\n",
       " 2986  [4273.80283285189, 4465.76377035189, 4403.2481...   \n",
       " \n",
       "                                                  y_test  mean_squared_error  \\\n",
       " 2986  date_obj\n",
       " 2020-04-17    4351.0\n",
       " 2020-04-18    45...        70201.667973   \n",
       " \n",
       "       r2_score      roi                                          record_df  \\\n",
       " 2986  0.918549  1.08828               Prediction       Y   Y + 1   Y - ...   \n",
       " \n",
       "       perc_pred_increase    last_day  current_price  \n",
       " 2986            0.033328  2020-08-19         2398.0  ,\n",
       "                            name  \\\n",
       " 3027  Zamorak%20d'hide%20shield   \n",
       " \n",
       "                                                price_df  \\\n",
       " 3027              Zamorak%20d'hide%20shield price  Z...   \n",
       " \n",
       "                                        item_df_training  \\\n",
       " 3027              Zamorak%20d'hide%20shield price  Z...   \n",
       " \n",
       "                                              trimmed_df                regr  \\\n",
       " 3027              Zamorak%20d'hide%20shield price  Z...  LinearRegression()   \n",
       " \n",
       "                                                  y_pred  \\\n",
       " 3027  [310750.44907407404, 296238.57407407404, 29070...   \n",
       " \n",
       "                                                  y_test  mean_squared_error  \\\n",
       " 3027  date_obj\n",
       " 2020-05-26    312706.0\n",
       " 2020-05-27    ...        2.097375e+08   \n",
       " \n",
       "       r2_score       roi                                          record_df  \\\n",
       " 3027  0.880026  1.061663                 Prediction         Y     Y + 1 ...   \n",
       " \n",
       "       perc_pred_increase    last_day  current_price  \n",
       " 3027            0.038858  2020-08-19       280094.0  ,\n",
       " Empty DataFrame\n",
       " Columns: [name, price_df, item_df_training, trimmed_df, regr, y_pred, y_test, mean_squared_error, r2_score, roi, record_df, perc_pred_increase, last_day, current_price]\n",
       " Index: []]"
      ]
     },
     "execution_count": 59,
     "metadata": {},
     "output_type": "execute_result"
    }
   ],
   "source": [
    "df_list"
   ]
  },
  {
   "cell_type": "code",
   "execution_count": 60,
   "metadata": {},
   "outputs": [
    {
     "data": {
      "text/plain": [
       "Index(['name', 'price_df', 'item_df_training', 'trimmed_df', 'regr', 'y_pred',\n",
       "       'y_test', 'mean_squared_error', 'r2_score', 'roi', 'record_df',\n",
       "       'perc_pred_increase', 'last_day', 'current_price'],\n",
       "      dtype='object')"
      ]
     },
     "execution_count": 60,
     "metadata": {},
     "output_type": "execute_result"
    }
   ],
   "source": [
    "trading_df = pd.concat(df_list, axis=0).sort_values(by='perc_pred_increase', ascending=False)\n",
    "trading_df.columns"
   ]
  },
  {
   "cell_type": "code",
   "execution_count": 61,
   "metadata": {},
   "outputs": [],
   "source": [
    "trading_df['pred_price'] = (trading_df['perc_pred_increase'] + 1) * trading_df['current_price']"
   ]
  },
  {
   "cell_type": "code",
   "execution_count": 62,
   "metadata": {},
   "outputs": [],
   "source": [
    "#trading_df.loc[:,['name', 'mean_squared_error', 'r2_score', 'roi', 'perc_pred_increase','last_day', 'current_price']]"
   ]
  },
  {
   "cell_type": "code",
   "execution_count": 63,
   "metadata": {},
   "outputs": [
    {
     "data": {
      "text/html": [
       "<div>\n",
       "<style scoped>\n",
       "    .dataframe tbody tr th:only-of-type {\n",
       "        vertical-align: middle;\n",
       "    }\n",
       "\n",
       "    .dataframe tbody tr th {\n",
       "        vertical-align: top;\n",
       "    }\n",
       "\n",
       "    .dataframe thead th {\n",
       "        text-align: right;\n",
       "    }\n",
       "</style>\n",
       "<table border=\"1\" class=\"dataframe\">\n",
       "  <thead>\n",
       "    <tr style=\"text-align: right;\">\n",
       "      <th></th>\n",
       "      <th>name</th>\n",
       "      <th>mean_squared_error</th>\n",
       "      <th>r2_score</th>\n",
       "      <th>roi</th>\n",
       "      <th>perc_pred_increase</th>\n",
       "      <th>last_day</th>\n",
       "      <th>current_price</th>\n",
       "      <th>pred_price</th>\n",
       "    </tr>\n",
       "  </thead>\n",
       "  <tbody>\n",
       "    <tr>\n",
       "      <th>2682</th>\n",
       "      <td>Willow%20seed</td>\n",
       "      <td>6.394325e+04</td>\n",
       "      <td>0.917992</td>\n",
       "      <td>1.104406</td>\n",
       "      <td>0.131213</td>\n",
       "      <td>2020-08-19</td>\n",
       "      <td>1984.0</td>\n",
       "      <td>2.244327e+03</td>\n",
       "    </tr>\n",
       "    <tr>\n",
       "      <th>1475</th>\n",
       "      <td>Shaman%20mask</td>\n",
       "      <td>2.181453e+06</td>\n",
       "      <td>0.916722</td>\n",
       "      <td>1.079189</td>\n",
       "      <td>0.125055</td>\n",
       "      <td>2020-08-19</td>\n",
       "      <td>9605.0</td>\n",
       "      <td>1.080616e+04</td>\n",
       "    </tr>\n",
       "    <tr>\n",
       "      <th>14</th>\n",
       "      <td>Wildblood%20seed</td>\n",
       "      <td>7.973196e+01</td>\n",
       "      <td>0.935290</td>\n",
       "      <td>1.082853</td>\n",
       "      <td>0.090415</td>\n",
       "      <td>2020-08-19</td>\n",
       "      <td>95.0</td>\n",
       "      <td>1.035895e+02</td>\n",
       "    </tr>\n",
       "    <tr>\n",
       "      <th>2790</th>\n",
       "      <td>Oak%20logs</td>\n",
       "      <td>1.018821e+02</td>\n",
       "      <td>0.931330</td>\n",
       "      <td>6.220320</td>\n",
       "      <td>0.063589</td>\n",
       "      <td>2020-08-19</td>\n",
       "      <td>66.0</td>\n",
       "      <td>7.019685e+01</td>\n",
       "    </tr>\n",
       "    <tr>\n",
       "      <th>1474</th>\n",
       "      <td>Musketeer%20hat</td>\n",
       "      <td>3.961510e+07</td>\n",
       "      <td>0.916067</td>\n",
       "      <td>1.173366</td>\n",
       "      <td>0.035390</td>\n",
       "      <td>2020-08-19</td>\n",
       "      <td>165651.0</td>\n",
       "      <td>1.715133e+05</td>\n",
       "    </tr>\n",
       "    <tr>\n",
       "      <th>1508</th>\n",
       "      <td>Saradomin%20godsword%20ornament%20kit</td>\n",
       "      <td>7.220791e+10</td>\n",
       "      <td>0.894929</td>\n",
       "      <td>1.293358</td>\n",
       "      <td>0.031916</td>\n",
       "      <td>2020-08-19</td>\n",
       "      <td>5580814.0</td>\n",
       "      <td>5.758931e+06</td>\n",
       "    </tr>\n",
       "  </tbody>\n",
       "</table>\n",
       "</div>"
      ],
      "text/plain": [
       "                                       name  mean_squared_error  r2_score  \\\n",
       "2682                          Willow%20seed        6.394325e+04  0.917992   \n",
       "1475                          Shaman%20mask        2.181453e+06  0.916722   \n",
       "14                         Wildblood%20seed        7.973196e+01  0.935290   \n",
       "2790                             Oak%20logs        1.018821e+02  0.931330   \n",
       "1474                        Musketeer%20hat        3.961510e+07  0.916067   \n",
       "1508  Saradomin%20godsword%20ornament%20kit        7.220791e+10  0.894929   \n",
       "\n",
       "           roi  perc_pred_increase    last_day  current_price    pred_price  \n",
       "2682  1.104406            0.131213  2020-08-19         1984.0  2.244327e+03  \n",
       "1475  1.079189            0.125055  2020-08-19         9605.0  1.080616e+04  \n",
       "14    1.082853            0.090415  2020-08-19           95.0  1.035895e+02  \n",
       "2790  6.220320            0.063589  2020-08-19           66.0  7.019685e+01  \n",
       "1474  1.173366            0.035390  2020-08-19       165651.0  1.715133e+05  \n",
       "1508  1.293358            0.031916  2020-08-19      5580814.0  5.758931e+06  "
      ]
     },
     "execution_count": 63,
     "metadata": {},
     "output_type": "execute_result"
    }
   ],
   "source": [
    "to_buy = trading_df.loc[~trading_df['name'].isin(bought['name'])].loc[:,['name', 'mean_squared_error', 'r2_score', 'roi', 'perc_pred_increase','last_day', 'current_price', 'pred_price']]\n",
    "to_buy"
   ]
  },
  {
   "cell_type": "code",
   "execution_count": 64,
   "metadata": {},
   "outputs": [
    {
     "data": {
      "text/html": [
       "<div>\n",
       "<style scoped>\n",
       "    .dataframe tbody tr th:only-of-type {\n",
       "        vertical-align: middle;\n",
       "    }\n",
       "\n",
       "    .dataframe tbody tr th {\n",
       "        vertical-align: top;\n",
       "    }\n",
       "\n",
       "    .dataframe thead th {\n",
       "        text-align: right;\n",
       "    }\n",
       "</style>\n",
       "<table border=\"1\" class=\"dataframe\">\n",
       "  <thead>\n",
       "    <tr style=\"text-align: right;\">\n",
       "      <th></th>\n",
       "      <th>name</th>\n",
       "      <th>mean_squared_error</th>\n",
       "      <th>r2_score</th>\n",
       "      <th>roi</th>\n",
       "      <th>perc_pred_increase</th>\n",
       "      <th>last_day</th>\n",
       "      <th>current_price</th>\n",
       "      <th>pred_price</th>\n",
       "    </tr>\n",
       "  </thead>\n",
       "  <tbody>\n",
       "    <tr>\n",
       "      <th>2130</th>\n",
       "      <td>Granite%20hammer</td>\n",
       "      <td>1.185856e+09</td>\n",
       "      <td>0.947357</td>\n",
       "      <td>1.412291</td>\n",
       "      <td>0.075942</td>\n",
       "      <td>2020-08-19</td>\n",
       "      <td>329222.0</td>\n",
       "      <td>354223.865385</td>\n",
       "    </tr>\n",
       "    <tr>\n",
       "      <th>280</th>\n",
       "      <td>Dareeyak%20teleport%20(tablet)</td>\n",
       "      <td>3.807419e+05</td>\n",
       "      <td>0.903465</td>\n",
       "      <td>1.277237</td>\n",
       "      <td>0.064452</td>\n",
       "      <td>2020-08-19</td>\n",
       "      <td>8319.0</td>\n",
       "      <td>8855.176401</td>\n",
       "    </tr>\n",
       "    <tr>\n",
       "      <th>2831</th>\n",
       "      <td>Clue%20box</td>\n",
       "      <td>3.435254e+07</td>\n",
       "      <td>0.854827</td>\n",
       "      <td>1.473612</td>\n",
       "      <td>0.049831</td>\n",
       "      <td>2020-08-19</td>\n",
       "      <td>101553.0</td>\n",
       "      <td>106613.482865</td>\n",
       "    </tr>\n",
       "    <tr>\n",
       "      <th>3027</th>\n",
       "      <td>Zamorak%20d'hide%20shield</td>\n",
       "      <td>2.097375e+08</td>\n",
       "      <td>0.880026</td>\n",
       "      <td>1.061663</td>\n",
       "      <td>0.038858</td>\n",
       "      <td>2020-08-19</td>\n",
       "      <td>280094.0</td>\n",
       "      <td>290977.949074</td>\n",
       "    </tr>\n",
       "    <tr>\n",
       "      <th>2986</th>\n",
       "      <td>Willow%20sapling</td>\n",
       "      <td>7.020167e+04</td>\n",
       "      <td>0.918549</td>\n",
       "      <td>1.088280</td>\n",
       "      <td>0.033328</td>\n",
       "      <td>2020-08-19</td>\n",
       "      <td>2398.0</td>\n",
       "      <td>2477.920020</td>\n",
       "    </tr>\n",
       "    <tr>\n",
       "      <th>1868</th>\n",
       "      <td>Black%20wizard%20hat%20(g)</td>\n",
       "      <td>1.064399e+08</td>\n",
       "      <td>0.945345</td>\n",
       "      <td>1.479078</td>\n",
       "      <td>0.016905</td>\n",
       "      <td>2020-08-19</td>\n",
       "      <td>338836.0</td>\n",
       "      <td>344564.171875</td>\n",
       "    </tr>\n",
       "    <tr>\n",
       "      <th>180</th>\n",
       "      <td>Frog%20slippers</td>\n",
       "      <td>3.314156e+07</td>\n",
       "      <td>0.972149</td>\n",
       "      <td>1.104523</td>\n",
       "      <td>-0.088115</td>\n",
       "      <td>2020-08-19</td>\n",
       "      <td>117550.0</td>\n",
       "      <td>107192.068087</td>\n",
       "    </tr>\n",
       "  </tbody>\n",
       "</table>\n",
       "</div>"
      ],
      "text/plain": [
       "                                name  mean_squared_error  r2_score       roi  \\\n",
       "2130                Granite%20hammer        1.185856e+09  0.947357  1.412291   \n",
       "280   Dareeyak%20teleport%20(tablet)        3.807419e+05  0.903465  1.277237   \n",
       "2831                      Clue%20box        3.435254e+07  0.854827  1.473612   \n",
       "3027       Zamorak%20d'hide%20shield        2.097375e+08  0.880026  1.061663   \n",
       "2986                Willow%20sapling        7.020167e+04  0.918549  1.088280   \n",
       "1868      Black%20wizard%20hat%20(g)        1.064399e+08  0.945345  1.479078   \n",
       "180                  Frog%20slippers        3.314156e+07  0.972149  1.104523   \n",
       "\n",
       "      perc_pred_increase    last_day  current_price     pred_price  \n",
       "2130            0.075942  2020-08-19       329222.0  354223.865385  \n",
       "280             0.064452  2020-08-19         8319.0    8855.176401  \n",
       "2831            0.049831  2020-08-19       101553.0  106613.482865  \n",
       "3027            0.038858  2020-08-19       280094.0  290977.949074  \n",
       "2986            0.033328  2020-08-19         2398.0    2477.920020  \n",
       "1868            0.016905  2020-08-19       338836.0  344564.171875  \n",
       "180            -0.088115  2020-08-19       117550.0  107192.068087  "
      ]
     },
     "execution_count": 64,
     "metadata": {},
     "output_type": "execute_result"
    }
   ],
   "source": [
    "to_sell = trading_df.loc[trading_df['name'].isin(bought['name'])].loc[:,['name', 'mean_squared_error', 'r2_score', 'roi', 'perc_pred_increase','last_day', 'current_price', 'pred_price']]\n",
    "to_sell"
   ]
  },
  {
   "cell_type": "markdown",
   "metadata": {},
   "source": [
    "\n",
    "# Update with actual trades"
   ]
  },
  {
   "cell_type": "code",
   "execution_count": 1,
   "metadata": {},
   "outputs": [
    {
     "ename": "NameError",
     "evalue": "name 'bought' is not defined",
     "output_type": "error",
     "traceback": [
      "\u001b[0;31m---------------------------------------------------------------------------\u001b[0m",
      "\u001b[0;31mNameError\u001b[0m                                 Traceback (most recent call last)",
      "\u001b[0;32m<ipython-input-1-c493372f6a07>\u001b[0m in \u001b[0;36m<module>\u001b[0;34m\u001b[0m\n\u001b[0;32m----> 1\u001b[0;31m \u001b[0mbought\u001b[0m\u001b[0;34m\u001b[0m\u001b[0;34m\u001b[0m\u001b[0m\n\u001b[0m",
      "\u001b[0;31mNameError\u001b[0m: name 'bought' is not defined"
     ]
    }
   ],
   "source": [
    "bought"
   ]
  },
  {
   "cell_type": "code",
   "execution_count": 85,
   "metadata": {},
   "outputs": [
    {
     "data": {
      "text/html": [
       "<div>\n",
       "<style scoped>\n",
       "    .dataframe tbody tr th:only-of-type {\n",
       "        vertical-align: middle;\n",
       "    }\n",
       "\n",
       "    .dataframe tbody tr th {\n",
       "        vertical-align: top;\n",
       "    }\n",
       "\n",
       "    .dataframe thead th {\n",
       "        text-align: right;\n",
       "    }\n",
       "</style>\n",
       "<table border=\"1\" class=\"dataframe\">\n",
       "  <thead>\n",
       "    <tr style=\"text-align: right;\">\n",
       "      <th></th>\n",
       "      <th>name</th>\n",
       "    </tr>\n",
       "  </thead>\n",
       "  <tbody>\n",
       "    <tr>\n",
       "      <th>0</th>\n",
       "      <td>Frog%20slippers</td>\n",
       "    </tr>\n",
       "    <tr>\n",
       "      <th>1</th>\n",
       "      <td>Granite%20hammer</td>\n",
       "    </tr>\n",
       "    <tr>\n",
       "      <th>2</th>\n",
       "      <td>Black%20wizard%20hat%20(g)</td>\n",
       "    </tr>\n",
       "    <tr>\n",
       "      <th>3</th>\n",
       "      <td>Willow%20sapling</td>\n",
       "    </tr>\n",
       "    <tr>\n",
       "      <th>4</th>\n",
       "      <td>Clue%20box</td>\n",
       "    </tr>\n",
       "  </tbody>\n",
       "</table>\n",
       "</div>"
      ],
      "text/plain": [
       "                         name\n",
       "0             Frog%20slippers\n",
       "1            Granite%20hammer\n",
       "2  Black%20wizard%20hat%20(g)\n",
       "3            Willow%20sapling\n",
       "4                  Clue%20box"
      ]
     },
     "execution_count": 85,
     "metadata": {},
     "output_type": "execute_result"
    }
   ],
   "source": [
    "bought"
   ]
  },
  {
   "cell_type": "code",
   "execution_count": 84,
   "metadata": {},
   "outputs": [
    {
     "data": {
      "text/plain": [
       "280     Dareeyak%20teleport%20(tablet)\n",
       "3027         Zamorak%20d'hide%20shield\n",
       "Name: name, dtype: object"
      ]
     },
     "execution_count": 84,
     "metadata": {},
     "output_type": "execute_result"
    }
   ],
   "source": [
    "currently_buying = to_buy['name'][0:2]\n",
    "currently_buying\n"
   ]
  },
  {
   "cell_type": "code",
   "execution_count": 86,
   "metadata": {},
   "outputs": [
    {
     "data": {
      "text/html": [
       "<div>\n",
       "<style scoped>\n",
       "    .dataframe tbody tr th:only-of-type {\n",
       "        vertical-align: middle;\n",
       "    }\n",
       "\n",
       "    .dataframe tbody tr th {\n",
       "        vertical-align: top;\n",
       "    }\n",
       "\n",
       "    .dataframe thead th {\n",
       "        text-align: right;\n",
       "    }\n",
       "</style>\n",
       "<table border=\"1\" class=\"dataframe\">\n",
       "  <thead>\n",
       "    <tr style=\"text-align: right;\">\n",
       "      <th></th>\n",
       "      <th>name</th>\n",
       "    </tr>\n",
       "  </thead>\n",
       "  <tbody>\n",
       "    <tr>\n",
       "      <th>0</th>\n",
       "      <td>Frog%20slippers</td>\n",
       "    </tr>\n",
       "    <tr>\n",
       "      <th>1</th>\n",
       "      <td>Granite%20hammer</td>\n",
       "    </tr>\n",
       "    <tr>\n",
       "      <th>2</th>\n",
       "      <td>Black%20wizard%20hat%20(g)</td>\n",
       "    </tr>\n",
       "    <tr>\n",
       "      <th>3</th>\n",
       "      <td>Willow%20sapling</td>\n",
       "    </tr>\n",
       "    <tr>\n",
       "      <th>4</th>\n",
       "      <td>Clue%20box</td>\n",
       "    </tr>\n",
       "    <tr>\n",
       "      <th>5</th>\n",
       "      <td>Dareeyak%20teleport%20(tablet)</td>\n",
       "    </tr>\n",
       "    <tr>\n",
       "      <th>6</th>\n",
       "      <td>Zamorak%20d'hide%20shield</td>\n",
       "    </tr>\n",
       "  </tbody>\n",
       "</table>\n",
       "</div>"
      ],
      "text/plain": [
       "                             name\n",
       "0                 Frog%20slippers\n",
       "1                Granite%20hammer\n",
       "2      Black%20wizard%20hat%20(g)\n",
       "3                Willow%20sapling\n",
       "4                      Clue%20box\n",
       "5  Dareeyak%20teleport%20(tablet)\n",
       "6       Zamorak%20d'hide%20shield"
      ]
     },
     "execution_count": 86,
     "metadata": {},
     "output_type": "execute_result"
    }
   ],
   "source": [
    "bought.merge(currently_buying, how='outer')"
   ]
  },
  {
   "cell_type": "code",
   "execution_count": 87,
   "metadata": {},
   "outputs": [],
   "source": [
    "\n",
    "bought = bought.merge(currently_buying, how='outer')"
   ]
  },
  {
   "cell_type": "code",
   "execution_count": 88,
   "metadata": {},
   "outputs": [],
   "source": [
    "#bought = bought.drop([0,2,3])"
   ]
  },
  {
   "cell_type": "code",
   "execution_count": 89,
   "metadata": {},
   "outputs": [],
   "source": [
    "#bought.loc[-1] = 'Bottomless%20compost%20bucket'"
   ]
  },
  {
   "cell_type": "code",
   "execution_count": 90,
   "metadata": {},
   "outputs": [
    {
     "data": {
      "text/html": [
       "<div>\n",
       "<style scoped>\n",
       "    .dataframe tbody tr th:only-of-type {\n",
       "        vertical-align: middle;\n",
       "    }\n",
       "\n",
       "    .dataframe tbody tr th {\n",
       "        vertical-align: top;\n",
       "    }\n",
       "\n",
       "    .dataframe thead th {\n",
       "        text-align: right;\n",
       "    }\n",
       "</style>\n",
       "<table border=\"1\" class=\"dataframe\">\n",
       "  <thead>\n",
       "    <tr style=\"text-align: right;\">\n",
       "      <th></th>\n",
       "      <th>name</th>\n",
       "    </tr>\n",
       "  </thead>\n",
       "  <tbody>\n",
       "    <tr>\n",
       "      <th>0</th>\n",
       "      <td>Frog%20slippers</td>\n",
       "    </tr>\n",
       "    <tr>\n",
       "      <th>1</th>\n",
       "      <td>Granite%20hammer</td>\n",
       "    </tr>\n",
       "    <tr>\n",
       "      <th>2</th>\n",
       "      <td>Black%20wizard%20hat%20(g)</td>\n",
       "    </tr>\n",
       "    <tr>\n",
       "      <th>3</th>\n",
       "      <td>Willow%20sapling</td>\n",
       "    </tr>\n",
       "    <tr>\n",
       "      <th>4</th>\n",
       "      <td>Clue%20box</td>\n",
       "    </tr>\n",
       "    <tr>\n",
       "      <th>5</th>\n",
       "      <td>Dareeyak%20teleport%20(tablet)</td>\n",
       "    </tr>\n",
       "    <tr>\n",
       "      <th>6</th>\n",
       "      <td>Zamorak%20d'hide%20shield</td>\n",
       "    </tr>\n",
       "  </tbody>\n",
       "</table>\n",
       "</div>"
      ],
      "text/plain": [
       "                             name\n",
       "0                 Frog%20slippers\n",
       "1                Granite%20hammer\n",
       "2      Black%20wizard%20hat%20(g)\n",
       "3                Willow%20sapling\n",
       "4                      Clue%20box\n",
       "5  Dareeyak%20teleport%20(tablet)\n",
       "6       Zamorak%20d'hide%20shield"
      ]
     },
     "execution_count": 90,
     "metadata": {},
     "output_type": "execute_result"
    }
   ],
   "source": [
    "bought"
   ]
  },
  {
   "cell_type": "code",
   "execution_count": 91,
   "metadata": {},
   "outputs": [],
   "source": [
    "#bought.merge(currently_buying)\n",
    "bought.to_csv('data/bought', index=False)"
   ]
  },
  {
   "cell_type": "code",
   "execution_count": 92,
   "metadata": {},
   "outputs": [
    {
     "data": {
      "text/html": [
       "<div>\n",
       "<style scoped>\n",
       "    .dataframe tbody tr th:only-of-type {\n",
       "        vertical-align: middle;\n",
       "    }\n",
       "\n",
       "    .dataframe tbody tr th {\n",
       "        vertical-align: top;\n",
       "    }\n",
       "\n",
       "    .dataframe thead th {\n",
       "        text-align: right;\n",
       "    }\n",
       "</style>\n",
       "<table border=\"1\" class=\"dataframe\">\n",
       "  <thead>\n",
       "    <tr style=\"text-align: right;\">\n",
       "      <th></th>\n",
       "      <th>name</th>\n",
       "    </tr>\n",
       "  </thead>\n",
       "  <tbody>\n",
       "    <tr>\n",
       "      <th>0</th>\n",
       "      <td>Frog%20slippers</td>\n",
       "    </tr>\n",
       "    <tr>\n",
       "      <th>1</th>\n",
       "      <td>Granite%20hammer</td>\n",
       "    </tr>\n",
       "    <tr>\n",
       "      <th>2</th>\n",
       "      <td>Black%20wizard%20hat%20(g)</td>\n",
       "    </tr>\n",
       "    <tr>\n",
       "      <th>3</th>\n",
       "      <td>Willow%20sapling</td>\n",
       "    </tr>\n",
       "    <tr>\n",
       "      <th>4</th>\n",
       "      <td>Clue%20box</td>\n",
       "    </tr>\n",
       "    <tr>\n",
       "      <th>5</th>\n",
       "      <td>Dareeyak%20teleport%20(tablet)</td>\n",
       "    </tr>\n",
       "    <tr>\n",
       "      <th>6</th>\n",
       "      <td>Zamorak%20d'hide%20shield</td>\n",
       "    </tr>\n",
       "  </tbody>\n",
       "</table>\n",
       "</div>"
      ],
      "text/plain": [
       "                             name\n",
       "0                 Frog%20slippers\n",
       "1                Granite%20hammer\n",
       "2      Black%20wizard%20hat%20(g)\n",
       "3                Willow%20sapling\n",
       "4                      Clue%20box\n",
       "5  Dareeyak%20teleport%20(tablet)\n",
       "6       Zamorak%20d'hide%20shield"
      ]
     },
     "execution_count": 92,
     "metadata": {},
     "output_type": "execute_result"
    }
   ],
   "source": [
    "pd.read_csv('data/bought')"
   ]
  },
  {
   "cell_type": "code",
   "execution_count": 93,
   "metadata": {},
   "outputs": [
    {
     "ename": "NameError",
     "evalue": "name 'trading_' is not defined",
     "output_type": "error",
     "traceback": [
      "\u001b[0;31m---------------------------------------------------------------------------\u001b[0m",
      "\u001b[0;31mNameError\u001b[0m                                 Traceback (most recent call last)",
      "\u001b[0;32m<ipython-input-93-1b769d922ca1>\u001b[0m in \u001b[0;36m<module>\u001b[0;34m\u001b[0m\n\u001b[0;32m----> 1\u001b[0;31m \u001b[0mtrading_\u001b[0m\u001b[0;34m\u001b[0m\u001b[0;34m\u001b[0m\u001b[0m\n\u001b[0m",
      "\u001b[0;31mNameError\u001b[0m: name 'trading_' is not defined"
     ]
    }
   ],
   "source": [
    "trading_"
   ]
  },
  {
   "cell_type": "code",
   "execution_count": null,
   "metadata": {},
   "outputs": [],
   "source": []
  },
  {
   "cell_type": "code",
   "execution_count": 94,
   "metadata": {},
   "outputs": [],
   "source": [
    "trading_df.loc[:,['name', 'mean_squared_error', 'r2_score', 'roi', 'perc_pred_increase','last_day']].to_csv('data/trading_8.2.csv')"
   ]
  },
  {
   "cell_type": "markdown",
   "metadata": {},
   "source": [
    "# fastai tabular data"
   ]
  },
  {
   "cell_type": "code",
   "execution_count": null,
   "metadata": {},
   "outputs": [],
   "source": []
  },
  {
   "cell_type": "code",
   "execution_count": null,
   "metadata": {},
   "outputs": [],
   "source": [
    "procs = [Normalize]"
   ]
  },
  {
   "cell_type": "code",
   "execution_count": null,
   "metadata": {},
   "outputs": [],
   "source": [
    "valid_idx = range(int(len(df)*.8), len(df)-60)"
   ]
  },
  {
   "cell_type": "code",
   "execution_count": null,
   "metadata": {},
   "outputs": [],
   "source": [
    "dep_var = 'Y'"
   ]
  },
  {
   "cell_type": "code",
   "execution_count": null,
   "metadata": {},
   "outputs": [],
   "source": [
    "path = Path(f'./data/wiki_urls/{item_name}')"
   ]
  },
  {
   "cell_type": "code",
   "execution_count": null,
   "metadata": {},
   "outputs": [],
   "source": [
    "trimmed_df['date_obj'] = trimmed_df.index"
   ]
  },
  {
   "cell_type": "code",
   "execution_count": null,
   "metadata": {},
   "outputs": [],
   "source": [
    "trimmed_df['date_obj'] = trimmed_df['date_obj'].apply(lambda x: pd.to_datetime(x))"
   ]
  },
  {
   "cell_type": "code",
   "execution_count": null,
   "metadata": {},
   "outputs": [],
   "source": [
    "time_trimmed_df = trimmed_df.loc[trimmed_df['date_obj'] > pd.to_datetime('2018-05-01')]"
   ]
  },
  {
   "cell_type": "code",
   "execution_count": null,
   "metadata": {},
   "outputs": [],
   "source": [
    "time_trimmed_df[item_name].plot()"
   ]
  },
  {
   "cell_type": "code",
   "execution_count": null,
   "metadata": {},
   "outputs": [],
   "source": [
    "time_trimmed_df = time_trimmed_df.drop(columns=['date_obj'], axis=1)"
   ]
  },
  {
   "cell_type": "code",
   "execution_count": null,
   "metadata": {},
   "outputs": [],
   "source": [
    "trimmed_df = time_trimmed_df"
   ]
  },
  {
   "cell_type": "code",
   "execution_count": null,
   "metadata": {},
   "outputs": [],
   "source": []
  },
  {
   "cell_type": "code",
   "execution_count": null,
   "metadata": {},
   "outputs": [],
   "source": [
    "df = trimmed_df"
   ]
  },
  {
   "cell_type": "code",
   "execution_count": null,
   "metadata": {},
   "outputs": [],
   "source": [
    "df"
   ]
  },
  {
   "cell_type": "code",
   "execution_count": null,
   "metadata": {},
   "outputs": [],
   "source": [
    "data = TabularDataBunch.from_df(path, df, dep_var, valid_idx=valid_idx, procs=procs, cat_names=[])"
   ]
  },
  {
   "cell_type": "code",
   "execution_count": null,
   "metadata": {},
   "outputs": [],
   "source": [
    "learn = tabular_learner(data, layers=[500,100], emb_szs={'native-country': 10}, metrics=mean_squared_error)"
   ]
  },
  {
   "cell_type": "code",
   "execution_count": null,
   "metadata": {},
   "outputs": [],
   "source": [
    "data.show_batch()"
   ]
  },
  {
   "cell_type": "code",
   "execution_count": null,
   "metadata": {},
   "outputs": [],
   "source": [
    "learn.save('stage-0')"
   ]
  },
  {
   "cell_type": "code",
   "execution_count": null,
   "metadata": {},
   "outputs": [],
   "source": []
  },
  {
   "cell_type": "code",
   "execution_count": null,
   "metadata": {
    "scrolled": true
   },
   "outputs": [],
   "source": [
    "learn.lr_find(end_lr=1e3)"
   ]
  },
  {
   "cell_type": "code",
   "execution_count": null,
   "metadata": {},
   "outputs": [],
   "source": [
    "learn.recorder.plot()"
   ]
  },
  {
   "cell_type": "code",
   "execution_count": null,
   "metadata": {},
   "outputs": [],
   "source": [
    "learn.fit_one_cycle(5, max_lr=1e-2)"
   ]
  },
  {
   "cell_type": "code",
   "execution_count": null,
   "metadata": {},
   "outputs": [],
   "source": [
    "learn.fit_one_cycle(5, max_lr=1e-2)"
   ]
  },
  {
   "cell_type": "code",
   "execution_count": null,
   "metadata": {
    "scrolled": true
   },
   "outputs": [],
   "source": [
    "learn.show_results(ds_type=DatasetType.Train)"
   ]
  },
  {
   "cell_type": "code",
   "execution_count": null,
   "metadata": {},
   "outputs": [],
   "source": [
    "learn.save('stage-1')"
   ]
  },
  {
   "cell_type": "code",
   "execution_count": null,
   "metadata": {},
   "outputs": [],
   "source": [
    "learn = learn.load('stage-1')"
   ]
  },
  {
   "cell_type": "code",
   "execution_count": null,
   "metadata": {},
   "outputs": [],
   "source": [
    "learn.lr_find()"
   ]
  },
  {
   "cell_type": "code",
   "execution_count": null,
   "metadata": {},
   "outputs": [],
   "source": [
    "learn.recorder.plot()"
   ]
  },
  {
   "cell_type": "code",
   "execution_count": null,
   "metadata": {},
   "outputs": [],
   "source": [
    "learn.fit_one_cycle(5, 3e-5)"
   ]
  },
  {
   "cell_type": "code",
   "execution_count": null,
   "metadata": {},
   "outputs": [],
   "source": [
    "learn.show_results(ds_type=DatasetType.Train)"
   ]
  },
  {
   "cell_type": "code",
   "execution_count": null,
   "metadata": {},
   "outputs": [],
   "source": [
    "learn.save('stage-2')"
   ]
  },
  {
   "cell_type": "code",
   "execution_count": null,
   "metadata": {},
   "outputs": [],
   "source": [
    "learn.lr_find()"
   ]
  },
  {
   "cell_type": "code",
   "execution_count": null,
   "metadata": {},
   "outputs": [],
   "source": [
    "learn.recorder.plot()"
   ]
  },
  {
   "cell_type": "code",
   "execution_count": null,
   "metadata": {},
   "outputs": [],
   "source": []
  },
  {
   "cell_type": "code",
   "execution_count": null,
   "metadata": {},
   "outputs": [],
   "source": [
    "learn.fit_one_cycle(5, 3e-6)"
   ]
  },
  {
   "cell_type": "code",
   "execution_count": null,
   "metadata": {},
   "outputs": [],
   "source": [
    "learn.save('stage-3')\n"
   ]
  },
  {
   "cell_type": "code",
   "execution_count": null,
   "metadata": {},
   "outputs": [],
   "source": [
    "learn.show_results(ds_type=DatasetType.Train)"
   ]
  },
  {
   "cell_type": "code",
   "execution_count": null,
   "metadata": {},
   "outputs": [],
   "source": [
    "learn.lr_find()\n",
    "learn.recorder.plot()"
   ]
  },
  {
   "cell_type": "code",
   "execution_count": null,
   "metadata": {},
   "outputs": [],
   "source": [
    "learn.fit_one_cycle(5, 3e-4)"
   ]
  },
  {
   "cell_type": "code",
   "execution_count": null,
   "metadata": {
    "scrolled": true
   },
   "outputs": [],
   "source": [
    "learn.save('stage-4')"
   ]
  },
  {
   "cell_type": "code",
   "execution_count": null,
   "metadata": {},
   "outputs": [],
   "source": [
    "learn.lr_find(end_lr=1e2)\n",
    "learn.recorder.plot()"
   ]
  },
  {
   "cell_type": "code",
   "execution_count": null,
   "metadata": {
    "scrolled": true
   },
   "outputs": [],
   "source": [
    "learn.show_results(ds_type=DatasetType.Train)"
   ]
  },
  {
   "cell_type": "code",
   "execution_count": null,
   "metadata": {},
   "outputs": [],
   "source": [
    "learn.fit_one_cycle(10, 1e-4)"
   ]
  },
  {
   "cell_type": "code",
   "execution_count": null,
   "metadata": {},
   "outputs": [],
   "source": [
    "learn = learn.load('stage-4')"
   ]
  },
  {
   "cell_type": "code",
   "execution_count": null,
   "metadata": {
    "scrolled": true
   },
   "outputs": [],
   "source": [
    "learn.show_results(ds_type=DatasetType.Train)"
   ]
  },
  {
   "cell_type": "markdown",
   "metadata": {},
   "source": [
    "# Plot results"
   ]
  },
  {
   "cell_type": "code",
   "execution_count": null,
   "metadata": {},
   "outputs": [],
   "source": [
    "int(learn.predict(df.iloc[0])[1])"
   ]
  },
  {
   "cell_type": "code",
   "execution_count": null,
   "metadata": {},
   "outputs": [],
   "source": [
    "learn.predict(df.iloc[0])"
   ]
  },
  {
   "cell_type": "code",
   "execution_count": null,
   "metadata": {},
   "outputs": [],
   "source": [
    "plot_x = [float(learn.predict(df.iloc[i])[1]) for i in range(len(df))]"
   ]
  },
  {
   "cell_type": "code",
   "execution_count": null,
   "metadata": {},
   "outputs": [],
   "source": [
    "plot_y = df['Y']"
   ]
  },
  {
   "cell_type": "code",
   "execution_count": null,
   "metadata": {
    "scrolled": true
   },
   "outputs": [],
   "source": [
    "plot_y"
   ]
  },
  {
   "cell_type": "code",
   "execution_count": null,
   "metadata": {},
   "outputs": [],
   "source": [
    "plot_x"
   ]
  },
  {
   "cell_type": "code",
   "execution_count": null,
   "metadata": {},
   "outputs": [],
   "source": [
    "plot_df = pd.DataFrame(plot_y)"
   ]
  },
  {
   "cell_type": "code",
   "execution_count": null,
   "metadata": {},
   "outputs": [],
   "source": [
    "plot_df['x'] = plot_x"
   ]
  },
  {
   "cell_type": "code",
   "execution_count": null,
   "metadata": {},
   "outputs": [],
   "source": [
    "plot_df.head()"
   ]
  },
  {
   "cell_type": "code",
   "execution_count": null,
   "metadata": {},
   "outputs": [],
   "source": [
    "plot_df.plot()"
   ]
  },
  {
   "cell_type": "code",
   "execution_count": null,
   "metadata": {},
   "outputs": [],
   "source": [
    "plt.plot(plot_x)"
   ]
  },
  {
   "cell_type": "code",
   "execution_count": null,
   "metadata": {},
   "outputs": [],
   "source": [
    "plt.plot(plot_y)"
   ]
  },
  {
   "cell_type": "code",
   "execution_count": null,
   "metadata": {},
   "outputs": [],
   "source": [
    "plt.plot(range(len(plot_x)),np.array([plot_x,plot_y]).T)"
   ]
  },
  {
   "cell_type": "code",
   "execution_count": null,
   "metadata": {},
   "outputs": [],
   "source": [
    "len(plot_x)"
   ]
  },
  {
   "cell_type": "code",
   "execution_count": null,
   "metadata": {},
   "outputs": [],
   "source": [
    "plt.plot(range(len(plot_x[len(plot_x)-60:])), np.array([plot_x[len(plot_x)-60:], plot_y[len(plot_y)-60:]]).T)\n",
    "plt.legend()"
   ]
  },
  {
   "cell_type": "code",
   "execution_count": null,
   "metadata": {},
   "outputs": [],
   "source": [
    "plt.plot(plot_x[len(plot_x)-60:])"
   ]
  },
  {
   "cell_type": "code",
   "execution_count": null,
   "metadata": {},
   "outputs": [],
   "source": [
    "len(plot_x)"
   ]
  },
  {
   "cell_type": "code",
   "execution_count": null,
   "metadata": {},
   "outputs": [],
   "source": [
    "plt.plot(plot_y[len(plot_y)-60:])"
   ]
  },
  {
   "cell_type": "code",
   "execution_count": null,
   "metadata": {},
   "outputs": [],
   "source": [
    "x_series = pd.Series(plot_x, name='Predict')"
   ]
  },
  {
   "cell_type": "code",
   "execution_count": null,
   "metadata": {},
   "outputs": [],
   "source": [
    "type(x_series)"
   ]
  },
  {
   "cell_type": "code",
   "execution_count": null,
   "metadata": {},
   "outputs": [],
   "source": [
    "type(plot_y)"
   ]
  },
  {
   "cell_type": "code",
   "execution_count": null,
   "metadata": {},
   "outputs": [],
   "source": [
    "y_series = plot_y.reindex(x_series.index)"
   ]
  },
  {
   "cell_type": "code",
   "execution_count": null,
   "metadata": {},
   "outputs": [],
   "source": [
    "y_series"
   ]
  },
  {
   "cell_type": "code",
   "execution_count": null,
   "metadata": {},
   "outputs": [],
   "source": [
    "x_series"
   ]
  },
  {
   "cell_type": "code",
   "execution_count": null,
   "metadata": {},
   "outputs": [],
   "source": [
    "pd.concat([y_series, x_series],  axis=1).iloc[1705-60:].plot()"
   ]
  },
  {
   "cell_type": "code",
   "execution_count": null,
   "metadata": {},
   "outputs": [],
   "source": [
    "learn.drop"
   ]
  },
  {
   "cell_type": "code",
   "execution_count": null,
   "metadata": {},
   "outputs": [],
   "source": [
    "learn.save('stage-final')\n",
    "learn.export()"
   ]
  },
  {
   "cell_type": "markdown",
   "metadata": {},
   "source": [
    "# Load in the full data (recent rows will have been dropped because Ys were N/A)"
   ]
  },
  {
   "cell_type": "code",
   "execution_count": null,
   "metadata": {},
   "outputs": [],
   "source": [
    "prediction_df = item_df_training"
   ]
  },
  {
   "cell_type": "code",
   "execution_count": null,
   "metadata": {},
   "outputs": [],
   "source": [
    "prediction_df['constant'] = time_trimmed_df['Y'].mean() *scaling_factor"
   ]
  },
  {
   "cell_type": "code",
   "execution_count": null,
   "metadata": {},
   "outputs": [],
   "source": [
    "prediction_df.columns"
   ]
  },
  {
   "cell_type": "code",
   "execution_count": null,
   "metadata": {},
   "outputs": [],
   "source": [
    "prediction_df = prediction_df.fillna(method='ffill').fillna(method='bfill').fillna(0)"
   ]
  },
  {
   "cell_type": "code",
   "execution_count": null,
   "metadata": {},
   "outputs": [],
   "source": [
    "predict_data = TabularDataBunch.from_df(path, prediction_df, dep_var, valid_idx=valid_idx, procs=procs, cat_names=[])"
   ]
  },
  {
   "cell_type": "code",
   "execution_count": null,
   "metadata": {},
   "outputs": [],
   "source": [
    "predict_learn = tabular_learner(data, layers=[500,100], emb_szs={'native-country': 10}, metrics=mean_squared_error)"
   ]
  },
  {
   "cell_type": "code",
   "execution_count": null,
   "metadata": {},
   "outputs": [],
   "source": [
    "predict_learn =predict_learn.load('stage-final')"
   ]
  },
  {
   "cell_type": "code",
   "execution_count": null,
   "metadata": {},
   "outputs": [],
   "source": [
    "predict_learn.show_results(ds_type=DatasetType.Train)"
   ]
  },
  {
   "cell_type": "code",
   "execution_count": null,
   "metadata": {},
   "outputs": [],
   "source": [
    "predict_learn.predict(prediction_df.iloc[0])"
   ]
  },
  {
   "cell_type": "code",
   "execution_count": null,
   "metadata": {},
   "outputs": [],
   "source": [
    "predict_learn.predict(prediction_df.iloc[100])"
   ]
  },
  {
   "cell_type": "code",
   "execution_count": null,
   "metadata": {},
   "outputs": [],
   "source": [
    "prediction_df"
   ]
  },
  {
   "cell_type": "code",
   "execution_count": null,
   "metadata": {},
   "outputs": [],
   "source": [
    "predictions = [float(predict_learn.predict(prediction_df.iloc[i])[1]) for i in range(len(prediction_df))]\n"
   ]
  },
  {
   "cell_type": "code",
   "execution_count": null,
   "metadata": {},
   "outputs": [],
   "source": [
    "predictions"
   ]
  },
  {
   "cell_type": "code",
   "execution_count": null,
   "metadata": {
    "scrolled": true
   },
   "outputs": [],
   "source": [
    "prediction_df.tail()"
   ]
  },
  {
   "cell_type": "code",
   "execution_count": null,
   "metadata": {},
   "outputs": [],
   "source": [
    "prediction_df['predictions'] = predictions"
   ]
  },
  {
   "cell_type": "code",
   "execution_count": null,
   "metadata": {},
   "outputs": [],
   "source": [
    "prediction_df['predictions'].tail(30)"
   ]
  },
  {
   "cell_type": "code",
   "execution_count": null,
   "metadata": {},
   "outputs": [],
   "source": [
    "prediction_df"
   ]
  },
  {
   "cell_type": "markdown",
   "metadata": {},
   "source": [
    "#### "
   ]
  }
 ],
 "metadata": {
  "kernelspec": {
   "display_name": "Python 3",
   "language": "python",
   "name": "python3"
  },
  "language_info": {
   "codemirror_mode": {
    "name": "ipython",
    "version": 3
   },
   "file_extension": ".py",
   "mimetype": "text/x-python",
   "name": "python",
   "nbconvert_exporter": "python",
   "pygments_lexer": "ipython3",
   "version": "3.8.0"
  }
 },
 "nbformat": 4,
 "nbformat_minor": 1
}
