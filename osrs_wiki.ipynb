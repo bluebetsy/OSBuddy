{
 "cells": [
  {
   "cell_type": "markdown",
   "metadata": {},
   "source": [
    "# Libraries + Torch check"
   ]
  },
  {
   "cell_type": "code",
   "execution_count": 33,
   "metadata": {
    "scrolled": true
   },
   "outputs": [],
   "source": [
    "import pandas as pd\n",
    "import requests\n",
    "import json\n",
    "from pathlib import Path\n",
    "import re\n",
    "from datetime import date\n",
    "import time\n",
    "import os\n",
    "from fastai.tabular import *\n",
    "import matplotlib.pyplot as plt\n",
    "import numpy as np\n",
    "from sklearn import linear_model\n",
    "import sklearn.metrics\n",
    "from sklearn.model_selection import train_test_split\n",
    "import math"
   ]
  },
  {
   "cell_type": "code",
   "execution_count": 34,
   "metadata": {},
   "outputs": [],
   "source": [
    "import torch"
   ]
  },
  {
   "cell_type": "code",
   "execution_count": 35,
   "metadata": {},
   "outputs": [
    {
     "data": {
      "text/plain": [
       "<torch.cuda.device at 0x7faafd842490>"
      ]
     },
     "execution_count": 35,
     "metadata": {},
     "output_type": "execute_result"
    }
   ],
   "source": [
    "torch.cuda.device(0)"
   ]
  },
  {
   "cell_type": "code",
   "execution_count": 36,
   "metadata": {},
   "outputs": [
    {
     "data": {
      "text/plain": [
       "'GeForce RTX 2080'"
      ]
     },
     "execution_count": 36,
     "metadata": {},
     "output_type": "execute_result"
    }
   ],
   "source": [
    "torch.cuda.get_device_name(0)"
   ]
  },
  {
   "cell_type": "markdown",
   "metadata": {},
   "source": [
    "# Data Retrieval"
   ]
  },
  {
   "cell_type": "code",
   "execution_count": 37,
   "metadata": {},
   "outputs": [],
   "source": [
    "cleaned_item_names = [name[:-10] for name in list(os.walk(r'data/wiki_prices'))[0][2]]"
   ]
  },
  {
   "cell_type": "code",
   "execution_count": 38,
   "metadata": {},
   "outputs": [
    {
     "data": {
      "text/plain": [
       "['Potato%20seed', 'Tin%20ore', 'Gout%20tuber', 'Bronze%20bolts', 'Gold%20seal']"
      ]
     },
     "execution_count": 38,
     "metadata": {},
     "output_type": "execute_result"
    }
   ],
   "source": [
    "cleaned_item_names[0:5]"
   ]
  },
  {
   "cell_type": "code",
   "execution_count": 39,
   "metadata": {},
   "outputs": [],
   "source": [
    "pd.Series(cleaned_item_names).to_csv('./data/cleaned_item_names', index=False, header=False)"
   ]
  },
  {
   "cell_type": "code",
   "execution_count": 40,
   "metadata": {},
   "outputs": [
    {
     "data": {
      "text/plain": [
       "3147"
      ]
     },
     "execution_count": 40,
     "metadata": {},
     "output_type": "execute_result"
    }
   ],
   "source": [
    "len(cleaned_item_names)"
   ]
  },
  {
   "cell_type": "code",
   "execution_count": 41,
   "metadata": {},
   "outputs": [],
   "source": [
    "# cleaned_item_names"
   ]
  },
  {
   "cell_type": "code",
   "execution_count": 44,
   "metadata": {},
   "outputs": [],
   "source": [
    "def get_item_df(item_name, sleppy_time=1):\n",
    "    base_url = r\"https://oldschool.runescape.wiki/api.php?action=query&prop=revisions&rvprop=content&format=json&titles=Module%3AExchange%2F\"\n",
    "    postfix_url = r\"%2FData\"\n",
    "    full_url = f'{base_url}{item_name}{postfix_url}'\n",
    "    resp = requests.get(full_url)\n",
    "    jsond = resp.json()\n",
    "    try:\n",
    "        regex_text = jsond['query']['pages'][next(iter(jsond['query']['pages'].keys()))]['revisions'][0]['*']\n",
    "        #get all of the ones that have volume as well as price\n",
    "        m = re.findall(r'[\\d]+:[\\d]+:[\\d]+', regex_text)\n",
    "        item_df = pd.DataFrame()\n",
    "        item_df['dt'] = [int(string.split(':')[0]) for string in m]\n",
    "        item_df[f'{item_name} price'] = [int(string.split(':')[1]) for string in m]\n",
    "        item_df[f'{item_name} volume'] = [int(string.split(':')[2]) for string in m]\n",
    "        item_df['date_obj'] = item_df['dt'].apply(lambda x: date.fromtimestamp(x))\n",
    "        #take the ones that just have price so we can get the most recent price as well\n",
    "        n = re.findall(r'[\\d]+:[\\d]+', regex_text)\n",
    "        last_time = date.fromtimestamp(int(n[-1].split(':')[0]))\n",
    "        last_price = int(n[-1].split(':')[1])\n",
    "        item_df.loc[-1, 'date_obj'] = last_time\n",
    "        item_df.loc[-1, f'{item_name} price'] = last_price\n",
    "        item_df = item_df.fillna(method='ffill')\n",
    "        item_df.set_index('date_obj', inplace=True)\n",
    "        item_df = item_df.drop('dt', axis=1)\n",
    "        return item_df\n",
    "    except:\n",
    "        pass\n",
    "\n"
   ]
  },
  {
   "cell_type": "code",
   "execution_count": 45,
   "metadata": {},
   "outputs": [],
   "source": [
    "def retrieve_dfs(xslice = True):\n",
    "    if xslice:\n",
    "        item_dfs = [get_item_df(item_name,1) for item_name in cleaned_item_names[40:45]]\n",
    "    else:\n",
    "        item_dfs = [get_item_df(item_name,1) for item_name in cleaned_item_names]\n",
    "    return item_dfs"
   ]
  },
  {
   "cell_type": "code",
   "execution_count": 46,
   "metadata": {},
   "outputs": [],
   "source": [
    "item_dfs = retrieve_dfs(False)"
   ]
  },
  {
   "cell_type": "code",
   "execution_count": 47,
   "metadata": {},
   "outputs": [],
   "source": [
    "def save_dfs(item_dfs):\n",
    "    for df in item_dfs:\n",
    "        try:\n",
    "            df.to_csv(f'./data/wiki_prices/{df.columns[0]}.csv')\n",
    "        except:\n",
    "            pass"
   ]
  },
  {
   "cell_type": "code",
   "execution_count": 49,
   "metadata": {},
   "outputs": [],
   "source": [
    "save_dfs(item_dfs)"
   ]
  },
  {
   "cell_type": "code",
   "execution_count": 50,
   "metadata": {},
   "outputs": [],
   "source": [
    "def load_dfs(drop_blank=True):\n",
    "    item_dfs = []\n",
    "    for name in list(os.walk('./data/wiki_prices'))[0][2]:\n",
    "        df = pd.read_csv(f'./data/wiki_prices/{name}')\n",
    "        df = df.set_index(df.columns[0])\n",
    "#         if drop_blank:\n",
    "#             if df.empty:\n",
    "#                 item_dfs.append(df)\n",
    "#         else:\n",
    "#             item_dfs.append(df)\n",
    "        item_dfs.append(df)\n",
    "    return item_dfs"
   ]
  },
  {
   "cell_type": "code",
   "execution_count": 16,
   "metadata": {},
   "outputs": [],
   "source": [
    "item_dfs = load_dfs()"
   ]
  },
  {
   "cell_type": "code",
   "execution_count": 51,
   "metadata": {},
   "outputs": [
    {
     "data": {
      "text/plain": [
       "3147"
      ]
     },
     "execution_count": 51,
     "metadata": {},
     "output_type": "execute_result"
    }
   ],
   "source": [
    "len(item_dfs)"
   ]
  },
  {
   "cell_type": "code",
   "execution_count": 52,
   "metadata": {},
   "outputs": [
    {
     "data": {
      "text/plain": [
       "list"
      ]
     },
     "execution_count": 52,
     "metadata": {},
     "output_type": "execute_result"
    }
   ],
   "source": [
    "type(item_dfs)"
   ]
  },
  {
   "cell_type": "code",
   "execution_count": 53,
   "metadata": {},
   "outputs": [
    {
     "data": {
      "text/plain": [
       "'Potato%20seed'"
      ]
     },
     "execution_count": 53,
     "metadata": {},
     "output_type": "execute_result"
    }
   ],
   "source": [
    "cleaned_item_names[0]"
   ]
  },
  {
   "cell_type": "code",
   "execution_count": 54,
   "metadata": {},
   "outputs": [],
   "source": [
    "for item_df in item_dfs:\n",
    "    try:\n",
    "        col = item_df.columns[0]\n",
    "    except:\n",
    "        invalid_dfs += 1 \n",
    "        print(item_df)"
   ]
  },
  {
   "cell_type": "code",
   "execution_count": 55,
   "metadata": {},
   "outputs": [],
   "source": [
    "retrieved_names = [item_df.columns[0][:-6] for item_df in item_dfs]"
   ]
  },
  {
   "cell_type": "code",
   "execution_count": 56,
   "metadata": {},
   "outputs": [
    {
     "data": {
      "text/plain": [
       "3147"
      ]
     },
     "execution_count": 56,
     "metadata": {},
     "output_type": "execute_result"
    }
   ],
   "source": [
    "len(retrieved_names)"
   ]
  },
  {
   "cell_type": "code",
   "execution_count": 57,
   "metadata": {},
   "outputs": [
    {
     "data": {
      "text/plain": [
       "3147"
      ]
     },
     "execution_count": 57,
     "metadata": {},
     "output_type": "execute_result"
    }
   ],
   "source": [
    "len(item_dfs)"
   ]
  },
  {
   "cell_type": "code",
   "execution_count": 58,
   "metadata": {},
   "outputs": [],
   "source": [
    "df = pd.DataFrame({'name': retrieved_names, 'price_df': item_dfs})"
   ]
  },
  {
   "cell_type": "markdown",
   "metadata": {},
   "source": [
    "# Feature creation"
   ]
  },
  {
   "cell_type": "code",
   "execution_count": 59,
   "metadata": {},
   "outputs": [],
   "source": [
    "#item_df_training = tl_df['price_df'][300]"
   ]
  },
  {
   "cell_type": "code",
   "execution_count": 60,
   "metadata": {},
   "outputs": [],
   "source": [
    "days_back = 90\n",
    "\n",
    "rolling_averages = [3,7,14,21,30,60,90]\n",
    "\n",
    "days_ahead_to_predict = 4"
   ]
  },
  {
   "cell_type": "code",
   "execution_count": 61,
   "metadata": {},
   "outputs": [],
   "source": [
    "def create_predictive_features(price_df):\n",
    "    item_df_training = price_df\n",
    "    item_name = item_df_training.columns[0]\n",
    "    for i in range(days_back):\n",
    "        item_df_training[f'{item_name} {i} days ago'] = item_df_training[item_name].shift(i)\n",
    "    for i in range(days_back):\n",
    "        item_df_training[f'{item_name} {i} delta days ago'] = item_df_training[item_name].shift(i) - item_df_training[item_name]\n",
    "    for rolling_average in rolling_averages:\n",
    "        item_df_training[f'{item_name} {rolling_average} day rolling average'] = item_df_training[item_name].rolling(rolling_average).mean()\n",
    "    for rolling_average in rolling_averages:\n",
    "        item_df_training[f'{item_name} delta {rolling_average} day rolling average'] = item_df_training[item_name] - item_df_training[f'{item_name} {rolling_average} day rolling average']\n",
    "    item_df_training['Y'] = item_df_training[item_name].shift(-1*days_ahead_to_predict)\n",
    "    return item_df_training\n",
    "\n",
    "        "
   ]
  },
  {
   "cell_type": "code",
   "execution_count": 62,
   "metadata": {},
   "outputs": [],
   "source": [
    "#price_df = tl_df['price_df'][300]"
   ]
  },
  {
   "cell_type": "code",
   "execution_count": 63,
   "metadata": {},
   "outputs": [],
   "source": [
    "def trim_df(item_df_training):\n",
    "    trimmed_df = item_df_training.dropna(how='any')\n",
    "    return trimmed_df\n",
    "    "
   ]
  },
  {
   "cell_type": "markdown",
   "metadata": {},
   "source": [
    "# SGD LR"
   ]
  },
  {
   "cell_type": "code",
   "execution_count": 64,
   "metadata": {},
   "outputs": [],
   "source": [
    "def create_model(tl_df_row):\n",
    "    trimmed_df = tl_df_row['trimmed_df']\n",
    "    try:\n",
    "        X = trimmed_df.drop(['Y'], axis=1)\n",
    "        y = trimmed_df['Y']\n",
    "        X_train, X_test, y_train, y_test = train_test_split(X, y, test_size = 0.2, shuffle=False)\n",
    "        regr = linear_model.LinearRegression()\n",
    "        regr.fit(X_train, y_train)\n",
    "        y_pred = regr.predict(X_test)\n",
    "        mean_squared_error = sklearn.metrics.mean_squared_error(y_test, y_pred)\n",
    "        r2_score = sklearn.metrics.r2_score(y_test, y_pred)\n",
    "        return (regr, y_pred, y_test, mean_squared_error, r2_score)\n",
    "    except:\n",
    "        return (0, 0, 0, 0, 0)"
   ]
  },
  {
   "cell_type": "code",
   "execution_count": 65,
   "metadata": {},
   "outputs": [],
   "source": [
    "#plt.scatter(y_test, y_pred)"
   ]
  },
  {
   "cell_type": "markdown",
   "metadata": {},
   "source": [
    "# \"Backtest\""
   ]
  },
  {
   "cell_type": "code",
   "execution_count": 66,
   "metadata": {},
   "outputs": [],
   "source": [
    "starting_cash = 10**7"
   ]
  },
  {
   "cell_type": "code",
   "execution_count": 67,
   "metadata": {},
   "outputs": [],
   "source": [
    "slippage = 0\n",
    "thresh_buy = 0.00\n",
    "thresh_sell = 0\n",
    "max_volume_buy = 0.01"
   ]
  },
  {
   "cell_type": "code",
   "execution_count": 68,
   "metadata": {},
   "outputs": [],
   "source": [
    "def should_buy(row):\n",
    "    if row['perc predicted increase'] > thresh_buy:\n",
    "        return True\n",
    "\n",
    "def should_sell(row):name\n",
    "Icy%20basalt\n",
    "Black%20shield%20(h1)\n",
    "Saradomin%20bracers\n",
    "Merfolk%20trident\n",
    "Mithril%20kiteshield\n",
    "\n",
    "    if row['perc predicted increase'] < thresh_sell:\n",
    "        return True\n",
    "    \n",
    "def buy_price(row):\n",
    "    return row['current_price']\n",
    "\n",
    "def sell_price(row):\n",
    "    return row['current_price']\n",
    "\n",
    "def max_buy(row):\n",
    "    d_stock = max(\n",
    "        min(\n",
    "        (row['starting_cash']//buy_price(row)),\n",
    "        math.floor(row['volume']*max_volume_buy)\n",
    "        ),\n",
    "        0\n",
    "    )\n",
    "    d_cash = -1 * d_stock * buy_price(row)\n",
    "    return (d_stock, d_cash)\n",
    "\n",
    "def max_sell(row):\n",
    "    d_stock = -1 * max(\n",
    "        0,\n",
    "        min(row['starting_stock'],\n",
    "        math.floor(row['volume'] * max_volume_buy)\n",
    "        )\n",
    "    )\n",
    "    d_cash = d_stock *-1 * sell_price(row)\n",
    "    return (d_stock, d_cash)"
   ]
  },
  {
   "cell_type": "code",
   "execution_count": 69,
   "metadata": {},
   "outputs": [],
   "source": [
    "def get_ending_cash(record_df):\n",
    "    last_row = record_df.iloc[-1,:]\n",
    "    cash = last_row['ending_cash']\n",
    "    cash += sell_price(last_row) * last_row['ending_stock']\n",
    "    return cash"
   ]
  },
  {
   "cell_type": "code",
   "execution_count": null,
   "metadata": {},
   "outputs": [],
   "source": []
  },
  {
   "cell_type": "code",
   "execution_count": 70,
   "metadata": {},
   "outputs": [],
   "source": [
    "def create_backtest_df(tl_df_row):\n",
    "    try:\n",
    "        y_pred = tl_df_row['y_pred']\n",
    "        y_test = tl_df_row['y_test']\n",
    "        item_df_training = tl_df_row['item_df_training']\n",
    "        item_name = tl_df_row['name']\n",
    "\n",
    "        bt_df = pd.concat([pd.Series(y_pred, index= y_test.index, name='Prediction'), y_test.rename(index='Y')], axis=1)\n",
    "        bt_df['Y + 1'] = bt_df['Y'].shift(-1)\n",
    "        bt_df['Y - 1'] = bt_df['Y'].shift(1)\n",
    "\n",
    "\n",
    "        bt_df = bt_df.fillna(method='ffill').fillna(method='bfill')\n",
    "\n",
    "        volume_column = f'{item_name} volume'\n",
    "        volume = item_df_training[volume_column]\n",
    "\n",
    "        bt_df = bt_df.join(item_df_training[volume_column].rename(index='volume'))\n",
    "        bt_df = bt_df.join(item_df_training[f'{item_name} price'].rename(index='current_price'))\n",
    "        bt_df['perc predicted increase'] = (bt_df['Prediction'] - bt_df['current_price'])/bt_df['current_price']\n",
    "\n",
    "        bt_df['starting_stock'] = 0\n",
    "        bt_df['starting_cash'] = 0\n",
    "        bt_df['ending_stock'] = 0\n",
    "        bt_df['ending_cash'] = 0\n",
    "\n",
    "        bt_df.loc[bt_df.index[0], 'starting_cash'] = starting_cash\n",
    "        bt_df.loc[bt_df.index[0], 'ending_cash'] = starting_cash\n",
    "\n",
    "        bt_df['action'] = ''\n",
    "\n",
    "        copy_df = bt_df.copy()\n",
    "        record_df = bt_df.copy()\n",
    "\n",
    "        first_row = True\n",
    "        for i, row in copy_df.iterrows():\n",
    "            current_row = row\n",
    "            if first_row:\n",
    "                prev_row = current_row\n",
    "                first_row = False\n",
    "                continue\n",
    "            current_row['starting_cash'] = prev_row['ending_cash']\n",
    "            current_row['starting_stock'] = prev_row['ending_stock']\n",
    "            cash = current_row['starting_cash']\n",
    "            stock = current_row['starting_stock']\n",
    "            if should_buy(current_row):\n",
    "                d_stock, d_cash = max_buy(current_row)\n",
    "                cash += d_cash\n",
    "                stock += d_stock\n",
    "                current_row['action'] = f'Buying + {d_stock} stock, - {d_cash} cash'\n",
    "            elif should_sell(row):\n",
    "                d_stock, d_cash = max_sell(current_row)\n",
    "                cash += d_cash\n",
    "                stock += d_stock\n",
    "                current_row['action'] = f'Selling + {d_stock} stock, + {d_cash} cash'\n",
    "            else:\n",
    "                current_row['action'] = 'hold'\n",
    "            current_row['ending_cash'] = cash\n",
    "            current_row['ending_stock'] = stock\n",
    "            record_df.loc[i, :] = current_row\n",
    "            prev_row = current_row\n",
    "        roi = get_ending_cash(record_df)/starting_cash\n",
    "        last_perc_prediction = bt_df\n",
    "        return (roi, record_df)\n",
    "    except:\n",
    "        return (0, 0)\n"
   ]
  },
  {
   "cell_type": "markdown",
   "metadata": {},
   "source": [
    "# Predict for right now"
   ]
  },
  {
   "cell_type": "code",
   "execution_count": 71,
   "metadata": {},
   "outputs": [],
   "source": [
    "def make_predictions(tl_df_row):\n",
    "    try:\n",
    "        item_name = tl_df_row['name']\n",
    "        regr = tl_df_row['regr']\n",
    "        item_df_training = tl_df_row['item_df_training']\n",
    "        current_price = item_df_training.loc[item_df_training.index[-1], f'{item_name} price']\n",
    "        pred_price = regr.predict(np.array(item_df_training.drop('Y', axis=1).loc[item_df_training.index[-1],:]).reshape(1, -1))[0]\n",
    "        perc_pred_increase = (pred_price - current_price)/(current_price)\n",
    "        last_day = item_df_training.index[-1]\n",
    "        return (perc_pred_increase, last_day)\n",
    "    except:\n",
    "        return(0, 0)"
   ]
  },
  {
   "cell_type": "markdown",
   "metadata": {},
   "source": [
    "# Filter and find trades"
   ]
  },
  {
   "cell_type": "code",
   "execution_count": 72,
   "metadata": {},
   "outputs": [],
   "source": [
    "r2_score_thresh = .85\n",
    "roi_thresh = 1.05\n",
    "perc_pred_increase_thresh = 0.03"
   ]
  },
  {
   "cell_type": "code",
   "execution_count": 73,
   "metadata": {},
   "outputs": [],
   "source": [
    "batch_size = 100\n"
   ]
  },
  {
   "cell_type": "code",
   "execution_count": 74,
   "metadata": {},
   "outputs": [],
   "source": [
    "df_list = []"
   ]
  },
  {
   "cell_type": "code",
   "execution_count": 77,
   "metadata": {},
   "outputs": [],
   "source": [
    "bought = pd.read_csv('data/bought')\n"
   ]
  },
  {
   "cell_type": "code",
   "execution_count": 79,
   "metadata": {},
   "outputs": [
    {
     "data": {
      "text/plain": [
       "array(['Icy%20basalt', 'Black%20shield%20(h1)', 'Saradomin%20bracers', 'Merfolk%20trident', 'Mithril%20kiteshield'],\n",
       "      dtype=object)"
      ]
     },
     "execution_count": 79,
     "metadata": {},
     "output_type": "execute_result"
    }
   ],
   "source": [
    "bought['name'].values"
   ]
  },
  {
   "cell_type": "code",
   "execution_count": 80,
   "metadata": {
    "scrolled": true
   },
   "outputs": [
    {
     "name": "stderr",
     "output_type": "stream",
     "text": [
      "/home/adamh/PycharmProjects/stonks/model/venv/lib/python3.7/site-packages/ipykernel_launcher.py:4: SettingWithCopyWarning: \n",
      "A value is trying to be set on a copy of a slice from a DataFrame.\n",
      "Try using .loc[row_indexer,col_indexer] = value instead\n",
      "\n",
      "See the caveats in the documentation: https://pandas.pydata.org/pandas-docs/stable/user_guide/indexing.html#returning-a-view-versus-a-copy\n",
      "  after removing the cwd from sys.path.\n",
      "/home/adamh/PycharmProjects/stonks/model/venv/lib/python3.7/site-packages/ipykernel_launcher.py:6: SettingWithCopyWarning: \n",
      "A value is trying to be set on a copy of a slice from a DataFrame.\n",
      "Try using .loc[row_indexer,col_indexer] = value instead\n",
      "\n",
      "See the caveats in the documentation: https://pandas.pydata.org/pandas-docs/stable/user_guide/indexing.html#returning-a-view-versus-a-copy\n",
      "  \n",
      "/home/adamh/PycharmProjects/stonks/model/venv/lib/python3.7/site-packages/ipykernel_launcher.py:8: SettingWithCopyWarning: \n",
      "A value is trying to be set on a copy of a slice from a DataFrame.\n",
      "Try using .loc[row_indexer,col_indexer] = value instead\n",
      "\n",
      "See the caveats in the documentation: https://pandas.pydata.org/pandas-docs/stable/user_guide/indexing.html#returning-a-view-versus-a-copy\n",
      "  \n",
      "/home/adamh/PycharmProjects/stonks/model/venv/lib/python3.7/site-packages/numpy/core/_asarray.py:83: VisibleDeprecationWarning: Creating an ndarray from ragged nested sequences (which is a list-or-tuple of lists-or-tuples-or ndarrays with different lengths or shapes) is deprecated. If you meant to do this, you must specify 'dtype=object' when creating the ndarray\n",
      "  return array(a, dtype, copy=False, order=order)\n",
      "/home/adamh/PycharmProjects/stonks/model/venv/lib/python3.7/site-packages/ipykernel_launcher.py:11: SettingWithCopyWarning: \n",
      "A value is trying to be set on a copy of a slice from a DataFrame.\n",
      "Try using .loc[row_indexer,col_indexer] = value instead\n",
      "\n",
      "See the caveats in the documentation: https://pandas.pydata.org/pandas-docs/stable/user_guide/indexing.html#returning-a-view-versus-a-copy\n",
      "  # This is added back by InteractiveShellApp.init_path()\n",
      "/home/adamh/PycharmProjects/stonks/model/venv/lib/python3.7/site-packages/ipykernel_launcher.py:16: SettingWithCopyWarning: \n",
      "A value is trying to be set on a copy of a slice from a DataFrame.\n",
      "Try using .loc[row_indexer,col_indexer] = value instead\n",
      "\n",
      "See the caveats in the documentation: https://pandas.pydata.org/pandas-docs/stable/user_guide/indexing.html#returning-a-view-versus-a-copy\n",
      "  app.launch_new_instance()\n"
     ]
    },
    {
     "name": "stdout",
     "output_type": "stream",
     "text": [
      "(22, 13)\n",
      "(2, 13)\n",
      "(0, 13)\n",
      "Empty DataFrame\n",
      "Columns: [name, price_df, item_df_training, trimmed_df, regr, y_pred, y_test, mean_squared_error, r2_score, roi, record_df, perc_pred_increase, last_day]\n",
      "Index: []\n"
     ]
    },
    {
     "name": "stderr",
     "output_type": "stream",
     "text": [
      "/home/adamh/PycharmProjects/stonks/model/venv/lib/python3.7/site-packages/ipykernel_launcher.py:4: SettingWithCopyWarning: \n",
      "A value is trying to be set on a copy of a slice from a DataFrame.\n",
      "Try using .loc[row_indexer,col_indexer] = value instead\n",
      "\n",
      "See the caveats in the documentation: https://pandas.pydata.org/pandas-docs/stable/user_guide/indexing.html#returning-a-view-versus-a-copy\n",
      "  after removing the cwd from sys.path.\n",
      "/home/adamh/PycharmProjects/stonks/model/venv/lib/python3.7/site-packages/ipykernel_launcher.py:6: SettingWithCopyWarning: \n",
      "A value is trying to be set on a copy of a slice from a DataFrame.\n",
      "Try using .loc[row_indexer,col_indexer] = value instead\n",
      "\n",
      "See the caveats in the documentation: https://pandas.pydata.org/pandas-docs/stable/user_guide/indexing.html#returning-a-view-versus-a-copy\n",
      "  \n",
      "/home/adamh/PycharmProjects/stonks/model/venv/lib/python3.7/site-packages/ipykernel_launcher.py:8: SettingWithCopyWarning: \n",
      "A value is trying to be set on a copy of a slice from a DataFrame.\n",
      "Try using .loc[row_indexer,col_indexer] = value instead\n",
      "\n",
      "See the caveats in the documentation: https://pandas.pydata.org/pandas-docs/stable/user_guide/indexing.html#returning-a-view-versus-a-copy\n",
      "  \n",
      "/home/adamh/PycharmProjects/stonks/model/venv/lib/python3.7/site-packages/numpy/core/_asarray.py:83: VisibleDeprecationWarning: Creating an ndarray from ragged nested sequences (which is a list-or-tuple of lists-or-tuples-or ndarrays with different lengths or shapes) is deprecated. If you meant to do this, you must specify 'dtype=object' when creating the ndarray\n",
      "  return array(a, dtype, copy=False, order=order)\n",
      "/home/adamh/PycharmProjects/stonks/model/venv/lib/python3.7/site-packages/ipykernel_launcher.py:11: SettingWithCopyWarning: \n",
      "A value is trying to be set on a copy of a slice from a DataFrame.\n",
      "Try using .loc[row_indexer,col_indexer] = value instead\n",
      "\n",
      "See the caveats in the documentation: https://pandas.pydata.org/pandas-docs/stable/user_guide/indexing.html#returning-a-view-versus-a-copy\n",
      "  # This is added back by InteractiveShellApp.init_path()\n",
      "/home/adamh/PycharmProjects/stonks/model/venv/lib/python3.7/site-packages/ipykernel_launcher.py:16: SettingWithCopyWarning: \n",
      "A value is trying to be set on a copy of a slice from a DataFrame.\n",
      "Try using .loc[row_indexer,col_indexer] = value instead\n",
      "\n",
      "See the caveats in the documentation: https://pandas.pydata.org/pandas-docs/stable/user_guide/indexing.html#returning-a-view-versus-a-copy\n",
      "  app.launch_new_instance()\n"
     ]
    },
    {
     "name": "stdout",
     "output_type": "stream",
     "text": [
      "(24, 13)\n",
      "(1, 13)\n",
      "(1, 13)\n",
      "                           name  \\\n",
      "162  Black%20wizard%20hat%20(g)   \n",
      "\n",
      "                                              price_df  \\\n",
      "162              Black%20wizard%20hat%20(g) price  ...   \n",
      "\n",
      "                                      item_df_training  \\\n",
      "162              Black%20wizard%20hat%20(g) price  ...   \n",
      "\n",
      "                                            trimmed_df                regr  \\\n",
      "162              Black%20wizard%20hat%20(g) price  ...  LinearRegression()   \n",
      "\n",
      "                                                y_pred  \\\n",
      "162  [377761.0829621381, 385669.7704621381, 369986....   \n",
      "\n",
      "                                                y_test  mean_squared_error  \\\n",
      "162  date_obj\n",
      "2020-04-06    382445.0\n",
      "2020-04-07    ...        1.035652e+08   \n",
      "\n",
      "     r2_score       roi                                          record_df  \\\n",
      "162  0.963592  1.154134                 Prediction         Y     Y + 1 ...   \n",
      "\n",
      "     perc_pred_increase    last_day  \n",
      "162            0.076677  2020-08-01  \n"
     ]
    },
    {
     "name": "stderr",
     "output_type": "stream",
     "text": [
      "/home/adamh/PycharmProjects/stonks/model/venv/lib/python3.7/site-packages/ipykernel_launcher.py:4: SettingWithCopyWarning: \n",
      "A value is trying to be set on a copy of a slice from a DataFrame.\n",
      "Try using .loc[row_indexer,col_indexer] = value instead\n",
      "\n",
      "See the caveats in the documentation: https://pandas.pydata.org/pandas-docs/stable/user_guide/indexing.html#returning-a-view-versus-a-copy\n",
      "  after removing the cwd from sys.path.\n",
      "/home/adamh/PycharmProjects/stonks/model/venv/lib/python3.7/site-packages/ipykernel_launcher.py:6: SettingWithCopyWarning: \n",
      "A value is trying to be set on a copy of a slice from a DataFrame.\n",
      "Try using .loc[row_indexer,col_indexer] = value instead\n",
      "\n",
      "See the caveats in the documentation: https://pandas.pydata.org/pandas-docs/stable/user_guide/indexing.html#returning-a-view-versus-a-copy\n",
      "  \n",
      "/home/adamh/PycharmProjects/stonks/model/venv/lib/python3.7/site-packages/ipykernel_launcher.py:8: SettingWithCopyWarning: \n",
      "A value is trying to be set on a copy of a slice from a DataFrame.\n",
      "Try using .loc[row_indexer,col_indexer] = value instead\n",
      "\n",
      "See the caveats in the documentation: https://pandas.pydata.org/pandas-docs/stable/user_guide/indexing.html#returning-a-view-versus-a-copy\n",
      "  \n",
      "/home/adamh/PycharmProjects/stonks/model/venv/lib/python3.7/site-packages/numpy/core/_asarray.py:83: VisibleDeprecationWarning: Creating an ndarray from ragged nested sequences (which is a list-or-tuple of lists-or-tuples-or ndarrays with different lengths or shapes) is deprecated. If you meant to do this, you must specify 'dtype=object' when creating the ndarray\n",
      "  return array(a, dtype, copy=False, order=order)\n",
      "/home/adamh/PycharmProjects/stonks/model/venv/lib/python3.7/site-packages/ipykernel_launcher.py:11: SettingWithCopyWarning: \n",
      "A value is trying to be set on a copy of a slice from a DataFrame.\n",
      "Try using .loc[row_indexer,col_indexer] = value instead\n",
      "\n",
      "See the caveats in the documentation: https://pandas.pydata.org/pandas-docs/stable/user_guide/indexing.html#returning-a-view-versus-a-copy\n",
      "  # This is added back by InteractiveShellApp.init_path()\n",
      "/home/adamh/PycharmProjects/stonks/model/venv/lib/python3.7/site-packages/ipykernel_launcher.py:16: SettingWithCopyWarning: \n",
      "A value is trying to be set on a copy of a slice from a DataFrame.\n",
      "Try using .loc[row_indexer,col_indexer] = value instead\n",
      "\n",
      "See the caveats in the documentation: https://pandas.pydata.org/pandas-docs/stable/user_guide/indexing.html#returning-a-view-versus-a-copy\n",
      "  app.launch_new_instance()\n"
     ]
    },
    {
     "name": "stdout",
     "output_type": "stream",
     "text": [
      "(24, 13)\n",
      "(3, 13)\n",
      "(0, 13)\n",
      "Empty DataFrame\n",
      "Columns: [name, price_df, item_df_training, trimmed_df, regr, y_pred, y_test, mean_squared_error, r2_score, roi, record_df, perc_pred_increase, last_day]\n",
      "Index: []\n"
     ]
    },
    {
     "name": "stderr",
     "output_type": "stream",
     "text": [
      "/home/adamh/PycharmProjects/stonks/model/venv/lib/python3.7/site-packages/ipykernel_launcher.py:4: SettingWithCopyWarning: \n",
      "A value is trying to be set on a copy of a slice from a DataFrame.\n",
      "Try using .loc[row_indexer,col_indexer] = value instead\n",
      "\n",
      "See the caveats in the documentation: https://pandas.pydata.org/pandas-docs/stable/user_guide/indexing.html#returning-a-view-versus-a-copy\n",
      "  after removing the cwd from sys.path.\n",
      "/home/adamh/PycharmProjects/stonks/model/venv/lib/python3.7/site-packages/ipykernel_launcher.py:6: SettingWithCopyWarning: \n",
      "A value is trying to be set on a copy of a slice from a DataFrame.\n",
      "Try using .loc[row_indexer,col_indexer] = value instead\n",
      "\n",
      "See the caveats in the documentation: https://pandas.pydata.org/pandas-docs/stable/user_guide/indexing.html#returning-a-view-versus-a-copy\n",
      "  \n",
      "/home/adamh/PycharmProjects/stonks/model/venv/lib/python3.7/site-packages/ipykernel_launcher.py:8: SettingWithCopyWarning: \n",
      "A value is trying to be set on a copy of a slice from a DataFrame.\n",
      "Try using .loc[row_indexer,col_indexer] = value instead\n",
      "\n",
      "See the caveats in the documentation: https://pandas.pydata.org/pandas-docs/stable/user_guide/indexing.html#returning-a-view-versus-a-copy\n",
      "  \n",
      "/home/adamh/PycharmProjects/stonks/model/venv/lib/python3.7/site-packages/numpy/core/_asarray.py:83: VisibleDeprecationWarning: Creating an ndarray from ragged nested sequences (which is a list-or-tuple of lists-or-tuples-or ndarrays with different lengths or shapes) is deprecated. If you meant to do this, you must specify 'dtype=object' when creating the ndarray\n",
      "  return array(a, dtype, copy=False, order=order)\n",
      "/home/adamh/PycharmProjects/stonks/model/venv/lib/python3.7/site-packages/ipykernel_launcher.py:11: SettingWithCopyWarning: \n",
      "A value is trying to be set on a copy of a slice from a DataFrame.\n",
      "Try using .loc[row_indexer,col_indexer] = value instead\n",
      "\n",
      "See the caveats in the documentation: https://pandas.pydata.org/pandas-docs/stable/user_guide/indexing.html#returning-a-view-versus-a-copy\n",
      "  # This is added back by InteractiveShellApp.init_path()\n",
      "/home/adamh/PycharmProjects/stonks/model/venv/lib/python3.7/site-packages/ipykernel_launcher.py:16: SettingWithCopyWarning: \n",
      "A value is trying to be set on a copy of a slice from a DataFrame.\n",
      "Try using .loc[row_indexer,col_indexer] = value instead\n",
      "\n",
      "See the caveats in the documentation: https://pandas.pydata.org/pandas-docs/stable/user_guide/indexing.html#returning-a-view-versus-a-copy\n",
      "  app.launch_new_instance()\n"
     ]
    },
    {
     "name": "stdout",
     "output_type": "stream",
     "text": [
      "(23, 13)\n",
      "(0, 13)\n",
      "(0, 13)\n",
      "Empty DataFrame\n",
      "Columns: [name, price_df, item_df_training, trimmed_df, regr, y_pred, y_test, mean_squared_error, r2_score, roi, record_df, perc_pred_increase, last_day]\n",
      "Index: []\n"
     ]
    },
    {
     "name": "stderr",
     "output_type": "stream",
     "text": [
      "/home/adamh/PycharmProjects/stonks/model/venv/lib/python3.7/site-packages/ipykernel_launcher.py:4: SettingWithCopyWarning: \n",
      "A value is trying to be set on a copy of a slice from a DataFrame.\n",
      "Try using .loc[row_indexer,col_indexer] = value instead\n",
      "\n",
      "See the caveats in the documentation: https://pandas.pydata.org/pandas-docs/stable/user_guide/indexing.html#returning-a-view-versus-a-copy\n",
      "  after removing the cwd from sys.path.\n",
      "/home/adamh/PycharmProjects/stonks/model/venv/lib/python3.7/site-packages/ipykernel_launcher.py:6: SettingWithCopyWarning: \n",
      "A value is trying to be set on a copy of a slice from a DataFrame.\n",
      "Try using .loc[row_indexer,col_indexer] = value instead\n",
      "\n",
      "See the caveats in the documentation: https://pandas.pydata.org/pandas-docs/stable/user_guide/indexing.html#returning-a-view-versus-a-copy\n",
      "  \n",
      "/home/adamh/PycharmProjects/stonks/model/venv/lib/python3.7/site-packages/ipykernel_launcher.py:8: SettingWithCopyWarning: \n",
      "A value is trying to be set on a copy of a slice from a DataFrame.\n",
      "Try using .loc[row_indexer,col_indexer] = value instead\n",
      "\n",
      "See the caveats in the documentation: https://pandas.pydata.org/pandas-docs/stable/user_guide/indexing.html#returning-a-view-versus-a-copy\n",
      "  \n",
      "/home/adamh/PycharmProjects/stonks/model/venv/lib/python3.7/site-packages/numpy/core/_asarray.py:83: VisibleDeprecationWarning: Creating an ndarray from ragged nested sequences (which is a list-or-tuple of lists-or-tuples-or ndarrays with different lengths or shapes) is deprecated. If you meant to do this, you must specify 'dtype=object' when creating the ndarray\n",
      "  return array(a, dtype, copy=False, order=order)\n",
      "/home/adamh/PycharmProjects/stonks/model/venv/lib/python3.7/site-packages/ipykernel_launcher.py:11: SettingWithCopyWarning: \n",
      "A value is trying to be set on a copy of a slice from a DataFrame.\n",
      "Try using .loc[row_indexer,col_indexer] = value instead\n",
      "\n",
      "See the caveats in the documentation: https://pandas.pydata.org/pandas-docs/stable/user_guide/indexing.html#returning-a-view-versus-a-copy\n",
      "  # This is added back by InteractiveShellApp.init_path()\n",
      "/home/adamh/PycharmProjects/stonks/model/venv/lib/python3.7/site-packages/ipykernel_launcher.py:16: SettingWithCopyWarning: \n",
      "A value is trying to be set on a copy of a slice from a DataFrame.\n",
      "Try using .loc[row_indexer,col_indexer] = value instead\n",
      "\n",
      "See the caveats in the documentation: https://pandas.pydata.org/pandas-docs/stable/user_guide/indexing.html#returning-a-view-versus-a-copy\n",
      "  app.launch_new_instance()\n"
     ]
    },
    {
     "name": "stdout",
     "output_type": "stream",
     "text": [
      "(19, 13)\n",
      "(1, 13)\n",
      "(1, 13)\n",
      "                      name                                           price_df  \\\n",
      "403  Black%20shield%20(h1)              Black%20shield%20(h1) price  Black...   \n",
      "\n",
      "                                      item_df_training  \\\n",
      "403              Black%20shield%20(h1) price  Black...   \n",
      "\n",
      "                                            trimmed_df                regr  \\\n",
      "403              Black%20shield%20(h1) price  Black...  LinearRegression()   \n",
      "\n",
      "                                                y_pred  \\\n",
      "403  [2728.7109467436317, 2603.946664517069, 2555.8...   \n",
      "\n",
      "                                                y_test  mean_squared_error  \\\n",
      "403  date_obj\n",
      "2020-04-06    2526.0\n",
      "2020-04-07    25...       147075.774678   \n",
      "\n",
      "     r2_score       roi                                          record_df  \\\n",
      "403  0.934341  1.061357               Prediction       Y   Y + 1   Y - ...   \n",
      "\n",
      "     perc_pred_increase    last_day  \n",
      "403            0.084099  2020-08-01  \n"
     ]
    },
    {
     "name": "stderr",
     "output_type": "stream",
     "text": [
      "/home/adamh/PycharmProjects/stonks/model/venv/lib/python3.7/site-packages/ipykernel_launcher.py:4: SettingWithCopyWarning: \n",
      "A value is trying to be set on a copy of a slice from a DataFrame.\n",
      "Try using .loc[row_indexer,col_indexer] = value instead\n",
      "\n",
      "See the caveats in the documentation: https://pandas.pydata.org/pandas-docs/stable/user_guide/indexing.html#returning-a-view-versus-a-copy\n",
      "  after removing the cwd from sys.path.\n",
      "/home/adamh/PycharmProjects/stonks/model/venv/lib/python3.7/site-packages/ipykernel_launcher.py:6: SettingWithCopyWarning: \n",
      "A value is trying to be set on a copy of a slice from a DataFrame.\n",
      "Try using .loc[row_indexer,col_indexer] = value instead\n",
      "\n",
      "See the caveats in the documentation: https://pandas.pydata.org/pandas-docs/stable/user_guide/indexing.html#returning-a-view-versus-a-copy\n",
      "  \n",
      "/home/adamh/PycharmProjects/stonks/model/venv/lib/python3.7/site-packages/ipykernel_launcher.py:8: SettingWithCopyWarning: \n",
      "A value is trying to be set on a copy of a slice from a DataFrame.\n",
      "Try using .loc[row_indexer,col_indexer] = value instead\n",
      "\n",
      "See the caveats in the documentation: https://pandas.pydata.org/pandas-docs/stable/user_guide/indexing.html#returning-a-view-versus-a-copy\n",
      "  \n",
      "/home/adamh/PycharmProjects/stonks/model/venv/lib/python3.7/site-packages/numpy/core/_asarray.py:83: VisibleDeprecationWarning: Creating an ndarray from ragged nested sequences (which is a list-or-tuple of lists-or-tuples-or ndarrays with different lengths or shapes) is deprecated. If you meant to do this, you must specify 'dtype=object' when creating the ndarray\n",
      "  return array(a, dtype, copy=False, order=order)\n",
      "/home/adamh/PycharmProjects/stonks/model/venv/lib/python3.7/site-packages/ipykernel_launcher.py:11: SettingWithCopyWarning: \n",
      "A value is trying to be set on a copy of a slice from a DataFrame.\n",
      "Try using .loc[row_indexer,col_indexer] = value instead\n",
      "\n",
      "See the caveats in the documentation: https://pandas.pydata.org/pandas-docs/stable/user_guide/indexing.html#returning-a-view-versus-a-copy\n",
      "  # This is added back by InteractiveShellApp.init_path()\n",
      "/home/adamh/PycharmProjects/stonks/model/venv/lib/python3.7/site-packages/ipykernel_launcher.py:16: SettingWithCopyWarning: \n",
      "A value is trying to be set on a copy of a slice from a DataFrame.\n",
      "Try using .loc[row_indexer,col_indexer] = value instead\n",
      "\n",
      "See the caveats in the documentation: https://pandas.pydata.org/pandas-docs/stable/user_guide/indexing.html#returning-a-view-versus-a-copy\n",
      "  app.launch_new_instance()\n"
     ]
    },
    {
     "name": "stdout",
     "output_type": "stream",
     "text": [
      "(25, 13)\n",
      "(5, 13)\n",
      "(0, 13)\n",
      "Empty DataFrame\n",
      "Columns: [name, price_df, item_df_training, trimmed_df, regr, y_pred, y_test, mean_squared_error, r2_score, roi, record_df, perc_pred_increase, last_day]\n",
      "Index: []\n"
     ]
    },
    {
     "name": "stderr",
     "output_type": "stream",
     "text": [
      "/home/adamh/PycharmProjects/stonks/model/venv/lib/python3.7/site-packages/ipykernel_launcher.py:4: SettingWithCopyWarning: \n",
      "A value is trying to be set on a copy of a slice from a DataFrame.\n",
      "Try using .loc[row_indexer,col_indexer] = value instead\n",
      "\n",
      "See the caveats in the documentation: https://pandas.pydata.org/pandas-docs/stable/user_guide/indexing.html#returning-a-view-versus-a-copy\n",
      "  after removing the cwd from sys.path.\n",
      "/home/adamh/PycharmProjects/stonks/model/venv/lib/python3.7/site-packages/ipykernel_launcher.py:6: SettingWithCopyWarning: \n",
      "A value is trying to be set on a copy of a slice from a DataFrame.\n",
      "Try using .loc[row_indexer,col_indexer] = value instead\n",
      "\n",
      "See the caveats in the documentation: https://pandas.pydata.org/pandas-docs/stable/user_guide/indexing.html#returning-a-view-versus-a-copy\n",
      "  \n",
      "/home/adamh/PycharmProjects/stonks/model/venv/lib/python3.7/site-packages/ipykernel_launcher.py:8: SettingWithCopyWarning: \n",
      "A value is trying to be set on a copy of a slice from a DataFrame.\n",
      "Try using .loc[row_indexer,col_indexer] = value instead\n",
      "\n",
      "See the caveats in the documentation: https://pandas.pydata.org/pandas-docs/stable/user_guide/indexing.html#returning-a-view-versus-a-copy\n",
      "  \n",
      "/home/adamh/PycharmProjects/stonks/model/venv/lib/python3.7/site-packages/numpy/core/_asarray.py:83: VisibleDeprecationWarning: Creating an ndarray from ragged nested sequences (which is a list-or-tuple of lists-or-tuples-or ndarrays with different lengths or shapes) is deprecated. If you meant to do this, you must specify 'dtype=object' when creating the ndarray\n",
      "  return array(a, dtype, copy=False, order=order)\n",
      "/home/adamh/PycharmProjects/stonks/model/venv/lib/python3.7/site-packages/ipykernel_launcher.py:11: SettingWithCopyWarning: \n",
      "A value is trying to be set on a copy of a slice from a DataFrame.\n",
      "Try using .loc[row_indexer,col_indexer] = value instead\n",
      "\n",
      "See the caveats in the documentation: https://pandas.pydata.org/pandas-docs/stable/user_guide/indexing.html#returning-a-view-versus-a-copy\n",
      "  # This is added back by InteractiveShellApp.init_path()\n",
      "/home/adamh/PycharmProjects/stonks/model/venv/lib/python3.7/site-packages/ipykernel_launcher.py:16: SettingWithCopyWarning: \n",
      "A value is trying to be set on a copy of a slice from a DataFrame.\n",
      "Try using .loc[row_indexer,col_indexer] = value instead\n",
      "\n",
      "See the caveats in the documentation: https://pandas.pydata.org/pandas-docs/stable/user_guide/indexing.html#returning-a-view-versus-a-copy\n",
      "  app.launch_new_instance()\n"
     ]
    },
    {
     "name": "stdout",
     "output_type": "stream",
     "text": [
      "(28, 13)\n",
      "(2, 13)\n",
      "(0, 13)\n",
      "Empty DataFrame\n",
      "Columns: [name, price_df, item_df_training, trimmed_df, regr, y_pred, y_test, mean_squared_error, r2_score, roi, record_df, perc_pred_increase, last_day]\n",
      "Index: []\n"
     ]
    },
    {
     "name": "stderr",
     "output_type": "stream",
     "text": [
      "/home/adamh/PycharmProjects/stonks/model/venv/lib/python3.7/site-packages/ipykernel_launcher.py:4: SettingWithCopyWarning: \n",
      "A value is trying to be set on a copy of a slice from a DataFrame.\n",
      "Try using .loc[row_indexer,col_indexer] = value instead\n",
      "\n",
      "See the caveats in the documentation: https://pandas.pydata.org/pandas-docs/stable/user_guide/indexing.html#returning-a-view-versus-a-copy\n",
      "  after removing the cwd from sys.path.\n",
      "/home/adamh/PycharmProjects/stonks/model/venv/lib/python3.7/site-packages/ipykernel_launcher.py:6: SettingWithCopyWarning: \n",
      "A value is trying to be set on a copy of a slice from a DataFrame.\n",
      "Try using .loc[row_indexer,col_indexer] = value instead\n",
      "\n",
      "See the caveats in the documentation: https://pandas.pydata.org/pandas-docs/stable/user_guide/indexing.html#returning-a-view-versus-a-copy\n",
      "  \n",
      "/home/adamh/PycharmProjects/stonks/model/venv/lib/python3.7/site-packages/ipykernel_launcher.py:8: SettingWithCopyWarning: \n",
      "A value is trying to be set on a copy of a slice from a DataFrame.\n",
      "Try using .loc[row_indexer,col_indexer] = value instead\n",
      "\n",
      "See the caveats in the documentation: https://pandas.pydata.org/pandas-docs/stable/user_guide/indexing.html#returning-a-view-versus-a-copy\n",
      "  \n",
      "/home/adamh/PycharmProjects/stonks/model/venv/lib/python3.7/site-packages/numpy/core/_asarray.py:83: VisibleDeprecationWarning: Creating an ndarray from ragged nested sequences (which is a list-or-tuple of lists-or-tuples-or ndarrays with different lengths or shapes) is deprecated. If you meant to do this, you must specify 'dtype=object' when creating the ndarray\n",
      "  return array(a, dtype, copy=False, order=order)\n",
      "/home/adamh/PycharmProjects/stonks/model/venv/lib/python3.7/site-packages/ipykernel_launcher.py:11: SettingWithCopyWarning: \n",
      "A value is trying to be set on a copy of a slice from a DataFrame.\n",
      "Try using .loc[row_indexer,col_indexer] = value instead\n",
      "\n",
      "See the caveats in the documentation: https://pandas.pydata.org/pandas-docs/stable/user_guide/indexing.html#returning-a-view-versus-a-copy\n",
      "  # This is added back by InteractiveShellApp.init_path()\n",
      "/home/adamh/PycharmProjects/stonks/model/venv/lib/python3.7/site-packages/ipykernel_launcher.py:16: SettingWithCopyWarning: \n",
      "A value is trying to be set on a copy of a slice from a DataFrame.\n",
      "Try using .loc[row_indexer,col_indexer] = value instead\n",
      "\n",
      "See the caveats in the documentation: https://pandas.pydata.org/pandas-docs/stable/user_guide/indexing.html#returning-a-view-versus-a-copy\n",
      "  app.launch_new_instance()\n"
     ]
    },
    {
     "name": "stdout",
     "output_type": "stream",
     "text": [
      "(26, 13)\n",
      "(2, 13)\n",
      "(0, 13)\n",
      "Empty DataFrame\n",
      "Columns: [name, price_df, item_df_training, trimmed_df, regr, y_pred, y_test, mean_squared_error, r2_score, roi, record_df, perc_pred_increase, last_day]\n",
      "Index: []\n"
     ]
    },
    {
     "name": "stderr",
     "output_type": "stream",
     "text": [
      "/home/adamh/PycharmProjects/stonks/model/venv/lib/python3.7/site-packages/ipykernel_launcher.py:4: SettingWithCopyWarning: \n",
      "A value is trying to be set on a copy of a slice from a DataFrame.\n",
      "Try using .loc[row_indexer,col_indexer] = value instead\n",
      "\n",
      "See the caveats in the documentation: https://pandas.pydata.org/pandas-docs/stable/user_guide/indexing.html#returning-a-view-versus-a-copy\n",
      "  after removing the cwd from sys.path.\n",
      "/home/adamh/PycharmProjects/stonks/model/venv/lib/python3.7/site-packages/ipykernel_launcher.py:6: SettingWithCopyWarning: \n",
      "A value is trying to be set on a copy of a slice from a DataFrame.\n",
      "Try using .loc[row_indexer,col_indexer] = value instead\n",
      "\n",
      "See the caveats in the documentation: https://pandas.pydata.org/pandas-docs/stable/user_guide/indexing.html#returning-a-view-versus-a-copy\n",
      "  \n",
      "/home/adamh/PycharmProjects/stonks/model/venv/lib/python3.7/site-packages/ipykernel_launcher.py:8: SettingWithCopyWarning: \n",
      "A value is trying to be set on a copy of a slice from a DataFrame.\n",
      "Try using .loc[row_indexer,col_indexer] = value instead\n",
      "\n",
      "See the caveats in the documentation: https://pandas.pydata.org/pandas-docs/stable/user_guide/indexing.html#returning-a-view-versus-a-copy\n",
      "  \n",
      "/home/adamh/PycharmProjects/stonks/model/venv/lib/python3.7/site-packages/numpy/core/_asarray.py:83: VisibleDeprecationWarning: Creating an ndarray from ragged nested sequences (which is a list-or-tuple of lists-or-tuples-or ndarrays with different lengths or shapes) is deprecated. If you meant to do this, you must specify 'dtype=object' when creating the ndarray\n",
      "  return array(a, dtype, copy=False, order=order)\n",
      "/home/adamh/PycharmProjects/stonks/model/venv/lib/python3.7/site-packages/ipykernel_launcher.py:11: SettingWithCopyWarning: \n",
      "A value is trying to be set on a copy of a slice from a DataFrame.\n",
      "Try using .loc[row_indexer,col_indexer] = value instead\n",
      "\n",
      "See the caveats in the documentation: https://pandas.pydata.org/pandas-docs/stable/user_guide/indexing.html#returning-a-view-versus-a-copy\n",
      "  # This is added back by InteractiveShellApp.init_path()\n",
      "/home/adamh/PycharmProjects/stonks/model/venv/lib/python3.7/site-packages/ipykernel_launcher.py:16: SettingWithCopyWarning: \n",
      "A value is trying to be set on a copy of a slice from a DataFrame.\n",
      "Try using .loc[row_indexer,col_indexer] = value instead\n",
      "\n",
      "See the caveats in the documentation: https://pandas.pydata.org/pandas-docs/stable/user_guide/indexing.html#returning-a-view-versus-a-copy\n",
      "  app.launch_new_instance()\n"
     ]
    },
    {
     "name": "stdout",
     "output_type": "stream",
     "text": [
      "(27, 13)\n",
      "(5, 13)\n",
      "(1, 13)\n",
      "                      name                                           price_df  \\\n",
      "813  Black%20dragon%20mask              Black%20dragon%20mask price  Black...   \n",
      "\n",
      "                                      item_df_training  \\\n",
      "813              Black%20dragon%20mask price  Black...   \n",
      "\n",
      "                                            trimmed_df                regr  \\\n",
      "813              Black%20dragon%20mask price  Black...  LinearRegression()   \n",
      "\n",
      "                                                y_pred  \\\n",
      "813  [13812.187779017857, 14346.625279017857, 14716...   \n",
      "\n",
      "                                                y_test  mean_squared_error  \\\n",
      "813  date_obj\n",
      "2020-04-06    14384.0\n",
      "2020-04-07    1...       564610.569221   \n",
      "\n",
      "     r2_score       roi                                          record_df  \\\n",
      "813   0.91256  1.055636                Prediction        Y    Y + 1    ...   \n",
      "\n",
      "     perc_pred_increase    last_day  \n",
      "813            0.044488  2020-08-01  \n"
     ]
    },
    {
     "name": "stderr",
     "output_type": "stream",
     "text": [
      "/home/adamh/PycharmProjects/stonks/model/venv/lib/python3.7/site-packages/ipykernel_launcher.py:4: SettingWithCopyWarning: \n",
      "A value is trying to be set on a copy of a slice from a DataFrame.\n",
      "Try using .loc[row_indexer,col_indexer] = value instead\n",
      "\n",
      "See the caveats in the documentation: https://pandas.pydata.org/pandas-docs/stable/user_guide/indexing.html#returning-a-view-versus-a-copy\n",
      "  after removing the cwd from sys.path.\n",
      "/home/adamh/PycharmProjects/stonks/model/venv/lib/python3.7/site-packages/ipykernel_launcher.py:6: SettingWithCopyWarning: \n",
      "A value is trying to be set on a copy of a slice from a DataFrame.\n",
      "Try using .loc[row_indexer,col_indexer] = value instead\n",
      "\n",
      "See the caveats in the documentation: https://pandas.pydata.org/pandas-docs/stable/user_guide/indexing.html#returning-a-view-versus-a-copy\n",
      "  \n",
      "/home/adamh/PycharmProjects/stonks/model/venv/lib/python3.7/site-packages/ipykernel_launcher.py:8: SettingWithCopyWarning: \n",
      "A value is trying to be set on a copy of a slice from a DataFrame.\n",
      "Try using .loc[row_indexer,col_indexer] = value instead\n",
      "\n",
      "See the caveats in the documentation: https://pandas.pydata.org/pandas-docs/stable/user_guide/indexing.html#returning-a-view-versus-a-copy\n",
      "  \n",
      "/home/adamh/PycharmProjects/stonks/model/venv/lib/python3.7/site-packages/numpy/core/_asarray.py:83: VisibleDeprecationWarning: Creating an ndarray from ragged nested sequences (which is a list-or-tuple of lists-or-tuples-or ndarrays with different lengths or shapes) is deprecated. If you meant to do this, you must specify 'dtype=object' when creating the ndarray\n",
      "  return array(a, dtype, copy=False, order=order)\n",
      "/home/adamh/PycharmProjects/stonks/model/venv/lib/python3.7/site-packages/ipykernel_launcher.py:11: SettingWithCopyWarning: \n",
      "A value is trying to be set on a copy of a slice from a DataFrame.\n",
      "Try using .loc[row_indexer,col_indexer] = value instead\n",
      "\n",
      "See the caveats in the documentation: https://pandas.pydata.org/pandas-docs/stable/user_guide/indexing.html#returning-a-view-versus-a-copy\n",
      "  # This is added back by InteractiveShellApp.init_path()\n",
      "/home/adamh/PycharmProjects/stonks/model/venv/lib/python3.7/site-packages/ipykernel_launcher.py:16: SettingWithCopyWarning: \n",
      "A value is trying to be set on a copy of a slice from a DataFrame.\n",
      "Try using .loc[row_indexer,col_indexer] = value instead\n",
      "\n",
      "See the caveats in the documentation: https://pandas.pydata.org/pandas-docs/stable/user_guide/indexing.html#returning-a-view-versus-a-copy\n",
      "  app.launch_new_instance()\n"
     ]
    },
    {
     "name": "stdout",
     "output_type": "stream",
     "text": [
      "(25, 13)\n",
      "(2, 13)\n",
      "(0, 13)\n",
      "Empty DataFrame\n",
      "Columns: [name, price_df, item_df_training, trimmed_df, regr, y_pred, y_test, mean_squared_error, r2_score, roi, record_df, perc_pred_increase, last_day]\n",
      "Index: []\n"
     ]
    },
    {
     "name": "stderr",
     "output_type": "stream",
     "text": [
      "/home/adamh/PycharmProjects/stonks/model/venv/lib/python3.7/site-packages/ipykernel_launcher.py:4: SettingWithCopyWarning: \n",
      "A value is trying to be set on a copy of a slice from a DataFrame.\n",
      "Try using .loc[row_indexer,col_indexer] = value instead\n",
      "\n",
      "See the caveats in the documentation: https://pandas.pydata.org/pandas-docs/stable/user_guide/indexing.html#returning-a-view-versus-a-copy\n",
      "  after removing the cwd from sys.path.\n",
      "/home/adamh/PycharmProjects/stonks/model/venv/lib/python3.7/site-packages/ipykernel_launcher.py:6: SettingWithCopyWarning: \n",
      "A value is trying to be set on a copy of a slice from a DataFrame.\n",
      "Try using .loc[row_indexer,col_indexer] = value instead\n",
      "\n",
      "See the caveats in the documentation: https://pandas.pydata.org/pandas-docs/stable/user_guide/indexing.html#returning-a-view-versus-a-copy\n",
      "  \n",
      "/home/adamh/PycharmProjects/stonks/model/venv/lib/python3.7/site-packages/ipykernel_launcher.py:8: SettingWithCopyWarning: \n",
      "A value is trying to be set on a copy of a slice from a DataFrame.\n",
      "Try using .loc[row_indexer,col_indexer] = value instead\n",
      "\n",
      "See the caveats in the documentation: https://pandas.pydata.org/pandas-docs/stable/user_guide/indexing.html#returning-a-view-versus-a-copy\n",
      "  \n",
      "/home/adamh/PycharmProjects/stonks/model/venv/lib/python3.7/site-packages/numpy/core/_asarray.py:83: VisibleDeprecationWarning: Creating an ndarray from ragged nested sequences (which is a list-or-tuple of lists-or-tuples-or ndarrays with different lengths or shapes) is deprecated. If you meant to do this, you must specify 'dtype=object' when creating the ndarray\n",
      "  return array(a, dtype, copy=False, order=order)\n",
      "/home/adamh/PycharmProjects/stonks/model/venv/lib/python3.7/site-packages/ipykernel_launcher.py:11: SettingWithCopyWarning: \n",
      "A value is trying to be set on a copy of a slice from a DataFrame.\n",
      "Try using .loc[row_indexer,col_indexer] = value instead\n",
      "\n",
      "See the caveats in the documentation: https://pandas.pydata.org/pandas-docs/stable/user_guide/indexing.html#returning-a-view-versus-a-copy\n",
      "  # This is added back by InteractiveShellApp.init_path()\n",
      "/home/adamh/PycharmProjects/stonks/model/venv/lib/python3.7/site-packages/ipykernel_launcher.py:16: SettingWithCopyWarning: \n",
      "A value is trying to be set on a copy of a slice from a DataFrame.\n",
      "Try using .loc[row_indexer,col_indexer] = value instead\n",
      "\n",
      "See the caveats in the documentation: https://pandas.pydata.org/pandas-docs/stable/user_guide/indexing.html#returning-a-view-versus-a-copy\n",
      "  app.launch_new_instance()\n"
     ]
    },
    {
     "name": "stdout",
     "output_type": "stream",
     "text": [
      "(24, 13)\n",
      "(2, 13)\n",
      "(1, 13)\n",
      "                       name  \\\n",
      "1010  Maple%20longbow%20(u)   \n",
      "\n",
      "                                               price_df  \\\n",
      "1010              Maple%20longbow%20(u) price  Maple...   \n",
      "\n",
      "                                       item_df_training  \\\n",
      "1010              Maple%20longbow%20(u) price  Maple...   \n",
      "\n",
      "                                             trimmed_df                regr  \\\n",
      "1010              Maple%20longbow%20(u) price  Maple...  LinearRegression()   \n",
      "\n",
      "                                                 y_pred  \\\n",
      "1010  [37.88301795255351, 37.54734260868239, 37.1341...   \n",
      "\n",
      "                                                 y_test  mean_squared_error  \\\n",
      "1010  date_obj\n",
      "2020-02-21    35.0\n",
      "2020-02-22    35.0...            7.470698   \n",
      "\n",
      "      r2_score       roi                                          record_df  \\\n",
      "1010  0.957066  2.403655              Prediction     Y  Y + 1  Y - 1    ...   \n",
      "\n",
      "      perc_pred_increase    last_day  \n",
      "1010            0.048451  2020-08-01  \n"
     ]
    },
    {
     "name": "stderr",
     "output_type": "stream",
     "text": [
      "/home/adamh/PycharmProjects/stonks/model/venv/lib/python3.7/site-packages/ipykernel_launcher.py:4: SettingWithCopyWarning: \n",
      "A value is trying to be set on a copy of a slice from a DataFrame.\n",
      "Try using .loc[row_indexer,col_indexer] = value instead\n",
      "\n",
      "See the caveats in the documentation: https://pandas.pydata.org/pandas-docs/stable/user_guide/indexing.html#returning-a-view-versus-a-copy\n",
      "  after removing the cwd from sys.path.\n",
      "/home/adamh/PycharmProjects/stonks/model/venv/lib/python3.7/site-packages/ipykernel_launcher.py:6: SettingWithCopyWarning: \n",
      "A value is trying to be set on a copy of a slice from a DataFrame.\n",
      "Try using .loc[row_indexer,col_indexer] = value instead\n",
      "\n",
      "See the caveats in the documentation: https://pandas.pydata.org/pandas-docs/stable/user_guide/indexing.html#returning-a-view-versus-a-copy\n",
      "  \n",
      "/home/adamh/PycharmProjects/stonks/model/venv/lib/python3.7/site-packages/ipykernel_launcher.py:8: SettingWithCopyWarning: \n",
      "A value is trying to be set on a copy of a slice from a DataFrame.\n",
      "Try using .loc[row_indexer,col_indexer] = value instead\n",
      "\n",
      "See the caveats in the documentation: https://pandas.pydata.org/pandas-docs/stable/user_guide/indexing.html#returning-a-view-versus-a-copy\n",
      "  \n",
      "/home/adamh/PycharmProjects/stonks/model/venv/lib/python3.7/site-packages/numpy/core/_asarray.py:83: VisibleDeprecationWarning: Creating an ndarray from ragged nested sequences (which is a list-or-tuple of lists-or-tuples-or ndarrays with different lengths or shapes) is deprecated. If you meant to do this, you must specify 'dtype=object' when creating the ndarray\n",
      "  return array(a, dtype, copy=False, order=order)\n",
      "/home/adamh/PycharmProjects/stonks/model/venv/lib/python3.7/site-packages/ipykernel_launcher.py:11: SettingWithCopyWarning: \n",
      "A value is trying to be set on a copy of a slice from a DataFrame.\n",
      "Try using .loc[row_indexer,col_indexer] = value instead\n",
      "\n",
      "See the caveats in the documentation: https://pandas.pydata.org/pandas-docs/stable/user_guide/indexing.html#returning-a-view-versus-a-copy\n",
      "  # This is added back by InteractiveShellApp.init_path()\n",
      "/home/adamh/PycharmProjects/stonks/model/venv/lib/python3.7/site-packages/ipykernel_launcher.py:16: SettingWithCopyWarning: \n",
      "A value is trying to be set on a copy of a slice from a DataFrame.\n",
      "Try using .loc[row_indexer,col_indexer] = value instead\n",
      "\n",
      "See the caveats in the documentation: https://pandas.pydata.org/pandas-docs/stable/user_guide/indexing.html#returning-a-view-versus-a-copy\n",
      "  app.launch_new_instance()\n"
     ]
    },
    {
     "name": "stdout",
     "output_type": "stream",
     "text": [
      "(22, 13)\n",
      "(2, 13)\n",
      "(1, 13)\n",
      "              name                                           price_df  \\\n",
      "1159  Icy%20basalt              Icy%20basalt price  Icy%20basalt v...   \n",
      "\n",
      "                                       item_df_training  \\\n",
      "1159              Icy%20basalt price  Icy%20basalt v...   \n",
      "\n",
      "                                             trimmed_df                regr  \\\n",
      "1159              Icy%20basalt price  Icy%20basalt v...  LinearRegression()   \n",
      "\n",
      "                                                 y_pred  \\\n",
      "1159  [1028.891668795362, 1063.3384919154792, 1019.9...   \n",
      "\n",
      "                                                 y_test  mean_squared_error  \\\n",
      "1159  date_obj\n",
      "2020-04-17     982.0\n",
      "2020-04-18     9...         5062.121068   \n",
      "\n",
      "      r2_score       roi                                          record_df  \\\n",
      "1159  0.859634  1.085973               Prediction       Y   Y + 1   Y - ...   \n",
      "\n",
      "      perc_pred_increase    last_day  \n",
      "1159            0.057565  2020-08-01  \n"
     ]
    },
    {
     "name": "stderr",
     "output_type": "stream",
     "text": [
      "/home/adamh/PycharmProjects/stonks/model/venv/lib/python3.7/site-packages/ipykernel_launcher.py:4: SettingWithCopyWarning: \n",
      "A value is trying to be set on a copy of a slice from a DataFrame.\n",
      "Try using .loc[row_indexer,col_indexer] = value instead\n",
      "\n",
      "See the caveats in the documentation: https://pandas.pydata.org/pandas-docs/stable/user_guide/indexing.html#returning-a-view-versus-a-copy\n",
      "  after removing the cwd from sys.path.\n",
      "/home/adamh/PycharmProjects/stonks/model/venv/lib/python3.7/site-packages/ipykernel_launcher.py:6: SettingWithCopyWarning: \n",
      "A value is trying to be set on a copy of a slice from a DataFrame.\n",
      "Try using .loc[row_indexer,col_indexer] = value instead\n",
      "\n",
      "See the caveats in the documentation: https://pandas.pydata.org/pandas-docs/stable/user_guide/indexing.html#returning-a-view-versus-a-copy\n",
      "  \n",
      "/home/adamh/PycharmProjects/stonks/model/venv/lib/python3.7/site-packages/ipykernel_launcher.py:8: SettingWithCopyWarning: \n",
      "A value is trying to be set on a copy of a slice from a DataFrame.\n",
      "Try using .loc[row_indexer,col_indexer] = value instead\n",
      "\n",
      "See the caveats in the documentation: https://pandas.pydata.org/pandas-docs/stable/user_guide/indexing.html#returning-a-view-versus-a-copy\n",
      "  \n",
      "/home/adamh/PycharmProjects/stonks/model/venv/lib/python3.7/site-packages/numpy/core/_asarray.py:83: VisibleDeprecationWarning: Creating an ndarray from ragged nested sequences (which is a list-or-tuple of lists-or-tuples-or ndarrays with different lengths or shapes) is deprecated. If you meant to do this, you must specify 'dtype=object' when creating the ndarray\n",
      "  return array(a, dtype, copy=False, order=order)\n",
      "/home/adamh/PycharmProjects/stonks/model/venv/lib/python3.7/site-packages/ipykernel_launcher.py:11: SettingWithCopyWarning: \n",
      "A value is trying to be set on a copy of a slice from a DataFrame.\n",
      "Try using .loc[row_indexer,col_indexer] = value instead\n",
      "\n",
      "See the caveats in the documentation: https://pandas.pydata.org/pandas-docs/stable/user_guide/indexing.html#returning-a-view-versus-a-copy\n",
      "  # This is added back by InteractiveShellApp.init_path()\n",
      "/home/adamh/PycharmProjects/stonks/model/venv/lib/python3.7/site-packages/ipykernel_launcher.py:16: SettingWithCopyWarning: \n",
      "A value is trying to be set on a copy of a slice from a DataFrame.\n",
      "Try using .loc[row_indexer,col_indexer] = value instead\n",
      "\n",
      "See the caveats in the documentation: https://pandas.pydata.org/pandas-docs/stable/user_guide/indexing.html#returning-a-view-versus-a-copy\n",
      "  app.launch_new_instance()\n"
     ]
    },
    {
     "name": "stdout",
     "output_type": "stream",
     "text": [
      "(24, 13)\n",
      "(0, 13)\n",
      "(0, 13)\n",
      "Empty DataFrame\n",
      "Columns: [name, price_df, item_df_training, trimmed_df, regr, y_pred, y_test, mean_squared_error, r2_score, roi, record_df, perc_pred_increase, last_day]\n",
      "Index: []\n"
     ]
    },
    {
     "name": "stderr",
     "output_type": "stream",
     "text": [
      "/home/adamh/PycharmProjects/stonks/model/venv/lib/python3.7/site-packages/ipykernel_launcher.py:4: SettingWithCopyWarning: \n",
      "A value is trying to be set on a copy of a slice from a DataFrame.\n",
      "Try using .loc[row_indexer,col_indexer] = value instead\n",
      "\n",
      "See the caveats in the documentation: https://pandas.pydata.org/pandas-docs/stable/user_guide/indexing.html#returning-a-view-versus-a-copy\n",
      "  after removing the cwd from sys.path.\n",
      "/home/adamh/PycharmProjects/stonks/model/venv/lib/python3.7/site-packages/ipykernel_launcher.py:6: SettingWithCopyWarning: \n",
      "A value is trying to be set on a copy of a slice from a DataFrame.\n",
      "Try using .loc[row_indexer,col_indexer] = value instead\n",
      "\n",
      "See the caveats in the documentation: https://pandas.pydata.org/pandas-docs/stable/user_guide/indexing.html#returning-a-view-versus-a-copy\n",
      "  \n",
      "/home/adamh/PycharmProjects/stonks/model/venv/lib/python3.7/site-packages/ipykernel_launcher.py:8: SettingWithCopyWarning: \n",
      "A value is trying to be set on a copy of a slice from a DataFrame.\n",
      "Try using .loc[row_indexer,col_indexer] = value instead\n",
      "\n",
      "See the caveats in the documentation: https://pandas.pydata.org/pandas-docs/stable/user_guide/indexing.html#returning-a-view-versus-a-copy\n",
      "  \n",
      "/home/adamh/PycharmProjects/stonks/model/venv/lib/python3.7/site-packages/numpy/core/_asarray.py:83: VisibleDeprecationWarning: Creating an ndarray from ragged nested sequences (which is a list-or-tuple of lists-or-tuples-or ndarrays with different lengths or shapes) is deprecated. If you meant to do this, you must specify 'dtype=object' when creating the ndarray\n",
      "  return array(a, dtype, copy=False, order=order)\n",
      "/home/adamh/PycharmProjects/stonks/model/venv/lib/python3.7/site-packages/ipykernel_launcher.py:11: SettingWithCopyWarning: \n",
      "A value is trying to be set on a copy of a slice from a DataFrame.\n",
      "Try using .loc[row_indexer,col_indexer] = value instead\n",
      "\n",
      "See the caveats in the documentation: https://pandas.pydata.org/pandas-docs/stable/user_guide/indexing.html#returning-a-view-versus-a-copy\n",
      "  # This is added back by InteractiveShellApp.init_path()\n",
      "/home/adamh/PycharmProjects/stonks/model/venv/lib/python3.7/site-packages/ipykernel_launcher.py:16: SettingWithCopyWarning: \n",
      "A value is trying to be set on a copy of a slice from a DataFrame.\n",
      "Try using .loc[row_indexer,col_indexer] = value instead\n",
      "\n",
      "See the caveats in the documentation: https://pandas.pydata.org/pandas-docs/stable/user_guide/indexing.html#returning-a-view-versus-a-copy\n",
      "  app.launch_new_instance()\n"
     ]
    },
    {
     "name": "stdout",
     "output_type": "stream",
     "text": [
      "(33, 13)\n",
      "(3, 13)\n",
      "(1, 13)\n",
      "                   name                                           price_df  \\\n",
      "1338  Merfolk%20trident              Merfolk%20trident price  Merfolk%2...   \n",
      "\n",
      "                                       item_df_training  \\\n",
      "1338              Merfolk%20trident price  Merfolk%2...   \n",
      "\n",
      "                                             trimmed_df                regr  \\\n",
      "1338              Merfolk%20trident price  Merfolk%2...  LinearRegression()   \n",
      "\n",
      "                                                 y_pred  \\\n",
      "1338  [864414.5255541872, 848769.2755541872, 864737....   \n",
      "\n",
      "                                                 y_test  mean_squared_error  \\\n",
      "1338  date_obj\n",
      "2020-04-17    882631.0\n",
      "2020-04-18    ...        1.106398e+09   \n",
      "\n",
      "      r2_score       roi                                          record_df  \\\n",
      "1338   0.90693  1.076371                 Prediction         Y     Y + 1 ...   \n",
      "\n",
      "      perc_pred_increase    last_day  \n",
      "1338            0.047365  2020-08-01  \n"
     ]
    },
    {
     "name": "stderr",
     "output_type": "stream",
     "text": [
      "/home/adamh/PycharmProjects/stonks/model/venv/lib/python3.7/site-packages/ipykernel_launcher.py:4: SettingWithCopyWarning: \n",
      "A value is trying to be set on a copy of a slice from a DataFrame.\n",
      "Try using .loc[row_indexer,col_indexer] = value instead\n",
      "\n",
      "See the caveats in the documentation: https://pandas.pydata.org/pandas-docs/stable/user_guide/indexing.html#returning-a-view-versus-a-copy\n",
      "  after removing the cwd from sys.path.\n",
      "/home/adamh/PycharmProjects/stonks/model/venv/lib/python3.7/site-packages/ipykernel_launcher.py:6: SettingWithCopyWarning: \n",
      "A value is trying to be set on a copy of a slice from a DataFrame.\n",
      "Try using .loc[row_indexer,col_indexer] = value instead\n",
      "\n",
      "See the caveats in the documentation: https://pandas.pydata.org/pandas-docs/stable/user_guide/indexing.html#returning-a-view-versus-a-copy\n",
      "  \n",
      "/home/adamh/PycharmProjects/stonks/model/venv/lib/python3.7/site-packages/ipykernel_launcher.py:8: SettingWithCopyWarning: \n",
      "A value is trying to be set on a copy of a slice from a DataFrame.\n",
      "Try using .loc[row_indexer,col_indexer] = value instead\n",
      "\n",
      "See the caveats in the documentation: https://pandas.pydata.org/pandas-docs/stable/user_guide/indexing.html#returning-a-view-versus-a-copy\n",
      "  \n",
      "/home/adamh/PycharmProjects/stonks/model/venv/lib/python3.7/site-packages/numpy/core/_asarray.py:83: VisibleDeprecationWarning: Creating an ndarray from ragged nested sequences (which is a list-or-tuple of lists-or-tuples-or ndarrays with different lengths or shapes) is deprecated. If you meant to do this, you must specify 'dtype=object' when creating the ndarray\n",
      "  return array(a, dtype, copy=False, order=order)\n",
      "/home/adamh/PycharmProjects/stonks/model/venv/lib/python3.7/site-packages/ipykernel_launcher.py:11: SettingWithCopyWarning: \n",
      "A value is trying to be set on a copy of a slice from a DataFrame.\n",
      "Try using .loc[row_indexer,col_indexer] = value instead\n",
      "\n",
      "See the caveats in the documentation: https://pandas.pydata.org/pandas-docs/stable/user_guide/indexing.html#returning-a-view-versus-a-copy\n",
      "  # This is added back by InteractiveShellApp.init_path()\n",
      "/home/adamh/PycharmProjects/stonks/model/venv/lib/python3.7/site-packages/ipykernel_launcher.py:16: SettingWithCopyWarning: \n",
      "A value is trying to be set on a copy of a slice from a DataFrame.\n",
      "Try using .loc[row_indexer,col_indexer] = value instead\n",
      "\n",
      "See the caveats in the documentation: https://pandas.pydata.org/pandas-docs/stable/user_guide/indexing.html#returning-a-view-versus-a-copy\n",
      "  app.launch_new_instance()\n"
     ]
    },
    {
     "name": "stdout",
     "output_type": "stream",
     "text": [
      "(29, 13)\n",
      "(0, 13)\n",
      "(0, 13)\n",
      "Empty DataFrame\n",
      "Columns: [name, price_df, item_df_training, trimmed_df, regr, y_pred, y_test, mean_squared_error, r2_score, roi, record_df, perc_pred_increase, last_day]\n",
      "Index: []\n"
     ]
    },
    {
     "name": "stderr",
     "output_type": "stream",
     "text": [
      "/home/adamh/PycharmProjects/stonks/model/venv/lib/python3.7/site-packages/ipykernel_launcher.py:4: SettingWithCopyWarning: \n",
      "A value is trying to be set on a copy of a slice from a DataFrame.\n",
      "Try using .loc[row_indexer,col_indexer] = value instead\n",
      "\n",
      "See the caveats in the documentation: https://pandas.pydata.org/pandas-docs/stable/user_guide/indexing.html#returning-a-view-versus-a-copy\n",
      "  after removing the cwd from sys.path.\n",
      "/home/adamh/PycharmProjects/stonks/model/venv/lib/python3.7/site-packages/ipykernel_launcher.py:6: SettingWithCopyWarning: \n",
      "A value is trying to be set on a copy of a slice from a DataFrame.\n",
      "Try using .loc[row_indexer,col_indexer] = value instead\n",
      "\n",
      "See the caveats in the documentation: https://pandas.pydata.org/pandas-docs/stable/user_guide/indexing.html#returning-a-view-versus-a-copy\n",
      "  \n",
      "/home/adamh/PycharmProjects/stonks/model/venv/lib/python3.7/site-packages/ipykernel_launcher.py:8: SettingWithCopyWarning: \n",
      "A value is trying to be set on a copy of a slice from a DataFrame.\n",
      "Try using .loc[row_indexer,col_indexer] = value instead\n",
      "\n",
      "See the caveats in the documentation: https://pandas.pydata.org/pandas-docs/stable/user_guide/indexing.html#returning-a-view-versus-a-copy\n",
      "  \n",
      "/home/adamh/PycharmProjects/stonks/model/venv/lib/python3.7/site-packages/numpy/core/_asarray.py:83: VisibleDeprecationWarning: Creating an ndarray from ragged nested sequences (which is a list-or-tuple of lists-or-tuples-or ndarrays with different lengths or shapes) is deprecated. If you meant to do this, you must specify 'dtype=object' when creating the ndarray\n",
      "  return array(a, dtype, copy=False, order=order)\n",
      "/home/adamh/PycharmProjects/stonks/model/venv/lib/python3.7/site-packages/ipykernel_launcher.py:11: SettingWithCopyWarning: \n",
      "A value is trying to be set on a copy of a slice from a DataFrame.\n",
      "Try using .loc[row_indexer,col_indexer] = value instead\n",
      "\n",
      "See the caveats in the documentation: https://pandas.pydata.org/pandas-docs/stable/user_guide/indexing.html#returning-a-view-versus-a-copy\n",
      "  # This is added back by InteractiveShellApp.init_path()\n",
      "/home/adamh/PycharmProjects/stonks/model/venv/lib/python3.7/site-packages/ipykernel_launcher.py:16: SettingWithCopyWarning: \n",
      "A value is trying to be set on a copy of a slice from a DataFrame.\n",
      "Try using .loc[row_indexer,col_indexer] = value instead\n",
      "\n",
      "See the caveats in the documentation: https://pandas.pydata.org/pandas-docs/stable/user_guide/indexing.html#returning-a-view-versus-a-copy\n",
      "  app.launch_new_instance()\n"
     ]
    },
    {
     "name": "stdout",
     "output_type": "stream",
     "text": [
      "(34, 13)\n",
      "(4, 13)\n",
      "(1, 13)\n",
      "                     name                                           price_df  \\\n",
      "1564  Saradomin%20bracers              Saradomin%20bracers price  Saradom...   \n",
      "\n",
      "                                       item_df_training  \\\n",
      "1564              Saradomin%20bracers price  Saradom...   \n",
      "\n",
      "                                             trimmed_df                regr  \\\n",
      "1564              Saradomin%20bracers price  Saradom...  LinearRegression()   \n",
      "\n",
      "                                                 y_pred  \\\n",
      "1564  [21395.588287198603, 22101.010162198603, 22475...   \n",
      "\n",
      "                                                 y_test  mean_squared_error  \\\n",
      "1564  date_obj\n",
      "2020-04-20    24408.0\n",
      "2020-04-21    2...        5.018610e+06   \n",
      "\n",
      "      r2_score       roi                                          record_df  \\\n",
      "1564  0.879335  1.088994                Prediction        Y    Y + 1    ...   \n",
      "\n",
      "      perc_pred_increase    last_day  \n",
      "1564            0.009442  2020-08-01  \n"
     ]
    },
    {
     "name": "stderr",
     "output_type": "stream",
     "text": [
      "/home/adamh/PycharmProjects/stonks/model/venv/lib/python3.7/site-packages/ipykernel_launcher.py:4: SettingWithCopyWarning: \n",
      "A value is trying to be set on a copy of a slice from a DataFrame.\n",
      "Try using .loc[row_indexer,col_indexer] = value instead\n",
      "\n",
      "See the caveats in the documentation: https://pandas.pydata.org/pandas-docs/stable/user_guide/indexing.html#returning-a-view-versus-a-copy\n",
      "  after removing the cwd from sys.path.\n",
      "/home/adamh/PycharmProjects/stonks/model/venv/lib/python3.7/site-packages/ipykernel_launcher.py:6: SettingWithCopyWarning: \n",
      "A value is trying to be set on a copy of a slice from a DataFrame.\n",
      "Try using .loc[row_indexer,col_indexer] = value instead\n",
      "\n",
      "See the caveats in the documentation: https://pandas.pydata.org/pandas-docs/stable/user_guide/indexing.html#returning-a-view-versus-a-copy\n",
      "  \n",
      "/home/adamh/PycharmProjects/stonks/model/venv/lib/python3.7/site-packages/ipykernel_launcher.py:8: SettingWithCopyWarning: \n",
      "A value is trying to be set on a copy of a slice from a DataFrame.\n",
      "Try using .loc[row_indexer,col_indexer] = value instead\n",
      "\n",
      "See the caveats in the documentation: https://pandas.pydata.org/pandas-docs/stable/user_guide/indexing.html#returning-a-view-versus-a-copy\n",
      "  \n",
      "/home/adamh/PycharmProjects/stonks/model/venv/lib/python3.7/site-packages/numpy/core/_asarray.py:83: VisibleDeprecationWarning: Creating an ndarray from ragged nested sequences (which is a list-or-tuple of lists-or-tuples-or ndarrays with different lengths or shapes) is deprecated. If you meant to do this, you must specify 'dtype=object' when creating the ndarray\n",
      "  return array(a, dtype, copy=False, order=order)\n",
      "/home/adamh/PycharmProjects/stonks/model/venv/lib/python3.7/site-packages/ipykernel_launcher.py:11: SettingWithCopyWarning: \n",
      "A value is trying to be set on a copy of a slice from a DataFrame.\n",
      "Try using .loc[row_indexer,col_indexer] = value instead\n",
      "\n",
      "See the caveats in the documentation: https://pandas.pydata.org/pandas-docs/stable/user_guide/indexing.html#returning-a-view-versus-a-copy\n",
      "  # This is added back by InteractiveShellApp.init_path()\n",
      "/home/adamh/PycharmProjects/stonks/model/venv/lib/python3.7/site-packages/ipykernel_launcher.py:16: SettingWithCopyWarning: \n",
      "A value is trying to be set on a copy of a slice from a DataFrame.\n",
      "Try using .loc[row_indexer,col_indexer] = value instead\n",
      "\n",
      "See the caveats in the documentation: https://pandas.pydata.org/pandas-docs/stable/user_guide/indexing.html#returning-a-view-versus-a-copy\n",
      "  app.launch_new_instance()\n"
     ]
    },
    {
     "name": "stdout",
     "output_type": "stream",
     "text": [
      "(25, 13)\n",
      "(6, 13)\n",
      "(0, 13)\n",
      "Empty DataFrame\n",
      "Columns: [name, price_df, item_df_training, trimmed_df, regr, y_pred, y_test, mean_squared_error, r2_score, roi, record_df, perc_pred_increase, last_day]\n",
      "Index: []\n"
     ]
    },
    {
     "name": "stderr",
     "output_type": "stream",
     "text": [
      "/home/adamh/PycharmProjects/stonks/model/venv/lib/python3.7/site-packages/ipykernel_launcher.py:4: SettingWithCopyWarning: \n",
      "A value is trying to be set on a copy of a slice from a DataFrame.\n",
      "Try using .loc[row_indexer,col_indexer] = value instead\n",
      "\n",
      "See the caveats in the documentation: https://pandas.pydata.org/pandas-docs/stable/user_guide/indexing.html#returning-a-view-versus-a-copy\n",
      "  after removing the cwd from sys.path.\n",
      "/home/adamh/PycharmProjects/stonks/model/venv/lib/python3.7/site-packages/ipykernel_launcher.py:6: SettingWithCopyWarning: \n",
      "A value is trying to be set on a copy of a slice from a DataFrame.\n",
      "Try using .loc[row_indexer,col_indexer] = value instead\n",
      "\n",
      "See the caveats in the documentation: https://pandas.pydata.org/pandas-docs/stable/user_guide/indexing.html#returning-a-view-versus-a-copy\n",
      "  \n",
      "/home/adamh/PycharmProjects/stonks/model/venv/lib/python3.7/site-packages/ipykernel_launcher.py:8: SettingWithCopyWarning: \n",
      "A value is trying to be set on a copy of a slice from a DataFrame.\n",
      "Try using .loc[row_indexer,col_indexer] = value instead\n",
      "\n",
      "See the caveats in the documentation: https://pandas.pydata.org/pandas-docs/stable/user_guide/indexing.html#returning-a-view-versus-a-copy\n",
      "  \n",
      "/home/adamh/PycharmProjects/stonks/model/venv/lib/python3.7/site-packages/numpy/core/_asarray.py:83: VisibleDeprecationWarning: Creating an ndarray from ragged nested sequences (which is a list-or-tuple of lists-or-tuples-or ndarrays with different lengths or shapes) is deprecated. If you meant to do this, you must specify 'dtype=object' when creating the ndarray\n",
      "  return array(a, dtype, copy=False, order=order)\n",
      "/home/adamh/PycharmProjects/stonks/model/venv/lib/python3.7/site-packages/ipykernel_launcher.py:11: SettingWithCopyWarning: \n",
      "A value is trying to be set on a copy of a slice from a DataFrame.\n",
      "Try using .loc[row_indexer,col_indexer] = value instead\n",
      "\n",
      "See the caveats in the documentation: https://pandas.pydata.org/pandas-docs/stable/user_guide/indexing.html#returning-a-view-versus-a-copy\n",
      "  # This is added back by InteractiveShellApp.init_path()\n",
      "/home/adamh/PycharmProjects/stonks/model/venv/lib/python3.7/site-packages/ipykernel_launcher.py:16: SettingWithCopyWarning: \n",
      "A value is trying to be set on a copy of a slice from a DataFrame.\n",
      "Try using .loc[row_indexer,col_indexer] = value instead\n",
      "\n",
      "See the caveats in the documentation: https://pandas.pydata.org/pandas-docs/stable/user_guide/indexing.html#returning-a-view-versus-a-copy\n",
      "  app.launch_new_instance()\n"
     ]
    },
    {
     "name": "stdout",
     "output_type": "stream",
     "text": [
      "(27, 13)\n",
      "(1, 13)\n",
      "(0, 13)\n",
      "Empty DataFrame\n",
      "Columns: [name, price_df, item_df_training, trimmed_df, regr, y_pred, y_test, mean_squared_error, r2_score, roi, record_df, perc_pred_increase, last_day]\n",
      "Index: []\n"
     ]
    },
    {
     "name": "stderr",
     "output_type": "stream",
     "text": [
      "/home/adamh/PycharmProjects/stonks/model/venv/lib/python3.7/site-packages/ipykernel_launcher.py:4: SettingWithCopyWarning: \n",
      "A value is trying to be set on a copy of a slice from a DataFrame.\n",
      "Try using .loc[row_indexer,col_indexer] = value instead\n",
      "\n",
      "See the caveats in the documentation: https://pandas.pydata.org/pandas-docs/stable/user_guide/indexing.html#returning-a-view-versus-a-copy\n",
      "  after removing the cwd from sys.path.\n",
      "/home/adamh/PycharmProjects/stonks/model/venv/lib/python3.7/site-packages/ipykernel_launcher.py:6: SettingWithCopyWarning: \n",
      "A value is trying to be set on a copy of a slice from a DataFrame.\n",
      "Try using .loc[row_indexer,col_indexer] = value instead\n",
      "\n",
      "See the caveats in the documentation: https://pandas.pydata.org/pandas-docs/stable/user_guide/indexing.html#returning-a-view-versus-a-copy\n",
      "  \n",
      "/home/adamh/PycharmProjects/stonks/model/venv/lib/python3.7/site-packages/ipykernel_launcher.py:8: SettingWithCopyWarning: \n",
      "A value is trying to be set on a copy of a slice from a DataFrame.\n",
      "Try using .loc[row_indexer,col_indexer] = value instead\n",
      "\n",
      "See the caveats in the documentation: https://pandas.pydata.org/pandas-docs/stable/user_guide/indexing.html#returning-a-view-versus-a-copy\n",
      "  \n",
      "/home/adamh/PycharmProjects/stonks/model/venv/lib/python3.7/site-packages/numpy/core/_asarray.py:83: VisibleDeprecationWarning: Creating an ndarray from ragged nested sequences (which is a list-or-tuple of lists-or-tuples-or ndarrays with different lengths or shapes) is deprecated. If you meant to do this, you must specify 'dtype=object' when creating the ndarray\n",
      "  return array(a, dtype, copy=False, order=order)\n",
      "/home/adamh/PycharmProjects/stonks/model/venv/lib/python3.7/site-packages/ipykernel_launcher.py:11: SettingWithCopyWarning: \n",
      "A value is trying to be set on a copy of a slice from a DataFrame.\n",
      "Try using .loc[row_indexer,col_indexer] = value instead\n",
      "\n",
      "See the caveats in the documentation: https://pandas.pydata.org/pandas-docs/stable/user_guide/indexing.html#returning-a-view-versus-a-copy\n",
      "  # This is added back by InteractiveShellApp.init_path()\n",
      "/home/adamh/PycharmProjects/stonks/model/venv/lib/python3.7/site-packages/ipykernel_launcher.py:16: SettingWithCopyWarning: \n",
      "A value is trying to be set on a copy of a slice from a DataFrame.\n",
      "Try using .loc[row_indexer,col_indexer] = value instead\n",
      "\n",
      "See the caveats in the documentation: https://pandas.pydata.org/pandas-docs/stable/user_guide/indexing.html#returning-a-view-versus-a-copy\n",
      "  app.launch_new_instance()\n"
     ]
    },
    {
     "name": "stdout",
     "output_type": "stream",
     "text": [
      "(25, 13)\n",
      "(4, 13)\n",
      "(0, 13)\n",
      "Empty DataFrame\n",
      "Columns: [name, price_df, item_df_training, trimmed_df, regr, y_pred, y_test, mean_squared_error, r2_score, roi, record_df, perc_pred_increase, last_day]\n",
      "Index: []\n"
     ]
    },
    {
     "name": "stderr",
     "output_type": "stream",
     "text": [
      "/home/adamh/PycharmProjects/stonks/model/venv/lib/python3.7/site-packages/ipykernel_launcher.py:4: SettingWithCopyWarning: \n",
      "A value is trying to be set on a copy of a slice from a DataFrame.\n",
      "Try using .loc[row_indexer,col_indexer] = value instead\n",
      "\n",
      "See the caveats in the documentation: https://pandas.pydata.org/pandas-docs/stable/user_guide/indexing.html#returning-a-view-versus-a-copy\n",
      "  after removing the cwd from sys.path.\n",
      "/home/adamh/PycharmProjects/stonks/model/venv/lib/python3.7/site-packages/ipykernel_launcher.py:6: SettingWithCopyWarning: \n",
      "A value is trying to be set on a copy of a slice from a DataFrame.\n",
      "Try using .loc[row_indexer,col_indexer] = value instead\n",
      "\n",
      "See the caveats in the documentation: https://pandas.pydata.org/pandas-docs/stable/user_guide/indexing.html#returning-a-view-versus-a-copy\n",
      "  \n",
      "/home/adamh/PycharmProjects/stonks/model/venv/lib/python3.7/site-packages/ipykernel_launcher.py:8: SettingWithCopyWarning: \n",
      "A value is trying to be set on a copy of a slice from a DataFrame.\n",
      "Try using .loc[row_indexer,col_indexer] = value instead\n",
      "\n",
      "See the caveats in the documentation: https://pandas.pydata.org/pandas-docs/stable/user_guide/indexing.html#returning-a-view-versus-a-copy\n",
      "  \n",
      "/home/adamh/PycharmProjects/stonks/model/venv/lib/python3.7/site-packages/numpy/core/_asarray.py:83: VisibleDeprecationWarning: Creating an ndarray from ragged nested sequences (which is a list-or-tuple of lists-or-tuples-or ndarrays with different lengths or shapes) is deprecated. If you meant to do this, you must specify 'dtype=object' when creating the ndarray\n",
      "  return array(a, dtype, copy=False, order=order)\n",
      "/home/adamh/PycharmProjects/stonks/model/venv/lib/python3.7/site-packages/ipykernel_launcher.py:11: SettingWithCopyWarning: \n",
      "A value is trying to be set on a copy of a slice from a DataFrame.\n",
      "Try using .loc[row_indexer,col_indexer] = value instead\n",
      "\n",
      "See the caveats in the documentation: https://pandas.pydata.org/pandas-docs/stable/user_guide/indexing.html#returning-a-view-versus-a-copy\n",
      "  # This is added back by InteractiveShellApp.init_path()\n",
      "/home/adamh/PycharmProjects/stonks/model/venv/lib/python3.7/site-packages/ipykernel_launcher.py:16: SettingWithCopyWarning: \n",
      "A value is trying to be set on a copy of a slice from a DataFrame.\n",
      "Try using .loc[row_indexer,col_indexer] = value instead\n",
      "\n",
      "See the caveats in the documentation: https://pandas.pydata.org/pandas-docs/stable/user_guide/indexing.html#returning-a-view-versus-a-copy\n",
      "  app.launch_new_instance()\n"
     ]
    },
    {
     "name": "stdout",
     "output_type": "stream",
     "text": [
      "(32, 13)\n",
      "(7, 13)\n",
      "(0, 13)\n",
      "Empty DataFrame\n",
      "Columns: [name, price_df, item_df_training, trimmed_df, regr, y_pred, y_test, mean_squared_error, r2_score, roi, record_df, perc_pred_increase, last_day]\n",
      "Index: []\n"
     ]
    },
    {
     "name": "stderr",
     "output_type": "stream",
     "text": [
      "/home/adamh/PycharmProjects/stonks/model/venv/lib/python3.7/site-packages/ipykernel_launcher.py:4: SettingWithCopyWarning: \n",
      "A value is trying to be set on a copy of a slice from a DataFrame.\n",
      "Try using .loc[row_indexer,col_indexer] = value instead\n",
      "\n",
      "See the caveats in the documentation: https://pandas.pydata.org/pandas-docs/stable/user_guide/indexing.html#returning-a-view-versus-a-copy\n",
      "  after removing the cwd from sys.path.\n",
      "/home/adamh/PycharmProjects/stonks/model/venv/lib/python3.7/site-packages/ipykernel_launcher.py:6: SettingWithCopyWarning: \n",
      "A value is trying to be set on a copy of a slice from a DataFrame.\n",
      "Try using .loc[row_indexer,col_indexer] = value instead\n",
      "\n",
      "See the caveats in the documentation: https://pandas.pydata.org/pandas-docs/stable/user_guide/indexing.html#returning-a-view-versus-a-copy\n",
      "  \n",
      "/home/adamh/PycharmProjects/stonks/model/venv/lib/python3.7/site-packages/ipykernel_launcher.py:8: SettingWithCopyWarning: \n",
      "A value is trying to be set on a copy of a slice from a DataFrame.\n",
      "Try using .loc[row_indexer,col_indexer] = value instead\n",
      "\n",
      "See the caveats in the documentation: https://pandas.pydata.org/pandas-docs/stable/user_guide/indexing.html#returning-a-view-versus-a-copy\n",
      "  \n",
      "/home/adamh/PycharmProjects/stonks/model/venv/lib/python3.7/site-packages/numpy/core/_asarray.py:83: VisibleDeprecationWarning: Creating an ndarray from ragged nested sequences (which is a list-or-tuple of lists-or-tuples-or ndarrays with different lengths or shapes) is deprecated. If you meant to do this, you must specify 'dtype=object' when creating the ndarray\n",
      "  return array(a, dtype, copy=False, order=order)\n",
      "/home/adamh/PycharmProjects/stonks/model/venv/lib/python3.7/site-packages/ipykernel_launcher.py:11: SettingWithCopyWarning: \n",
      "A value is trying to be set on a copy of a slice from a DataFrame.\n",
      "Try using .loc[row_indexer,col_indexer] = value instead\n",
      "\n",
      "See the caveats in the documentation: https://pandas.pydata.org/pandas-docs/stable/user_guide/indexing.html#returning-a-view-versus-a-copy\n",
      "  # This is added back by InteractiveShellApp.init_path()\n",
      "/home/adamh/PycharmProjects/stonks/model/venv/lib/python3.7/site-packages/ipykernel_launcher.py:16: SettingWithCopyWarning: \n",
      "A value is trying to be set on a copy of a slice from a DataFrame.\n",
      "Try using .loc[row_indexer,col_indexer] = value instead\n",
      "\n",
      "See the caveats in the documentation: https://pandas.pydata.org/pandas-docs/stable/user_guide/indexing.html#returning-a-view-versus-a-copy\n",
      "  app.launch_new_instance()\n"
     ]
    },
    {
     "name": "stdout",
     "output_type": "stream",
     "text": [
      "(28, 13)\n",
      "(4, 13)\n",
      "(1, 13)\n",
      "                  name                                           price_df  \\\n",
      "2098  Lantadyme%20seed              Lantadyme%20seed price  Lantadyme%...   \n",
      "\n",
      "                                       item_df_training  \\\n",
      "2098              Lantadyme%20seed price  Lantadyme%...   \n",
      "\n",
      "                                             trimmed_df                regr  \\\n",
      "2098              Lantadyme%20seed price  Lantadyme%...  LinearRegression()   \n",
      "\n",
      "                                                 y_pred  \\\n",
      "2098  [2241.350740393814, 2274.066072425064, 2381.97...   \n",
      "\n",
      "                                                 y_test  mean_squared_error  \\\n",
      "2098  date_obj\n",
      "2020-04-20    2436.0\n",
      "2020-04-21    25...        26531.774848   \n",
      "\n",
      "      r2_score      roi                                          record_df  \\\n",
      "2098  0.907678  1.07388               Prediction       Y   Y + 1   Y - ...   \n",
      "\n",
      "      perc_pred_increase    last_day  \n",
      "2098            0.035541  2020-08-01  \n"
     ]
    },
    {
     "name": "stderr",
     "output_type": "stream",
     "text": [
      "/home/adamh/PycharmProjects/stonks/model/venv/lib/python3.7/site-packages/ipykernel_launcher.py:4: SettingWithCopyWarning: \n",
      "A value is trying to be set on a copy of a slice from a DataFrame.\n",
      "Try using .loc[row_indexer,col_indexer] = value instead\n",
      "\n",
      "See the caveats in the documentation: https://pandas.pydata.org/pandas-docs/stable/user_guide/indexing.html#returning-a-view-versus-a-copy\n",
      "  after removing the cwd from sys.path.\n",
      "/home/adamh/PycharmProjects/stonks/model/venv/lib/python3.7/site-packages/ipykernel_launcher.py:6: SettingWithCopyWarning: \n",
      "A value is trying to be set on a copy of a slice from a DataFrame.\n",
      "Try using .loc[row_indexer,col_indexer] = value instead\n",
      "\n",
      "See the caveats in the documentation: https://pandas.pydata.org/pandas-docs/stable/user_guide/indexing.html#returning-a-view-versus-a-copy\n",
      "  \n",
      "/home/adamh/PycharmProjects/stonks/model/venv/lib/python3.7/site-packages/ipykernel_launcher.py:8: SettingWithCopyWarning: \n",
      "A value is trying to be set on a copy of a slice from a DataFrame.\n",
      "Try using .loc[row_indexer,col_indexer] = value instead\n",
      "\n",
      "See the caveats in the documentation: https://pandas.pydata.org/pandas-docs/stable/user_guide/indexing.html#returning-a-view-versus-a-copy\n",
      "  \n",
      "/home/adamh/PycharmProjects/stonks/model/venv/lib/python3.7/site-packages/numpy/core/_asarray.py:83: VisibleDeprecationWarning: Creating an ndarray from ragged nested sequences (which is a list-or-tuple of lists-or-tuples-or ndarrays with different lengths or shapes) is deprecated. If you meant to do this, you must specify 'dtype=object' when creating the ndarray\n",
      "  return array(a, dtype, copy=False, order=order)\n",
      "/home/adamh/PycharmProjects/stonks/model/venv/lib/python3.7/site-packages/ipykernel_launcher.py:11: SettingWithCopyWarning: \n",
      "A value is trying to be set on a copy of a slice from a DataFrame.\n",
      "Try using .loc[row_indexer,col_indexer] = value instead\n",
      "\n",
      "See the caveats in the documentation: https://pandas.pydata.org/pandas-docs/stable/user_guide/indexing.html#returning-a-view-versus-a-copy\n",
      "  # This is added back by InteractiveShellApp.init_path()\n",
      "/home/adamh/PycharmProjects/stonks/model/venv/lib/python3.7/site-packages/ipykernel_launcher.py:16: SettingWithCopyWarning: \n",
      "A value is trying to be set on a copy of a slice from a DataFrame.\n",
      "Try using .loc[row_indexer,col_indexer] = value instead\n",
      "\n",
      "See the caveats in the documentation: https://pandas.pydata.org/pandas-docs/stable/user_guide/indexing.html#returning-a-view-versus-a-copy\n",
      "  app.launch_new_instance()\n"
     ]
    },
    {
     "name": "stdout",
     "output_type": "stream",
     "text": [
      "(23, 13)\n",
      "(5, 13)\n",
      "(0, 13)\n",
      "Empty DataFrame\n",
      "Columns: [name, price_df, item_df_training, trimmed_df, regr, y_pred, y_test, mean_squared_error, r2_score, roi, record_df, perc_pred_increase, last_day]\n",
      "Index: []\n"
     ]
    },
    {
     "name": "stderr",
     "output_type": "stream",
     "text": [
      "/home/adamh/PycharmProjects/stonks/model/venv/lib/python3.7/site-packages/ipykernel_launcher.py:4: SettingWithCopyWarning: \n",
      "A value is trying to be set on a copy of a slice from a DataFrame.\n",
      "Try using .loc[row_indexer,col_indexer] = value instead\n",
      "\n",
      "See the caveats in the documentation: https://pandas.pydata.org/pandas-docs/stable/user_guide/indexing.html#returning-a-view-versus-a-copy\n",
      "  after removing the cwd from sys.path.\n",
      "/home/adamh/PycharmProjects/stonks/model/venv/lib/python3.7/site-packages/ipykernel_launcher.py:6: SettingWithCopyWarning: \n",
      "A value is trying to be set on a copy of a slice from a DataFrame.\n",
      "Try using .loc[row_indexer,col_indexer] = value instead\n",
      "\n",
      "See the caveats in the documentation: https://pandas.pydata.org/pandas-docs/stable/user_guide/indexing.html#returning-a-view-versus-a-copy\n",
      "  \n",
      "/home/adamh/PycharmProjects/stonks/model/venv/lib/python3.7/site-packages/ipykernel_launcher.py:8: SettingWithCopyWarning: \n",
      "A value is trying to be set on a copy of a slice from a DataFrame.\n",
      "Try using .loc[row_indexer,col_indexer] = value instead\n",
      "\n",
      "See the caveats in the documentation: https://pandas.pydata.org/pandas-docs/stable/user_guide/indexing.html#returning-a-view-versus-a-copy\n",
      "  \n",
      "/home/adamh/PycharmProjects/stonks/model/venv/lib/python3.7/site-packages/numpy/core/_asarray.py:83: VisibleDeprecationWarning: Creating an ndarray from ragged nested sequences (which is a list-or-tuple of lists-or-tuples-or ndarrays with different lengths or shapes) is deprecated. If you meant to do this, you must specify 'dtype=object' when creating the ndarray\n",
      "  return array(a, dtype, copy=False, order=order)\n",
      "/home/adamh/PycharmProjects/stonks/model/venv/lib/python3.7/site-packages/ipykernel_launcher.py:11: SettingWithCopyWarning: \n",
      "A value is trying to be set on a copy of a slice from a DataFrame.\n",
      "Try using .loc[row_indexer,col_indexer] = value instead\n",
      "\n",
      "See the caveats in the documentation: https://pandas.pydata.org/pandas-docs/stable/user_guide/indexing.html#returning-a-view-versus-a-copy\n",
      "  # This is added back by InteractiveShellApp.init_path()\n",
      "/home/adamh/PycharmProjects/stonks/model/venv/lib/python3.7/site-packages/ipykernel_launcher.py:16: SettingWithCopyWarning: \n",
      "A value is trying to be set on a copy of a slice from a DataFrame.\n",
      "Try using .loc[row_indexer,col_indexer] = value instead\n",
      "\n",
      "See the caveats in the documentation: https://pandas.pydata.org/pandas-docs/stable/user_guide/indexing.html#returning-a-view-versus-a-copy\n",
      "  app.launch_new_instance()\n"
     ]
    },
    {
     "name": "stdout",
     "output_type": "stream",
     "text": [
      "(32, 13)\n",
      "(2, 13)\n",
      "(1, 13)\n",
      "             name                                           price_df  \\\n",
      "2225  Raw%20shark              Raw%20shark price  Raw%20shark vol...   \n",
      "\n",
      "                                       item_df_training  \\\n",
      "2225              Raw%20shark price  Raw%20shark vol...   \n",
      "\n",
      "                                             trimmed_df                regr  \\\n",
      "2225              Raw%20shark price  Raw%20shark vol...  LinearRegression()   \n",
      "\n",
      "                                                 y_pred  \\\n",
      "2225  [1108.572803121956, 1135.980762195738, 1135.89...   \n",
      "\n",
      "                                                 y_test  mean_squared_error  \\\n",
      "2225  date_obj\n",
      "2020-02-21    1068.0\n",
      "2020-02-22    10...         2433.365667   \n",
      "\n",
      "      r2_score       roi                                          record_df  \\\n",
      "2225  0.935607  1.127036               Prediction       Y   Y + 1   Y - ...   \n",
      "\n",
      "      perc_pred_increase    last_day  \n",
      "2225            0.055545  2020-08-01  \n"
     ]
    },
    {
     "name": "stderr",
     "output_type": "stream",
     "text": [
      "/home/adamh/PycharmProjects/stonks/model/venv/lib/python3.7/site-packages/ipykernel_launcher.py:4: SettingWithCopyWarning: \n",
      "A value is trying to be set on a copy of a slice from a DataFrame.\n",
      "Try using .loc[row_indexer,col_indexer] = value instead\n",
      "\n",
      "See the caveats in the documentation: https://pandas.pydata.org/pandas-docs/stable/user_guide/indexing.html#returning-a-view-versus-a-copy\n",
      "  after removing the cwd from sys.path.\n",
      "/home/adamh/PycharmProjects/stonks/model/venv/lib/python3.7/site-packages/ipykernel_launcher.py:6: SettingWithCopyWarning: \n",
      "A value is trying to be set on a copy of a slice from a DataFrame.\n",
      "Try using .loc[row_indexer,col_indexer] = value instead\n",
      "\n",
      "See the caveats in the documentation: https://pandas.pydata.org/pandas-docs/stable/user_guide/indexing.html#returning-a-view-versus-a-copy\n",
      "  \n",
      "/home/adamh/PycharmProjects/stonks/model/venv/lib/python3.7/site-packages/ipykernel_launcher.py:8: SettingWithCopyWarning: \n",
      "A value is trying to be set on a copy of a slice from a DataFrame.\n",
      "Try using .loc[row_indexer,col_indexer] = value instead\n",
      "\n",
      "See the caveats in the documentation: https://pandas.pydata.org/pandas-docs/stable/user_guide/indexing.html#returning-a-view-versus-a-copy\n",
      "  \n",
      "/home/adamh/PycharmProjects/stonks/model/venv/lib/python3.7/site-packages/numpy/core/_asarray.py:83: VisibleDeprecationWarning: Creating an ndarray from ragged nested sequences (which is a list-or-tuple of lists-or-tuples-or ndarrays with different lengths or shapes) is deprecated. If you meant to do this, you must specify 'dtype=object' when creating the ndarray\n",
      "  return array(a, dtype, copy=False, order=order)\n",
      "/home/adamh/PycharmProjects/stonks/model/venv/lib/python3.7/site-packages/ipykernel_launcher.py:11: SettingWithCopyWarning: \n",
      "A value is trying to be set on a copy of a slice from a DataFrame.\n",
      "Try using .loc[row_indexer,col_indexer] = value instead\n",
      "\n",
      "See the caveats in the documentation: https://pandas.pydata.org/pandas-docs/stable/user_guide/indexing.html#returning-a-view-versus-a-copy\n",
      "  # This is added back by InteractiveShellApp.init_path()\n",
      "/home/adamh/PycharmProjects/stonks/model/venv/lib/python3.7/site-packages/ipykernel_launcher.py:16: SettingWithCopyWarning: \n",
      "A value is trying to be set on a copy of a slice from a DataFrame.\n",
      "Try using .loc[row_indexer,col_indexer] = value instead\n",
      "\n",
      "See the caveats in the documentation: https://pandas.pydata.org/pandas-docs/stable/user_guide/indexing.html#returning-a-view-versus-a-copy\n",
      "  app.launch_new_instance()\n"
     ]
    },
    {
     "name": "stdout",
     "output_type": "stream",
     "text": [
      "(25, 13)\n",
      "(7, 13)\n",
      "(0, 13)\n",
      "Empty DataFrame\n",
      "Columns: [name, price_df, item_df_training, trimmed_df, regr, y_pred, y_test, mean_squared_error, r2_score, roi, record_df, perc_pred_increase, last_day]\n",
      "Index: []\n"
     ]
    },
    {
     "name": "stderr",
     "output_type": "stream",
     "text": [
      "/home/adamh/PycharmProjects/stonks/model/venv/lib/python3.7/site-packages/ipykernel_launcher.py:4: SettingWithCopyWarning: \n",
      "A value is trying to be set on a copy of a slice from a DataFrame.\n",
      "Try using .loc[row_indexer,col_indexer] = value instead\n",
      "\n",
      "See the caveats in the documentation: https://pandas.pydata.org/pandas-docs/stable/user_guide/indexing.html#returning-a-view-versus-a-copy\n",
      "  after removing the cwd from sys.path.\n",
      "/home/adamh/PycharmProjects/stonks/model/venv/lib/python3.7/site-packages/ipykernel_launcher.py:6: SettingWithCopyWarning: \n",
      "A value is trying to be set on a copy of a slice from a DataFrame.\n",
      "Try using .loc[row_indexer,col_indexer] = value instead\n",
      "\n",
      "See the caveats in the documentation: https://pandas.pydata.org/pandas-docs/stable/user_guide/indexing.html#returning-a-view-versus-a-copy\n",
      "  \n",
      "/home/adamh/PycharmProjects/stonks/model/venv/lib/python3.7/site-packages/ipykernel_launcher.py:8: SettingWithCopyWarning: \n",
      "A value is trying to be set on a copy of a slice from a DataFrame.\n",
      "Try using .loc[row_indexer,col_indexer] = value instead\n",
      "\n",
      "See the caveats in the documentation: https://pandas.pydata.org/pandas-docs/stable/user_guide/indexing.html#returning-a-view-versus-a-copy\n",
      "  \n",
      "/home/adamh/PycharmProjects/stonks/model/venv/lib/python3.7/site-packages/numpy/core/_asarray.py:83: VisibleDeprecationWarning: Creating an ndarray from ragged nested sequences (which is a list-or-tuple of lists-or-tuples-or ndarrays with different lengths or shapes) is deprecated. If you meant to do this, you must specify 'dtype=object' when creating the ndarray\n",
      "  return array(a, dtype, copy=False, order=order)\n",
      "/home/adamh/PycharmProjects/stonks/model/venv/lib/python3.7/site-packages/ipykernel_launcher.py:11: SettingWithCopyWarning: \n",
      "A value is trying to be set on a copy of a slice from a DataFrame.\n",
      "Try using .loc[row_indexer,col_indexer] = value instead\n",
      "\n",
      "See the caveats in the documentation: https://pandas.pydata.org/pandas-docs/stable/user_guide/indexing.html#returning-a-view-versus-a-copy\n",
      "  # This is added back by InteractiveShellApp.init_path()\n",
      "/home/adamh/PycharmProjects/stonks/model/venv/lib/python3.7/site-packages/ipykernel_launcher.py:16: SettingWithCopyWarning: \n",
      "A value is trying to be set on a copy of a slice from a DataFrame.\n",
      "Try using .loc[row_indexer,col_indexer] = value instead\n",
      "\n",
      "See the caveats in the documentation: https://pandas.pydata.org/pandas-docs/stable/user_guide/indexing.html#returning-a-view-versus-a-copy\n",
      "  app.launch_new_instance()\n"
     ]
    },
    {
     "name": "stdout",
     "output_type": "stream",
     "text": [
      "(30, 13)\n",
      "(2, 13)\n",
      "(2, 13)\n",
      "                               name  \\\n",
      "2469  Bottomless%20compost%20bucket   \n",
      "2499                   Rune%20arrow   \n",
      "\n",
      "                                               price_df  \\\n",
      "2469              Bottomless%20compost%20bucket pric...   \n",
      "2499              Rune%20arrow price  Rune%20arrow v...   \n",
      "\n",
      "                                       item_df_training  \\\n",
      "2469              Bottomless%20compost%20bucket pric...   \n",
      "2499              Rune%20arrow price  Rune%20arrow v...   \n",
      "\n",
      "                                             trimmed_df                regr  \\\n",
      "2469              Bottomless%20compost%20bucket pric...  LinearRegression()   \n",
      "2499              Rune%20arrow price  Rune%20arrow v...  LinearRegression()   \n",
      "\n",
      "                                                 y_pred  \\\n",
      "2469  [816320.8397696477, 785941.4647696477, 749247....   \n",
      "2499  [60.89305345331826, 59.51514646202224, 61.7101...   \n",
      "\n",
      "                                                 y_test  mean_squared_error  \\\n",
      "2469  date_obj\n",
      "2020-04-26    766921.0\n",
      "2020-04-27    ...        1.518091e+09   \n",
      "2499  date_obj\n",
      "2020-02-20    61.0\n",
      "2020-02-21    61.0...        1.478509e+01   \n",
      "\n",
      "      r2_score       roi                                          record_df  \\\n",
      "2469  0.933250  1.240082                Prediction         Y     Y + 1  ...   \n",
      "2499  0.871312  1.182521              Prediction     Y  Y + 1  Y - 1    ...   \n",
      "\n",
      "      perc_pred_increase    last_day  \n",
      "2469             0.07867  2020-08-01  \n",
      "2499             0.03030  2020-08-01  \n"
     ]
    },
    {
     "name": "stderr",
     "output_type": "stream",
     "text": [
      "/home/adamh/PycharmProjects/stonks/model/venv/lib/python3.7/site-packages/ipykernel_launcher.py:4: SettingWithCopyWarning: \n",
      "A value is trying to be set on a copy of a slice from a DataFrame.\n",
      "Try using .loc[row_indexer,col_indexer] = value instead\n",
      "\n",
      "See the caveats in the documentation: https://pandas.pydata.org/pandas-docs/stable/user_guide/indexing.html#returning-a-view-versus-a-copy\n",
      "  after removing the cwd from sys.path.\n",
      "/home/adamh/PycharmProjects/stonks/model/venv/lib/python3.7/site-packages/ipykernel_launcher.py:6: SettingWithCopyWarning: \n",
      "A value is trying to be set on a copy of a slice from a DataFrame.\n",
      "Try using .loc[row_indexer,col_indexer] = value instead\n",
      "\n",
      "See the caveats in the documentation: https://pandas.pydata.org/pandas-docs/stable/user_guide/indexing.html#returning-a-view-versus-a-copy\n",
      "  \n",
      "/home/adamh/PycharmProjects/stonks/model/venv/lib/python3.7/site-packages/ipykernel_launcher.py:8: SettingWithCopyWarning: \n",
      "A value is trying to be set on a copy of a slice from a DataFrame.\n",
      "Try using .loc[row_indexer,col_indexer] = value instead\n",
      "\n",
      "See the caveats in the documentation: https://pandas.pydata.org/pandas-docs/stable/user_guide/indexing.html#returning-a-view-versus-a-copy\n",
      "  \n",
      "/home/adamh/PycharmProjects/stonks/model/venv/lib/python3.7/site-packages/numpy/core/_asarray.py:83: VisibleDeprecationWarning: Creating an ndarray from ragged nested sequences (which is a list-or-tuple of lists-or-tuples-or ndarrays with different lengths or shapes) is deprecated. If you meant to do this, you must specify 'dtype=object' when creating the ndarray\n",
      "  return array(a, dtype, copy=False, order=order)\n",
      "/home/adamh/PycharmProjects/stonks/model/venv/lib/python3.7/site-packages/ipykernel_launcher.py:11: SettingWithCopyWarning: \n",
      "A value is trying to be set on a copy of a slice from a DataFrame.\n",
      "Try using .loc[row_indexer,col_indexer] = value instead\n",
      "\n",
      "See the caveats in the documentation: https://pandas.pydata.org/pandas-docs/stable/user_guide/indexing.html#returning-a-view-versus-a-copy\n",
      "  # This is added back by InteractiveShellApp.init_path()\n",
      "/home/adamh/PycharmProjects/stonks/model/venv/lib/python3.7/site-packages/ipykernel_launcher.py:16: SettingWithCopyWarning: \n",
      "A value is trying to be set on a copy of a slice from a DataFrame.\n",
      "Try using .loc[row_indexer,col_indexer] = value instead\n",
      "\n",
      "See the caveats in the documentation: https://pandas.pydata.org/pandas-docs/stable/user_guide/indexing.html#returning-a-view-versus-a-copy\n",
      "  app.launch_new_instance()\n"
     ]
    },
    {
     "name": "stdout",
     "output_type": "stream",
     "text": [
      "(25, 13)\n",
      "(1, 13)\n",
      "(0, 13)\n",
      "Empty DataFrame\n",
      "Columns: [name, price_df, item_df_training, trimmed_df, regr, y_pred, y_test, mean_squared_error, r2_score, roi, record_df, perc_pred_increase, last_day]\n",
      "Index: []\n"
     ]
    },
    {
     "name": "stderr",
     "output_type": "stream",
     "text": [
      "/home/adamh/PycharmProjects/stonks/model/venv/lib/python3.7/site-packages/ipykernel_launcher.py:4: SettingWithCopyWarning: \n",
      "A value is trying to be set on a copy of a slice from a DataFrame.\n",
      "Try using .loc[row_indexer,col_indexer] = value instead\n",
      "\n",
      "See the caveats in the documentation: https://pandas.pydata.org/pandas-docs/stable/user_guide/indexing.html#returning-a-view-versus-a-copy\n",
      "  after removing the cwd from sys.path.\n",
      "/home/adamh/PycharmProjects/stonks/model/venv/lib/python3.7/site-packages/ipykernel_launcher.py:6: SettingWithCopyWarning: \n",
      "A value is trying to be set on a copy of a slice from a DataFrame.\n",
      "Try using .loc[row_indexer,col_indexer] = value instead\n",
      "\n",
      "See the caveats in the documentation: https://pandas.pydata.org/pandas-docs/stable/user_guide/indexing.html#returning-a-view-versus-a-copy\n",
      "  \n",
      "/home/adamh/PycharmProjects/stonks/model/venv/lib/python3.7/site-packages/ipykernel_launcher.py:8: SettingWithCopyWarning: \n",
      "A value is trying to be set on a copy of a slice from a DataFrame.\n",
      "Try using .loc[row_indexer,col_indexer] = value instead\n",
      "\n",
      "See the caveats in the documentation: https://pandas.pydata.org/pandas-docs/stable/user_guide/indexing.html#returning-a-view-versus-a-copy\n",
      "  \n",
      "/home/adamh/PycharmProjects/stonks/model/venv/lib/python3.7/site-packages/numpy/core/_asarray.py:83: VisibleDeprecationWarning: Creating an ndarray from ragged nested sequences (which is a list-or-tuple of lists-or-tuples-or ndarrays with different lengths or shapes) is deprecated. If you meant to do this, you must specify 'dtype=object' when creating the ndarray\n",
      "  return array(a, dtype, copy=False, order=order)\n",
      "/home/adamh/PycharmProjects/stonks/model/venv/lib/python3.7/site-packages/ipykernel_launcher.py:11: SettingWithCopyWarning: \n",
      "A value is trying to be set on a copy of a slice from a DataFrame.\n",
      "Try using .loc[row_indexer,col_indexer] = value instead\n",
      "\n",
      "See the caveats in the documentation: https://pandas.pydata.org/pandas-docs/stable/user_guide/indexing.html#returning-a-view-versus-a-copy\n",
      "  # This is added back by InteractiveShellApp.init_path()\n",
      "/home/adamh/PycharmProjects/stonks/model/venv/lib/python3.7/site-packages/ipykernel_launcher.py:16: SettingWithCopyWarning: \n",
      "A value is trying to be set on a copy of a slice from a DataFrame.\n",
      "Try using .loc[row_indexer,col_indexer] = value instead\n",
      "\n",
      "See the caveats in the documentation: https://pandas.pydata.org/pandas-docs/stable/user_guide/indexing.html#returning-a-view-versus-a-copy\n",
      "  app.launch_new_instance()\n"
     ]
    },
    {
     "name": "stdout",
     "output_type": "stream",
     "text": [
      "(31, 13)\n",
      "(2, 13)\n",
      "(0, 13)\n",
      "Empty DataFrame\n",
      "Columns: [name, price_df, item_df_training, trimmed_df, regr, y_pred, y_test, mean_squared_error, r2_score, roi, record_df, perc_pred_increase, last_day]\n",
      "Index: []\n"
     ]
    },
    {
     "name": "stderr",
     "output_type": "stream",
     "text": [
      "/home/adamh/PycharmProjects/stonks/model/venv/lib/python3.7/site-packages/ipykernel_launcher.py:4: SettingWithCopyWarning: \n",
      "A value is trying to be set on a copy of a slice from a DataFrame.\n",
      "Try using .loc[row_indexer,col_indexer] = value instead\n",
      "\n",
      "See the caveats in the documentation: https://pandas.pydata.org/pandas-docs/stable/user_guide/indexing.html#returning-a-view-versus-a-copy\n",
      "  after removing the cwd from sys.path.\n",
      "/home/adamh/PycharmProjects/stonks/model/venv/lib/python3.7/site-packages/ipykernel_launcher.py:6: SettingWithCopyWarning: \n",
      "A value is trying to be set on a copy of a slice from a DataFrame.\n",
      "Try using .loc[row_indexer,col_indexer] = value instead\n",
      "\n",
      "See the caveats in the documentation: https://pandas.pydata.org/pandas-docs/stable/user_guide/indexing.html#returning-a-view-versus-a-copy\n",
      "  \n",
      "/home/adamh/PycharmProjects/stonks/model/venv/lib/python3.7/site-packages/ipykernel_launcher.py:8: SettingWithCopyWarning: \n",
      "A value is trying to be set on a copy of a slice from a DataFrame.\n",
      "Try using .loc[row_indexer,col_indexer] = value instead\n",
      "\n",
      "See the caveats in the documentation: https://pandas.pydata.org/pandas-docs/stable/user_guide/indexing.html#returning-a-view-versus-a-copy\n",
      "  \n",
      "/home/adamh/PycharmProjects/stonks/model/venv/lib/python3.7/site-packages/numpy/core/_asarray.py:83: VisibleDeprecationWarning: Creating an ndarray from ragged nested sequences (which is a list-or-tuple of lists-or-tuples-or ndarrays with different lengths or shapes) is deprecated. If you meant to do this, you must specify 'dtype=object' when creating the ndarray\n",
      "  return array(a, dtype, copy=False, order=order)\n",
      "/home/adamh/PycharmProjects/stonks/model/venv/lib/python3.7/site-packages/ipykernel_launcher.py:11: SettingWithCopyWarning: \n",
      "A value is trying to be set on a copy of a slice from a DataFrame.\n",
      "Try using .loc[row_indexer,col_indexer] = value instead\n",
      "\n",
      "See the caveats in the documentation: https://pandas.pydata.org/pandas-docs/stable/user_guide/indexing.html#returning-a-view-versus-a-copy\n",
      "  # This is added back by InteractiveShellApp.init_path()\n",
      "/home/adamh/PycharmProjects/stonks/model/venv/lib/python3.7/site-packages/ipykernel_launcher.py:16: SettingWithCopyWarning: \n",
      "A value is trying to be set on a copy of a slice from a DataFrame.\n",
      "Try using .loc[row_indexer,col_indexer] = value instead\n",
      "\n",
      "See the caveats in the documentation: https://pandas.pydata.org/pandas-docs/stable/user_guide/indexing.html#returning-a-view-versus-a-copy\n",
      "  app.launch_new_instance()\n"
     ]
    },
    {
     "name": "stdout",
     "output_type": "stream",
     "text": [
      "(17, 13)\n",
      "(0, 13)\n",
      "(0, 13)\n",
      "Empty DataFrame\n",
      "Columns: [name, price_df, item_df_training, trimmed_df, regr, y_pred, y_test, mean_squared_error, r2_score, roi, record_df, perc_pred_increase, last_day]\n",
      "Index: []\n"
     ]
    },
    {
     "name": "stderr",
     "output_type": "stream",
     "text": [
      "/home/adamh/PycharmProjects/stonks/model/venv/lib/python3.7/site-packages/ipykernel_launcher.py:4: SettingWithCopyWarning: \n",
      "A value is trying to be set on a copy of a slice from a DataFrame.\n",
      "Try using .loc[row_indexer,col_indexer] = value instead\n",
      "\n",
      "See the caveats in the documentation: https://pandas.pydata.org/pandas-docs/stable/user_guide/indexing.html#returning-a-view-versus-a-copy\n",
      "  after removing the cwd from sys.path.\n",
      "/home/adamh/PycharmProjects/stonks/model/venv/lib/python3.7/site-packages/ipykernel_launcher.py:6: SettingWithCopyWarning: \n",
      "A value is trying to be set on a copy of a slice from a DataFrame.\n",
      "Try using .loc[row_indexer,col_indexer] = value instead\n",
      "\n",
      "See the caveats in the documentation: https://pandas.pydata.org/pandas-docs/stable/user_guide/indexing.html#returning-a-view-versus-a-copy\n",
      "  \n",
      "/home/adamh/PycharmProjects/stonks/model/venv/lib/python3.7/site-packages/ipykernel_launcher.py:8: SettingWithCopyWarning: \n",
      "A value is trying to be set on a copy of a slice from a DataFrame.\n",
      "Try using .loc[row_indexer,col_indexer] = value instead\n",
      "\n",
      "See the caveats in the documentation: https://pandas.pydata.org/pandas-docs/stable/user_guide/indexing.html#returning-a-view-versus-a-copy\n",
      "  \n",
      "/home/adamh/PycharmProjects/stonks/model/venv/lib/python3.7/site-packages/numpy/core/_asarray.py:83: VisibleDeprecationWarning: Creating an ndarray from ragged nested sequences (which is a list-or-tuple of lists-or-tuples-or ndarrays with different lengths or shapes) is deprecated. If you meant to do this, you must specify 'dtype=object' when creating the ndarray\n",
      "  return array(a, dtype, copy=False, order=order)\n",
      "/home/adamh/PycharmProjects/stonks/model/venv/lib/python3.7/site-packages/ipykernel_launcher.py:11: SettingWithCopyWarning: \n",
      "A value is trying to be set on a copy of a slice from a DataFrame.\n",
      "Try using .loc[row_indexer,col_indexer] = value instead\n",
      "\n",
      "See the caveats in the documentation: https://pandas.pydata.org/pandas-docs/stable/user_guide/indexing.html#returning-a-view-versus-a-copy\n",
      "  # This is added back by InteractiveShellApp.init_path()\n",
      "/home/adamh/PycharmProjects/stonks/model/venv/lib/python3.7/site-packages/ipykernel_launcher.py:16: SettingWithCopyWarning: \n",
      "A value is trying to be set on a copy of a slice from a DataFrame.\n",
      "Try using .loc[row_indexer,col_indexer] = value instead\n",
      "\n",
      "See the caveats in the documentation: https://pandas.pydata.org/pandas-docs/stable/user_guide/indexing.html#returning-a-view-versus-a-copy\n",
      "  app.launch_new_instance()\n"
     ]
    },
    {
     "name": "stdout",
     "output_type": "stream",
     "text": [
      "(25, 13)\n",
      "(5, 13)\n",
      "(1, 13)\n",
      "                              name  \\\n",
      "2826  Black%20d'hide%20chaps%20(g)   \n",
      "\n",
      "                                               price_df  \\\n",
      "2826              Black%20d'hide%20chaps%20(g) price...   \n",
      "\n",
      "                                       item_df_training  \\\n",
      "2826              Black%20d'hide%20chaps%20(g) price...   \n",
      "\n",
      "                                             trimmed_df                regr  \\\n",
      "2826              Black%20d'hide%20chaps%20(g) price...  LinearRegression()   \n",
      "\n",
      "                                                 y_pred  \\\n",
      "2826  [773688.8210290829, 768792.8210290829, 858060....   \n",
      "\n",
      "                                                 y_test  mean_squared_error  \\\n",
      "2826  date_obj\n",
      "2020-04-07    797019.0\n",
      "2020-04-08    ...        1.561122e+09   \n",
      "\n",
      "      r2_score       roi                                          record_df  \\\n",
      "2826  0.895814  1.446377                 Prediction         Y     Y + 1 ...   \n",
      "\n",
      "      perc_pred_increase    last_day  \n",
      "2826            0.039559  2020-08-01  \n"
     ]
    },
    {
     "name": "stderr",
     "output_type": "stream",
     "text": [
      "/home/adamh/PycharmProjects/stonks/model/venv/lib/python3.7/site-packages/ipykernel_launcher.py:4: SettingWithCopyWarning: \n",
      "A value is trying to be set on a copy of a slice from a DataFrame.\n",
      "Try using .loc[row_indexer,col_indexer] = value instead\n",
      "\n",
      "See the caveats in the documentation: https://pandas.pydata.org/pandas-docs/stable/user_guide/indexing.html#returning-a-view-versus-a-copy\n",
      "  after removing the cwd from sys.path.\n",
      "/home/adamh/PycharmProjects/stonks/model/venv/lib/python3.7/site-packages/ipykernel_launcher.py:6: SettingWithCopyWarning: \n",
      "A value is trying to be set on a copy of a slice from a DataFrame.\n",
      "Try using .loc[row_indexer,col_indexer] = value instead\n",
      "\n",
      "See the caveats in the documentation: https://pandas.pydata.org/pandas-docs/stable/user_guide/indexing.html#returning-a-view-versus-a-copy\n",
      "  \n",
      "/home/adamh/PycharmProjects/stonks/model/venv/lib/python3.7/site-packages/ipykernel_launcher.py:8: SettingWithCopyWarning: \n",
      "A value is trying to be set on a copy of a slice from a DataFrame.\n",
      "Try using .loc[row_indexer,col_indexer] = value instead\n",
      "\n",
      "See the caveats in the documentation: https://pandas.pydata.org/pandas-docs/stable/user_guide/indexing.html#returning-a-view-versus-a-copy\n",
      "  \n",
      "/home/adamh/PycharmProjects/stonks/model/venv/lib/python3.7/site-packages/numpy/core/_asarray.py:83: VisibleDeprecationWarning: Creating an ndarray from ragged nested sequences (which is a list-or-tuple of lists-or-tuples-or ndarrays with different lengths or shapes) is deprecated. If you meant to do this, you must specify 'dtype=object' when creating the ndarray\n",
      "  return array(a, dtype, copy=False, order=order)\n",
      "/home/adamh/PycharmProjects/stonks/model/venv/lib/python3.7/site-packages/ipykernel_launcher.py:11: SettingWithCopyWarning: \n",
      "A value is trying to be set on a copy of a slice from a DataFrame.\n",
      "Try using .loc[row_indexer,col_indexer] = value instead\n",
      "\n",
      "See the caveats in the documentation: https://pandas.pydata.org/pandas-docs/stable/user_guide/indexing.html#returning-a-view-versus-a-copy\n",
      "  # This is added back by InteractiveShellApp.init_path()\n",
      "/home/adamh/PycharmProjects/stonks/model/venv/lib/python3.7/site-packages/ipykernel_launcher.py:16: SettingWithCopyWarning: \n",
      "A value is trying to be set on a copy of a slice from a DataFrame.\n",
      "Try using .loc[row_indexer,col_indexer] = value instead\n",
      "\n",
      "See the caveats in the documentation: https://pandas.pydata.org/pandas-docs/stable/user_guide/indexing.html#returning-a-view-versus-a-copy\n",
      "  app.launch_new_instance()\n"
     ]
    },
    {
     "name": "stdout",
     "output_type": "stream",
     "text": [
      "(33, 13)\n",
      "(1, 13)\n",
      "(0, 13)\n",
      "Empty DataFrame\n",
      "Columns: [name, price_df, item_df_training, trimmed_df, regr, y_pred, y_test, mean_squared_error, r2_score, roi, record_df, perc_pred_increase, last_day]\n",
      "Index: []\n"
     ]
    },
    {
     "name": "stderr",
     "output_type": "stream",
     "text": [
      "/home/adamh/PycharmProjects/stonks/model/venv/lib/python3.7/site-packages/ipykernel_launcher.py:4: SettingWithCopyWarning: \n",
      "A value is trying to be set on a copy of a slice from a DataFrame.\n",
      "Try using .loc[row_indexer,col_indexer] = value instead\n",
      "\n",
      "See the caveats in the documentation: https://pandas.pydata.org/pandas-docs/stable/user_guide/indexing.html#returning-a-view-versus-a-copy\n",
      "  after removing the cwd from sys.path.\n",
      "/home/adamh/PycharmProjects/stonks/model/venv/lib/python3.7/site-packages/ipykernel_launcher.py:6: SettingWithCopyWarning: \n",
      "A value is trying to be set on a copy of a slice from a DataFrame.\n",
      "Try using .loc[row_indexer,col_indexer] = value instead\n",
      "\n",
      "See the caveats in the documentation: https://pandas.pydata.org/pandas-docs/stable/user_guide/indexing.html#returning-a-view-versus-a-copy\n",
      "  \n",
      "/home/adamh/PycharmProjects/stonks/model/venv/lib/python3.7/site-packages/ipykernel_launcher.py:8: SettingWithCopyWarning: \n",
      "A value is trying to be set on a copy of a slice from a DataFrame.\n",
      "Try using .loc[row_indexer,col_indexer] = value instead\n",
      "\n",
      "See the caveats in the documentation: https://pandas.pydata.org/pandas-docs/stable/user_guide/indexing.html#returning-a-view-versus-a-copy\n",
      "  \n",
      "/home/adamh/PycharmProjects/stonks/model/venv/lib/python3.7/site-packages/numpy/core/_asarray.py:83: VisibleDeprecationWarning: Creating an ndarray from ragged nested sequences (which is a list-or-tuple of lists-or-tuples-or ndarrays with different lengths or shapes) is deprecated. If you meant to do this, you must specify 'dtype=object' when creating the ndarray\n",
      "  return array(a, dtype, copy=False, order=order)\n",
      "/home/adamh/PycharmProjects/stonks/model/venv/lib/python3.7/site-packages/ipykernel_launcher.py:11: SettingWithCopyWarning: \n",
      "A value is trying to be set on a copy of a slice from a DataFrame.\n",
      "Try using .loc[row_indexer,col_indexer] = value instead\n",
      "\n",
      "See the caveats in the documentation: https://pandas.pydata.org/pandas-docs/stable/user_guide/indexing.html#returning-a-view-versus-a-copy\n",
      "  # This is added back by InteractiveShellApp.init_path()\n",
      "/home/adamh/PycharmProjects/stonks/model/venv/lib/python3.7/site-packages/ipykernel_launcher.py:16: SettingWithCopyWarning: \n",
      "A value is trying to be set on a copy of a slice from a DataFrame.\n",
      "Try using .loc[row_indexer,col_indexer] = value instead\n",
      "\n",
      "See the caveats in the documentation: https://pandas.pydata.org/pandas-docs/stable/user_guide/indexing.html#returning-a-view-versus-a-copy\n",
      "  app.launch_new_instance()\n"
     ]
    },
    {
     "name": "stdout",
     "output_type": "stream",
     "text": [
      "(21, 13)\n",
      "(4, 13)\n",
      "(2, 13)\n",
      "                  name                                           price_df  \\\n",
      "3020   Mole%20slippers              Mole%20slippers price  Mole%20slip...   \n",
      "3066  Black%20cavalier              Black%20cavalier price  Black%20ca...   \n",
      "\n",
      "                                       item_df_training  \\\n",
      "3020              Mole%20slippers price  Mole%20slip...   \n",
      "3066              Black%20cavalier price  Black%20ca...   \n",
      "\n",
      "                                             trimmed_df                regr  \\\n",
      "3020              Mole%20slippers price  Mole%20slip...  LinearRegression()   \n",
      "3066              Black%20cavalier price  Black%20ca...  LinearRegression()   \n",
      "\n",
      "                                                 y_pred  \\\n",
      "3020  [105275.3906123584, 106336.1581904834, 105498....   \n",
      "3066  [14002.993931361609, 13695.531529017859, 13745...   \n",
      "\n",
      "                                                 y_test  mean_squared_error  \\\n",
      "3020  date_obj\n",
      "2020-05-11    106416.0\n",
      "2020-05-12    ...        2.127208e+08   \n",
      "3066  date_obj\n",
      "2020-04-07    13493.0\n",
      "2020-04-08    1...        4.613472e+05   \n",
      "\n",
      "      r2_score       roi                                          record_df  \\\n",
      "3020  0.963184  1.744236                 Prediction         Y     Y + 1 ...   \n",
      "3066  0.916655  1.059095                Prediction        Y    Y + 1    ...   \n",
      "\n",
      "      perc_pred_increase    last_day  \n",
      "3020            0.032480  2020-08-01  \n",
      "3066            0.030709  2020-08-01  \n"
     ]
    },
    {
     "name": "stderr",
     "output_type": "stream",
     "text": [
      "/home/adamh/PycharmProjects/stonks/model/venv/lib/python3.7/site-packages/ipykernel_launcher.py:4: SettingWithCopyWarning: \n",
      "A value is trying to be set on a copy of a slice from a DataFrame.\n",
      "Try using .loc[row_indexer,col_indexer] = value instead\n",
      "\n",
      "See the caveats in the documentation: https://pandas.pydata.org/pandas-docs/stable/user_guide/indexing.html#returning-a-view-versus-a-copy\n",
      "  after removing the cwd from sys.path.\n",
      "/home/adamh/PycharmProjects/stonks/model/venv/lib/python3.7/site-packages/ipykernel_launcher.py:6: SettingWithCopyWarning: \n",
      "A value is trying to be set on a copy of a slice from a DataFrame.\n",
      "Try using .loc[row_indexer,col_indexer] = value instead\n",
      "\n",
      "See the caveats in the documentation: https://pandas.pydata.org/pandas-docs/stable/user_guide/indexing.html#returning-a-view-versus-a-copy\n",
      "  \n",
      "/home/adamh/PycharmProjects/stonks/model/venv/lib/python3.7/site-packages/ipykernel_launcher.py:8: SettingWithCopyWarning: \n",
      "A value is trying to be set on a copy of a slice from a DataFrame.\n",
      "Try using .loc[row_indexer,col_indexer] = value instead\n",
      "\n",
      "See the caveats in the documentation: https://pandas.pydata.org/pandas-docs/stable/user_guide/indexing.html#returning-a-view-versus-a-copy\n",
      "  \n",
      "/home/adamh/PycharmProjects/stonks/model/venv/lib/python3.7/site-packages/numpy/core/_asarray.py:83: VisibleDeprecationWarning: Creating an ndarray from ragged nested sequences (which is a list-or-tuple of lists-or-tuples-or ndarrays with different lengths or shapes) is deprecated. If you meant to do this, you must specify 'dtype=object' when creating the ndarray\n",
      "  return array(a, dtype, copy=False, order=order)\n"
     ]
    },
    {
     "name": "stdout",
     "output_type": "stream",
     "text": [
      "(17, 13)\n",
      "(3, 13)\n",
      "(0, 13)\n",
      "Empty DataFrame\n",
      "Columns: [name, price_df, item_df_training, trimmed_df, regr, y_pred, y_test, mean_squared_error, r2_score, roi, record_df, perc_pred_increase, last_day]\n",
      "Index: []\n"
     ]
    },
    {
     "name": "stderr",
     "output_type": "stream",
     "text": [
      "/home/adamh/PycharmProjects/stonks/model/venv/lib/python3.7/site-packages/ipykernel_launcher.py:11: SettingWithCopyWarning: \n",
      "A value is trying to be set on a copy of a slice from a DataFrame.\n",
      "Try using .loc[row_indexer,col_indexer] = value instead\n",
      "\n",
      "See the caveats in the documentation: https://pandas.pydata.org/pandas-docs/stable/user_guide/indexing.html#returning-a-view-versus-a-copy\n",
      "  # This is added back by InteractiveShellApp.init_path()\n",
      "/home/adamh/PycharmProjects/stonks/model/venv/lib/python3.7/site-packages/ipykernel_launcher.py:16: SettingWithCopyWarning: \n",
      "A value is trying to be set on a copy of a slice from a DataFrame.\n",
      "Try using .loc[row_indexer,col_indexer] = value instead\n",
      "\n",
      "See the caveats in the documentation: https://pandas.pydata.org/pandas-docs/stable/user_guide/indexing.html#returning-a-view-versus-a-copy\n",
      "  app.launch_new_instance()\n"
     ]
    }
   ],
   "source": [
    "for i in range(0,df.shape[0],batch_size):\n",
    "    tl_df = df.iloc[i:i+100,:]\n",
    "    \n",
    "    tl_df['item_df_training'] = tl_df['price_df'].apply(create_predictive_features)\n",
    "\n",
    "    tl_df['trimmed_df'] = tl_df['item_df_training'].apply(trim_df)\n",
    "\n",
    "    tl_df['regr'], tl_df['y_pred'], tl_df['y_test'], tl_df['mean_squared_error'], tl_df['r2_score'] = zip(*tl_df.apply(create_model, axis=1))\n",
    "\n",
    "\n",
    "    tl_df['roi'], tl_df['record_df'] = zip(*tl_df.apply(create_backtest_df, axis=1))\n",
    "\n",
    "\n",
    "    tl_df.sort_values(by='roi', ascending = False)\n",
    "\n",
    "    tl_df['perc_pred_increase'], tl_df['last_day'] = zip(*tl_df.apply(make_predictions, axis=1))\n",
    "\n",
    "\n",
    "    filter_tl_df = tl_df.copy()\n",
    "\n",
    "    filter_tl_df = filter_tl_df.dropna(how='any')\n",
    "\n",
    "    filter_tl_df =filter_tl_df.loc[filter_tl_df['r2_score'].apply(lambda x: type(x)) != list]\n",
    "\n",
    "    filter_tl_df = filter_tl_df.loc[filter_tl_df['r2_score'] > r2_score_thresh]\n",
    "\n",
    "    print(filter_tl_df.shape)\n",
    "\n",
    "    filter_tl_df = filter_tl_df.loc[filter_tl_df['roi'] > roi_thresh]\n",
    "\n",
    "    print(filter_tl_df.shape)\n",
    "\n",
    "    filter_tl_df = filter_tl_df.loc[\n",
    "            (filter_tl_df['perc_pred_increase'] > perc_pred_increase_thresh) \\\n",
    "        | (filter_tl_df['name'].isin(bought['name']))\n",
    "                                   ]\n",
    "\n",
    "    print(filter_tl_df.shape)\n",
    "\n",
    "    print(filter_tl_df)\n",
    "    df_list.append(filter_tl_df)"
   ]
  },
  {
   "cell_type": "code",
   "execution_count": null,
   "metadata": {},
   "outputs": [],
   "source": []
  },
  {
   "cell_type": "code",
   "execution_count": 81,
   "metadata": {},
   "outputs": [
    {
     "data": {
      "text/html": [
       "<div>\n",
       "<style scoped>\n",
       "    .dataframe tbody tr th:only-of-type {\n",
       "        vertical-align: middle;\n",
       "    }\n",
       "\n",
       "    .dataframe tbody tr th {\n",
       "        vertical-align: top;\n",
       "    }\n",
       "\n",
       "    .dataframe thead th {\n",
       "        text-align: right;\n",
       "    }\n",
       "</style>\n",
       "<table border=\"1\" class=\"dataframe\">\n",
       "  <thead>\n",
       "    <tr style=\"text-align: right;\">\n",
       "      <th></th>\n",
       "      <th>name</th>\n",
       "      <th>price_df</th>\n",
       "      <th>item_df_training</th>\n",
       "      <th>trimmed_df</th>\n",
       "      <th>regr</th>\n",
       "      <th>y_pred</th>\n",
       "      <th>y_test</th>\n",
       "      <th>mean_squared_error</th>\n",
       "      <th>r2_score</th>\n",
       "      <th>roi</th>\n",
       "      <th>record_df</th>\n",
       "      <th>perc_pred_increase</th>\n",
       "      <th>last_day</th>\n",
       "    </tr>\n",
       "  </thead>\n",
       "  <tbody>\n",
       "  </tbody>\n",
       "</table>\n",
       "</div>"
      ],
      "text/plain": [
       "Empty DataFrame\n",
       "Columns: [name, price_df, item_df_training, trimmed_df, regr, y_pred, y_test, mean_squared_error, r2_score, roi, record_df, perc_pred_increase, last_day]\n",
       "Index: []"
      ]
     },
     "execution_count": 81,
     "metadata": {},
     "output_type": "execute_result"
    }
   ],
   "source": [
    "filter_tl_df"
   ]
  },
  {
   "cell_type": "code",
   "execution_count": 82,
   "metadata": {},
   "outputs": [
    {
     "data": {
      "text/plain": [
       "[Empty DataFrame\n",
       " Columns: [name, price_df, item_df_training, trimmed_df, regr, y_pred, y_test, mean_squared_error, r2_score, roi, record_df, perc_pred_increase, last_day]\n",
       " Index: [],\n",
       "                            name  \\\n",
       " 162  Black%20wizard%20hat%20(g)   \n",
       " \n",
       "                                               price_df  \\\n",
       " 162              Black%20wizard%20hat%20(g) price  ...   \n",
       " \n",
       "                                       item_df_training  \\\n",
       " 162              Black%20wizard%20hat%20(g) price  ...   \n",
       " \n",
       "                                             trimmed_df                regr  \\\n",
       " 162              Black%20wizard%20hat%20(g) price  ...  LinearRegression()   \n",
       " \n",
       "                                                 y_pred  \\\n",
       " 162  [377761.0829621381, 385669.7704621381, 369986....   \n",
       " \n",
       "                                                 y_test  mean_squared_error  \\\n",
       " 162  date_obj\n",
       " 2020-04-06    382445.0\n",
       " 2020-04-07    ...        1.035652e+08   \n",
       " \n",
       "      r2_score       roi                                          record_df  \\\n",
       " 162  0.963592  1.154134                 Prediction         Y     Y + 1 ...   \n",
       " \n",
       "      perc_pred_increase    last_day  \n",
       " 162            0.076677  2020-08-01  ,\n",
       " Empty DataFrame\n",
       " Columns: [name, price_df, item_df_training, trimmed_df, regr, y_pred, y_test, mean_squared_error, r2_score, roi, record_df, perc_pred_increase, last_day]\n",
       " Index: [],\n",
       " Empty DataFrame\n",
       " Columns: [name, price_df, item_df_training, trimmed_df, regr, y_pred, y_test, mean_squared_error, r2_score, roi, record_df, perc_pred_increase, last_day]\n",
       " Index: [],\n",
       "                       name                                           price_df  \\\n",
       " 403  Black%20shield%20(h1)              Black%20shield%20(h1) price  Black...   \n",
       " \n",
       "                                       item_df_training  \\\n",
       " 403              Black%20shield%20(h1) price  Black...   \n",
       " \n",
       "                                             trimmed_df                regr  \\\n",
       " 403              Black%20shield%20(h1) price  Black...  LinearRegression()   \n",
       " \n",
       "                                                 y_pred  \\\n",
       " 403  [2728.7109467436317, 2603.946664517069, 2555.8...   \n",
       " \n",
       "                                                 y_test  mean_squared_error  \\\n",
       " 403  date_obj\n",
       " 2020-04-06    2526.0\n",
       " 2020-04-07    25...       147075.774678   \n",
       " \n",
       "      r2_score       roi                                          record_df  \\\n",
       " 403  0.934341  1.061357               Prediction       Y   Y + 1   Y - ...   \n",
       " \n",
       "      perc_pred_increase    last_day  \n",
       " 403            0.084099  2020-08-01  ,\n",
       " Empty DataFrame\n",
       " Columns: [name, price_df, item_df_training, trimmed_df, regr, y_pred, y_test, mean_squared_error, r2_score, roi, record_df, perc_pred_increase, last_day]\n",
       " Index: [],\n",
       " Empty DataFrame\n",
       " Columns: [name, price_df, item_df_training, trimmed_df, regr, y_pred, y_test, mean_squared_error, r2_score, roi, record_df, perc_pred_increase, last_day]\n",
       " Index: [],\n",
       " Empty DataFrame\n",
       " Columns: [name, price_df, item_df_training, trimmed_df, regr, y_pred, y_test, mean_squared_error, r2_score, roi, record_df, perc_pred_increase, last_day]\n",
       " Index: [],\n",
       "                       name                                           price_df  \\\n",
       " 813  Black%20dragon%20mask              Black%20dragon%20mask price  Black...   \n",
       " \n",
       "                                       item_df_training  \\\n",
       " 813              Black%20dragon%20mask price  Black...   \n",
       " \n",
       "                                             trimmed_df                regr  \\\n",
       " 813              Black%20dragon%20mask price  Black...  LinearRegression()   \n",
       " \n",
       "                                                 y_pred  \\\n",
       " 813  [13812.187779017857, 14346.625279017857, 14716...   \n",
       " \n",
       "                                                 y_test  mean_squared_error  \\\n",
       " 813  date_obj\n",
       " 2020-04-06    14384.0\n",
       " 2020-04-07    1...       564610.569221   \n",
       " \n",
       "      r2_score       roi                                          record_df  \\\n",
       " 813   0.91256  1.055636                Prediction        Y    Y + 1    ...   \n",
       " \n",
       "      perc_pred_increase    last_day  \n",
       " 813            0.044488  2020-08-01  ,\n",
       " Empty DataFrame\n",
       " Columns: [name, price_df, item_df_training, trimmed_df, regr, y_pred, y_test, mean_squared_error, r2_score, roi, record_df, perc_pred_increase, last_day]\n",
       " Index: [],\n",
       "                        name  \\\n",
       " 1010  Maple%20longbow%20(u)   \n",
       " \n",
       "                                                price_df  \\\n",
       " 1010              Maple%20longbow%20(u) price  Maple...   \n",
       " \n",
       "                                        item_df_training  \\\n",
       " 1010              Maple%20longbow%20(u) price  Maple...   \n",
       " \n",
       "                                              trimmed_df                regr  \\\n",
       " 1010              Maple%20longbow%20(u) price  Maple...  LinearRegression()   \n",
       " \n",
       "                                                  y_pred  \\\n",
       " 1010  [37.88301795255351, 37.54734260868239, 37.1341...   \n",
       " \n",
       "                                                  y_test  mean_squared_error  \\\n",
       " 1010  date_obj\n",
       " 2020-02-21    35.0\n",
       " 2020-02-22    35.0...            7.470698   \n",
       " \n",
       "       r2_score       roi                                          record_df  \\\n",
       " 1010  0.957066  2.403655              Prediction     Y  Y + 1  Y - 1    ...   \n",
       " \n",
       "       perc_pred_increase    last_day  \n",
       " 1010            0.048451  2020-08-01  ,\n",
       "               name                                           price_df  \\\n",
       " 1159  Icy%20basalt              Icy%20basalt price  Icy%20basalt v...   \n",
       " \n",
       "                                        item_df_training  \\\n",
       " 1159              Icy%20basalt price  Icy%20basalt v...   \n",
       " \n",
       "                                              trimmed_df                regr  \\\n",
       " 1159              Icy%20basalt price  Icy%20basalt v...  LinearRegression()   \n",
       " \n",
       "                                                  y_pred  \\\n",
       " 1159  [1028.891668795362, 1063.3384919154792, 1019.9...   \n",
       " \n",
       "                                                  y_test  mean_squared_error  \\\n",
       " 1159  date_obj\n",
       " 2020-04-17     982.0\n",
       " 2020-04-18     9...         5062.121068   \n",
       " \n",
       "       r2_score       roi                                          record_df  \\\n",
       " 1159  0.859634  1.085973               Prediction       Y   Y + 1   Y - ...   \n",
       " \n",
       "       perc_pred_increase    last_day  \n",
       " 1159            0.057565  2020-08-01  ,\n",
       " Empty DataFrame\n",
       " Columns: [name, price_df, item_df_training, trimmed_df, regr, y_pred, y_test, mean_squared_error, r2_score, roi, record_df, perc_pred_increase, last_day]\n",
       " Index: [],\n",
       "                    name                                           price_df  \\\n",
       " 1338  Merfolk%20trident              Merfolk%20trident price  Merfolk%2...   \n",
       " \n",
       "                                        item_df_training  \\\n",
       " 1338              Merfolk%20trident price  Merfolk%2...   \n",
       " \n",
       "                                              trimmed_df                regr  \\\n",
       " 1338              Merfolk%20trident price  Merfolk%2...  LinearRegression()   \n",
       " \n",
       "                                                  y_pred  \\\n",
       " 1338  [864414.5255541872, 848769.2755541872, 864737....   \n",
       " \n",
       "                                                  y_test  mean_squared_error  \\\n",
       " 1338  date_obj\n",
       " 2020-04-17    882631.0\n",
       " 2020-04-18    ...        1.106398e+09   \n",
       " \n",
       "       r2_score       roi                                          record_df  \\\n",
       " 1338   0.90693  1.076371                 Prediction         Y     Y + 1 ...   \n",
       " \n",
       "       perc_pred_increase    last_day  \n",
       " 1338            0.047365  2020-08-01  ,\n",
       " Empty DataFrame\n",
       " Columns: [name, price_df, item_df_training, trimmed_df, regr, y_pred, y_test, mean_squared_error, r2_score, roi, record_df, perc_pred_increase, last_day]\n",
       " Index: [],\n",
       "                      name                                           price_df  \\\n",
       " 1564  Saradomin%20bracers              Saradomin%20bracers price  Saradom...   \n",
       " \n",
       "                                        item_df_training  \\\n",
       " 1564              Saradomin%20bracers price  Saradom...   \n",
       " \n",
       "                                              trimmed_df                regr  \\\n",
       " 1564              Saradomin%20bracers price  Saradom...  LinearRegression()   \n",
       " \n",
       "                                                  y_pred  \\\n",
       " 1564  [21395.588287198603, 22101.010162198603, 22475...   \n",
       " \n",
       "                                                  y_test  mean_squared_error  \\\n",
       " 1564  date_obj\n",
       " 2020-04-20    24408.0\n",
       " 2020-04-21    2...        5.018610e+06   \n",
       " \n",
       "       r2_score       roi                                          record_df  \\\n",
       " 1564  0.879335  1.088994                Prediction        Y    Y + 1    ...   \n",
       " \n",
       "       perc_pred_increase    last_day  \n",
       " 1564            0.009442  2020-08-01  ,\n",
       " Empty DataFrame\n",
       " Columns: [name, price_df, item_df_training, trimmed_df, regr, y_pred, y_test, mean_squared_error, r2_score, roi, record_df, perc_pred_increase, last_day]\n",
       " Index: [],\n",
       " Empty DataFrame\n",
       " Columns: [name, price_df, item_df_training, trimmed_df, regr, y_pred, y_test, mean_squared_error, r2_score, roi, record_df, perc_pred_increase, last_day]\n",
       " Index: [],\n",
       " Empty DataFrame\n",
       " Columns: [name, price_df, item_df_training, trimmed_df, regr, y_pred, y_test, mean_squared_error, r2_score, roi, record_df, perc_pred_increase, last_day]\n",
       " Index: [],\n",
       " Empty DataFrame\n",
       " Columns: [name, price_df, item_df_training, trimmed_df, regr, y_pred, y_test, mean_squared_error, r2_score, roi, record_df, perc_pred_increase, last_day]\n",
       " Index: [],\n",
       "                   name                                           price_df  \\\n",
       " 2098  Lantadyme%20seed              Lantadyme%20seed price  Lantadyme%...   \n",
       " \n",
       "                                        item_df_training  \\\n",
       " 2098              Lantadyme%20seed price  Lantadyme%...   \n",
       " \n",
       "                                              trimmed_df                regr  \\\n",
       " 2098              Lantadyme%20seed price  Lantadyme%...  LinearRegression()   \n",
       " \n",
       "                                                  y_pred  \\\n",
       " 2098  [2241.350740393814, 2274.066072425064, 2381.97...   \n",
       " \n",
       "                                                  y_test  mean_squared_error  \\\n",
       " 2098  date_obj\n",
       " 2020-04-20    2436.0\n",
       " 2020-04-21    25...        26531.774848   \n",
       " \n",
       "       r2_score      roi                                          record_df  \\\n",
       " 2098  0.907678  1.07388               Prediction       Y   Y + 1   Y - ...   \n",
       " \n",
       "       perc_pred_increase    last_day  \n",
       " 2098            0.035541  2020-08-01  ,\n",
       " Empty DataFrame\n",
       " Columns: [name, price_df, item_df_training, trimmed_df, regr, y_pred, y_test, mean_squared_error, r2_score, roi, record_df, perc_pred_increase, last_day]\n",
       " Index: [],\n",
       "              name                                           price_df  \\\n",
       " 2225  Raw%20shark              Raw%20shark price  Raw%20shark vol...   \n",
       " \n",
       "                                        item_df_training  \\\n",
       " 2225              Raw%20shark price  Raw%20shark vol...   \n",
       " \n",
       "                                              trimmed_df                regr  \\\n",
       " 2225              Raw%20shark price  Raw%20shark vol...  LinearRegression()   \n",
       " \n",
       "                                                  y_pred  \\\n",
       " 2225  [1108.572803121956, 1135.980762195738, 1135.89...   \n",
       " \n",
       "                                                  y_test  mean_squared_error  \\\n",
       " 2225  date_obj\n",
       " 2020-02-21    1068.0\n",
       " 2020-02-22    10...         2433.365667   \n",
       " \n",
       "       r2_score       roi                                          record_df  \\\n",
       " 2225  0.935607  1.127036               Prediction       Y   Y + 1   Y - ...   \n",
       " \n",
       "       perc_pred_increase    last_day  \n",
       " 2225            0.055545  2020-08-01  ,\n",
       " Empty DataFrame\n",
       " Columns: [name, price_df, item_df_training, trimmed_df, regr, y_pred, y_test, mean_squared_error, r2_score, roi, record_df, perc_pred_increase, last_day]\n",
       " Index: [],\n",
       "                                name  \\\n",
       " 2469  Bottomless%20compost%20bucket   \n",
       " 2499                   Rune%20arrow   \n",
       " \n",
       "                                                price_df  \\\n",
       " 2469              Bottomless%20compost%20bucket pric...   \n",
       " 2499              Rune%20arrow price  Rune%20arrow v...   \n",
       " \n",
       "                                        item_df_training  \\\n",
       " 2469              Bottomless%20compost%20bucket pric...   \n",
       " 2499              Rune%20arrow price  Rune%20arrow v...   \n",
       " \n",
       "                                              trimmed_df                regr  \\\n",
       " 2469              Bottomless%20compost%20bucket pric...  LinearRegression()   \n",
       " 2499              Rune%20arrow price  Rune%20arrow v...  LinearRegression()   \n",
       " \n",
       "                                                  y_pred  \\\n",
       " 2469  [816320.8397696477, 785941.4647696477, 749247....   \n",
       " 2499  [60.89305345331826, 59.51514646202224, 61.7101...   \n",
       " \n",
       "                                                  y_test  mean_squared_error  \\\n",
       " 2469  date_obj\n",
       " 2020-04-26    766921.0\n",
       " 2020-04-27    ...        1.518091e+09   \n",
       " 2499  date_obj\n",
       " 2020-02-20    61.0\n",
       " 2020-02-21    61.0...        1.478509e+01   \n",
       " \n",
       "       r2_score       roi                                          record_df  \\\n",
       " 2469  0.933250  1.240082                Prediction         Y     Y + 1  ...   \n",
       " 2499  0.871312  1.182521              Prediction     Y  Y + 1  Y - 1    ...   \n",
       " \n",
       "       perc_pred_increase    last_day  \n",
       " 2469             0.07867  2020-08-01  \n",
       " 2499             0.03030  2020-08-01  ,\n",
       " Empty DataFrame\n",
       " Columns: [name, price_df, item_df_training, trimmed_df, regr, y_pred, y_test, mean_squared_error, r2_score, roi, record_df, perc_pred_increase, last_day]\n",
       " Index: [],\n",
       " Empty DataFrame\n",
       " Columns: [name, price_df, item_df_training, trimmed_df, regr, y_pred, y_test, mean_squared_error, r2_score, roi, record_df, perc_pred_increase, last_day]\n",
       " Index: [],\n",
       " Empty DataFrame\n",
       " Columns: [name, price_df, item_df_training, trimmed_df, regr, y_pred, y_test, mean_squared_error, r2_score, roi, record_df, perc_pred_increase, last_day]\n",
       " Index: [],\n",
       "                               name  \\\n",
       " 2826  Black%20d'hide%20chaps%20(g)   \n",
       " \n",
       "                                                price_df  \\\n",
       " 2826              Black%20d'hide%20chaps%20(g) price...   \n",
       " \n",
       "                                        item_df_training  \\\n",
       " 2826              Black%20d'hide%20chaps%20(g) price...   \n",
       " \n",
       "                                              trimmed_df                regr  \\\n",
       " 2826              Black%20d'hide%20chaps%20(g) price...  LinearRegression()   \n",
       " \n",
       "                                                  y_pred  \\\n",
       " 2826  [773688.8210290829, 768792.8210290829, 858060....   \n",
       " \n",
       "                                                  y_test  mean_squared_error  \\\n",
       " 2826  date_obj\n",
       " 2020-04-07    797019.0\n",
       " 2020-04-08    ...        1.561122e+09   \n",
       " \n",
       "       r2_score       roi                                          record_df  \\\n",
       " 2826  0.895814  1.446377                 Prediction         Y     Y + 1 ...   \n",
       " \n",
       "       perc_pred_increase    last_day  \n",
       " 2826            0.039559  2020-08-01  ,\n",
       " Empty DataFrame\n",
       " Columns: [name, price_df, item_df_training, trimmed_df, regr, y_pred, y_test, mean_squared_error, r2_score, roi, record_df, perc_pred_increase, last_day]\n",
       " Index: [],\n",
       "                   name                                           price_df  \\\n",
       " 3020   Mole%20slippers              Mole%20slippers price  Mole%20slip...   \n",
       " 3066  Black%20cavalier              Black%20cavalier price  Black%20ca...   \n",
       " \n",
       "                                        item_df_training  \\\n",
       " 3020              Mole%20slippers price  Mole%20slip...   \n",
       " 3066              Black%20cavalier price  Black%20ca...   \n",
       " \n",
       "                                              trimmed_df                regr  \\\n",
       " 3020              Mole%20slippers price  Mole%20slip...  LinearRegression()   \n",
       " 3066              Black%20cavalier price  Black%20ca...  LinearRegression()   \n",
       " \n",
       "                                                  y_pred  \\\n",
       " 3020  [105275.3906123584, 106336.1581904834, 105498....   \n",
       " 3066  [14002.993931361609, 13695.531529017859, 13745...   \n",
       " \n",
       "                                                  y_test  mean_squared_error  \\\n",
       " 3020  date_obj\n",
       " 2020-05-11    106416.0\n",
       " 2020-05-12    ...        2.127208e+08   \n",
       " 3066  date_obj\n",
       " 2020-04-07    13493.0\n",
       " 2020-04-08    1...        4.613472e+05   \n",
       " \n",
       "       r2_score       roi                                          record_df  \\\n",
       " 3020  0.963184  1.744236                 Prediction         Y     Y + 1 ...   \n",
       " 3066  0.916655  1.059095                Prediction        Y    Y + 1    ...   \n",
       " \n",
       "       perc_pred_increase    last_day  \n",
       " 3020            0.032480  2020-08-01  \n",
       " 3066            0.030709  2020-08-01  ,\n",
       " Empty DataFrame\n",
       " Columns: [name, price_df, item_df_training, trimmed_df, regr, y_pred, y_test, mean_squared_error, r2_score, roi, record_df, perc_pred_increase, last_day]\n",
       " Index: []]"
      ]
     },
     "execution_count": 82,
     "metadata": {},
     "output_type": "execute_result"
    }
   ],
   "source": [
    "df_list"
   ]
  },
  {
   "cell_type": "code",
   "execution_count": 83,
   "metadata": {},
   "outputs": [
    {
     "data": {
      "text/plain": [
       "Index(['name', 'price_df', 'item_df_training', 'trimmed_df', 'regr', 'y_pred',\n",
       "       'y_test', 'mean_squared_error', 'r2_score', 'roi', 'record_df',\n",
       "       'perc_pred_increase', 'last_day'],\n",
       "      dtype='object')"
      ]
     },
     "execution_count": 83,
     "metadata": {},
     "output_type": "execute_result"
    }
   ],
   "source": [
    "trading_df = pd.concat(df_list, axis=0).sort_values(by='perc_pred_increase', ascending=False)\n",
    "trading_df.columns"
   ]
  },
  {
   "cell_type": "code",
   "execution_count": 84,
   "metadata": {},
   "outputs": [
    {
     "data": {
      "text/html": [
       "<div>\n",
       "<style scoped>\n",
       "    .dataframe tbody tr th:only-of-type {\n",
       "        vertical-align: middle;\n",
       "    }\n",
       "\n",
       "    .dataframe tbody tr th {\n",
       "        vertical-align: top;\n",
       "    }\n",
       "\n",
       "    .dataframe thead th {\n",
       "        text-align: right;\n",
       "    }\n",
       "</style>\n",
       "<table border=\"1\" class=\"dataframe\">\n",
       "  <thead>\n",
       "    <tr style=\"text-align: right;\">\n",
       "      <th></th>\n",
       "      <th>name</th>\n",
       "      <th>mean_squared_error</th>\n",
       "      <th>r2_score</th>\n",
       "      <th>roi</th>\n",
       "      <th>perc_pred_increase</th>\n",
       "      <th>last_day</th>\n",
       "    </tr>\n",
       "  </thead>\n",
       "  <tbody>\n",
       "    <tr>\n",
       "      <th>403</th>\n",
       "      <td>Black%20shield%20(h1)</td>\n",
       "      <td>1.470758e+05</td>\n",
       "      <td>0.934341</td>\n",
       "      <td>1.061357</td>\n",
       "      <td>0.084099</td>\n",
       "      <td>2020-08-01</td>\n",
       "    </tr>\n",
       "    <tr>\n",
       "      <th>2469</th>\n",
       "      <td>Bottomless%20compost%20bucket</td>\n",
       "      <td>1.518091e+09</td>\n",
       "      <td>0.933250</td>\n",
       "      <td>1.240082</td>\n",
       "      <td>0.078670</td>\n",
       "      <td>2020-08-01</td>\n",
       "    </tr>\n",
       "    <tr>\n",
       "      <th>162</th>\n",
       "      <td>Black%20wizard%20hat%20(g)</td>\n",
       "      <td>1.035652e+08</td>\n",
       "      <td>0.963592</td>\n",
       "      <td>1.154134</td>\n",
       "      <td>0.076677</td>\n",
       "      <td>2020-08-01</td>\n",
       "    </tr>\n",
       "    <tr>\n",
       "      <th>1159</th>\n",
       "      <td>Icy%20basalt</td>\n",
       "      <td>5.062121e+03</td>\n",
       "      <td>0.859634</td>\n",
       "      <td>1.085973</td>\n",
       "      <td>0.057565</td>\n",
       "      <td>2020-08-01</td>\n",
       "    </tr>\n",
       "    <tr>\n",
       "      <th>2225</th>\n",
       "      <td>Raw%20shark</td>\n",
       "      <td>2.433366e+03</td>\n",
       "      <td>0.935607</td>\n",
       "      <td>1.127036</td>\n",
       "      <td>0.055545</td>\n",
       "      <td>2020-08-01</td>\n",
       "    </tr>\n",
       "    <tr>\n",
       "      <th>1010</th>\n",
       "      <td>Maple%20longbow%20(u)</td>\n",
       "      <td>7.470698e+00</td>\n",
       "      <td>0.957066</td>\n",
       "      <td>2.403655</td>\n",
       "      <td>0.048451</td>\n",
       "      <td>2020-08-01</td>\n",
       "    </tr>\n",
       "    <tr>\n",
       "      <th>1338</th>\n",
       "      <td>Merfolk%20trident</td>\n",
       "      <td>1.106398e+09</td>\n",
       "      <td>0.906930</td>\n",
       "      <td>1.076371</td>\n",
       "      <td>0.047365</td>\n",
       "      <td>2020-08-01</td>\n",
       "    </tr>\n",
       "    <tr>\n",
       "      <th>813</th>\n",
       "      <td>Black%20dragon%20mask</td>\n",
       "      <td>5.646106e+05</td>\n",
       "      <td>0.912560</td>\n",
       "      <td>1.055636</td>\n",
       "      <td>0.044488</td>\n",
       "      <td>2020-08-01</td>\n",
       "    </tr>\n",
       "    <tr>\n",
       "      <th>2826</th>\n",
       "      <td>Black%20d'hide%20chaps%20(g)</td>\n",
       "      <td>1.561122e+09</td>\n",
       "      <td>0.895814</td>\n",
       "      <td>1.446377</td>\n",
       "      <td>0.039559</td>\n",
       "      <td>2020-08-01</td>\n",
       "    </tr>\n",
       "    <tr>\n",
       "      <th>2098</th>\n",
       "      <td>Lantadyme%20seed</td>\n",
       "      <td>2.653177e+04</td>\n",
       "      <td>0.907678</td>\n",
       "      <td>1.073880</td>\n",
       "      <td>0.035541</td>\n",
       "      <td>2020-08-01</td>\n",
       "    </tr>\n",
       "    <tr>\n",
       "      <th>3020</th>\n",
       "      <td>Mole%20slippers</td>\n",
       "      <td>2.127208e+08</td>\n",
       "      <td>0.963184</td>\n",
       "      <td>1.744236</td>\n",
       "      <td>0.032480</td>\n",
       "      <td>2020-08-01</td>\n",
       "    </tr>\n",
       "    <tr>\n",
       "      <th>3066</th>\n",
       "      <td>Black%20cavalier</td>\n",
       "      <td>4.613472e+05</td>\n",
       "      <td>0.916655</td>\n",
       "      <td>1.059095</td>\n",
       "      <td>0.030709</td>\n",
       "      <td>2020-08-01</td>\n",
       "    </tr>\n",
       "    <tr>\n",
       "      <th>2499</th>\n",
       "      <td>Rune%20arrow</td>\n",
       "      <td>1.478509e+01</td>\n",
       "      <td>0.871312</td>\n",
       "      <td>1.182521</td>\n",
       "      <td>0.030300</td>\n",
       "      <td>2020-08-01</td>\n",
       "    </tr>\n",
       "    <tr>\n",
       "      <th>1564</th>\n",
       "      <td>Saradomin%20bracers</td>\n",
       "      <td>5.018610e+06</td>\n",
       "      <td>0.879335</td>\n",
       "      <td>1.088994</td>\n",
       "      <td>0.009442</td>\n",
       "      <td>2020-08-01</td>\n",
       "    </tr>\n",
       "  </tbody>\n",
       "</table>\n",
       "</div>"
      ],
      "text/plain": [
       "                               name  mean_squared_error  r2_score       roi  \\\n",
       "403           Black%20shield%20(h1)        1.470758e+05  0.934341  1.061357   \n",
       "2469  Bottomless%20compost%20bucket        1.518091e+09  0.933250  1.240082   \n",
       "162      Black%20wizard%20hat%20(g)        1.035652e+08  0.963592  1.154134   \n",
       "1159                   Icy%20basalt        5.062121e+03  0.859634  1.085973   \n",
       "2225                    Raw%20shark        2.433366e+03  0.935607  1.127036   \n",
       "1010          Maple%20longbow%20(u)        7.470698e+00  0.957066  2.403655   \n",
       "1338              Merfolk%20trident        1.106398e+09  0.906930  1.076371   \n",
       "813           Black%20dragon%20mask        5.646106e+05  0.912560  1.055636   \n",
       "2826   Black%20d'hide%20chaps%20(g)        1.561122e+09  0.895814  1.446377   \n",
       "2098               Lantadyme%20seed        2.653177e+04  0.907678  1.073880   \n",
       "3020                Mole%20slippers        2.127208e+08  0.963184  1.744236   \n",
       "3066               Black%20cavalier        4.613472e+05  0.916655  1.059095   \n",
       "2499                   Rune%20arrow        1.478509e+01  0.871312  1.182521   \n",
       "1564            Saradomin%20bracers        5.018610e+06  0.879335  1.088994   \n",
       "\n",
       "      perc_pred_increase    last_day  \n",
       "403             0.084099  2020-08-01  \n",
       "2469            0.078670  2020-08-01  \n",
       "162             0.076677  2020-08-01  \n",
       "1159            0.057565  2020-08-01  \n",
       "2225            0.055545  2020-08-01  \n",
       "1010            0.048451  2020-08-01  \n",
       "1338            0.047365  2020-08-01  \n",
       "813             0.044488  2020-08-01  \n",
       "2826            0.039559  2020-08-01  \n",
       "2098            0.035541  2020-08-01  \n",
       "3020            0.032480  2020-08-01  \n",
       "3066            0.030709  2020-08-01  \n",
       "2499            0.030300  2020-08-01  \n",
       "1564            0.009442  2020-08-01  "
      ]
     },
     "execution_count": 84,
     "metadata": {},
     "output_type": "execute_result"
    }
   ],
   "source": [
    "trading_df.loc[:,['name', 'mean_squared_error', 'r2_score', 'roi', 'perc_pred_increase','last_day']]"
   ]
  },
  {
   "cell_type": "code",
   "execution_count": 121,
   "metadata": {},
   "outputs": [
    {
     "data": {
      "text/html": [
       "<div>\n",
       "<style scoped>\n",
       "    .dataframe tbody tr th:only-of-type {\n",
       "        vertical-align: middle;\n",
       "    }\n",
       "\n",
       "    .dataframe tbody tr th {\n",
       "        vertical-align: top;\n",
       "    }\n",
       "\n",
       "    .dataframe thead th {\n",
       "        text-align: right;\n",
       "    }\n",
       "</style>\n",
       "<table border=\"1\" class=\"dataframe\">\n",
       "  <thead>\n",
       "    <tr style=\"text-align: right;\">\n",
       "      <th></th>\n",
       "      <th>name</th>\n",
       "      <th>mean_squared_error</th>\n",
       "      <th>r2_score</th>\n",
       "      <th>roi</th>\n",
       "      <th>perc_pred_increase</th>\n",
       "      <th>last_day</th>\n",
       "    </tr>\n",
       "  </thead>\n",
       "  <tbody>\n",
       "    <tr>\n",
       "      <th>403</th>\n",
       "      <td>Black%20shield%20(h1)</td>\n",
       "      <td>1.470758e+05</td>\n",
       "      <td>0.934341</td>\n",
       "      <td>1.061357</td>\n",
       "      <td>0.084099</td>\n",
       "      <td>2020-08-01</td>\n",
       "    </tr>\n",
       "    <tr>\n",
       "      <th>2469</th>\n",
       "      <td>Bottomless%20compost%20bucket</td>\n",
       "      <td>1.518091e+09</td>\n",
       "      <td>0.933250</td>\n",
       "      <td>1.240082</td>\n",
       "      <td>0.078670</td>\n",
       "      <td>2020-08-01</td>\n",
       "    </tr>\n",
       "    <tr>\n",
       "      <th>1159</th>\n",
       "      <td>Icy%20basalt</td>\n",
       "      <td>5.062121e+03</td>\n",
       "      <td>0.859634</td>\n",
       "      <td>1.085973</td>\n",
       "      <td>0.057565</td>\n",
       "      <td>2020-08-01</td>\n",
       "    </tr>\n",
       "    <tr>\n",
       "      <th>2225</th>\n",
       "      <td>Raw%20shark</td>\n",
       "      <td>2.433366e+03</td>\n",
       "      <td>0.935607</td>\n",
       "      <td>1.127036</td>\n",
       "      <td>0.055545</td>\n",
       "      <td>2020-08-01</td>\n",
       "    </tr>\n",
       "    <tr>\n",
       "      <th>1338</th>\n",
       "      <td>Merfolk%20trident</td>\n",
       "      <td>1.106398e+09</td>\n",
       "      <td>0.906930</td>\n",
       "      <td>1.076371</td>\n",
       "      <td>0.047365</td>\n",
       "      <td>2020-08-01</td>\n",
       "    </tr>\n",
       "    <tr>\n",
       "      <th>1564</th>\n",
       "      <td>Saradomin%20bracers</td>\n",
       "      <td>5.018610e+06</td>\n",
       "      <td>0.879335</td>\n",
       "      <td>1.088994</td>\n",
       "      <td>0.009442</td>\n",
       "      <td>2020-08-01</td>\n",
       "    </tr>\n",
       "  </tbody>\n",
       "</table>\n",
       "</div>"
      ],
      "text/plain": [
       "                               name  mean_squared_error  r2_score       roi  \\\n",
       "403           Black%20shield%20(h1)        1.470758e+05  0.934341  1.061357   \n",
       "2469  Bottomless%20compost%20bucket        1.518091e+09  0.933250  1.240082   \n",
       "1159                   Icy%20basalt        5.062121e+03  0.859634  1.085973   \n",
       "2225                    Raw%20shark        2.433366e+03  0.935607  1.127036   \n",
       "1338              Merfolk%20trident        1.106398e+09  0.906930  1.076371   \n",
       "1564            Saradomin%20bracers        5.018610e+06  0.879335  1.088994   \n",
       "\n",
       "      perc_pred_increase    last_day  \n",
       "403             0.084099  2020-08-01  \n",
       "2469            0.078670  2020-08-01  \n",
       "1159            0.057565  2020-08-01  \n",
       "2225            0.055545  2020-08-01  \n",
       "1338            0.047365  2020-08-01  \n",
       "1564            0.009442  2020-08-01  "
      ]
     },
     "execution_count": 121,
     "metadata": {},
     "output_type": "execute_result"
    }
   ],
   "source": [
    "trading_df.loc[trading_df['name'].isin(bought)].loc[:,['name', 'mean_squared_error', 'r2_score', 'roi', 'perc_pred_increase','last_day']]"
   ]
  },
  {
   "cell_type": "code",
   "execution_count": 126,
   "metadata": {},
   "outputs": [
    {
     "data": {
      "text/plain": [
       "0                        Icy%20basalt\n",
       "1               Black%20shield%20(h1)\n",
       "2                 Saradomin%20bracers\n",
       "3                   Merfolk%20trident\n",
       "2225                      Raw%20shark\n",
       "2469    Bottomless%20compost%20bucket\n",
       "Name: name, dtype: object"
      ]
     },
     "execution_count": 126,
     "metadata": {},
     "output_type": "execute_result"
    }
   ],
   "source": [
    "bought"
   ]
  },
  {
   "cell_type": "code",
   "execution_count": 131,
   "metadata": {},
   "outputs": [],
   "source": [
    "bought = bought.drop([2,3])"
   ]
  },
  {
   "cell_type": "code",
   "execution_count": 108,
   "metadata": {},
   "outputs": [],
   "source": [
    "bought = pd.Series(['Icy%20basalt', 'Black%20shield%20(h1)', 'Saradomin%20bracers', 'Merfolk%20trident'], name='name')"
   ]
  },
  {
   "cell_type": "code",
   "execution_count": 109,
   "metadata": {},
   "outputs": [
    {
     "data": {
      "text/plain": [
       "0             Icy%20basalt\n",
       "1    Black%20shield%20(h1)\n",
       "2      Saradomin%20bracers\n",
       "3        Merfolk%20trident\n",
       "Name: name, dtype: object"
      ]
     },
     "execution_count": 109,
     "metadata": {},
     "output_type": "execute_result"
    }
   ],
   "source": [
    "bought"
   ]
  },
  {
   "cell_type": "code",
   "execution_count": 116,
   "metadata": {},
   "outputs": [
    {
     "data": {
      "text/plain": [
       "2469    Bottomless%20compost%20bucket\n",
       "Name: name, dtype: object"
      ]
     },
     "execution_count": 116,
     "metadata": {},
     "output_type": "execute_result"
    }
   ],
   "source": [
    "currently_buying = trading_df['name'][1:2]\n",
    "currently_buying\n"
   ]
  },
  {
   "cell_type": "code",
   "execution_count": 117,
   "metadata": {},
   "outputs": [],
   "source": [
    "bought = bought.append(currently_buying)"
   ]
  },
  {
   "cell_type": "code",
   "execution_count": 132,
   "metadata": {},
   "outputs": [],
   "source": [
    "#bought.merge(currently_buying)\n",
    "bought.to_csv('data/bought', index=False)"
   ]
  },
  {
   "cell_type": "code",
   "execution_count": 133,
   "metadata": {},
   "outputs": [
    {
     "data": {
      "text/html": [
       "<div>\n",
       "<style scoped>\n",
       "    .dataframe tbody tr th:only-of-type {\n",
       "        vertical-align: middle;\n",
       "    }\n",
       "\n",
       "    .dataframe tbody tr th {\n",
       "        vertical-align: top;\n",
       "    }\n",
       "\n",
       "    .dataframe thead th {\n",
       "        text-align: right;\n",
       "    }\n",
       "</style>\n",
       "<table border=\"1\" class=\"dataframe\">\n",
       "  <thead>\n",
       "    <tr style=\"text-align: right;\">\n",
       "      <th></th>\n",
       "      <th>name</th>\n",
       "    </tr>\n",
       "  </thead>\n",
       "  <tbody>\n",
       "    <tr>\n",
       "      <th>0</th>\n",
       "      <td>Icy%20basalt</td>\n",
       "    </tr>\n",
       "    <tr>\n",
       "      <th>1</th>\n",
       "      <td>Black%20shield%20(h1)</td>\n",
       "    </tr>\n",
       "    <tr>\n",
       "      <th>2</th>\n",
       "      <td>Raw%20shark</td>\n",
       "    </tr>\n",
       "    <tr>\n",
       "      <th>3</th>\n",
       "      <td>Bottomless%20compost%20bucket</td>\n",
       "    </tr>\n",
       "  </tbody>\n",
       "</table>\n",
       "</div>"
      ],
      "text/plain": [
       "                            name\n",
       "0                   Icy%20basalt\n",
       "1          Black%20shield%20(h1)\n",
       "2                    Raw%20shark\n",
       "3  Bottomless%20compost%20bucket"
      ]
     },
     "execution_count": 133,
     "metadata": {},
     "output_type": "execute_result"
    }
   ],
   "source": [
    "pd.read_csv('data/bought')"
   ]
  },
  {
   "cell_type": "code",
   "execution_count": null,
   "metadata": {},
   "outputs": [],
   "source": [
    "trading_"
   ]
  },
  {
   "cell_type": "code",
   "execution_count": 88,
   "metadata": {},
   "outputs": [],
   "source": [
    "trading_df.loc[:,['name', 'mean_squared_error', 'r2_score', 'roi', 'perc_pred_increase','last_day']].to_csv('data/trading_8.2.csv')"
   ]
  },
  {
   "cell_type": "code",
   "execution_count": null,
   "metadata": {},
   "outputs": [],
   "source": []
  },
  {
   "cell_type": "markdown",
   "metadata": {},
   "source": [
    "# fastai tabular data"
   ]
  },
  {
   "cell_type": "code",
   "execution_count": null,
   "metadata": {},
   "outputs": [],
   "source": []
  },
  {
   "cell_type": "code",
   "execution_count": null,
   "metadata": {},
   "outputs": [],
   "source": [
    "procs = [Normalize]"
   ]
  },
  {
   "cell_type": "code",
   "execution_count": null,
   "metadata": {},
   "outputs": [],
   "source": [
    "valid_idx = range(int(len(df)*.8), len(df)-60)"
   ]
  },
  {
   "cell_type": "code",
   "execution_count": null,
   "metadata": {},
   "outputs": [],
   "source": [
    "dep_var = 'Y'"
   ]
  },
  {
   "cell_type": "code",
   "execution_count": null,
   "metadata": {},
   "outputs": [],
   "source": [
    "path = Path(f'./data/wiki_urls/{item_name}')"
   ]
  },
  {
   "cell_type": "code",
   "execution_count": null,
   "metadata": {},
   "outputs": [],
   "source": [
    "trimmed_df['date_obj'] = trimmed_df.index"
   ]
  },
  {
   "cell_type": "code",
   "execution_count": null,
   "metadata": {},
   "outputs": [],
   "source": [
    "trimmed_df['date_obj'] = trimmed_df['date_obj'].apply(lambda x: pd.to_datetime(x))"
   ]
  },
  {
   "cell_type": "code",
   "execution_count": null,
   "metadata": {},
   "outputs": [],
   "source": [
    "time_trimmed_df = trimmed_df.loc[trimmed_df['date_obj'] > pd.to_datetime('2018-05-01')]"
   ]
  },
  {
   "cell_type": "code",
   "execution_count": null,
   "metadata": {},
   "outputs": [],
   "source": [
    "time_trimmed_df[item_name].plot()"
   ]
  },
  {
   "cell_type": "code",
   "execution_count": null,
   "metadata": {},
   "outputs": [],
   "source": [
    "time_trimmed_df = time_trimmed_df.drop(columns=['date_obj'], axis=1)"
   ]
  },
  {
   "cell_type": "code",
   "execution_count": null,
   "metadata": {},
   "outputs": [],
   "source": [
    "trimmed_df = time_trimmed_df"
   ]
  },
  {
   "cell_type": "code",
   "execution_count": null,
   "metadata": {},
   "outputs": [],
   "source": []
  },
  {
   "cell_type": "code",
   "execution_count": null,
   "metadata": {},
   "outputs": [],
   "source": [
    "df = trimmed_df"
   ]
  },
  {
   "cell_type": "code",
   "execution_count": null,
   "metadata": {},
   "outputs": [],
   "source": [
    "df"
   ]
  },
  {
   "cell_type": "code",
   "execution_count": null,
   "metadata": {},
   "outputs": [],
   "source": [
    "data = TabularDataBunch.from_df(path, df, dep_var, valid_idx=valid_idx, procs=procs, cat_names=[])"
   ]
  },
  {
   "cell_type": "code",
   "execution_count": null,
   "metadata": {},
   "outputs": [],
   "source": [
    "learn = tabular_learner(data, layers=[500,100], emb_szs={'native-country': 10}, metrics=mean_squared_error)"
   ]
  },
  {
   "cell_type": "code",
   "execution_count": null,
   "metadata": {},
   "outputs": [],
   "source": [
    "data.show_batch()"
   ]
  },
  {
   "cell_type": "code",
   "execution_count": null,
   "metadata": {},
   "outputs": [],
   "source": [
    "learn.save('stage-0')"
   ]
  },
  {
   "cell_type": "code",
   "execution_count": null,
   "metadata": {},
   "outputs": [],
   "source": []
  },
  {
   "cell_type": "code",
   "execution_count": null,
   "metadata": {
    "scrolled": true
   },
   "outputs": [],
   "source": [
    "learn.lr_find(end_lr=1e3)"
   ]
  },
  {
   "cell_type": "code",
   "execution_count": null,
   "metadata": {},
   "outputs": [],
   "source": [
    "learn.recorder.plot()"
   ]
  },
  {
   "cell_type": "code",
   "execution_count": null,
   "metadata": {},
   "outputs": [],
   "source": [
    "learn.fit_one_cycle(5, max_lr=1e-2)"
   ]
  },
  {
   "cell_type": "code",
   "execution_count": null,
   "metadata": {},
   "outputs": [],
   "source": [
    "learn.fit_one_cycle(5, max_lr=1e-2)"
   ]
  },
  {
   "cell_type": "code",
   "execution_count": null,
   "metadata": {
    "scrolled": true
   },
   "outputs": [],
   "source": [
    "learn.show_results(ds_type=DatasetType.Train)"
   ]
  },
  {
   "cell_type": "code",
   "execution_count": null,
   "metadata": {},
   "outputs": [],
   "source": [
    "learn.save('stage-1')"
   ]
  },
  {
   "cell_type": "code",
   "execution_count": null,
   "metadata": {},
   "outputs": [],
   "source": [
    "learn = learn.load('stage-1')"
   ]
  },
  {
   "cell_type": "code",
   "execution_count": null,
   "metadata": {},
   "outputs": [],
   "source": [
    "learn.lr_find()"
   ]
  },
  {
   "cell_type": "code",
   "execution_count": null,
   "metadata": {},
   "outputs": [],
   "source": [
    "learn.recorder.plot()"
   ]
  },
  {
   "cell_type": "code",
   "execution_count": null,
   "metadata": {},
   "outputs": [],
   "source": [
    "learn.fit_one_cycle(5, 3e-5)"
   ]
  },
  {
   "cell_type": "code",
   "execution_count": null,
   "metadata": {},
   "outputs": [],
   "source": [
    "learn.show_results(ds_type=DatasetType.Train)"
   ]
  },
  {
   "cell_type": "code",
   "execution_count": null,
   "metadata": {},
   "outputs": [],
   "source": [
    "learn.save('stage-2')"
   ]
  },
  {
   "cell_type": "code",
   "execution_count": null,
   "metadata": {},
   "outputs": [],
   "source": [
    "learn.lr_find()"
   ]
  },
  {
   "cell_type": "code",
   "execution_count": null,
   "metadata": {},
   "outputs": [],
   "source": [
    "learn.recorder.plot()"
   ]
  },
  {
   "cell_type": "code",
   "execution_count": null,
   "metadata": {},
   "outputs": [],
   "source": []
  },
  {
   "cell_type": "code",
   "execution_count": null,
   "metadata": {},
   "outputs": [],
   "source": [
    "learn.fit_one_cycle(5, 3e-6)"
   ]
  },
  {
   "cell_type": "code",
   "execution_count": null,
   "metadata": {},
   "outputs": [],
   "source": [
    "learn.save('stage-3')\n"
   ]
  },
  {
   "cell_type": "code",
   "execution_count": null,
   "metadata": {},
   "outputs": [],
   "source": [
    "learn.show_results(ds_type=DatasetType.Train)"
   ]
  },
  {
   "cell_type": "code",
   "execution_count": null,
   "metadata": {},
   "outputs": [],
   "source": [
    "learn.lr_find()\n",
    "learn.recorder.plot()"
   ]
  },
  {
   "cell_type": "code",
   "execution_count": null,
   "metadata": {},
   "outputs": [],
   "source": [
    "learn.fit_one_cycle(5, 3e-4)"
   ]
  },
  {
   "cell_type": "code",
   "execution_count": null,
   "metadata": {
    "scrolled": true
   },
   "outputs": [],
   "source": [
    "learn.save('stage-4')"
   ]
  },
  {
   "cell_type": "code",
   "execution_count": null,
   "metadata": {},
   "outputs": [],
   "source": [
    "learn.lr_find(end_lr=1e2)\n",
    "learn.recorder.plot()"
   ]
  },
  {
   "cell_type": "code",
   "execution_count": null,
   "metadata": {
    "scrolled": true
   },
   "outputs": [],
   "source": [
    "learn.show_results(ds_type=DatasetType.Train)"
   ]
  },
  {
   "cell_type": "code",
   "execution_count": null,
   "metadata": {},
   "outputs": [],
   "source": [
    "learn.fit_one_cycle(10, 1e-4)"
   ]
  },
  {
   "cell_type": "code",
   "execution_count": null,
   "metadata": {},
   "outputs": [],
   "source": [
    "learn = learn.load('stage-4')"
   ]
  },
  {
   "cell_type": "code",
   "execution_count": null,
   "metadata": {
    "scrolled": true
   },
   "outputs": [],
   "source": [
    "learn.show_results(ds_type=DatasetType.Train)"
   ]
  },
  {
   "cell_type": "markdown",
   "metadata": {},
   "source": [
    "# Plot results"
   ]
  },
  {
   "cell_type": "code",
   "execution_count": null,
   "metadata": {},
   "outputs": [],
   "source": [
    "int(learn.predict(df.iloc[0])[1])"
   ]
  },
  {
   "cell_type": "code",
   "execution_count": null,
   "metadata": {},
   "outputs": [],
   "source": [
    "learn.predict(df.iloc[0])"
   ]
  },
  {
   "cell_type": "code",
   "execution_count": null,
   "metadata": {},
   "outputs": [],
   "source": [
    "plot_x = [float(learn.predict(df.iloc[i])[1]) for i in range(len(df))]"
   ]
  },
  {
   "cell_type": "code",
   "execution_count": null,
   "metadata": {},
   "outputs": [],
   "source": [
    "plot_y = df['Y']"
   ]
  },
  {
   "cell_type": "code",
   "execution_count": null,
   "metadata": {
    "scrolled": true
   },
   "outputs": [],
   "source": [
    "plot_y"
   ]
  },
  {
   "cell_type": "code",
   "execution_count": null,
   "metadata": {},
   "outputs": [],
   "source": [
    "plot_x"
   ]
  },
  {
   "cell_type": "code",
   "execution_count": null,
   "metadata": {},
   "outputs": [],
   "source": [
    "plot_df = pd.DataFrame(plot_y)"
   ]
  },
  {
   "cell_type": "code",
   "execution_count": null,
   "metadata": {},
   "outputs": [],
   "source": [
    "plot_df['x'] = plot_x"
   ]
  },
  {
   "cell_type": "code",
   "execution_count": null,
   "metadata": {},
   "outputs": [],
   "source": [
    "plot_df.head()"
   ]
  },
  {
   "cell_type": "code",
   "execution_count": null,
   "metadata": {},
   "outputs": [],
   "source": [
    "plot_df.plot()"
   ]
  },
  {
   "cell_type": "code",
   "execution_count": null,
   "metadata": {},
   "outputs": [],
   "source": [
    "plt.plot(plot_x)"
   ]
  },
  {
   "cell_type": "code",
   "execution_count": null,
   "metadata": {},
   "outputs": [],
   "source": [
    "plt.plot(plot_y)"
   ]
  },
  {
   "cell_type": "code",
   "execution_count": null,
   "metadata": {},
   "outputs": [],
   "source": [
    "plt.plot(range(len(plot_x)),np.array([plot_x,plot_y]).T)"
   ]
  },
  {
   "cell_type": "code",
   "execution_count": null,
   "metadata": {},
   "outputs": [],
   "source": [
    "len(plot_x)"
   ]
  },
  {
   "cell_type": "code",
   "execution_count": null,
   "metadata": {},
   "outputs": [],
   "source": [
    "plt.plot(range(len(plot_x[len(plot_x)-60:])), np.array([plot_x[len(plot_x)-60:], plot_y[len(plot_y)-60:]]).T)\n",
    "plt.legend()"
   ]
  },
  {
   "cell_type": "code",
   "execution_count": null,
   "metadata": {},
   "outputs": [],
   "source": [
    "plt.plot(plot_x[len(plot_x)-60:])"
   ]
  },
  {
   "cell_type": "code",
   "execution_count": null,
   "metadata": {},
   "outputs": [],
   "source": [
    "len(plot_x)"
   ]
  },
  {
   "cell_type": "code",
   "execution_count": null,
   "metadata": {},
   "outputs": [],
   "source": [
    "plt.plot(plot_y[len(plot_y)-60:])"
   ]
  },
  {
   "cell_type": "code",
   "execution_count": null,
   "metadata": {},
   "outputs": [],
   "source": [
    "x_series = pd.Series(plot_x, name='Predict')"
   ]
  },
  {
   "cell_type": "code",
   "execution_count": null,
   "metadata": {},
   "outputs": [],
   "source": [
    "type(x_series)"
   ]
  },
  {
   "cell_type": "code",
   "execution_count": null,
   "metadata": {},
   "outputs": [],
   "source": [
    "type(plot_y)"
   ]
  },
  {
   "cell_type": "code",
   "execution_count": null,
   "metadata": {},
   "outputs": [],
   "source": [
    "y_series = plot_y.reindex(x_series.index)"
   ]
  },
  {
   "cell_type": "code",
   "execution_count": null,
   "metadata": {},
   "outputs": [],
   "source": [
    "y_series"
   ]
  },
  {
   "cell_type": "code",
   "execution_count": null,
   "metadata": {},
   "outputs": [],
   "source": [
    "x_series"
   ]
  },
  {
   "cell_type": "code",
   "execution_count": null,
   "metadata": {},
   "outputs": [],
   "source": [
    "pd.concat([y_series, x_series],  axis=1).iloc[1705-60:].plot()"
   ]
  },
  {
   "cell_type": "code",
   "execution_count": null,
   "metadata": {},
   "outputs": [],
   "source": [
    "learn.drop"
   ]
  },
  {
   "cell_type": "code",
   "execution_count": null,
   "metadata": {},
   "outputs": [],
   "source": [
    "learn.save('stage-final')\n",
    "learn.export()"
   ]
  },
  {
   "cell_type": "markdown",
   "metadata": {},
   "source": [
    "# Load in the full data (recent rows will have been dropped because Ys were N/A)"
   ]
  },
  {
   "cell_type": "code",
   "execution_count": null,
   "metadata": {},
   "outputs": [],
   "source": [
    "prediction_df = item_df_training"
   ]
  },
  {
   "cell_type": "code",
   "execution_count": null,
   "metadata": {},
   "outputs": [],
   "source": [
    "prediction_df['constant'] = time_trimmed_df['Y'].mean() *scaling_factor"
   ]
  },
  {
   "cell_type": "code",
   "execution_count": null,
   "metadata": {},
   "outputs": [],
   "source": [
    "prediction_df.columns"
   ]
  },
  {
   "cell_type": "code",
   "execution_count": null,
   "metadata": {},
   "outputs": [],
   "source": [
    "prediction_df = prediction_df.fillna(method='ffill').fillna(method='bfill').fillna(0)"
   ]
  },
  {
   "cell_type": "code",
   "execution_count": null,
   "metadata": {},
   "outputs": [],
   "source": [
    "predict_data = TabularDataBunch.from_df(path, prediction_df, dep_var, valid_idx=valid_idx, procs=procs, cat_names=[])"
   ]
  },
  {
   "cell_type": "code",
   "execution_count": null,
   "metadata": {},
   "outputs": [],
   "source": [
    "predict_learn = tabular_learner(data, layers=[500,100], emb_szs={'native-country': 10}, metrics=mean_squared_error)"
   ]
  },
  {
   "cell_type": "code",
   "execution_count": null,
   "metadata": {},
   "outputs": [],
   "source": [
    "predict_learn =predict_learn.load('stage-final')"
   ]
  },
  {
   "cell_type": "code",
   "execution_count": null,
   "metadata": {},
   "outputs": [],
   "source": [
    "predict_learn.show_results(ds_type=DatasetType.Train)"
   ]
  },
  {
   "cell_type": "code",
   "execution_count": null,
   "metadata": {},
   "outputs": [],
   "source": [
    "predict_learn.predict(prediction_df.iloc[0])"
   ]
  },
  {
   "cell_type": "code",
   "execution_count": null,
   "metadata": {},
   "outputs": [],
   "source": [
    "predict_learn.predict(prediction_df.iloc[100])"
   ]
  },
  {
   "cell_type": "code",
   "execution_count": null,
   "metadata": {},
   "outputs": [],
   "source": [
    "prediction_df"
   ]
  },
  {
   "cell_type": "code",
   "execution_count": null,
   "metadata": {},
   "outputs": [],
   "source": [
    "predictions = [float(predict_learn.predict(prediction_df.iloc[i])[1]) for i in range(len(prediction_df))]\n"
   ]
  },
  {
   "cell_type": "code",
   "execution_count": null,
   "metadata": {},
   "outputs": [],
   "source": [
    "predictions"
   ]
  },
  {
   "cell_type": "code",
   "execution_count": null,
   "metadata": {
    "scrolled": true
   },
   "outputs": [],
   "source": [
    "prediction_df.tail()"
   ]
  },
  {
   "cell_type": "code",
   "execution_count": null,
   "metadata": {},
   "outputs": [],
   "source": [
    "prediction_df['predictions'] = predictions"
   ]
  },
  {
   "cell_type": "code",
   "execution_count": null,
   "metadata": {},
   "outputs": [],
   "source": [
    "prediction_df['predictions'].tail(30)"
   ]
  },
  {
   "cell_type": "code",
   "execution_count": null,
   "metadata": {},
   "outputs": [],
   "source": [
    "prediction_df"
   ]
  },
  {
   "cell_type": "markdown",
   "metadata": {},
   "source": [
    "#### "
   ]
  }
 ],
 "metadata": {
  "kernelspec": {
   "display_name": "venv",
   "language": "python",
   "name": "venv"
  },
  "language_info": {
   "codemirror_mode": {
    "name": "ipython",
    "version": 3
   },
   "file_extension": ".py",
   "mimetype": "text/x-python",
   "name": "python",
   "nbconvert_exporter": "python",
   "pygments_lexer": "ipython3",
   "version": "3.7.8"
  }
 },
 "nbformat": 4,
 "nbformat_minor": 1
}
