{
 "cells": [
  {
   "cell_type": "markdown",
   "metadata": {},
   "source": [
    "# Libraries + Torch check"
   ]
  },
  {
   "cell_type": "code",
   "execution_count": 1,
   "metadata": {
    "scrolled": true
   },
   "outputs": [],
   "source": [
    "import pandas as pd\n",
    "import requests\n",
    "import json\n",
    "from pathlib import Path\n",
    "import re\n",
    "from datetime import date\n",
    "import time\n",
    "import os\n",
    "from fastai.tabular import *\n",
    "import matplotlib.pyplot as plt\n",
    "import numpy as np\n",
    "from sklearn import linear_model\n",
    "import sklearn.metrics\n",
    "from sklearn.model_selection import train_test_split\n",
    "import math"
   ]
  },
  {
   "cell_type": "code",
   "execution_count": 2,
   "metadata": {},
   "outputs": [],
   "source": [
    "import torch"
   ]
  },
  {
   "cell_type": "code",
   "execution_count": 3,
   "metadata": {},
   "outputs": [
    {
     "data": {
      "text/plain": [
       "<torch.cuda.device at 0x7f6eb8235c90>"
      ]
     },
     "execution_count": 3,
     "metadata": {},
     "output_type": "execute_result"
    }
   ],
   "source": [
    "torch.cuda.device(0)"
   ]
  },
  {
   "cell_type": "code",
   "execution_count": 4,
   "metadata": {},
   "outputs": [
    {
     "data": {
      "text/plain": [
       "'GeForce RTX 2080'"
      ]
     },
     "execution_count": 4,
     "metadata": {},
     "output_type": "execute_result"
    }
   ],
   "source": [
    "torch.cuda.get_device_name(0)"
   ]
  },
  {
   "cell_type": "markdown",
   "metadata": {},
   "source": [
    "# Data Retrieval"
   ]
  },
  {
   "cell_type": "code",
   "execution_count": 5,
   "metadata": {},
   "outputs": [],
   "source": [
    "cleaned_item_names = [name[:-10] for name in list(os.walk(r'data/wiki_prices'))[0][2]]"
   ]
  },
  {
   "cell_type": "code",
   "execution_count": 6,
   "metadata": {},
   "outputs": [
    {
     "data": {
      "text/plain": [
       "['Potato%20seed', 'Tin%20ore', 'Gout%20tuber', 'Bronze%20bolts', 'Gold%20seal']"
      ]
     },
     "execution_count": 6,
     "metadata": {},
     "output_type": "execute_result"
    }
   ],
   "source": [
    "cleaned_item_names[0:5]"
   ]
  },
  {
   "cell_type": "code",
   "execution_count": 7,
   "metadata": {},
   "outputs": [],
   "source": [
    "#pd.Series(cleaned_item_names).to_csv('./data/cleaned_item_names', index=False, header=False)"
   ]
  },
  {
   "cell_type": "code",
   "execution_count": 8,
   "metadata": {},
   "outputs": [
    {
     "data": {
      "text/plain": [
       "3147"
      ]
     },
     "execution_count": 8,
     "metadata": {},
     "output_type": "execute_result"
    }
   ],
   "source": [
    "len(cleaned_item_names)"
   ]
  },
  {
   "cell_type": "code",
   "execution_count": 9,
   "metadata": {},
   "outputs": [],
   "source": [
    "# cleaned_item_names"
   ]
  },
  {
   "cell_type": "code",
   "execution_count": 10,
   "metadata": {},
   "outputs": [],
   "source": [
    "def get_item_df(item_name, sleppy_time=1):\n",
    "    base_url = r\"https://oldschool.runescape.wiki/api.php?action=query&prop=revisions&rvprop=content&format=json&titles=Module%3AExchange%2F\"\n",
    "    postfix_url = r\"%2FData\"\n",
    "    full_url = f'{base_url}{item_name}{postfix_url}'\n",
    "    resp = requests.get(full_url)\n",
    "    jsond = resp.json()\n",
    "    try:\n",
    "        regex_text = jsond['query']['pages'][next(iter(jsond['query']['pages'].keys()))]['revisions'][0]['*']\n",
    "        #get all of the ones that have volume as well as price\n",
    "        m = re.findall(r'[\\d]+:[\\d]+:[\\d]+', regex_text)\n",
    "        item_df = pd.DataFrame()\n",
    "        item_df['dt'] = [int(string.split(':')[0]) for string in m]\n",
    "        item_df[f'{item_name} price'] = [int(string.split(':')[1]) for string in m]\n",
    "        item_df[f'{item_name} volume'] = [int(string.split(':')[2]) for string in m]\n",
    "        item_df['date_obj'] = item_df['dt'].apply(lambda x: date.fromtimestamp(x))\n",
    "        #take the ones that just have price so we can get the most recent price as well\n",
    "        n = re.findall(r'[\\d]+:[\\d]+', regex_text)\n",
    "        last_time = date.fromtimestamp(int(n[-1].split(':')[0]))\n",
    "        last_price = int(n[-1].split(':')[1])\n",
    "        item_df.loc[-1, 'date_obj'] = last_time\n",
    "        item_df.loc[-1, f'{item_name} price'] = last_price\n",
    "        item_df = item_df.fillna(method='ffill')\n",
    "        item_df.set_index('date_obj', inplace=True)\n",
    "        item_df = item_df.drop('dt', axis=1)\n",
    "        return item_df\n",
    "    except:\n",
    "        pass\n",
    "\n"
   ]
  },
  {
   "cell_type": "code",
   "execution_count": 11,
   "metadata": {},
   "outputs": [],
   "source": [
    "def retrieve_dfs(xslice = True):\n",
    "    if xslice:\n",
    "        item_dfs = [get_item_df(item_name,1) for item_name in cleaned_item_names[40:45]]\n",
    "    else:\n",
    "        item_dfs = [get_item_df(item_name,1) for item_name in cleaned_item_names]\n",
    "    return item_dfs"
   ]
  },
  {
   "cell_type": "code",
   "execution_count": null,
   "metadata": {},
   "outputs": [],
   "source": [
    "item_dfs = retrieve_dfs(False)"
   ]
  },
  {
   "cell_type": "code",
   "execution_count": null,
   "metadata": {},
   "outputs": [],
   "source": [
    "item_dfs"
   ]
  },
  {
   "cell_type": "code",
   "execution_count": null,
   "metadata": {},
   "outputs": [],
   "source": [
    "def save_dfs(item_dfs):\n",
    "    for df in item_dfs:\n",
    "        try:\n",
    "            df.to_csv(f'./data/wiki_prices/{df.columns[0]}.csv')\n",
    "        except:\n",
    "            pass"
   ]
  },
  {
   "cell_type": "code",
   "execution_count": null,
   "metadata": {},
   "outputs": [],
   "source": [
    "save_dfs(item_dfs)"
   ]
  },
  {
   "cell_type": "code",
   "execution_count": null,
   "metadata": {},
   "outputs": [],
   "source": [
    "def load_dfs(drop_blank=True):\n",
    "    item_dfs = []\n",
    "    for name in list(os.walk('./data/wiki_prices'))[0][2]:\n",
    "        df = pd.read_csv(f'./data/wiki_prices/{name}')\n",
    "        df = df.set_index(df.columns[0])\n",
    "#         if drop_blank:\n",
    "#             if df.empty:\n",
    "#                 item_dfs.append(df)\n",
    "#         else:\n",
    "#             item_dfs.append(df)\n",
    "        item_dfs.append(df)\n",
    "    return item_dfs"
   ]
  },
  {
   "cell_type": "code",
   "execution_count": null,
   "metadata": {},
   "outputs": [],
   "source": [
    "item_dfs = load_dfs()"
   ]
  },
  {
   "cell_type": "code",
   "execution_count": null,
   "metadata": {},
   "outputs": [],
   "source": [
    "len(item_dfs)"
   ]
  },
  {
   "cell_type": "code",
   "execution_count": null,
   "metadata": {},
   "outputs": [],
   "source": [
    "type(item_dfs)"
   ]
  },
  {
   "cell_type": "code",
   "execution_count": null,
   "metadata": {},
   "outputs": [],
   "source": [
    "cleaned_item_names[0]"
   ]
  },
  {
   "cell_type": "code",
   "execution_count": null,
   "metadata": {},
   "outputs": [],
   "source": [
    "for item_df in item_dfs:\n",
    "    try:\n",
    "        col = item_df.columns[0]\n",
    "    except:\n",
    "        invalid_dfs += 1 \n",
    "        print(item_df)"
   ]
  },
  {
   "cell_type": "code",
   "execution_count": null,
   "metadata": {},
   "outputs": [],
   "source": [
    "retrieved_names = [item_df.columns[0][:-6] for item_df in item_dfs]"
   ]
  },
  {
   "cell_type": "code",
   "execution_count": null,
   "metadata": {},
   "outputs": [],
   "source": [
    "len(retrieved_names)"
   ]
  },
  {
   "cell_type": "code",
   "execution_count": null,
   "metadata": {},
   "outputs": [],
   "source": [
    "len(item_dfs)"
   ]
  },
  {
   "cell_type": "code",
   "execution_count": null,
   "metadata": {},
   "outputs": [],
   "source": [
    "df = pd.DataFrame({'name': retrieved_names, 'price_df': item_dfs})"
   ]
  },
  {
   "cell_type": "markdown",
   "metadata": {},
   "source": [
    "# Feature creation"
   ]
  },
  {
   "cell_type": "code",
   "execution_count": null,
   "metadata": {},
   "outputs": [],
   "source": [
    "#item_df_training = tl_df['price_df'][300]"
   ]
  },
  {
   "cell_type": "code",
   "execution_count": null,
   "metadata": {},
   "outputs": [],
   "source": [
    "days_back = 90\n",
    "\n",
    "rolling_averages = [3,7,14,21,30,60,90]\n",
    "\n",
    "days_ahead_to_predict = 4"
   ]
  },
  {
   "cell_type": "code",
   "execution_count": null,
   "metadata": {},
   "outputs": [],
   "source": [
    "def create_predictive_features(price_df):\n",
    "    item_df_training = price_df\n",
    "    item_name = item_df_training.columns[0]\n",
    "    for i in range(days_back):\n",
    "        item_df_training[f'{item_name} {i} days ago'] = item_df_training[item_name].shift(i)\n",
    "    for i in range(days_back):\n",
    "        item_df_training[f'{item_name} {i} delta days ago'] = item_df_training[item_name].shift(i) - item_df_training[item_name]\n",
    "    for rolling_average in rolling_averages:\n",
    "        item_df_training[f'{item_name} {rolling_average} day rolling average'] = item_df_training[item_name].rolling(rolling_average).mean()\n",
    "    for rolling_average in rolling_averages:\n",
    "        item_df_training[f'{item_name} delta {rolling_average} day rolling average'] = item_df_training[item_name] - item_df_training[f'{item_name} {rolling_average} day rolling average']\n",
    "    item_df_training['Y'] = item_df_training[item_name].shift(-1*days_ahead_to_predict)\n",
    "    return item_df_training\n",
    "\n",
    "        "
   ]
  },
  {
   "cell_type": "code",
   "execution_count": null,
   "metadata": {},
   "outputs": [],
   "source": [
    "#price_df = tl_df['price_df'][300]"
   ]
  },
  {
   "cell_type": "code",
   "execution_count": null,
   "metadata": {},
   "outputs": [],
   "source": [
    "def trim_df(item_df_training):\n",
    "    trimmed_df = item_df_training.dropna(how='any')\n",
    "    return trimmed_df\n",
    "    "
   ]
  },
  {
   "cell_type": "markdown",
   "metadata": {},
   "source": [
    "# SGD LR"
   ]
  },
  {
   "cell_type": "code",
   "execution_count": null,
   "metadata": {},
   "outputs": [],
   "source": [
    "def create_model(tl_df_row):\n",
    "    trimmed_df = tl_df_row['trimmed_df']\n",
    "    try:\n",
    "        X = trimmed_df.drop(['Y'], axis=1)\n",
    "        y = trimmed_df['Y']\n",
    "        X_train, X_test, y_train, y_test = train_test_split(X, y, test_size = 0.2, shuffle=False)\n",
    "        regr = linear_model.LinearRegression()\n",
    "        regr.fit(X_train, y_train)\n",
    "        y_pred = regr.predict(X_test)\n",
    "        mean_squared_error = sklearn.metrics.mean_squared_error(y_test, y_pred)\n",
    "        r2_score = sklearn.metrics.r2_score(y_test, y_pred)\n",
    "        return (regr, y_pred, y_test, mean_squared_error, r2_score)\n",
    "    except:\n",
    "        return (0, 0, 0, 0, 0)"
   ]
  },
  {
   "cell_type": "code",
   "execution_count": null,
   "metadata": {},
   "outputs": [],
   "source": [
    "#plt.scatter(y_test, y_pred)"
   ]
  },
  {
   "cell_type": "markdown",
   "metadata": {},
   "source": [
    "# \"Backtest\""
   ]
  },
  {
   "cell_type": "code",
   "execution_count": null,
   "metadata": {},
   "outputs": [],
   "source": [
    "starting_cash = 10**7"
   ]
  },
  {
   "cell_type": "code",
   "execution_count": null,
   "metadata": {},
   "outputs": [],
   "source": [
    "slippage = 0\n",
    "thresh_buy = 0.00\n",
    "thresh_sell = 0\n",
    "max_volume_buy = 0.01"
   ]
  },
  {
   "cell_type": "code",
   "execution_count": null,
   "metadata": {},
   "outputs": [],
   "source": [
    "def should_buy(row):\n",
    "    if row['perc predicted increase'] > thresh_buy:\n",
    "        return True\n",
    "\n",
    "def should_sell(row):\n",
    "    if row['perc predicted increase'] < thresh_sell:\n",
    "        return True\n",
    "    \n",
    "def buy_price(row):\n",
    "    return row['current_price']\n",
    "\n",
    "def sell_price(row):\n",
    "    return row['current_price']\n",
    "\n",
    "def max_buy(row):\n",
    "    d_stock = max(\n",
    "        min(\n",
    "        (row['starting_cash']//buy_price(row)),\n",
    "        math.floor(row['volume']*max_volume_buy)\n",
    "        ),\n",
    "        0\n",
    "    )\n",
    "    d_cash = -1 * d_stock * buy_price(row)\n",
    "    return (d_stock, d_cash)\n",
    "\n",
    "def max_sell(row):\n",
    "    d_stock = -1 * max(\n",
    "        0,\n",
    "        min(row['starting_stock'],\n",
    "        math.floor(row['volume'] * max_volume_buy)\n",
    "        )\n",
    "    )\n",
    "    d_cash = d_stock *-1 * sell_price(row)\n",
    "    return (d_stock, d_cash)"
   ]
  },
  {
   "cell_type": "code",
   "execution_count": null,
   "metadata": {},
   "outputs": [],
   "source": [
    "def get_ending_cash(record_df):\n",
    "    last_row = record_df.iloc[-1,:]\n",
    "    cash = last_row['ending_cash']\n",
    "    cash += sell_price(last_row) * last_row['ending_stock']\n",
    "    return cash"
   ]
  },
  {
   "cell_type": "code",
   "execution_count": null,
   "metadata": {},
   "outputs": [],
   "source": []
  },
  {
   "cell_type": "code",
   "execution_count": null,
   "metadata": {},
   "outputs": [],
   "source": [
    "def create_backtest_df(tl_df_row):\n",
    "    try:\n",
    "        y_pred = tl_df_row['y_pred']\n",
    "        y_test = tl_df_row['y_test']\n",
    "        item_df_training = tl_df_row['item_df_training']\n",
    "        item_name = tl_df_row['name']\n",
    "\n",
    "        bt_df = pd.concat([pd.Series(y_pred, index= y_test.index, name='Prediction'), y_test.rename(index='Y')], axis=1)\n",
    "        bt_df['Y + 1'] = bt_df['Y'].shift(-1)\n",
    "        bt_df['Y - 1'] = bt_df['Y'].shift(1)\n",
    "\n",
    "\n",
    "        bt_df = bt_df.fillna(method='ffill').fillna(method='bfill')\n",
    "\n",
    "        volume_column = f'{item_name} volume'\n",
    "        volume = item_df_training[volume_column]\n",
    "\n",
    "        bt_df = bt_df.join(item_df_training[volume_column].rename(index='volume'))\n",
    "        bt_df = bt_df.join(item_df_training[f'{item_name} price'].rename(index='current_price'))\n",
    "        bt_df['perc predicted increase'] = (bt_df['Prediction'] - bt_df['current_price'])/bt_df['current_price']\n",
    "\n",
    "        bt_df['starting_stock'] = 0\n",
    "        bt_df['starting_cash'] = 0\n",
    "        bt_df['ending_stock'] = 0\n",
    "        bt_df['ending_cash'] = 0\n",
    "\n",
    "        bt_df.loc[bt_df.index[0], 'starting_cash'] = starting_cash\n",
    "        bt_df.loc[bt_df.index[0], 'ending_cash'] = starting_cash\n",
    "\n",
    "        bt_df['action'] = ''\n",
    "\n",
    "        copy_df = bt_df.copy()\n",
    "        record_df = bt_df.copy()\n",
    "\n",
    "        first_row = True\n",
    "        for i, row in copy_df.iterrows():\n",
    "            current_row = row\n",
    "            if first_row:\n",
    "                prev_row = current_row\n",
    "                first_row = False\n",
    "                continue\n",
    "            current_row['starting_cash'] = prev_row['ending_cash']\n",
    "            current_row['starting_stock'] = prev_row['ending_stock']\n",
    "            cash = current_row['starting_cash']\n",
    "            stock = current_row['starting_stock']\n",
    "            if should_buy(current_row):\n",
    "                d_stock, d_cash = max_buy(current_row)\n",
    "                cash += d_cash\n",
    "                stock += d_stock\n",
    "                current_row['action'] = f'Buying + {d_stock} stock, - {d_cash} cash'\n",
    "            elif should_sell(row):\n",
    "                d_stock, d_cash = max_sell(current_row)\n",
    "                cash += d_cash\n",
    "                stock += d_stock\n",
    "                current_row['action'] = f'Selling + {d_stock} stock, + {d_cash} cash'\n",
    "            else:\n",
    "                current_row['action'] = 'hold'\n",
    "            current_row['ending_cash'] = cash\n",
    "            current_row['ending_stock'] = stock\n",
    "            record_df.loc[i, :] = current_row\n",
    "            prev_row = current_row\n",
    "        roi = get_ending_cash(record_df)/starting_cash\n",
    "        last_perc_prediction = bt_df\n",
    "        return (roi, record_df)\n",
    "    except:\n",
    "        return (0, 0)\n"
   ]
  },
  {
   "cell_type": "markdown",
   "metadata": {},
   "source": [
    "# Predict for right now"
   ]
  },
  {
   "cell_type": "code",
   "execution_count": null,
   "metadata": {},
   "outputs": [],
   "source": [
    "def make_predictions(tl_df_row):\n",
    "    try:\n",
    "        item_name = tl_df_row['name']\n",
    "        regr = tl_df_row['regr']\n",
    "        item_df_training = tl_df_row['item_df_training']\n",
    "        current_price = item_df_training.loc[item_df_training.index[-1], f'{item_name} price']\n",
    "        pred_price = regr.predict(np.array(item_df_training.drop('Y', axis=1).loc[item_df_training.index[-1],:]).reshape(1, -1))[0]\n",
    "        perc_pred_increase = (pred_price - current_price)/(current_price)\n",
    "        last_day = item_df_training.index[-1]\n",
    "        return (perc_pred_increase, last_day, current_price)\n",
    "    except:\n",
    "        return(0, 0, 0)"
   ]
  },
  {
   "cell_type": "markdown",
   "metadata": {},
   "source": [
    "# Filter and find trades"
   ]
  },
  {
   "cell_type": "code",
   "execution_count": null,
   "metadata": {},
   "outputs": [],
   "source": [
    "r2_score_thresh = .85\n",
    "roi_thresh = 1.05\n",
    "perc_pred_increase_thresh = 0.03"
   ]
  },
  {
   "cell_type": "code",
   "execution_count": null,
   "metadata": {},
   "outputs": [],
   "source": [
    "batch_size = 100\n"
   ]
  },
  {
   "cell_type": "code",
   "execution_count": null,
   "metadata": {},
   "outputs": [],
   "source": [
    "df_list = []"
   ]
  },
  {
   "cell_type": "code",
   "execution_count": null,
   "metadata": {},
   "outputs": [],
   "source": [
    "bought = pd.read_csv('data/bought')\n"
   ]
  },
  {
   "cell_type": "code",
   "execution_count": null,
   "metadata": {},
   "outputs": [],
   "source": [
    "bought['name'].values"
   ]
  },
  {
   "cell_type": "code",
   "execution_count": null,
   "metadata": {
    "scrolled": true
   },
   "outputs": [],
   "source": [
    "for i in range(0,df.shape[0],batch_size):\n",
    "    tl_df = df.iloc[i:i+100,:]\n",
    "    \n",
    "    tl_df['item_df_training'] = tl_df['price_df'].apply(create_predictive_features)\n",
    "\n",
    "    tl_df['trimmed_df'] = tl_df['item_df_training'].apply(trim_df)\n",
    "    \n",
    "\n",
    "    tl_df['regr'], tl_df['y_pred'], tl_df['y_test'], tl_df['mean_squared_error'], tl_df['r2_score'] = zip(*tl_df.apply(create_model, axis=1))\n",
    "\n",
    "\n",
    "    tl_df['roi'], tl_df['record_df'] = zip(*tl_df.apply(create_backtest_df, axis=1))\n",
    "\n",
    "\n",
    "    tl_df.sort_values(by='roi', ascending = False)\n",
    "\n",
    "    tl_df['perc_pred_increase'], tl_df['last_day'], tl_df['current_price'] = zip(*tl_df.apply(make_predictions, axis=1))\n",
    "\n",
    "\n",
    "    filter_tl_df = tl_df.copy()\n",
    "\n",
    "    filter_tl_df = filter_tl_df.dropna(how='any')\n",
    "\n",
    "    filter_tl_df =filter_tl_df.loc[filter_tl_df['r2_score'].apply(lambda x: type(x)) != list]\n",
    "\n",
    "    filter_tl_df = filter_tl_df.loc[filter_tl_df['r2_score'] > r2_score_thresh]\n",
    "\n",
    "    print(filter_tl_df.shape)\n",
    "\n",
    "    filter_tl_df = filter_tl_df.loc[filter_tl_df['roi'] > roi_thresh]\n",
    "\n",
    "    print(filter_tl_df.shape)\n",
    "\n",
    "    filter_tl_df = filter_tl_df.loc[\n",
    "            (filter_tl_df['perc_pred_increase'] > perc_pred_increase_thresh) \\\n",
    "        | (filter_tl_df['name'].isin(bought['name']))\n",
    "                                   ]\n",
    "\n",
    "    print(filter_tl_df.shape)\n",
    "\n",
    "    print(filter_tl_df)\n",
    "    df_list.append(filter_tl_df)"
   ]
  },
  {
   "cell_type": "code",
   "execution_count": null,
   "metadata": {},
   "outputs": [],
   "source": []
  },
  {
   "cell_type": "code",
   "execution_count": null,
   "metadata": {},
   "outputs": [],
   "source": [
    "filter_tl_df"
   ]
  },
  {
   "cell_type": "code",
   "execution_count": null,
   "metadata": {},
   "outputs": [],
   "source": [
    "df_list"
   ]
  },
  {
   "cell_type": "code",
   "execution_count": null,
   "metadata": {},
   "outputs": [],
   "source": [
    "trading_df = pd.concat(df_list, axis=0).sort_values(by='perc_pred_increase', ascending=False)\n",
    "trading_df.columns"
   ]
  },
  {
   "cell_type": "code",
   "execution_count": null,
   "metadata": {},
   "outputs": [],
   "source": [
    "trading_df['pred_price'] = (trading_df['perc_pred_increase'] + 1) * trading_df['current_price']"
   ]
  },
  {
   "cell_type": "code",
   "execution_count": 53,
   "metadata": {},
   "outputs": [],
   "source": [
    "#trading_df.loc[:,['name', 'mean_squared_error', 'r2_score', 'roi', 'perc_pred_increase','last_day', 'current_price']]"
   ]
  },
  {
   "cell_type": "code",
   "execution_count": 54,
   "metadata": {},
   "outputs": [
    {
     "data": {
      "text/html": [
       "<div>\n",
       "<style scoped>\n",
       "    .dataframe tbody tr th:only-of-type {\n",
       "        vertical-align: middle;\n",
       "    }\n",
       "\n",
       "    .dataframe tbody tr th {\n",
       "        vertical-align: top;\n",
       "    }\n",
       "\n",
       "    .dataframe thead th {\n",
       "        text-align: right;\n",
       "    }\n",
       "</style>\n",
       "<table border=\"1\" class=\"dataframe\">\n",
       "  <thead>\n",
       "    <tr style=\"text-align: right;\">\n",
       "      <th></th>\n",
       "      <th>name</th>\n",
       "      <th>mean_squared_error</th>\n",
       "      <th>r2_score</th>\n",
       "      <th>roi</th>\n",
       "      <th>perc_pred_increase</th>\n",
       "      <th>last_day</th>\n",
       "      <th>current_price</th>\n",
       "      <th>pred_price</th>\n",
       "    </tr>\n",
       "  </thead>\n",
       "  <tbody>\n",
       "    <tr>\n",
       "      <th>2616</th>\n",
       "      <td>Frog%20slippers</td>\n",
       "      <td>2.496724e+07</td>\n",
       "      <td>0.963813</td>\n",
       "      <td>1.087076</td>\n",
       "      <td>0.040565</td>\n",
       "      <td>2020-08-08</td>\n",
       "      <td>138698.0</td>\n",
       "      <td>1.443243e+05</td>\n",
       "    </tr>\n",
       "    <tr>\n",
       "      <th>2125</th>\n",
       "      <td>Willow%20seed</td>\n",
       "      <td>7.844582e+04</td>\n",
       "      <td>0.883652</td>\n",
       "      <td>1.397343</td>\n",
       "      <td>0.038577</td>\n",
       "      <td>2020-08-08</td>\n",
       "      <td>2521.0</td>\n",
       "      <td>2.618253e+03</td>\n",
       "    </tr>\n",
       "    <tr>\n",
       "      <th>2225</th>\n",
       "      <td>Raw%20shark</td>\n",
       "      <td>2.375519e+03</td>\n",
       "      <td>0.939239</td>\n",
       "      <td>1.200669</td>\n",
       "      <td>0.033875</td>\n",
       "      <td>2020-08-08</td>\n",
       "      <td>615.0</td>\n",
       "      <td>6.358330e+02</td>\n",
       "    </tr>\n",
       "    <tr>\n",
       "      <th>2172</th>\n",
       "      <td>Senntisten%20teleport%20(tablet)</td>\n",
       "      <td>1.691738e+05</td>\n",
       "      <td>0.914799</td>\n",
       "      <td>1.059838</td>\n",
       "      <td>0.032893</td>\n",
       "      <td>2020-08-08</td>\n",
       "      <td>8596.0</td>\n",
       "      <td>8.878751e+03</td>\n",
       "    </tr>\n",
       "    <tr>\n",
       "      <th>552</th>\n",
       "      <td>Team%20cape%20i</td>\n",
       "      <td>1.979389e+09</td>\n",
       "      <td>0.941284</td>\n",
       "      <td>1.347946</td>\n",
       "      <td>0.032232</td>\n",
       "      <td>2020-08-08</td>\n",
       "      <td>1714101.0</td>\n",
       "      <td>1.769351e+06</td>\n",
       "    </tr>\n",
       "    <tr>\n",
       "      <th>1978</th>\n",
       "      <td>Lobster</td>\n",
       "      <td>5.824373e+01</td>\n",
       "      <td>0.916023</td>\n",
       "      <td>1.590359</td>\n",
       "      <td>0.031354</td>\n",
       "      <td>2020-08-08</td>\n",
       "      <td>145.0</td>\n",
       "      <td>1.495464e+02</td>\n",
       "    </tr>\n",
       "  </tbody>\n",
       "</table>\n",
       "</div>"
      ],
      "text/plain": [
       "                                  name  mean_squared_error  r2_score  \\\n",
       "2616                   Frog%20slippers        2.496724e+07  0.963813   \n",
       "2125                     Willow%20seed        7.844582e+04  0.883652   \n",
       "2225                       Raw%20shark        2.375519e+03  0.939239   \n",
       "2172  Senntisten%20teleport%20(tablet)        1.691738e+05  0.914799   \n",
       "552                    Team%20cape%20i        1.979389e+09  0.941284   \n",
       "1978                           Lobster        5.824373e+01  0.916023   \n",
       "\n",
       "           roi  perc_pred_increase    last_day  current_price    pred_price  \n",
       "2616  1.087076            0.040565  2020-08-08       138698.0  1.443243e+05  \n",
       "2125  1.397343            0.038577  2020-08-08         2521.0  2.618253e+03  \n",
       "2225  1.200669            0.033875  2020-08-08          615.0  6.358330e+02  \n",
       "2172  1.059838            0.032893  2020-08-08         8596.0  8.878751e+03  \n",
       "552   1.347946            0.032232  2020-08-08      1714101.0  1.769351e+06  \n",
       "1978  1.590359            0.031354  2020-08-08          145.0  1.495464e+02  "
      ]
     },
     "execution_count": 54,
     "metadata": {},
     "output_type": "execute_result"
    }
   ],
   "source": [
    "to_buy = trading_df.loc[~trading_df['name'].isin(bought['name'])].loc[:,['name', 'mean_squared_error', 'r2_score', 'roi', 'perc_pred_increase','last_day', 'current_price', 'pred_price']]\n",
    "to_buy"
   ]
  },
  {
   "cell_type": "code",
   "execution_count": 55,
   "metadata": {},
   "outputs": [
    {
     "data": {
      "text/html": [
       "<div>\n",
       "<style scoped>\n",
       "    .dataframe tbody tr th:only-of-type {\n",
       "        vertical-align: middle;\n",
       "    }\n",
       "\n",
       "    .dataframe tbody tr th {\n",
       "        vertical-align: top;\n",
       "    }\n",
       "\n",
       "    .dataframe thead th {\n",
       "        text-align: right;\n",
       "    }\n",
       "</style>\n",
       "<table border=\"1\" class=\"dataframe\">\n",
       "  <thead>\n",
       "    <tr style=\"text-align: right;\">\n",
       "      <th></th>\n",
       "      <th>name</th>\n",
       "      <th>mean_squared_error</th>\n",
       "      <th>r2_score</th>\n",
       "      <th>roi</th>\n",
       "      <th>perc_pred_increase</th>\n",
       "      <th>last_day</th>\n",
       "      <th>current_price</th>\n",
       "      <th>pred_price</th>\n",
       "    </tr>\n",
       "  </thead>\n",
       "  <tbody>\n",
       "    <tr>\n",
       "      <th>3020</th>\n",
       "      <td>Mole%20slippers</td>\n",
       "      <td>3.470657e+08</td>\n",
       "      <td>0.973710</td>\n",
       "      <td>2.356502</td>\n",
       "      <td>0.067838</td>\n",
       "      <td>2020-08-08</td>\n",
       "      <td>542451.0</td>\n",
       "      <td>5.792499e+05</td>\n",
       "    </tr>\n",
       "    <tr>\n",
       "      <th>1627</th>\n",
       "      <td>Wooden%20shield%20(g)</td>\n",
       "      <td>7.651991e+06</td>\n",
       "      <td>0.920674</td>\n",
       "      <td>1.107953</td>\n",
       "      <td>0.061206</td>\n",
       "      <td>2020-08-08</td>\n",
       "      <td>89622.0</td>\n",
       "      <td>9.510739e+04</td>\n",
       "    </tr>\n",
       "    <tr>\n",
       "      <th>2469</th>\n",
       "      <td>Bottomless%20compost%20bucket</td>\n",
       "      <td>1.368472e+09</td>\n",
       "      <td>0.938839</td>\n",
       "      <td>1.157845</td>\n",
       "      <td>0.051178</td>\n",
       "      <td>2020-08-08</td>\n",
       "      <td>302357.0</td>\n",
       "      <td>3.178311e+05</td>\n",
       "    </tr>\n",
       "    <tr>\n",
       "      <th>162</th>\n",
       "      <td>Black%20wizard%20hat%20(g)</td>\n",
       "      <td>1.050022e+08</td>\n",
       "      <td>0.953910</td>\n",
       "      <td>1.279001</td>\n",
       "      <td>0.050095</td>\n",
       "      <td>2020-08-08</td>\n",
       "      <td>282657.0</td>\n",
       "      <td>2.968167e+05</td>\n",
       "    </tr>\n",
       "    <tr>\n",
       "      <th>403</th>\n",
       "      <td>Black%20shield%20(h1)</td>\n",
       "      <td>2.018511e+05</td>\n",
       "      <td>0.937103</td>\n",
       "      <td>1.094687</td>\n",
       "      <td>-0.017193</td>\n",
       "      <td>2020-08-08</td>\n",
       "      <td>9198.0</td>\n",
       "      <td>9.039862e+03</td>\n",
       "    </tr>\n",
       "    <tr>\n",
       "      <th>916</th>\n",
       "      <td>Ahrim's%20robeskirt</td>\n",
       "      <td>1.301657e+10</td>\n",
       "      <td>0.854800</td>\n",
       "      <td>1.190805</td>\n",
       "      <td>-0.018774</td>\n",
       "      <td>2020-08-08</td>\n",
       "      <td>1744165.0</td>\n",
       "      <td>1.711421e+06</td>\n",
       "    </tr>\n",
       "    <tr>\n",
       "      <th>1868</th>\n",
       "      <td>Iron%20ore</td>\n",
       "      <td>1.196186e+02</td>\n",
       "      <td>0.929166</td>\n",
       "      <td>3.413442</td>\n",
       "      <td>-0.041223</td>\n",
       "      <td>2020-08-08</td>\n",
       "      <td>83.0</td>\n",
       "      <td>7.957852e+01</td>\n",
       "    </tr>\n",
       "  </tbody>\n",
       "</table>\n",
       "</div>"
      ],
      "text/plain": [
       "                               name  mean_squared_error  r2_score       roi  \\\n",
       "3020                Mole%20slippers        3.470657e+08  0.973710  2.356502   \n",
       "1627          Wooden%20shield%20(g)        7.651991e+06  0.920674  1.107953   \n",
       "2469  Bottomless%20compost%20bucket        1.368472e+09  0.938839  1.157845   \n",
       "162      Black%20wizard%20hat%20(g)        1.050022e+08  0.953910  1.279001   \n",
       "403           Black%20shield%20(h1)        2.018511e+05  0.937103  1.094687   \n",
       "916             Ahrim's%20robeskirt        1.301657e+10  0.854800  1.190805   \n",
       "1868                     Iron%20ore        1.196186e+02  0.929166  3.413442   \n",
       "\n",
       "      perc_pred_increase    last_day  current_price    pred_price  \n",
       "3020            0.067838  2020-08-08       542451.0  5.792499e+05  \n",
       "1627            0.061206  2020-08-08        89622.0  9.510739e+04  \n",
       "2469            0.051178  2020-08-08       302357.0  3.178311e+05  \n",
       "162             0.050095  2020-08-08       282657.0  2.968167e+05  \n",
       "403            -0.017193  2020-08-08         9198.0  9.039862e+03  \n",
       "916            -0.018774  2020-08-08      1744165.0  1.711421e+06  \n",
       "1868           -0.041223  2020-08-08           83.0  7.957852e+01  "
      ]
     },
     "execution_count": 55,
     "metadata": {},
     "output_type": "execute_result"
    }
   ],
   "source": [
    "to_sell = trading_df.loc[trading_df['name'].isin(bought['name'])].loc[:,['name', 'mean_squared_error', 'r2_score', 'roi', 'perc_pred_increase','last_day', 'current_price', 'pred_price']]\n",
    "to_sell"
   ]
  },
  {
   "cell_type": "markdown",
   "metadata": {},
   "source": [
    "\n",
    "# Update with actual trades"
   ]
  },
  {
   "cell_type": "code",
   "execution_count": 55,
   "metadata": {},
   "outputs": [],
   "source": [
    "bought.loc[11] = \"Ahrim's%20robeskirt\""
   ]
  },
  {
   "cell_type": "code",
   "execution_count": null,
   "metadata": {},
   "outputs": [],
   "source": [
    "bought"
   ]
  },
  {
   "cell_type": "code",
   "execution_count": 56,
   "metadata": {},
   "outputs": [
    {
     "data": {
      "text/plain": [
       "2616    Frog%20slippers\n",
       "2125      Willow%20seed\n",
       "2225        Raw%20shark\n",
       "Name: name, dtype: object"
      ]
     },
     "execution_count": 56,
     "metadata": {},
     "output_type": "execute_result"
    }
   ],
   "source": [
    "currently_buying = to_buy['name'][0:3]\n",
    "currently_buying\n"
   ]
  },
  {
   "cell_type": "code",
   "execution_count": 57,
   "metadata": {},
   "outputs": [
    {
     "data": {
      "text/html": [
       "<div>\n",
       "<style scoped>\n",
       "    .dataframe tbody tr th:only-of-type {\n",
       "        vertical-align: middle;\n",
       "    }\n",
       "\n",
       "    .dataframe tbody tr th {\n",
       "        vertical-align: top;\n",
       "    }\n",
       "\n",
       "    .dataframe thead th {\n",
       "        text-align: right;\n",
       "    }\n",
       "</style>\n",
       "<table border=\"1\" class=\"dataframe\">\n",
       "  <thead>\n",
       "    <tr style=\"text-align: right;\">\n",
       "      <th></th>\n",
       "      <th>name</th>\n",
       "    </tr>\n",
       "  </thead>\n",
       "  <tbody>\n",
       "    <tr>\n",
       "      <th>0</th>\n",
       "      <td>Black%20shield%20(h1)</td>\n",
       "    </tr>\n",
       "    <tr>\n",
       "      <th>1</th>\n",
       "      <td>Avantoe%20seed</td>\n",
       "    </tr>\n",
       "    <tr>\n",
       "      <th>2</th>\n",
       "      <td>Iron%20ore</td>\n",
       "    </tr>\n",
       "    <tr>\n",
       "      <th>3</th>\n",
       "      <td>Black%20wizard%20hat%20(g)</td>\n",
       "    </tr>\n",
       "    <tr>\n",
       "      <th>4</th>\n",
       "      <td>Bottomless%20compost%20bucket</td>\n",
       "    </tr>\n",
       "    <tr>\n",
       "      <th>5</th>\n",
       "      <td>Mole%20slippers</td>\n",
       "    </tr>\n",
       "    <tr>\n",
       "      <th>6</th>\n",
       "      <td>Wooden%20shield%20(g)</td>\n",
       "    </tr>\n",
       "    <tr>\n",
       "      <th>7</th>\n",
       "      <td>Ahrim's%20robeskirt</td>\n",
       "    </tr>\n",
       "    <tr>\n",
       "      <th>8</th>\n",
       "      <td>Frog%20slippers</td>\n",
       "    </tr>\n",
       "    <tr>\n",
       "      <th>9</th>\n",
       "      <td>Willow%20seed</td>\n",
       "    </tr>\n",
       "    <tr>\n",
       "      <th>10</th>\n",
       "      <td>Raw%20shark</td>\n",
       "    </tr>\n",
       "  </tbody>\n",
       "</table>\n",
       "</div>"
      ],
      "text/plain": [
       "                             name\n",
       "0           Black%20shield%20(h1)\n",
       "1                  Avantoe%20seed\n",
       "2                      Iron%20ore\n",
       "3      Black%20wizard%20hat%20(g)\n",
       "4   Bottomless%20compost%20bucket\n",
       "5                 Mole%20slippers\n",
       "6           Wooden%20shield%20(g)\n",
       "7             Ahrim's%20robeskirt\n",
       "8                 Frog%20slippers\n",
       "9                   Willow%20seed\n",
       "10                    Raw%20shark"
      ]
     },
     "execution_count": 57,
     "metadata": {},
     "output_type": "execute_result"
    }
   ],
   "source": [
    "bought.merge(currently_buying, how='outer')"
   ]
  },
  {
   "cell_type": "code",
   "execution_count": 58,
   "metadata": {},
   "outputs": [],
   "source": [
    "\n",
    "#bought = bought.merge(currently_buying, how='outer')"
   ]
  },
  {
   "cell_type": "code",
   "execution_count": 59,
   "metadata": {},
   "outputs": [],
   "source": [
    "#bought = bought.drop([0,2,3])"
   ]
  },
  {
   "cell_type": "code",
   "execution_count": 60,
   "metadata": {},
   "outputs": [],
   "source": [
    "#bought.loc[-1] = 'Bottomless%20compost%20bucket'"
   ]
  },
  {
   "cell_type": "code",
   "execution_count": 61,
   "metadata": {},
   "outputs": [
    {
     "data": {
      "text/html": [
       "<div>\n",
       "<style scoped>\n",
       "    .dataframe tbody tr th:only-of-type {\n",
       "        vertical-align: middle;\n",
       "    }\n",
       "\n",
       "    .dataframe tbody tr th {\n",
       "        vertical-align: top;\n",
       "    }\n",
       "\n",
       "    .dataframe thead th {\n",
       "        text-align: right;\n",
       "    }\n",
       "</style>\n",
       "<table border=\"1\" class=\"dataframe\">\n",
       "  <thead>\n",
       "    <tr style=\"text-align: right;\">\n",
       "      <th></th>\n",
       "      <th>name</th>\n",
       "    </tr>\n",
       "  </thead>\n",
       "  <tbody>\n",
       "    <tr>\n",
       "      <th>0</th>\n",
       "      <td>Black%20shield%20(h1)</td>\n",
       "    </tr>\n",
       "    <tr>\n",
       "      <th>1</th>\n",
       "      <td>Avantoe%20seed</td>\n",
       "    </tr>\n",
       "    <tr>\n",
       "      <th>2</th>\n",
       "      <td>Iron%20ore</td>\n",
       "    </tr>\n",
       "    <tr>\n",
       "      <th>3</th>\n",
       "      <td>Black%20wizard%20hat%20(g)</td>\n",
       "    </tr>\n",
       "    <tr>\n",
       "      <th>4</th>\n",
       "      <td>Bottomless%20compost%20bucket</td>\n",
       "    </tr>\n",
       "    <tr>\n",
       "      <th>5</th>\n",
       "      <td>Mole%20slippers</td>\n",
       "    </tr>\n",
       "    <tr>\n",
       "      <th>6</th>\n",
       "      <td>Wooden%20shield%20(g)</td>\n",
       "    </tr>\n",
       "    <tr>\n",
       "      <th>7</th>\n",
       "      <td>Ahrim's%20robeskirt</td>\n",
       "    </tr>\n",
       "  </tbody>\n",
       "</table>\n",
       "</div>"
      ],
      "text/plain": [
       "                            name\n",
       "0          Black%20shield%20(h1)\n",
       "1                 Avantoe%20seed\n",
       "2                     Iron%20ore\n",
       "3     Black%20wizard%20hat%20(g)\n",
       "4  Bottomless%20compost%20bucket\n",
       "5                Mole%20slippers\n",
       "6          Wooden%20shield%20(g)\n",
       "7            Ahrim's%20robeskirt"
      ]
     },
     "execution_count": 61,
     "metadata": {},
     "output_type": "execute_result"
    }
   ],
   "source": [
    "bought"
   ]
  },
  {
   "cell_type": "code",
   "execution_count": 57,
   "metadata": {},
   "outputs": [],
   "source": [
    "#bought.merge(currently_buying)\n",
    "bought.to_csv('data/bought', index=False)"
   ]
  },
  {
   "cell_type": "code",
   "execution_count": 58,
   "metadata": {},
   "outputs": [
    {
     "data": {
      "text/html": [
       "<div>\n",
       "<style scoped>\n",
       "    .dataframe tbody tr th:only-of-type {\n",
       "        vertical-align: middle;\n",
       "    }\n",
       "\n",
       "    .dataframe tbody tr th {\n",
       "        vertical-align: top;\n",
       "    }\n",
       "\n",
       "    .dataframe thead th {\n",
       "        text-align: right;\n",
       "    }\n",
       "</style>\n",
       "<table border=\"1\" class=\"dataframe\">\n",
       "  <thead>\n",
       "    <tr style=\"text-align: right;\">\n",
       "      <th></th>\n",
       "      <th>name</th>\n",
       "    </tr>\n",
       "  </thead>\n",
       "  <tbody>\n",
       "    <tr>\n",
       "      <th>0</th>\n",
       "      <td>Black%20shield%20(h1)</td>\n",
       "    </tr>\n",
       "    <tr>\n",
       "      <th>1</th>\n",
       "      <td>Avantoe%20seed</td>\n",
       "    </tr>\n",
       "    <tr>\n",
       "      <th>2</th>\n",
       "      <td>Iron%20ore</td>\n",
       "    </tr>\n",
       "    <tr>\n",
       "      <th>3</th>\n",
       "      <td>Black%20wizard%20hat%20(g)</td>\n",
       "    </tr>\n",
       "    <tr>\n",
       "      <th>4</th>\n",
       "      <td>Bottomless%20compost%20bucket</td>\n",
       "    </tr>\n",
       "    <tr>\n",
       "      <th>5</th>\n",
       "      <td>Mole%20slippers</td>\n",
       "    </tr>\n",
       "    <tr>\n",
       "      <th>6</th>\n",
       "      <td>Wooden%20shield%20(g)</td>\n",
       "    </tr>\n",
       "    <tr>\n",
       "      <th>7</th>\n",
       "      <td>Ahrim's%20robeskirt</td>\n",
       "    </tr>\n",
       "  </tbody>\n",
       "</table>\n",
       "</div>"
      ],
      "text/plain": [
       "                            name\n",
       "0          Black%20shield%20(h1)\n",
       "1                 Avantoe%20seed\n",
       "2                     Iron%20ore\n",
       "3     Black%20wizard%20hat%20(g)\n",
       "4  Bottomless%20compost%20bucket\n",
       "5                Mole%20slippers\n",
       "6          Wooden%20shield%20(g)\n",
       "7            Ahrim's%20robeskirt"
      ]
     },
     "execution_count": 58,
     "metadata": {},
     "output_type": "execute_result"
    }
   ],
   "source": [
    "pd.read_csv('data/bought')"
   ]
  },
  {
   "cell_type": "code",
   "execution_count": null,
   "metadata": {},
   "outputs": [],
   "source": [
    "trading_"
   ]
  },
  {
   "cell_type": "code",
   "execution_count": null,
   "metadata": {},
   "outputs": [],
   "source": [
    "trading_df.loc[:,['name', 'mean_squared_error', 'r2_score', 'roi', 'perc_pred_increase','last_day']].to_csv('data/trading_8.2.csv')"
   ]
  },
  {
   "cell_type": "code",
   "execution_count": null,
   "metadata": {},
   "outputs": [],
   "source": []
  },
  {
   "cell_type": "markdown",
   "metadata": {},
   "source": [
    "# fastai tabular data"
   ]
  },
  {
   "cell_type": "code",
   "execution_count": null,
   "metadata": {},
   "outputs": [],
   "source": []
  },
  {
   "cell_type": "code",
   "execution_count": null,
   "metadata": {},
   "outputs": [],
   "source": [
    "procs = [Normalize]"
   ]
  },
  {
   "cell_type": "code",
   "execution_count": null,
   "metadata": {},
   "outputs": [],
   "source": [
    "valid_idx = range(int(len(df)*.8), len(df)-60)"
   ]
  },
  {
   "cell_type": "code",
   "execution_count": null,
   "metadata": {},
   "outputs": [],
   "source": [
    "dep_var = 'Y'"
   ]
  },
  {
   "cell_type": "code",
   "execution_count": null,
   "metadata": {},
   "outputs": [],
   "source": [
    "path = Path(f'./data/wiki_urls/{item_name}')"
   ]
  },
  {
   "cell_type": "code",
   "execution_count": null,
   "metadata": {},
   "outputs": [],
   "source": [
    "trimmed_df['date_obj'] = trimmed_df.index"
   ]
  },
  {
   "cell_type": "code",
   "execution_count": null,
   "metadata": {},
   "outputs": [],
   "source": [
    "trimmed_df['date_obj'] = trimmed_df['date_obj'].apply(lambda x: pd.to_datetime(x))"
   ]
  },
  {
   "cell_type": "code",
   "execution_count": null,
   "metadata": {},
   "outputs": [],
   "source": [
    "time_trimmed_df = trimmed_df.loc[trimmed_df['date_obj'] > pd.to_datetime('2018-05-01')]"
   ]
  },
  {
   "cell_type": "code",
   "execution_count": null,
   "metadata": {},
   "outputs": [],
   "source": [
    "time_trimmed_df[item_name].plot()"
   ]
  },
  {
   "cell_type": "code",
   "execution_count": null,
   "metadata": {},
   "outputs": [],
   "source": [
    "time_trimmed_df = time_trimmed_df.drop(columns=['date_obj'], axis=1)"
   ]
  },
  {
   "cell_type": "code",
   "execution_count": null,
   "metadata": {},
   "outputs": [],
   "source": [
    "trimmed_df = time_trimmed_df"
   ]
  },
  {
   "cell_type": "code",
   "execution_count": null,
   "metadata": {},
   "outputs": [],
   "source": []
  },
  {
   "cell_type": "code",
   "execution_count": null,
   "metadata": {},
   "outputs": [],
   "source": [
    "df = trimmed_df"
   ]
  },
  {
   "cell_type": "code",
   "execution_count": null,
   "metadata": {},
   "outputs": [],
   "source": [
    "df"
   ]
  },
  {
   "cell_type": "code",
   "execution_count": null,
   "metadata": {},
   "outputs": [],
   "source": [
    "data = TabularDataBunch.from_df(path, df, dep_var, valid_idx=valid_idx, procs=procs, cat_names=[])"
   ]
  },
  {
   "cell_type": "code",
   "execution_count": null,
   "metadata": {},
   "outputs": [],
   "source": [
    "learn = tabular_learner(data, layers=[500,100], emb_szs={'native-country': 10}, metrics=mean_squared_error)"
   ]
  },
  {
   "cell_type": "code",
   "execution_count": null,
   "metadata": {},
   "outputs": [],
   "source": [
    "data.show_batch()"
   ]
  },
  {
   "cell_type": "code",
   "execution_count": null,
   "metadata": {},
   "outputs": [],
   "source": [
    "learn.save('stage-0')"
   ]
  },
  {
   "cell_type": "code",
   "execution_count": null,
   "metadata": {},
   "outputs": [],
   "source": []
  },
  {
   "cell_type": "code",
   "execution_count": null,
   "metadata": {
    "scrolled": true
   },
   "outputs": [],
   "source": [
    "learn.lr_find(end_lr=1e3)"
   ]
  },
  {
   "cell_type": "code",
   "execution_count": null,
   "metadata": {},
   "outputs": [],
   "source": [
    "learn.recorder.plot()"
   ]
  },
  {
   "cell_type": "code",
   "execution_count": null,
   "metadata": {},
   "outputs": [],
   "source": [
    "learn.fit_one_cycle(5, max_lr=1e-2)"
   ]
  },
  {
   "cell_type": "code",
   "execution_count": null,
   "metadata": {},
   "outputs": [],
   "source": [
    "learn.fit_one_cycle(5, max_lr=1e-2)"
   ]
  },
  {
   "cell_type": "code",
   "execution_count": null,
   "metadata": {
    "scrolled": true
   },
   "outputs": [],
   "source": [
    "learn.show_results(ds_type=DatasetType.Train)"
   ]
  },
  {
   "cell_type": "code",
   "execution_count": null,
   "metadata": {},
   "outputs": [],
   "source": [
    "learn.save('stage-1')"
   ]
  },
  {
   "cell_type": "code",
   "execution_count": null,
   "metadata": {},
   "outputs": [],
   "source": [
    "learn = learn.load('stage-1')"
   ]
  },
  {
   "cell_type": "code",
   "execution_count": null,
   "metadata": {},
   "outputs": [],
   "source": [
    "learn.lr_find()"
   ]
  },
  {
   "cell_type": "code",
   "execution_count": null,
   "metadata": {},
   "outputs": [],
   "source": [
    "learn.recorder.plot()"
   ]
  },
  {
   "cell_type": "code",
   "execution_count": null,
   "metadata": {},
   "outputs": [],
   "source": [
    "learn.fit_one_cycle(5, 3e-5)"
   ]
  },
  {
   "cell_type": "code",
   "execution_count": null,
   "metadata": {},
   "outputs": [],
   "source": [
    "learn.show_results(ds_type=DatasetType.Train)"
   ]
  },
  {
   "cell_type": "code",
   "execution_count": null,
   "metadata": {},
   "outputs": [],
   "source": [
    "learn.save('stage-2')"
   ]
  },
  {
   "cell_type": "code",
   "execution_count": null,
   "metadata": {},
   "outputs": [],
   "source": [
    "learn.lr_find()"
   ]
  },
  {
   "cell_type": "code",
   "execution_count": null,
   "metadata": {},
   "outputs": [],
   "source": [
    "learn.recorder.plot()"
   ]
  },
  {
   "cell_type": "code",
   "execution_count": null,
   "metadata": {},
   "outputs": [],
   "source": []
  },
  {
   "cell_type": "code",
   "execution_count": null,
   "metadata": {},
   "outputs": [],
   "source": [
    "learn.fit_one_cycle(5, 3e-6)"
   ]
  },
  {
   "cell_type": "code",
   "execution_count": null,
   "metadata": {},
   "outputs": [],
   "source": [
    "learn.save('stage-3')\n"
   ]
  },
  {
   "cell_type": "code",
   "execution_count": null,
   "metadata": {},
   "outputs": [],
   "source": [
    "learn.show_results(ds_type=DatasetType.Train)"
   ]
  },
  {
   "cell_type": "code",
   "execution_count": null,
   "metadata": {},
   "outputs": [],
   "source": [
    "learn.lr_find()\n",
    "learn.recorder.plot()"
   ]
  },
  {
   "cell_type": "code",
   "execution_count": null,
   "metadata": {},
   "outputs": [],
   "source": [
    "learn.fit_one_cycle(5, 3e-4)"
   ]
  },
  {
   "cell_type": "code",
   "execution_count": null,
   "metadata": {
    "scrolled": true
   },
   "outputs": [],
   "source": [
    "learn.save('stage-4')"
   ]
  },
  {
   "cell_type": "code",
   "execution_count": null,
   "metadata": {},
   "outputs": [],
   "source": [
    "learn.lr_find(end_lr=1e2)\n",
    "learn.recorder.plot()"
   ]
  },
  {
   "cell_type": "code",
   "execution_count": null,
   "metadata": {
    "scrolled": true
   },
   "outputs": [],
   "source": [
    "learn.show_results(ds_type=DatasetType.Train)"
   ]
  },
  {
   "cell_type": "code",
   "execution_count": null,
   "metadata": {},
   "outputs": [],
   "source": [
    "learn.fit_one_cycle(10, 1e-4)"
   ]
  },
  {
   "cell_type": "code",
   "execution_count": null,
   "metadata": {},
   "outputs": [],
   "source": [
    "learn = learn.load('stage-4')"
   ]
  },
  {
   "cell_type": "code",
   "execution_count": null,
   "metadata": {
    "scrolled": true
   },
   "outputs": [],
   "source": [
    "learn.show_results(ds_type=DatasetType.Train)"
   ]
  },
  {
   "cell_type": "markdown",
   "metadata": {},
   "source": [
    "# Plot results"
   ]
  },
  {
   "cell_type": "code",
   "execution_count": null,
   "metadata": {},
   "outputs": [],
   "source": [
    "int(learn.predict(df.iloc[0])[1])"
   ]
  },
  {
   "cell_type": "code",
   "execution_count": null,
   "metadata": {},
   "outputs": [],
   "source": [
    "learn.predict(df.iloc[0])"
   ]
  },
  {
   "cell_type": "code",
   "execution_count": null,
   "metadata": {},
   "outputs": [],
   "source": [
    "plot_x = [float(learn.predict(df.iloc[i])[1]) for i in range(len(df))]"
   ]
  },
  {
   "cell_type": "code",
   "execution_count": null,
   "metadata": {},
   "outputs": [],
   "source": [
    "plot_y = df['Y']"
   ]
  },
  {
   "cell_type": "code",
   "execution_count": null,
   "metadata": {
    "scrolled": true
   },
   "outputs": [],
   "source": [
    "plot_y"
   ]
  },
  {
   "cell_type": "code",
   "execution_count": null,
   "metadata": {},
   "outputs": [],
   "source": [
    "plot_x"
   ]
  },
  {
   "cell_type": "code",
   "execution_count": null,
   "metadata": {},
   "outputs": [],
   "source": [
    "plot_df = pd.DataFrame(plot_y)"
   ]
  },
  {
   "cell_type": "code",
   "execution_count": null,
   "metadata": {},
   "outputs": [],
   "source": [
    "plot_df['x'] = plot_x"
   ]
  },
  {
   "cell_type": "code",
   "execution_count": null,
   "metadata": {},
   "outputs": [],
   "source": [
    "plot_df.head()"
   ]
  },
  {
   "cell_type": "code",
   "execution_count": null,
   "metadata": {},
   "outputs": [],
   "source": [
    "plot_df.plot()"
   ]
  },
  {
   "cell_type": "code",
   "execution_count": null,
   "metadata": {},
   "outputs": [],
   "source": [
    "plt.plot(plot_x)"
   ]
  },
  {
   "cell_type": "code",
   "execution_count": null,
   "metadata": {},
   "outputs": [],
   "source": [
    "plt.plot(plot_y)"
   ]
  },
  {
   "cell_type": "code",
   "execution_count": null,
   "metadata": {},
   "outputs": [],
   "source": [
    "plt.plot(range(len(plot_x)),np.array([plot_x,plot_y]).T)"
   ]
  },
  {
   "cell_type": "code",
   "execution_count": null,
   "metadata": {},
   "outputs": [],
   "source": [
    "len(plot_x)"
   ]
  },
  {
   "cell_type": "code",
   "execution_count": null,
   "metadata": {},
   "outputs": [],
   "source": [
    "plt.plot(range(len(plot_x[len(plot_x)-60:])), np.array([plot_x[len(plot_x)-60:], plot_y[len(plot_y)-60:]]).T)\n",
    "plt.legend()"
   ]
  },
  {
   "cell_type": "code",
   "execution_count": null,
   "metadata": {},
   "outputs": [],
   "source": [
    "plt.plot(plot_x[len(plot_x)-60:])"
   ]
  },
  {
   "cell_type": "code",
   "execution_count": null,
   "metadata": {},
   "outputs": [],
   "source": [
    "len(plot_x)"
   ]
  },
  {
   "cell_type": "code",
   "execution_count": null,
   "metadata": {},
   "outputs": [],
   "source": [
    "plt.plot(plot_y[len(plot_y)-60:])"
   ]
  },
  {
   "cell_type": "code",
   "execution_count": null,
   "metadata": {},
   "outputs": [],
   "source": [
    "x_series = pd.Series(plot_x, name='Predict')"
   ]
  },
  {
   "cell_type": "code",
   "execution_count": null,
   "metadata": {},
   "outputs": [],
   "source": [
    "type(x_series)"
   ]
  },
  {
   "cell_type": "code",
   "execution_count": null,
   "metadata": {},
   "outputs": [],
   "source": [
    "type(plot_y)"
   ]
  },
  {
   "cell_type": "code",
   "execution_count": null,
   "metadata": {},
   "outputs": [],
   "source": [
    "y_series = plot_y.reindex(x_series.index)"
   ]
  },
  {
   "cell_type": "code",
   "execution_count": null,
   "metadata": {},
   "outputs": [],
   "source": [
    "y_series"
   ]
  },
  {
   "cell_type": "code",
   "execution_count": null,
   "metadata": {},
   "outputs": [],
   "source": [
    "x_series"
   ]
  },
  {
   "cell_type": "code",
   "execution_count": null,
   "metadata": {},
   "outputs": [],
   "source": [
    "pd.concat([y_series, x_series],  axis=1).iloc[1705-60:].plot()"
   ]
  },
  {
   "cell_type": "code",
   "execution_count": null,
   "metadata": {},
   "outputs": [],
   "source": [
    "learn.drop"
   ]
  },
  {
   "cell_type": "code",
   "execution_count": null,
   "metadata": {},
   "outputs": [],
   "source": [
    "learn.save('stage-final')\n",
    "learn.export()"
   ]
  },
  {
   "cell_type": "markdown",
   "metadata": {},
   "source": [
    "# Load in the full data (recent rows will have been dropped because Ys were N/A)"
   ]
  },
  {
   "cell_type": "code",
   "execution_count": null,
   "metadata": {},
   "outputs": [],
   "source": [
    "prediction_df = item_df_training"
   ]
  },
  {
   "cell_type": "code",
   "execution_count": null,
   "metadata": {},
   "outputs": [],
   "source": [
    "prediction_df['constant'] = time_trimmed_df['Y'].mean() *scaling_factor"
   ]
  },
  {
   "cell_type": "code",
   "execution_count": null,
   "metadata": {},
   "outputs": [],
   "source": [
    "prediction_df.columns"
   ]
  },
  {
   "cell_type": "code",
   "execution_count": null,
   "metadata": {},
   "outputs": [],
   "source": [
    "prediction_df = prediction_df.fillna(method='ffill').fillna(method='bfill').fillna(0)"
   ]
  },
  {
   "cell_type": "code",
   "execution_count": null,
   "metadata": {},
   "outputs": [],
   "source": [
    "predict_data = TabularDataBunch.from_df(path, prediction_df, dep_var, valid_idx=valid_idx, procs=procs, cat_names=[])"
   ]
  },
  {
   "cell_type": "code",
   "execution_count": null,
   "metadata": {},
   "outputs": [],
   "source": [
    "predict_learn = tabular_learner(data, layers=[500,100], emb_szs={'native-country': 10}, metrics=mean_squared_error)"
   ]
  },
  {
   "cell_type": "code",
   "execution_count": null,
   "metadata": {},
   "outputs": [],
   "source": [
    "predict_learn =predict_learn.load('stage-final')"
   ]
  },
  {
   "cell_type": "code",
   "execution_count": null,
   "metadata": {},
   "outputs": [],
   "source": [
    "predict_learn.show_results(ds_type=DatasetType.Train)"
   ]
  },
  {
   "cell_type": "code",
   "execution_count": null,
   "metadata": {},
   "outputs": [],
   "source": [
    "predict_learn.predict(prediction_df.iloc[0])"
   ]
  },
  {
   "cell_type": "code",
   "execution_count": null,
   "metadata": {},
   "outputs": [],
   "source": [
    "predict_learn.predict(prediction_df.iloc[100])"
   ]
  },
  {
   "cell_type": "code",
   "execution_count": null,
   "metadata": {},
   "outputs": [],
   "source": [
    "prediction_df"
   ]
  },
  {
   "cell_type": "code",
   "execution_count": null,
   "metadata": {},
   "outputs": [],
   "source": [
    "predictions = [float(predict_learn.predict(prediction_df.iloc[i])[1]) for i in range(len(prediction_df))]\n"
   ]
  },
  {
   "cell_type": "code",
   "execution_count": null,
   "metadata": {},
   "outputs": [],
   "source": [
    "predictions"
   ]
  },
  {
   "cell_type": "code",
   "execution_count": null,
   "metadata": {
    "scrolled": true
   },
   "outputs": [],
   "source": [
    "prediction_df.tail()"
   ]
  },
  {
   "cell_type": "code",
   "execution_count": null,
   "metadata": {},
   "outputs": [],
   "source": [
    "prediction_df['predictions'] = predictions"
   ]
  },
  {
   "cell_type": "code",
   "execution_count": null,
   "metadata": {},
   "outputs": [],
   "source": [
    "prediction_df['predictions'].tail(30)"
   ]
  },
  {
   "cell_type": "code",
   "execution_count": null,
   "metadata": {},
   "outputs": [],
   "source": [
    "prediction_df"
   ]
  },
  {
   "cell_type": "markdown",
   "metadata": {},
   "source": [
    "#### "
   ]
  }
 ],
 "metadata": {
  "kernelspec": {
   "display_name": "venv",
   "language": "python",
   "name": "venv"
  },
  "language_info": {
   "codemirror_mode": {
    "name": "ipython",
    "version": 3
   },
   "file_extension": ".py",
   "mimetype": "text/x-python",
   "name": "python",
   "nbconvert_exporter": "python",
   "pygments_lexer": "ipython3",
   "version": "3.7.8"
  }
 },
 "nbformat": 4,
 "nbformat_minor": 1
}
