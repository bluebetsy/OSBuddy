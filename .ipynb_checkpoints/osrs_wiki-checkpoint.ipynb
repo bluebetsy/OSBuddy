{
 "cells": [
  {
   "cell_type": "markdown",
   "metadata": {},
   "source": [
    "# Libraries + Torch check"
   ]
  },
  {
   "cell_type": "code",
   "execution_count": 1,
   "metadata": {
    "scrolled": true
   },
   "outputs": [],
   "source": [
    "import pandas as pd\n",
    "import requests\n",
    "import json\n",
    "from pathlib import Path\n",
    "import re\n",
    "from datetime import date\n",
    "import time\n",
    "import os\n",
    "from fastai.tabular import *\n",
    "import matplotlib.pyplot as plt\n",
    "import numpy as np\n",
    "from sklearn import linear_model\n",
    "import sklearn.metrics\n",
    "from sklearn.model_selection import train_test_split\n",
    "import math"
   ]
  },
  {
   "cell_type": "code",
   "execution_count": 2,
   "metadata": {},
   "outputs": [],
   "source": [
    "import torch"
   ]
  },
  {
   "cell_type": "code",
   "execution_count": 3,
   "metadata": {},
   "outputs": [
    {
     "data": {
      "text/plain": [
       "<torch.cuda.device at 0x24ed7f50448>"
      ]
     },
     "execution_count": 3,
     "metadata": {},
     "output_type": "execute_result"
    }
   ],
   "source": [
    "torch.cuda.device(0)"
   ]
  },
  {
   "cell_type": "code",
   "execution_count": 4,
   "metadata": {},
   "outputs": [
    {
     "data": {
      "text/plain": [
       "'GeForce RTX 2080'"
      ]
     },
     "execution_count": 4,
     "metadata": {},
     "output_type": "execute_result"
    }
   ],
   "source": [
    "torch.cuda.get_device_name(0)"
   ]
  },
  {
   "cell_type": "markdown",
   "metadata": {},
   "source": [
    "# Data Retrieval"
   ]
  },
  {
   "cell_type": "code",
   "execution_count": 5,
   "metadata": {},
   "outputs": [],
   "source": [
    "#cleaned_item_names = [name[:-10] for name in list(os.walk(r'data/wiki_prices'))[0][2]]"
   ]
  },
  {
   "cell_type": "code",
   "execution_count": 6,
   "metadata": {},
   "outputs": [],
   "source": [
    "item_names = pd.read_csv('wiki_item_names', header=None,names=['name'])"
   ]
  },
  {
   "cell_type": "code",
   "execution_count": 7,
   "metadata": {},
   "outputs": [
    {
     "data": {
      "text/html": [
       "<div>\n",
       "<style scoped>\n",
       "    .dataframe tbody tr th:only-of-type {\n",
       "        vertical-align: middle;\n",
       "    }\n",
       "\n",
       "    .dataframe tbody tr th {\n",
       "        vertical-align: top;\n",
       "    }\n",
       "\n",
       "    .dataframe thead th {\n",
       "        text-align: right;\n",
       "    }\n",
       "</style>\n",
       "<table border=\"1\" class=\"dataframe\">\n",
       "  <thead>\n",
       "    <tr style=\"text-align: right;\">\n",
       "      <th></th>\n",
       "      <th>name</th>\n",
       "    </tr>\n",
       "  </thead>\n",
       "  <tbody>\n",
       "    <tr>\n",
       "      <th>0</th>\n",
       "      <td>3rd age amulet</td>\n",
       "    </tr>\n",
       "    <tr>\n",
       "      <th>1</th>\n",
       "      <td>3rd age axe</td>\n",
       "    </tr>\n",
       "    <tr>\n",
       "      <th>2</th>\n",
       "      <td>3rd age bow</td>\n",
       "    </tr>\n",
       "    <tr>\n",
       "      <th>3</th>\n",
       "      <td>3rd age cloak</td>\n",
       "    </tr>\n",
       "    <tr>\n",
       "      <th>4</th>\n",
       "      <td>3rd age druidic cloak</td>\n",
       "    </tr>\n",
       "    <tr>\n",
       "      <th>...</th>\n",
       "      <td>...</td>\n",
       "    </tr>\n",
       "    <tr>\n",
       "      <th>3286</th>\n",
       "      <td>Zogre bones</td>\n",
       "    </tr>\n",
       "    <tr>\n",
       "      <th>3287</th>\n",
       "      <td>Zombie head (Treasure Trails)</td>\n",
       "    </tr>\n",
       "    <tr>\n",
       "      <th>3288</th>\n",
       "      <td>Zul-andra teleport</td>\n",
       "    </tr>\n",
       "    <tr>\n",
       "      <th>3289</th>\n",
       "      <td>Zulrah's scales</td>\n",
       "    </tr>\n",
       "    <tr>\n",
       "      <th>3290</th>\n",
       "      <td>Zuriel's staff</td>\n",
       "    </tr>\n",
       "  </tbody>\n",
       "</table>\n",
       "<p>3291 rows × 1 columns</p>\n",
       "</div>"
      ],
      "text/plain": [
       "                               name\n",
       "0                    3rd age amulet\n",
       "1                       3rd age axe\n",
       "2                       3rd age bow\n",
       "3                     3rd age cloak\n",
       "4             3rd age druidic cloak\n",
       "...                             ...\n",
       "3286                    Zogre bones\n",
       "3287  Zombie head (Treasure Trails)\n",
       "3288             Zul-andra teleport\n",
       "3289                Zulrah's scales\n",
       "3290                 Zuriel's staff\n",
       "\n",
       "[3291 rows x 1 columns]"
      ]
     },
     "execution_count": 7,
     "metadata": {},
     "output_type": "execute_result"
    }
   ],
   "source": [
    "item_names"
   ]
  },
  {
   "cell_type": "code",
   "execution_count": 8,
   "metadata": {},
   "outputs": [],
   "source": [
    "cleaned_item_names = [name[0].replace(' ', '%20') for name in item_names.values]"
   ]
  },
  {
   "cell_type": "code",
   "execution_count": 9,
   "metadata": {},
   "outputs": [
    {
     "data": {
      "text/plain": [
       "name    3rd age amulet\n",
       "Name: 0, dtype: object"
      ]
     },
     "execution_count": 9,
     "metadata": {},
     "output_type": "execute_result"
    }
   ],
   "source": [
    "item_names.loc[0]"
   ]
  },
  {
   "cell_type": "code",
   "execution_count": 10,
   "metadata": {
    "scrolled": true
   },
   "outputs": [
    {
     "data": {
      "text/plain": [
       "['3rd%20age%20amulet',\n",
       " '3rd%20age%20axe',\n",
       " '3rd%20age%20bow',\n",
       " '3rd%20age%20cloak',\n",
       " '3rd%20age%20druidic%20cloak']"
      ]
     },
     "execution_count": 10,
     "metadata": {},
     "output_type": "execute_result"
    }
   ],
   "source": [
    "cleaned_item_names[0:5]"
   ]
  },
  {
   "cell_type": "code",
   "execution_count": 11,
   "metadata": {},
   "outputs": [],
   "source": [
    "#pd.Series(cleaned_item_names).to_csv('./data/cleaned_item_names', index=False, header=False)"
   ]
  },
  {
   "cell_type": "code",
   "execution_count": 12,
   "metadata": {},
   "outputs": [
    {
     "data": {
      "text/plain": [
       "3291"
      ]
     },
     "execution_count": 12,
     "metadata": {},
     "output_type": "execute_result"
    }
   ],
   "source": [
    "len(cleaned_item_names)"
   ]
  },
  {
   "cell_type": "code",
   "execution_count": 13,
   "metadata": {},
   "outputs": [],
   "source": [
    "# cleaned_item_names"
   ]
  },
  {
   "cell_type": "code",
   "execution_count": 14,
   "metadata": {},
   "outputs": [],
   "source": [
    "def get_item_df(item_name, sleppy_time=1):\n",
    "    base_url = r\"https://oldschool.runescape.wiki/api.php?action=query&prop=revisions&rvprop=content&format=json&titles=Module%3AExchange%2F\"\n",
    "    postfix_url = r\"%2FData\"\n",
    "    full_url = f'{base_url}{item_name}{postfix_url}'\n",
    "    resp = requests.get(full_url)\n",
    "    jsond = resp.json()\n",
    "    try:\n",
    "        regex_text = jsond['query']['pages'][next(iter(jsond['query']['pages'].keys()))]['revisions'][0]['*']\n",
    "        #get all of the ones that have volume as well as price\n",
    "        m = re.findall(r'[\\d]+:[\\d]+:[\\d]+', regex_text)\n",
    "        item_df = pd.DataFrame()\n",
    "        item_df['dt'] = [int(string.split(':')[0]) for string in m]\n",
    "        item_df[f'{item_name} price'] = [int(string.split(':')[1]) for string in m]\n",
    "        item_df[f'{item_name} volume'] = [int(string.split(':')[2]) for string in m]\n",
    "        item_df['date_obj'] = item_df['dt'].apply(lambda x: date.fromtimestamp(x))\n",
    "        #take the ones that just have price so we can get the most recent price as well\n",
    "        n = re.findall(r'[\\d]+:[\\d]+', regex_text)\n",
    "        last_time = date.fromtimestamp(int(n[-1].split(':')[0]))\n",
    "        last_price = int(n[-1].split(':')[1])\n",
    "        item_df.loc[-1, 'date_obj'] = last_time\n",
    "        item_df.loc[-1, f'{item_name} price'] = last_price\n",
    "        item_df = item_df.fillna(method='ffill')\n",
    "        item_df.set_index('date_obj', inplace=True)\n",
    "        item_df = item_df.drop('dt', axis=1)\n",
    "        return item_df\n",
    "    except:\n",
    "        pass\n",
    "\n"
   ]
  },
  {
   "cell_type": "code",
   "execution_count": 15,
   "metadata": {},
   "outputs": [],
   "source": [
    "def retrieve_dfs(xslice = True):\n",
    "    if xslice:\n",
    "        item_dfs = [get_item_df(item_name,1) for item_name in cleaned_item_names[40:45]]\n",
    "    else:\n",
    "        item_dfs = [get_item_df(item_name,1) for item_name in cleaned_item_names]\n",
    "    return item_dfs"
   ]
  },
  {
   "cell_type": "code",
   "execution_count": 16,
   "metadata": {},
   "outputs": [],
   "source": [
    "item_dfs = retrieve_dfs(False)"
   ]
  },
  {
   "cell_type": "code",
   "execution_count": 17,
   "metadata": {},
   "outputs": [
    {
     "data": {
      "text/plain": [
       "3291"
      ]
     },
     "execution_count": 17,
     "metadata": {},
     "output_type": "execute_result"
    }
   ],
   "source": [
    "len(item_dfs)"
   ]
  },
  {
   "cell_type": "code",
   "execution_count": 18,
   "metadata": {},
   "outputs": [
    {
     "data": {
      "text/html": [
       "<div>\n",
       "<style scoped>\n",
       "    .dataframe tbody tr th:only-of-type {\n",
       "        vertical-align: middle;\n",
       "    }\n",
       "\n",
       "    .dataframe tbody tr th {\n",
       "        vertical-align: top;\n",
       "    }\n",
       "\n",
       "    .dataframe thead th {\n",
       "        text-align: right;\n",
       "    }\n",
       "</style>\n",
       "<table border=\"1\" class=\"dataframe\">\n",
       "  <thead>\n",
       "    <tr style=\"text-align: right;\">\n",
       "      <th></th>\n",
       "      <th>3rd%20age%20amulet price</th>\n",
       "      <th>3rd%20age%20amulet volume</th>\n",
       "    </tr>\n",
       "    <tr>\n",
       "      <th>date_obj</th>\n",
       "      <th></th>\n",
       "      <th></th>\n",
       "    </tr>\n",
       "  </thead>\n",
       "  <tbody>\n",
       "    <tr>\n",
       "      <th>2018-09-24</th>\n",
       "      <td>10899489.0</td>\n",
       "      <td>17.0</td>\n",
       "    </tr>\n",
       "    <tr>\n",
       "      <th>2018-09-25</th>\n",
       "      <td>10971896.0</td>\n",
       "      <td>5.0</td>\n",
       "    </tr>\n",
       "    <tr>\n",
       "      <th>2018-09-26</th>\n",
       "      <td>10971896.0</td>\n",
       "      <td>19.0</td>\n",
       "    </tr>\n",
       "    <tr>\n",
       "      <th>2018-09-27</th>\n",
       "      <td>10971896.0</td>\n",
       "      <td>49.0</td>\n",
       "    </tr>\n",
       "    <tr>\n",
       "      <th>2018-09-28</th>\n",
       "      <td>11143468.0</td>\n",
       "      <td>30.0</td>\n",
       "    </tr>\n",
       "    <tr>\n",
       "      <th>...</th>\n",
       "      <td>...</td>\n",
       "      <td>...</td>\n",
       "    </tr>\n",
       "    <tr>\n",
       "      <th>2020-08-09</th>\n",
       "      <td>17322245.0</td>\n",
       "      <td>107.0</td>\n",
       "    </tr>\n",
       "    <tr>\n",
       "      <th>2020-08-10</th>\n",
       "      <td>17206759.0</td>\n",
       "      <td>29.0</td>\n",
       "    </tr>\n",
       "    <tr>\n",
       "      <th>2020-08-11</th>\n",
       "      <td>17206759.0</td>\n",
       "      <td>90.0</td>\n",
       "    </tr>\n",
       "    <tr>\n",
       "      <th>2020-08-12</th>\n",
       "      <td>17206759.0</td>\n",
       "      <td>52.0</td>\n",
       "    </tr>\n",
       "    <tr>\n",
       "      <th>2020-08-13</th>\n",
       "      <td>17206759.0</td>\n",
       "      <td>52.0</td>\n",
       "    </tr>\n",
       "  </tbody>\n",
       "</table>\n",
       "<p>656 rows × 2 columns</p>\n",
       "</div>"
      ],
      "text/plain": [
       "            3rd%20age%20amulet price  3rd%20age%20amulet volume\n",
       "date_obj                                                       \n",
       "2018-09-24                10899489.0                       17.0\n",
       "2018-09-25                10971896.0                        5.0\n",
       "2018-09-26                10971896.0                       19.0\n",
       "2018-09-27                10971896.0                       49.0\n",
       "2018-09-28                11143468.0                       30.0\n",
       "...                              ...                        ...\n",
       "2020-08-09                17322245.0                      107.0\n",
       "2020-08-10                17206759.0                       29.0\n",
       "2020-08-11                17206759.0                       90.0\n",
       "2020-08-12                17206759.0                       52.0\n",
       "2020-08-13                17206759.0                       52.0\n",
       "\n",
       "[656 rows x 2 columns]"
      ]
     },
     "execution_count": 18,
     "metadata": {},
     "output_type": "execute_result"
    }
   ],
   "source": [
    "item_dfs[0]"
   ]
  },
  {
   "cell_type": "code",
   "execution_count": 19,
   "metadata": {},
   "outputs": [],
   "source": [
    "def save_dfs(item_dfs):\n",
    "    for df in item_dfs:\n",
    "        try:\n",
    "            df.to_csv(f'./data/wiki_prices/{df.columns[0]}.csv')\n",
    "        except:\n",
    "            pass"
   ]
  },
  {
   "cell_type": "code",
   "execution_count": 20,
   "metadata": {},
   "outputs": [],
   "source": [
    "save_dfs(item_dfs)"
   ]
  },
  {
   "cell_type": "code",
   "execution_count": 21,
   "metadata": {},
   "outputs": [],
   "source": [
    "def load_dfs(drop_blank=True):\n",
    "    item_dfs = []\n",
    "    for name in list(os.walk('./data/wiki_prices'))[0][2]:\n",
    "        df = pd.read_csv(f'./data/wiki_prices/{name}')\n",
    "        df = df.set_index(df.columns[0])\n",
    "#         if drop_blank:\n",
    "#             if df.empty:\n",
    "#                 item_dfs.append(df)\n",
    "#         else:\n",
    "#             item_dfs.append(df)\n",
    "        item_dfs.append(df)\n",
    "    return item_dfs"
   ]
  },
  {
   "cell_type": "code",
   "execution_count": 22,
   "metadata": {},
   "outputs": [],
   "source": [
    "item_dfs = load_dfs()"
   ]
  },
  {
   "cell_type": "code",
   "execution_count": 23,
   "metadata": {},
   "outputs": [
    {
     "data": {
      "text/plain": [
       "3138"
      ]
     },
     "execution_count": 23,
     "metadata": {},
     "output_type": "execute_result"
    }
   ],
   "source": [
    "len(item_dfs)"
   ]
  },
  {
   "cell_type": "code",
   "execution_count": 24,
   "metadata": {},
   "outputs": [
    {
     "data": {
      "text/plain": [
       "list"
      ]
     },
     "execution_count": 24,
     "metadata": {},
     "output_type": "execute_result"
    }
   ],
   "source": [
    "type(item_dfs)"
   ]
  },
  {
   "cell_type": "code",
   "execution_count": 25,
   "metadata": {},
   "outputs": [
    {
     "data": {
      "text/plain": [
       "'3rd%20age%20amulet'"
      ]
     },
     "execution_count": 25,
     "metadata": {},
     "output_type": "execute_result"
    }
   ],
   "source": [
    "cleaned_item_names[0]"
   ]
  },
  {
   "cell_type": "code",
   "execution_count": 26,
   "metadata": {},
   "outputs": [],
   "source": [
    "for item_df in item_dfs:\n",
    "    try:\n",
    "        col = item_df.columns[0]\n",
    "    except:\n",
    "        invalid_dfs += 1 \n",
    "        print(item_df)"
   ]
  },
  {
   "cell_type": "code",
   "execution_count": 27,
   "metadata": {},
   "outputs": [],
   "source": [
    "retrieved_names = [item_df.columns[0][:-6] for item_df in item_dfs]"
   ]
  },
  {
   "cell_type": "code",
   "execution_count": 28,
   "metadata": {},
   "outputs": [
    {
     "data": {
      "text/plain": [
       "3138"
      ]
     },
     "execution_count": 28,
     "metadata": {},
     "output_type": "execute_result"
    }
   ],
   "source": [
    "len(retrieved_names)"
   ]
  },
  {
   "cell_type": "code",
   "execution_count": 29,
   "metadata": {},
   "outputs": [
    {
     "data": {
      "text/plain": [
       "3138"
      ]
     },
     "execution_count": 29,
     "metadata": {},
     "output_type": "execute_result"
    }
   ],
   "source": [
    "len(item_dfs)"
   ]
  },
  {
   "cell_type": "code",
   "execution_count": 30,
   "metadata": {},
   "outputs": [],
   "source": [
    "df = pd.DataFrame({'name': retrieved_names, 'price_df': item_dfs})"
   ]
  },
  {
   "cell_type": "code",
   "execution_count": 31,
   "metadata": {
    "scrolled": true
   },
   "outputs": [
    {
     "data": {
      "text/html": [
       "<div>\n",
       "<style scoped>\n",
       "    .dataframe tbody tr th:only-of-type {\n",
       "        vertical-align: middle;\n",
       "    }\n",
       "\n",
       "    .dataframe tbody tr th {\n",
       "        vertical-align: top;\n",
       "    }\n",
       "\n",
       "    .dataframe thead th {\n",
       "        text-align: right;\n",
       "    }\n",
       "</style>\n",
       "<table border=\"1\" class=\"dataframe\">\n",
       "  <thead>\n",
       "    <tr style=\"text-align: right;\">\n",
       "      <th></th>\n",
       "      <th>name</th>\n",
       "      <th>price_df</th>\n",
       "    </tr>\n",
       "  </thead>\n",
       "  <tbody>\n",
       "    <tr>\n",
       "      <th>0</th>\n",
       "      <td>3rd%20age%20amulet</td>\n",
       "      <td>3rd%20age%20amulet price  3rd%20ag...</td>\n",
       "    </tr>\n",
       "    <tr>\n",
       "      <th>1</th>\n",
       "      <td>3rd%20age%20axe</td>\n",
       "      <td>3rd%20age%20axe price  3rd%20age%2...</td>\n",
       "    </tr>\n",
       "    <tr>\n",
       "      <th>2</th>\n",
       "      <td>3rd%20age%20bow</td>\n",
       "      <td>3rd%20age%20bow price  3rd%20age%2...</td>\n",
       "    </tr>\n",
       "    <tr>\n",
       "      <th>3</th>\n",
       "      <td>3rd%20age%20cloak</td>\n",
       "      <td>3rd%20age%20cloak price  3rd%20age...</td>\n",
       "    </tr>\n",
       "    <tr>\n",
       "      <th>4</th>\n",
       "      <td>3rd%20age%20druidic%20cloak</td>\n",
       "      <td>3rd%20age%20druidic%20cloak price ...</td>\n",
       "    </tr>\n",
       "  </tbody>\n",
       "</table>\n",
       "</div>"
      ],
      "text/plain": [
       "                          name  \\\n",
       "0           3rd%20age%20amulet   \n",
       "1              3rd%20age%20axe   \n",
       "2              3rd%20age%20bow   \n",
       "3            3rd%20age%20cloak   \n",
       "4  3rd%20age%20druidic%20cloak   \n",
       "\n",
       "                                            price_df  \n",
       "0              3rd%20age%20amulet price  3rd%20ag...  \n",
       "1              3rd%20age%20axe price  3rd%20age%2...  \n",
       "2              3rd%20age%20bow price  3rd%20age%2...  \n",
       "3              3rd%20age%20cloak price  3rd%20age...  \n",
       "4              3rd%20age%20druidic%20cloak price ...  "
      ]
     },
     "execution_count": 31,
     "metadata": {},
     "output_type": "execute_result"
    }
   ],
   "source": [
    "df.head()"
   ]
  },
  {
   "cell_type": "markdown",
   "metadata": {},
   "source": [
    "# Feature creation"
   ]
  },
  {
   "cell_type": "code",
   "execution_count": 32,
   "metadata": {},
   "outputs": [],
   "source": [
    "#item_df_training = tl_df['price_df'][300]"
   ]
  },
  {
   "cell_type": "code",
   "execution_count": 33,
   "metadata": {},
   "outputs": [],
   "source": [
    "days_back = 90\n",
    "\n",
    "rolling_averages = [3,7,14,21,30,60,90]\n",
    "\n",
    "days_ahead_to_predict = 4"
   ]
  },
  {
   "cell_type": "code",
   "execution_count": 34,
   "metadata": {},
   "outputs": [],
   "source": [
    "def create_predictive_features(price_df):\n",
    "    item_df_training = price_df\n",
    "    item_name = item_df_training.columns[0]\n",
    "    for i in range(days_back):\n",
    "        item_df_training[f'{item_name} {i} days ago'] = item_df_training[item_name].shift(i)\n",
    "    for i in range(days_back):\n",
    "        item_df_training[f'{item_name} {i} delta days ago'] = item_df_training[item_name].shift(i) - item_df_training[item_name]\n",
    "    for rolling_average in rolling_averages:\n",
    "        item_df_training[f'{item_name} {rolling_average} day rolling average'] = item_df_training[item_name].rolling(rolling_average).mean()\n",
    "    for rolling_average in rolling_averages:\n",
    "        item_df_training[f'{item_name} delta {rolling_average} day rolling average'] = item_df_training[item_name] - item_df_training[f'{item_name} {rolling_average} day rolling average']\n",
    "    item_df_training['Y'] = item_df_training[item_name].shift(-1*days_ahead_to_predict)\n",
    "    return item_df_training\n",
    "\n",
    "        "
   ]
  },
  {
   "cell_type": "code",
   "execution_count": 35,
   "metadata": {},
   "outputs": [],
   "source": [
    "#price_df = tl_df['price_df'][300]"
   ]
  },
  {
   "cell_type": "code",
   "execution_count": 36,
   "metadata": {},
   "outputs": [],
   "source": [
    "def trim_df(item_df_training):\n",
    "    trimmed_df = item_df_training.dropna(how='any')\n",
    "    return trimmed_df\n",
    "    "
   ]
  },
  {
   "cell_type": "markdown",
   "metadata": {},
   "source": [
    "# SGD LR"
   ]
  },
  {
   "cell_type": "code",
   "execution_count": 37,
   "metadata": {},
   "outputs": [],
   "source": [
    "def create_model(tl_df_row):\n",
    "    trimmed_df = tl_df_row['trimmed_df']\n",
    "    try:\n",
    "        X = trimmed_df.drop(['Y'], axis=1)\n",
    "        y = trimmed_df['Y']\n",
    "        X_train, X_test, y_train, y_test = train_test_split(X, y, test_size = 0.2, shuffle=False)\n",
    "        regr = linear_model.LinearRegression()\n",
    "        regr.fit(X_train, y_train)\n",
    "        y_pred = regr.predict(X_test)\n",
    "        mean_squared_error = sklearn.metrics.mean_squared_error(y_test, y_pred)\n",
    "        r2_score = sklearn.metrics.r2_score(y_test, y_pred)\n",
    "        return (regr, y_pred, y_test, mean_squared_error, r2_score)\n",
    "    except:\n",
    "        return (0, 0, 0, 0, 0)"
   ]
  },
  {
   "cell_type": "code",
   "execution_count": 38,
   "metadata": {},
   "outputs": [],
   "source": [
    "#plt.scatter(y_test, y_pred)"
   ]
  },
  {
   "cell_type": "markdown",
   "metadata": {},
   "source": [
    "# \"Backtest\""
   ]
  },
  {
   "cell_type": "code",
   "execution_count": 39,
   "metadata": {},
   "outputs": [],
   "source": [
    "starting_cash = 10**7"
   ]
  },
  {
   "cell_type": "code",
   "execution_count": 40,
   "metadata": {},
   "outputs": [],
   "source": [
    "slippage = 0\n",
    "thresh_buy = 0.00\n",
    "thresh_sell = 0\n",
    "max_volume_buy = 0.01"
   ]
  },
  {
   "cell_type": "code",
   "execution_count": 41,
   "metadata": {},
   "outputs": [],
   "source": [
    "def should_buy(row):\n",
    "    if row['perc predicted increase'] > thresh_buy:\n",
    "        return True\n",
    "\n",
    "def should_sell(row):\n",
    "    if row['perc predicted increase'] < thresh_sell:\n",
    "        return True\n",
    "    \n",
    "def buy_price(row):\n",
    "    return row['current_price']\n",
    "\n",
    "def sell_price(row):\n",
    "    return row['current_price']\n",
    "\n",
    "def max_buy(row):\n",
    "    d_stock = max(\n",
    "        min(\n",
    "        (row['starting_cash']//buy_price(row)),\n",
    "        math.floor(row['volume']*max_volume_buy)\n",
    "        ),\n",
    "        0\n",
    "    )\n",
    "    d_cash = -1 * d_stock * buy_price(row)\n",
    "    return (d_stock, d_cash)\n",
    "\n",
    "def max_sell(row):\n",
    "    d_stock = -1 * max(\n",
    "        0,\n",
    "        min(row['starting_stock'],\n",
    "        math.floor(row['volume'] * max_volume_buy)\n",
    "        )\n",
    "    )\n",
    "    d_cash = d_stock *-1 * sell_price(row)\n",
    "    return (d_stock, d_cash)"
   ]
  },
  {
   "cell_type": "code",
   "execution_count": 42,
   "metadata": {},
   "outputs": [],
   "source": [
    "def get_ending_cash(record_df):\n",
    "    last_row = record_df.iloc[-1,:]\n",
    "    cash = last_row['ending_cash']\n",
    "    cash += sell_price(last_row) * last_row['ending_stock']\n",
    "    return cash"
   ]
  },
  {
   "cell_type": "code",
   "execution_count": null,
   "metadata": {},
   "outputs": [],
   "source": []
  },
  {
   "cell_type": "code",
   "execution_count": 43,
   "metadata": {},
   "outputs": [],
   "source": [
    "def create_backtest_df(tl_df_row):\n",
    "    try:\n",
    "        y_pred = tl_df_row['y_pred']\n",
    "        y_test = tl_df_row['y_test']\n",
    "        item_df_training = tl_df_row['item_df_training']\n",
    "        item_name = tl_df_row['name']\n",
    "\n",
    "        bt_df = pd.concat([pd.Series(y_pred, index= y_test.index, name='Prediction'), y_test.rename(index='Y')], axis=1)\n",
    "        bt_df['Y + 1'] = bt_df['Y'].shift(-1)\n",
    "        bt_df['Y - 1'] = bt_df['Y'].shift(1)\n",
    "\n",
    "\n",
    "        bt_df = bt_df.fillna(method='ffill').fillna(method='bfill')\n",
    "\n",
    "        volume_column = f'{item_name} volume'\n",
    "        volume = item_df_training[volume_column]\n",
    "\n",
    "        bt_df = bt_df.join(item_df_training[volume_column].rename(index='volume'))\n",
    "        bt_df = bt_df.join(item_df_training[f'{item_name} price'].rename(index='current_price'))\n",
    "        bt_df['perc predicted increase'] = (bt_df['Prediction'] - bt_df['current_price'])/bt_df['current_price']\n",
    "\n",
    "        bt_df['starting_stock'] = 0\n",
    "        bt_df['starting_cash'] = 0\n",
    "        bt_df['ending_stock'] = 0\n",
    "        bt_df['ending_cash'] = 0\n",
    "\n",
    "        bt_df.loc[bt_df.index[0], 'starting_cash'] = starting_cash\n",
    "        bt_df.loc[bt_df.index[0], 'ending_cash'] = starting_cash\n",
    "\n",
    "        bt_df['action'] = ''\n",
    "\n",
    "        copy_df = bt_df.copy()\n",
    "        record_df = bt_df.copy()\n",
    "\n",
    "        first_row = True\n",
    "        for i, row in copy_df.iterrows():\n",
    "            current_row = row\n",
    "            if first_row:\n",
    "                prev_row = current_row\n",
    "                first_row = False\n",
    "                continue\n",
    "            current_row['starting_cash'] = prev_row['ending_cash']\n",
    "            current_row['starting_stock'] = prev_row['ending_stock']\n",
    "            cash = current_row['starting_cash']\n",
    "            stock = current_row['starting_stock']\n",
    "            if should_buy(current_row):\n",
    "                d_stock, d_cash = max_buy(current_row)\n",
    "                cash += d_cash\n",
    "                stock += d_stock\n",
    "                current_row['action'] = f'Buying + {d_stock} stock, - {d_cash} cash'\n",
    "            elif should_sell(row):\n",
    "                d_stock, d_cash = max_sell(current_row)\n",
    "                cash += d_cash\n",
    "                stock += d_stock\n",
    "                current_row['action'] = f'Selling + {d_stock} stock, + {d_cash} cash'\n",
    "            else:\n",
    "                current_row['action'] = 'hold'\n",
    "            current_row['ending_cash'] = cash\n",
    "            current_row['ending_stock'] = stock\n",
    "            record_df.loc[i, :] = current_row\n",
    "            prev_row = current_row\n",
    "        roi = get_ending_cash(record_df)/starting_cash\n",
    "        last_perc_prediction = bt_df\n",
    "        return (roi, record_df)\n",
    "    except:\n",
    "        return (0, 0)\n"
   ]
  },
  {
   "cell_type": "markdown",
   "metadata": {},
   "source": [
    "# Predict for right now"
   ]
  },
  {
   "cell_type": "code",
   "execution_count": 44,
   "metadata": {},
   "outputs": [],
   "source": [
    "def make_predictions(tl_df_row):\n",
    "    try:\n",
    "        item_name = tl_df_row['name']\n",
    "        regr = tl_df_row['regr']\n",
    "        item_df_training = tl_df_row['item_df_training']\n",
    "        current_price = item_df_training.loc[item_df_training.index[-1], f'{item_name} price']\n",
    "        pred_price = regr.predict(np.array(item_df_training.drop('Y', axis=1).loc[item_df_training.index[-1],:]).reshape(1, -1))[0]\n",
    "        perc_pred_increase = (pred_price - current_price)/(current_price)\n",
    "        last_day = item_df_training.index[-1]\n",
    "        return (perc_pred_increase, last_day, current_price)\n",
    "    except:\n",
    "        return(0, 0, 0)"
   ]
  },
  {
   "cell_type": "markdown",
   "metadata": {},
   "source": [
    "# Filter and find trades"
   ]
  },
  {
   "cell_type": "code",
   "execution_count": 45,
   "metadata": {},
   "outputs": [],
   "source": [
    "r2_score_thresh = .85\n",
    "roi_thresh = 1.05\n",
    "perc_pred_increase_thresh = 0.03"
   ]
  },
  {
   "cell_type": "code",
   "execution_count": 46,
   "metadata": {},
   "outputs": [],
   "source": [
    "batch_size = 100\n"
   ]
  },
  {
   "cell_type": "code",
   "execution_count": 47,
   "metadata": {},
   "outputs": [],
   "source": [
    "df_list = []"
   ]
  },
  {
   "cell_type": "code",
   "execution_count": 48,
   "metadata": {},
   "outputs": [
    {
     "data": {
      "text/plain": [
       "1081    Feather\n",
       "Name: name, dtype: object"
      ]
     },
     "execution_count": 48,
     "metadata": {},
     "output_type": "execute_result"
    }
   ],
   "source": [
    "df.name.loc[df.name.str.contains('Feather')]"
   ]
  },
  {
   "cell_type": "code",
   "execution_count": 49,
   "metadata": {},
   "outputs": [],
   "source": [
    "bought = pd.read_csv('data/bought')\n"
   ]
  },
  {
   "cell_type": "code",
   "execution_count": 50,
   "metadata": {},
   "outputs": [
    {
     "data": {
      "text/plain": [
       "array(['Raw%20shark', 'Black%20dragon%20mask', 'Frog%20slippers', 'Feather', 'Clue%20box', 'Wooden%20shield%20(g)',\n",
       "       'Black%20wizard%20hat%20(g)', 'Granite%20hammer'], dtype=object)"
      ]
     },
     "execution_count": 50,
     "metadata": {},
     "output_type": "execute_result"
    }
   ],
   "source": [
    "bought['name'].values"
   ]
  },
  {
   "cell_type": "code",
   "execution_count": 52,
   "metadata": {
    "scrolled": true
   },
   "outputs": [
    {
     "name": "stderr",
     "output_type": "stream",
     "text": [
      "c:\\users\\adamh\\pycharmprojects\\osbuddy\\venvstonks\\lib\\site-packages\\ipykernel_launcher.py:4: SettingWithCopyWarning: \n",
      "A value is trying to be set on a copy of a slice from a DataFrame.\n",
      "Try using .loc[row_indexer,col_indexer] = value instead\n",
      "\n",
      "See the caveats in the documentation: https://pandas.pydata.org/pandas-docs/stable/user_guide/indexing.html#returning-a-view-versus-a-copy\n",
      "  after removing the cwd from sys.path.\n",
      "c:\\users\\adamh\\pycharmprojects\\osbuddy\\venvstonks\\lib\\site-packages\\ipykernel_launcher.py:6: SettingWithCopyWarning: \n",
      "A value is trying to be set on a copy of a slice from a DataFrame.\n",
      "Try using .loc[row_indexer,col_indexer] = value instead\n",
      "\n",
      "See the caveats in the documentation: https://pandas.pydata.org/pandas-docs/stable/user_guide/indexing.html#returning-a-view-versus-a-copy\n",
      "  \n",
      "c:\\users\\adamh\\pycharmprojects\\osbuddy\\venvstonks\\lib\\site-packages\\ipykernel_launcher.py:9: SettingWithCopyWarning: \n",
      "A value is trying to be set on a copy of a slice from a DataFrame.\n",
      "Try using .loc[row_indexer,col_indexer] = value instead\n",
      "\n",
      "See the caveats in the documentation: https://pandas.pydata.org/pandas-docs/stable/user_guide/indexing.html#returning-a-view-versus-a-copy\n",
      "  if __name__ == '__main__':\n",
      "c:\\users\\adamh\\pycharmprojects\\osbuddy\\venvstonks\\lib\\site-packages\\numpy\\core\\_asarray.py:83: VisibleDeprecationWarning: Creating an ndarray from ragged nested sequences (which is a list-or-tuple of lists-or-tuples-or ndarrays with different lengths or shapes) is deprecated. If you meant to do this, you must specify 'dtype=object' when creating the ndarray\n",
      "  return array(a, dtype, copy=False, order=order)\n",
      "c:\\users\\adamh\\pycharmprojects\\osbuddy\\venvstonks\\lib\\site-packages\\ipykernel_launcher.py:12: SettingWithCopyWarning: \n",
      "A value is trying to be set on a copy of a slice from a DataFrame.\n",
      "Try using .loc[row_indexer,col_indexer] = value instead\n",
      "\n",
      "See the caveats in the documentation: https://pandas.pydata.org/pandas-docs/stable/user_guide/indexing.html#returning-a-view-versus-a-copy\n",
      "  if sys.path[0] == '':\n",
      "c:\\users\\adamh\\pycharmprojects\\osbuddy\\venvstonks\\lib\\site-packages\\ipykernel_launcher.py:17: SettingWithCopyWarning: \n",
      "A value is trying to be set on a copy of a slice from a DataFrame.\n",
      "Try using .loc[row_indexer,col_indexer] = value instead\n",
      "\n",
      "See the caveats in the documentation: https://pandas.pydata.org/pandas-docs/stable/user_guide/indexing.html#returning-a-view-versus-a-copy\n"
     ]
    },
    {
     "name": "stdout",
     "output_type": "stream",
     "text": [
      "(22, 14)\n",
      "(1, 14)\n",
      "(0, 14)\n",
      "Empty DataFrame\n",
      "Columns: [name, price_df, item_df_training, trimmed_df, regr, y_pred, y_test, mean_squared_error, r2_score, roi, record_df, perc_pred_increase, last_day, current_price]\n",
      "Index: []\n"
     ]
    },
    {
     "name": "stderr",
     "output_type": "stream",
     "text": [
      "c:\\users\\adamh\\pycharmprojects\\osbuddy\\venvstonks\\lib\\site-packages\\ipykernel_launcher.py:4: SettingWithCopyWarning: \n",
      "A value is trying to be set on a copy of a slice from a DataFrame.\n",
      "Try using .loc[row_indexer,col_indexer] = value instead\n",
      "\n",
      "See the caveats in the documentation: https://pandas.pydata.org/pandas-docs/stable/user_guide/indexing.html#returning-a-view-versus-a-copy\n",
      "  after removing the cwd from sys.path.\n",
      "c:\\users\\adamh\\pycharmprojects\\osbuddy\\venvstonks\\lib\\site-packages\\ipykernel_launcher.py:6: SettingWithCopyWarning: \n",
      "A value is trying to be set on a copy of a slice from a DataFrame.\n",
      "Try using .loc[row_indexer,col_indexer] = value instead\n",
      "\n",
      "See the caveats in the documentation: https://pandas.pydata.org/pandas-docs/stable/user_guide/indexing.html#returning-a-view-versus-a-copy\n",
      "  \n",
      "c:\\users\\adamh\\pycharmprojects\\osbuddy\\venvstonks\\lib\\site-packages\\ipykernel_launcher.py:9: SettingWithCopyWarning: \n",
      "A value is trying to be set on a copy of a slice from a DataFrame.\n",
      "Try using .loc[row_indexer,col_indexer] = value instead\n",
      "\n",
      "See the caveats in the documentation: https://pandas.pydata.org/pandas-docs/stable/user_guide/indexing.html#returning-a-view-versus-a-copy\n",
      "  if __name__ == '__main__':\n",
      "c:\\users\\adamh\\pycharmprojects\\osbuddy\\venvstonks\\lib\\site-packages\\numpy\\core\\_asarray.py:83: VisibleDeprecationWarning: Creating an ndarray from ragged nested sequences (which is a list-or-tuple of lists-or-tuples-or ndarrays with different lengths or shapes) is deprecated. If you meant to do this, you must specify 'dtype=object' when creating the ndarray\n",
      "  return array(a, dtype, copy=False, order=order)\n",
      "c:\\users\\adamh\\pycharmprojects\\osbuddy\\venvstonks\\lib\\site-packages\\ipykernel_launcher.py:12: SettingWithCopyWarning: \n",
      "A value is trying to be set on a copy of a slice from a DataFrame.\n",
      "Try using .loc[row_indexer,col_indexer] = value instead\n",
      "\n",
      "See the caveats in the documentation: https://pandas.pydata.org/pandas-docs/stable/user_guide/indexing.html#returning-a-view-versus-a-copy\n",
      "  if sys.path[0] == '':\n",
      "c:\\users\\adamh\\pycharmprojects\\osbuddy\\venvstonks\\lib\\site-packages\\ipykernel_launcher.py:17: SettingWithCopyWarning: \n",
      "A value is trying to be set on a copy of a slice from a DataFrame.\n",
      "Try using .loc[row_indexer,col_indexer] = value instead\n",
      "\n",
      "See the caveats in the documentation: https://pandas.pydata.org/pandas-docs/stable/user_guide/indexing.html#returning-a-view-versus-a-copy\n"
     ]
    },
    {
     "name": "stdout",
     "output_type": "stream",
     "text": [
      "(21, 14)\n",
      "(4, 14)\n",
      "(0, 14)\n",
      "Empty DataFrame\n",
      "Columns: [name, price_df, item_df_training, trimmed_df, regr, y_pred, y_test, mean_squared_error, r2_score, roi, record_df, perc_pred_increase, last_day, current_price]\n",
      "Index: []\n"
     ]
    },
    {
     "name": "stderr",
     "output_type": "stream",
     "text": [
      "c:\\users\\adamh\\pycharmprojects\\osbuddy\\venvstonks\\lib\\site-packages\\ipykernel_launcher.py:4: SettingWithCopyWarning: \n",
      "A value is trying to be set on a copy of a slice from a DataFrame.\n",
      "Try using .loc[row_indexer,col_indexer] = value instead\n",
      "\n",
      "See the caveats in the documentation: https://pandas.pydata.org/pandas-docs/stable/user_guide/indexing.html#returning-a-view-versus-a-copy\n",
      "  after removing the cwd from sys.path.\n",
      "c:\\users\\adamh\\pycharmprojects\\osbuddy\\venvstonks\\lib\\site-packages\\ipykernel_launcher.py:6: SettingWithCopyWarning: \n",
      "A value is trying to be set on a copy of a slice from a DataFrame.\n",
      "Try using .loc[row_indexer,col_indexer] = value instead\n",
      "\n",
      "See the caveats in the documentation: https://pandas.pydata.org/pandas-docs/stable/user_guide/indexing.html#returning-a-view-versus-a-copy\n",
      "  \n",
      "c:\\users\\adamh\\pycharmprojects\\osbuddy\\venvstonks\\lib\\site-packages\\ipykernel_launcher.py:9: SettingWithCopyWarning: \n",
      "A value is trying to be set on a copy of a slice from a DataFrame.\n",
      "Try using .loc[row_indexer,col_indexer] = value instead\n",
      "\n",
      "See the caveats in the documentation: https://pandas.pydata.org/pandas-docs/stable/user_guide/indexing.html#returning-a-view-versus-a-copy\n",
      "  if __name__ == '__main__':\n",
      "c:\\users\\adamh\\pycharmprojects\\osbuddy\\venvstonks\\lib\\site-packages\\numpy\\core\\_asarray.py:83: VisibleDeprecationWarning: Creating an ndarray from ragged nested sequences (which is a list-or-tuple of lists-or-tuples-or ndarrays with different lengths or shapes) is deprecated. If you meant to do this, you must specify 'dtype=object' when creating the ndarray\n",
      "  return array(a, dtype, copy=False, order=order)\n",
      "c:\\users\\adamh\\pycharmprojects\\osbuddy\\venvstonks\\lib\\site-packages\\ipykernel_launcher.py:12: SettingWithCopyWarning: \n",
      "A value is trying to be set on a copy of a slice from a DataFrame.\n",
      "Try using .loc[row_indexer,col_indexer] = value instead\n",
      "\n",
      "See the caveats in the documentation: https://pandas.pydata.org/pandas-docs/stable/user_guide/indexing.html#returning-a-view-versus-a-copy\n",
      "  if sys.path[0] == '':\n",
      "c:\\users\\adamh\\pycharmprojects\\osbuddy\\venvstonks\\lib\\site-packages\\ipykernel_launcher.py:17: SettingWithCopyWarning: \n",
      "A value is trying to be set on a copy of a slice from a DataFrame.\n",
      "Try using .loc[row_indexer,col_indexer] = value instead\n",
      "\n",
      "See the caveats in the documentation: https://pandas.pydata.org/pandas-docs/stable/user_guide/indexing.html#returning-a-view-versus-a-copy\n"
     ]
    },
    {
     "name": "stdout",
     "output_type": "stream",
     "text": [
      "(27, 14)\n",
      "(2, 14)\n",
      "(0, 14)\n",
      "Empty DataFrame\n",
      "Columns: [name, price_df, item_df_training, trimmed_df, regr, y_pred, y_test, mean_squared_error, r2_score, roi, record_df, perc_pred_increase, last_day, current_price]\n",
      "Index: []\n"
     ]
    },
    {
     "name": "stderr",
     "output_type": "stream",
     "text": [
      "c:\\users\\adamh\\pycharmprojects\\osbuddy\\venvstonks\\lib\\site-packages\\ipykernel_launcher.py:4: SettingWithCopyWarning: \n",
      "A value is trying to be set on a copy of a slice from a DataFrame.\n",
      "Try using .loc[row_indexer,col_indexer] = value instead\n",
      "\n",
      "See the caveats in the documentation: https://pandas.pydata.org/pandas-docs/stable/user_guide/indexing.html#returning-a-view-versus-a-copy\n",
      "  after removing the cwd from sys.path.\n",
      "c:\\users\\adamh\\pycharmprojects\\osbuddy\\venvstonks\\lib\\site-packages\\ipykernel_launcher.py:6: SettingWithCopyWarning: \n",
      "A value is trying to be set on a copy of a slice from a DataFrame.\n",
      "Try using .loc[row_indexer,col_indexer] = value instead\n",
      "\n",
      "See the caveats in the documentation: https://pandas.pydata.org/pandas-docs/stable/user_guide/indexing.html#returning-a-view-versus-a-copy\n",
      "  \n",
      "c:\\users\\adamh\\pycharmprojects\\osbuddy\\venvstonks\\lib\\site-packages\\ipykernel_launcher.py:9: SettingWithCopyWarning: \n",
      "A value is trying to be set on a copy of a slice from a DataFrame.\n",
      "Try using .loc[row_indexer,col_indexer] = value instead\n",
      "\n",
      "See the caveats in the documentation: https://pandas.pydata.org/pandas-docs/stable/user_guide/indexing.html#returning-a-view-versus-a-copy\n",
      "  if __name__ == '__main__':\n",
      "c:\\users\\adamh\\pycharmprojects\\osbuddy\\venvstonks\\lib\\site-packages\\numpy\\core\\_asarray.py:83: VisibleDeprecationWarning: Creating an ndarray from ragged nested sequences (which is a list-or-tuple of lists-or-tuples-or ndarrays with different lengths or shapes) is deprecated. If you meant to do this, you must specify 'dtype=object' when creating the ndarray\n",
      "  return array(a, dtype, copy=False, order=order)\n",
      "c:\\users\\adamh\\pycharmprojects\\osbuddy\\venvstonks\\lib\\site-packages\\ipykernel_launcher.py:12: SettingWithCopyWarning: \n",
      "A value is trying to be set on a copy of a slice from a DataFrame.\n",
      "Try using .loc[row_indexer,col_indexer] = value instead\n",
      "\n",
      "See the caveats in the documentation: https://pandas.pydata.org/pandas-docs/stable/user_guide/indexing.html#returning-a-view-versus-a-copy\n",
      "  if sys.path[0] == '':\n",
      "c:\\users\\adamh\\pycharmprojects\\osbuddy\\venvstonks\\lib\\site-packages\\ipykernel_launcher.py:17: SettingWithCopyWarning: \n",
      "A value is trying to be set on a copy of a slice from a DataFrame.\n",
      "Try using .loc[row_indexer,col_indexer] = value instead\n",
      "\n",
      "See the caveats in the documentation: https://pandas.pydata.org/pandas-docs/stable/user_guide/indexing.html#returning-a-view-versus-a-copy\n"
     ]
    },
    {
     "name": "stdout",
     "output_type": "stream",
     "text": [
      "(37, 14)\n",
      "(4, 14)\n",
      "(1, 14)\n",
      "                      name                                           price_df  \\\n",
      "385  Black%20dragon%20mask              Black%20dragon%20mask price  Black...   \n",
      "\n",
      "                                      item_df_training  \\\n",
      "385              Black%20dragon%20mask price  Black...   \n",
      "\n",
      "                                            trimmed_df                regr  \\\n",
      "385              Black%20dragon%20mask price  Black...  LinearRegression()   \n",
      "\n",
      "                                                y_pred  \\\n",
      "385  [13323.232029544213, 13578.058201419213, 13868...   \n",
      "\n",
      "                                                y_test  mean_squared_error  \\\n",
      "385  date_obj\n",
      "2020-04-16    13959.0\n",
      "2020-04-17    1...        1.002733e+06   \n",
      "\n",
      "     r2_score       roi                                          record_df  \\\n",
      "385  0.959761  1.104141                Prediction        Y    Y + 1    ...   \n",
      "\n",
      "     perc_pred_increase    last_day  current_price  \n",
      "385           -0.015382  2020-08-13        30246.0  \n"
     ]
    },
    {
     "name": "stderr",
     "output_type": "stream",
     "text": [
      "c:\\users\\adamh\\pycharmprojects\\osbuddy\\venvstonks\\lib\\site-packages\\ipykernel_launcher.py:4: SettingWithCopyWarning: \n",
      "A value is trying to be set on a copy of a slice from a DataFrame.\n",
      "Try using .loc[row_indexer,col_indexer] = value instead\n",
      "\n",
      "See the caveats in the documentation: https://pandas.pydata.org/pandas-docs/stable/user_guide/indexing.html#returning-a-view-versus-a-copy\n",
      "  after removing the cwd from sys.path.\n",
      "c:\\users\\adamh\\pycharmprojects\\osbuddy\\venvstonks\\lib\\site-packages\\ipykernel_launcher.py:6: SettingWithCopyWarning: \n",
      "A value is trying to be set on a copy of a slice from a DataFrame.\n",
      "Try using .loc[row_indexer,col_indexer] = value instead\n",
      "\n",
      "See the caveats in the documentation: https://pandas.pydata.org/pandas-docs/stable/user_guide/indexing.html#returning-a-view-versus-a-copy\n",
      "  \n",
      "c:\\users\\adamh\\pycharmprojects\\osbuddy\\venvstonks\\lib\\site-packages\\ipykernel_launcher.py:9: SettingWithCopyWarning: \n",
      "A value is trying to be set on a copy of a slice from a DataFrame.\n",
      "Try using .loc[row_indexer,col_indexer] = value instead\n",
      "\n",
      "See the caveats in the documentation: https://pandas.pydata.org/pandas-docs/stable/user_guide/indexing.html#returning-a-view-versus-a-copy\n",
      "  if __name__ == '__main__':\n",
      "c:\\users\\adamh\\pycharmprojects\\osbuddy\\venvstonks\\lib\\site-packages\\numpy\\core\\_asarray.py:83: VisibleDeprecationWarning: Creating an ndarray from ragged nested sequences (which is a list-or-tuple of lists-or-tuples-or ndarrays with different lengths or shapes) is deprecated. If you meant to do this, you must specify 'dtype=object' when creating the ndarray\n",
      "  return array(a, dtype, copy=False, order=order)\n",
      "c:\\users\\adamh\\pycharmprojects\\osbuddy\\venvstonks\\lib\\site-packages\\ipykernel_launcher.py:12: SettingWithCopyWarning: \n",
      "A value is trying to be set on a copy of a slice from a DataFrame.\n",
      "Try using .loc[row_indexer,col_indexer] = value instead\n",
      "\n",
      "See the caveats in the documentation: https://pandas.pydata.org/pandas-docs/stable/user_guide/indexing.html#returning-a-view-versus-a-copy\n",
      "  if sys.path[0] == '':\n",
      "c:\\users\\adamh\\pycharmprojects\\osbuddy\\venvstonks\\lib\\site-packages\\ipykernel_launcher.py:17: SettingWithCopyWarning: \n",
      "A value is trying to be set on a copy of a slice from a DataFrame.\n",
      "Try using .loc[row_indexer,col_indexer] = value instead\n",
      "\n",
      "See the caveats in the documentation: https://pandas.pydata.org/pandas-docs/stable/user_guide/indexing.html#returning-a-view-versus-a-copy\n"
     ]
    },
    {
     "name": "stdout",
     "output_type": "stream",
     "text": [
      "(33, 14)\n",
      "(2, 14)\n",
      "(1, 14)\n",
      "                           name  \\\n",
      "452  Black%20wizard%20hat%20(g)   \n",
      "\n",
      "                                              price_df  \\\n",
      "452              Black%20wizard%20hat%20(g) price  ...   \n",
      "\n",
      "                                      item_df_training  \\\n",
      "452              Black%20wizard%20hat%20(g) price  ...   \n",
      "\n",
      "                                            trimmed_df                regr  \\\n",
      "452              Black%20wizard%20hat%20(g) price  ...  LinearRegression()   \n",
      "\n",
      "                                                y_pred  \\\n",
      "452  [352136.67224945535, 353455.60974945535, 35412...   \n",
      "\n",
      "                                                y_test  mean_squared_error  \\\n",
      "452  date_obj\n",
      "2020-04-16    353331.0\n",
      "2020-04-17    ...        1.061751e+08   \n",
      "\n",
      "     r2_score       roi                                          record_df  \\\n",
      "452  0.947597  1.322876                 Prediction         Y     Y + 1 ...   \n",
      "\n",
      "     perc_pred_increase    last_day  current_price  \n",
      "452            0.085351  2020-08-13       313279.0  \n"
     ]
    },
    {
     "name": "stderr",
     "output_type": "stream",
     "text": [
      "c:\\users\\adamh\\pycharmprojects\\osbuddy\\venvstonks\\lib\\site-packages\\ipykernel_launcher.py:4: SettingWithCopyWarning: \n",
      "A value is trying to be set on a copy of a slice from a DataFrame.\n",
      "Try using .loc[row_indexer,col_indexer] = value instead\n",
      "\n",
      "See the caveats in the documentation: https://pandas.pydata.org/pandas-docs/stable/user_guide/indexing.html#returning-a-view-versus-a-copy\n",
      "  after removing the cwd from sys.path.\n",
      "c:\\users\\adamh\\pycharmprojects\\osbuddy\\venvstonks\\lib\\site-packages\\ipykernel_launcher.py:6: SettingWithCopyWarning: \n",
      "A value is trying to be set on a copy of a slice from a DataFrame.\n",
      "Try using .loc[row_indexer,col_indexer] = value instead\n",
      "\n",
      "See the caveats in the documentation: https://pandas.pydata.org/pandas-docs/stable/user_guide/indexing.html#returning-a-view-versus-a-copy\n",
      "  \n",
      "c:\\users\\adamh\\pycharmprojects\\osbuddy\\venvstonks\\lib\\site-packages\\ipykernel_launcher.py:9: SettingWithCopyWarning: \n",
      "A value is trying to be set on a copy of a slice from a DataFrame.\n",
      "Try using .loc[row_indexer,col_indexer] = value instead\n",
      "\n",
      "See the caveats in the documentation: https://pandas.pydata.org/pandas-docs/stable/user_guide/indexing.html#returning-a-view-versus-a-copy\n",
      "  if __name__ == '__main__':\n",
      "c:\\users\\adamh\\pycharmprojects\\osbuddy\\venvstonks\\lib\\site-packages\\numpy\\core\\_asarray.py:83: VisibleDeprecationWarning: Creating an ndarray from ragged nested sequences (which is a list-or-tuple of lists-or-tuples-or ndarrays with different lengths or shapes) is deprecated. If you meant to do this, you must specify 'dtype=object' when creating the ndarray\n",
      "  return array(a, dtype, copy=False, order=order)\n",
      "c:\\users\\adamh\\pycharmprojects\\osbuddy\\venvstonks\\lib\\site-packages\\ipykernel_launcher.py:12: SettingWithCopyWarning: \n",
      "A value is trying to be set on a copy of a slice from a DataFrame.\n",
      "Try using .loc[row_indexer,col_indexer] = value instead\n",
      "\n",
      "See the caveats in the documentation: https://pandas.pydata.org/pandas-docs/stable/user_guide/indexing.html#returning-a-view-versus-a-copy\n",
      "  if sys.path[0] == '':\n",
      "c:\\users\\adamh\\pycharmprojects\\osbuddy\\venvstonks\\lib\\site-packages\\ipykernel_launcher.py:17: SettingWithCopyWarning: \n",
      "A value is trying to be set on a copy of a slice from a DataFrame.\n",
      "Try using .loc[row_indexer,col_indexer] = value instead\n",
      "\n",
      "See the caveats in the documentation: https://pandas.pydata.org/pandas-docs/stable/user_guide/indexing.html#returning-a-view-versus-a-copy\n"
     ]
    },
    {
     "name": "stdout",
     "output_type": "stream",
     "text": [
      "(33, 14)\n",
      "(1, 14)\n",
      "(0, 14)\n",
      "Empty DataFrame\n",
      "Columns: [name, price_df, item_df_training, trimmed_df, regr, y_pred, y_test, mean_squared_error, r2_score, roi, record_df, perc_pred_increase, last_day, current_price]\n",
      "Index: []\n"
     ]
    },
    {
     "name": "stderr",
     "output_type": "stream",
     "text": [
      "c:\\users\\adamh\\pycharmprojects\\osbuddy\\venvstonks\\lib\\site-packages\\ipykernel_launcher.py:4: SettingWithCopyWarning: \n",
      "A value is trying to be set on a copy of a slice from a DataFrame.\n",
      "Try using .loc[row_indexer,col_indexer] = value instead\n",
      "\n",
      "See the caveats in the documentation: https://pandas.pydata.org/pandas-docs/stable/user_guide/indexing.html#returning-a-view-versus-a-copy\n",
      "  after removing the cwd from sys.path.\n",
      "c:\\users\\adamh\\pycharmprojects\\osbuddy\\venvstonks\\lib\\site-packages\\ipykernel_launcher.py:6: SettingWithCopyWarning: \n",
      "A value is trying to be set on a copy of a slice from a DataFrame.\n",
      "Try using .loc[row_indexer,col_indexer] = value instead\n",
      "\n",
      "See the caveats in the documentation: https://pandas.pydata.org/pandas-docs/stable/user_guide/indexing.html#returning-a-view-versus-a-copy\n",
      "  \n",
      "c:\\users\\adamh\\pycharmprojects\\osbuddy\\venvstonks\\lib\\site-packages\\ipykernel_launcher.py:9: SettingWithCopyWarning: \n",
      "A value is trying to be set on a copy of a slice from a DataFrame.\n",
      "Try using .loc[row_indexer,col_indexer] = value instead\n",
      "\n",
      "See the caveats in the documentation: https://pandas.pydata.org/pandas-docs/stable/user_guide/indexing.html#returning-a-view-versus-a-copy\n",
      "  if __name__ == '__main__':\n",
      "c:\\users\\adamh\\pycharmprojects\\osbuddy\\venvstonks\\lib\\site-packages\\numpy\\core\\_asarray.py:83: VisibleDeprecationWarning: Creating an ndarray from ragged nested sequences (which is a list-or-tuple of lists-or-tuples-or ndarrays with different lengths or shapes) is deprecated. If you meant to do this, you must specify 'dtype=object' when creating the ndarray\n",
      "  return array(a, dtype, copy=False, order=order)\n",
      "c:\\users\\adamh\\pycharmprojects\\osbuddy\\venvstonks\\lib\\site-packages\\ipykernel_launcher.py:12: SettingWithCopyWarning: \n",
      "A value is trying to be set on a copy of a slice from a DataFrame.\n",
      "Try using .loc[row_indexer,col_indexer] = value instead\n",
      "\n",
      "See the caveats in the documentation: https://pandas.pydata.org/pandas-docs/stable/user_guide/indexing.html#returning-a-view-versus-a-copy\n",
      "  if sys.path[0] == '':\n",
      "c:\\users\\adamh\\pycharmprojects\\osbuddy\\venvstonks\\lib\\site-packages\\ipykernel_launcher.py:17: SettingWithCopyWarning: \n",
      "A value is trying to be set on a copy of a slice from a DataFrame.\n",
      "Try using .loc[row_indexer,col_indexer] = value instead\n",
      "\n",
      "See the caveats in the documentation: https://pandas.pydata.org/pandas-docs/stable/user_guide/indexing.html#returning-a-view-versus-a-copy\n"
     ]
    },
    {
     "name": "stdout",
     "output_type": "stream",
     "text": [
      "(35, 14)\n",
      "(3, 14)\n",
      "(0, 14)\n",
      "Empty DataFrame\n",
      "Columns: [name, price_df, item_df_training, trimmed_df, regr, y_pred, y_test, mean_squared_error, r2_score, roi, record_df, perc_pred_increase, last_day, current_price]\n",
      "Index: []\n"
     ]
    },
    {
     "name": "stderr",
     "output_type": "stream",
     "text": [
      "c:\\users\\adamh\\pycharmprojects\\osbuddy\\venvstonks\\lib\\site-packages\\ipykernel_launcher.py:4: SettingWithCopyWarning: \n",
      "A value is trying to be set on a copy of a slice from a DataFrame.\n",
      "Try using .loc[row_indexer,col_indexer] = value instead\n",
      "\n",
      "See the caveats in the documentation: https://pandas.pydata.org/pandas-docs/stable/user_guide/indexing.html#returning-a-view-versus-a-copy\n",
      "  after removing the cwd from sys.path.\n",
      "c:\\users\\adamh\\pycharmprojects\\osbuddy\\venvstonks\\lib\\site-packages\\ipykernel_launcher.py:6: SettingWithCopyWarning: \n",
      "A value is trying to be set on a copy of a slice from a DataFrame.\n",
      "Try using .loc[row_indexer,col_indexer] = value instead\n",
      "\n",
      "See the caveats in the documentation: https://pandas.pydata.org/pandas-docs/stable/user_guide/indexing.html#returning-a-view-versus-a-copy\n",
      "  \n",
      "c:\\users\\adamh\\pycharmprojects\\osbuddy\\venvstonks\\lib\\site-packages\\ipykernel_launcher.py:9: SettingWithCopyWarning: \n",
      "A value is trying to be set on a copy of a slice from a DataFrame.\n",
      "Try using .loc[row_indexer,col_indexer] = value instead\n",
      "\n",
      "See the caveats in the documentation: https://pandas.pydata.org/pandas-docs/stable/user_guide/indexing.html#returning-a-view-versus-a-copy\n",
      "  if __name__ == '__main__':\n",
      "c:\\users\\adamh\\pycharmprojects\\osbuddy\\venvstonks\\lib\\site-packages\\numpy\\core\\_asarray.py:83: VisibleDeprecationWarning: Creating an ndarray from ragged nested sequences (which is a list-or-tuple of lists-or-tuples-or ndarrays with different lengths or shapes) is deprecated. If you meant to do this, you must specify 'dtype=object' when creating the ndarray\n",
      "  return array(a, dtype, copy=False, order=order)\n",
      "c:\\users\\adamh\\pycharmprojects\\osbuddy\\venvstonks\\lib\\site-packages\\ipykernel_launcher.py:12: SettingWithCopyWarning: \n",
      "A value is trying to be set on a copy of a slice from a DataFrame.\n",
      "Try using .loc[row_indexer,col_indexer] = value instead\n",
      "\n",
      "See the caveats in the documentation: https://pandas.pydata.org/pandas-docs/stable/user_guide/indexing.html#returning-a-view-versus-a-copy\n",
      "  if sys.path[0] == '':\n",
      "c:\\users\\adamh\\pycharmprojects\\osbuddy\\venvstonks\\lib\\site-packages\\ipykernel_launcher.py:17: SettingWithCopyWarning: \n",
      "A value is trying to be set on a copy of a slice from a DataFrame.\n",
      "Try using .loc[row_indexer,col_indexer] = value instead\n",
      "\n",
      "See the caveats in the documentation: https://pandas.pydata.org/pandas-docs/stable/user_guide/indexing.html#returning-a-view-versus-a-copy\n"
     ]
    },
    {
     "name": "stdout",
     "output_type": "stream",
     "text": [
      "(31, 14)\n",
      "(2, 14)\n",
      "(1, 14)\n",
      "           name                                           price_df  \\\n",
      "742  Clue%20box              Clue%20box price  Clue%20box volum...   \n",
      "\n",
      "                                      item_df_training  \\\n",
      "742              Clue%20box price  Clue%20box volum...   \n",
      "\n",
      "                                            trimmed_df                regr  \\\n",
      "742              Clue%20box price  Clue%20box volum...  LinearRegression()   \n",
      "\n",
      "                                                y_pred  \\\n",
      "742  [31229.90114819441, 37383.08864819441, 38586.7...   \n",
      "\n",
      "                                                y_test  mean_squared_error  \\\n",
      "742  date_obj\n",
      "2020-04-14    36508.0\n",
      "2020-04-15    3...        3.463242e+07   \n",
      "\n",
      "     r2_score       roi                                          record_df  \\\n",
      "742  0.895413  1.572981                Prediction        Y    Y + 1    ...   \n",
      "\n",
      "     perc_pred_increase    last_day  current_price  \n",
      "742            0.038904  2020-08-13        85973.0  \n"
     ]
    },
    {
     "name": "stderr",
     "output_type": "stream",
     "text": [
      "c:\\users\\adamh\\pycharmprojects\\osbuddy\\venvstonks\\lib\\site-packages\\ipykernel_launcher.py:4: SettingWithCopyWarning: \n",
      "A value is trying to be set on a copy of a slice from a DataFrame.\n",
      "Try using .loc[row_indexer,col_indexer] = value instead\n",
      "\n",
      "See the caveats in the documentation: https://pandas.pydata.org/pandas-docs/stable/user_guide/indexing.html#returning-a-view-versus-a-copy\n",
      "  after removing the cwd from sys.path.\n",
      "c:\\users\\adamh\\pycharmprojects\\osbuddy\\venvstonks\\lib\\site-packages\\ipykernel_launcher.py:6: SettingWithCopyWarning: \n",
      "A value is trying to be set on a copy of a slice from a DataFrame.\n",
      "Try using .loc[row_indexer,col_indexer] = value instead\n",
      "\n",
      "See the caveats in the documentation: https://pandas.pydata.org/pandas-docs/stable/user_guide/indexing.html#returning-a-view-versus-a-copy\n",
      "  \n",
      "c:\\users\\adamh\\pycharmprojects\\osbuddy\\venvstonks\\lib\\site-packages\\ipykernel_launcher.py:9: SettingWithCopyWarning: \n",
      "A value is trying to be set on a copy of a slice from a DataFrame.\n",
      "Try using .loc[row_indexer,col_indexer] = value instead\n",
      "\n",
      "See the caveats in the documentation: https://pandas.pydata.org/pandas-docs/stable/user_guide/indexing.html#returning-a-view-versus-a-copy\n",
      "  if __name__ == '__main__':\n",
      "c:\\users\\adamh\\pycharmprojects\\osbuddy\\venvstonks\\lib\\site-packages\\numpy\\core\\_asarray.py:83: VisibleDeprecationWarning: Creating an ndarray from ragged nested sequences (which is a list-or-tuple of lists-or-tuples-or ndarrays with different lengths or shapes) is deprecated. If you meant to do this, you must specify 'dtype=object' when creating the ndarray\n",
      "  return array(a, dtype, copy=False, order=order)\n",
      "c:\\users\\adamh\\pycharmprojects\\osbuddy\\venvstonks\\lib\\site-packages\\ipykernel_launcher.py:12: SettingWithCopyWarning: \n",
      "A value is trying to be set on a copy of a slice from a DataFrame.\n",
      "Try using .loc[row_indexer,col_indexer] = value instead\n",
      "\n",
      "See the caveats in the documentation: https://pandas.pydata.org/pandas-docs/stable/user_guide/indexing.html#returning-a-view-versus-a-copy\n",
      "  if sys.path[0] == '':\n",
      "c:\\users\\adamh\\pycharmprojects\\osbuddy\\venvstonks\\lib\\site-packages\\ipykernel_launcher.py:17: SettingWithCopyWarning: \n",
      "A value is trying to be set on a copy of a slice from a DataFrame.\n",
      "Try using .loc[row_indexer,col_indexer] = value instead\n",
      "\n",
      "See the caveats in the documentation: https://pandas.pydata.org/pandas-docs/stable/user_guide/indexing.html#returning-a-view-versus-a-copy\n"
     ]
    },
    {
     "name": "stdout",
     "output_type": "stream",
     "text": [
      "(26, 14)\n",
      "(2, 14)\n",
      "(0, 14)\n",
      "Empty DataFrame\n",
      "Columns: [name, price_df, item_df_training, trimmed_df, regr, y_pred, y_test, mean_squared_error, r2_score, roi, record_df, perc_pred_increase, last_day, current_price]\n",
      "Index: []\n"
     ]
    },
    {
     "name": "stderr",
     "output_type": "stream",
     "text": [
      "c:\\users\\adamh\\pycharmprojects\\osbuddy\\venvstonks\\lib\\site-packages\\ipykernel_launcher.py:4: SettingWithCopyWarning: \n",
      "A value is trying to be set on a copy of a slice from a DataFrame.\n",
      "Try using .loc[row_indexer,col_indexer] = value instead\n",
      "\n",
      "See the caveats in the documentation: https://pandas.pydata.org/pandas-docs/stable/user_guide/indexing.html#returning-a-view-versus-a-copy\n",
      "  after removing the cwd from sys.path.\n",
      "c:\\users\\adamh\\pycharmprojects\\osbuddy\\venvstonks\\lib\\site-packages\\ipykernel_launcher.py:6: SettingWithCopyWarning: \n",
      "A value is trying to be set on a copy of a slice from a DataFrame.\n",
      "Try using .loc[row_indexer,col_indexer] = value instead\n",
      "\n",
      "See the caveats in the documentation: https://pandas.pydata.org/pandas-docs/stable/user_guide/indexing.html#returning-a-view-versus-a-copy\n",
      "  \n",
      "c:\\users\\adamh\\pycharmprojects\\osbuddy\\venvstonks\\lib\\site-packages\\ipykernel_launcher.py:9: SettingWithCopyWarning: \n",
      "A value is trying to be set on a copy of a slice from a DataFrame.\n",
      "Try using .loc[row_indexer,col_indexer] = value instead\n",
      "\n",
      "See the caveats in the documentation: https://pandas.pydata.org/pandas-docs/stable/user_guide/indexing.html#returning-a-view-versus-a-copy\n",
      "  if __name__ == '__main__':\n",
      "c:\\users\\adamh\\pycharmprojects\\osbuddy\\venvstonks\\lib\\site-packages\\numpy\\core\\_asarray.py:83: VisibleDeprecationWarning: Creating an ndarray from ragged nested sequences (which is a list-or-tuple of lists-or-tuples-or ndarrays with different lengths or shapes) is deprecated. If you meant to do this, you must specify 'dtype=object' when creating the ndarray\n",
      "  return array(a, dtype, copy=False, order=order)\n",
      "c:\\users\\adamh\\pycharmprojects\\osbuddy\\venvstonks\\lib\\site-packages\\ipykernel_launcher.py:12: SettingWithCopyWarning: \n",
      "A value is trying to be set on a copy of a slice from a DataFrame.\n",
      "Try using .loc[row_indexer,col_indexer] = value instead\n",
      "\n",
      "See the caveats in the documentation: https://pandas.pydata.org/pandas-docs/stable/user_guide/indexing.html#returning-a-view-versus-a-copy\n",
      "  if sys.path[0] == '':\n",
      "c:\\users\\adamh\\pycharmprojects\\osbuddy\\venvstonks\\lib\\site-packages\\ipykernel_launcher.py:17: SettingWithCopyWarning: \n",
      "A value is trying to be set on a copy of a slice from a DataFrame.\n",
      "Try using .loc[row_indexer,col_indexer] = value instead\n",
      "\n",
      "See the caveats in the documentation: https://pandas.pydata.org/pandas-docs/stable/user_guide/indexing.html#returning-a-view-versus-a-copy\n"
     ]
    },
    {
     "name": "stdout",
     "output_type": "stream",
     "text": [
      "(18, 14)\n",
      "(0, 14)\n",
      "(0, 14)\n",
      "Empty DataFrame\n",
      "Columns: [name, price_df, item_df_training, trimmed_df, regr, y_pred, y_test, mean_squared_error, r2_score, roi, record_df, perc_pred_increase, last_day, current_price]\n",
      "Index: []\n"
     ]
    },
    {
     "name": "stderr",
     "output_type": "stream",
     "text": [
      "c:\\users\\adamh\\pycharmprojects\\osbuddy\\venvstonks\\lib\\site-packages\\ipykernel_launcher.py:4: SettingWithCopyWarning: \n",
      "A value is trying to be set on a copy of a slice from a DataFrame.\n",
      "Try using .loc[row_indexer,col_indexer] = value instead\n",
      "\n",
      "See the caveats in the documentation: https://pandas.pydata.org/pandas-docs/stable/user_guide/indexing.html#returning-a-view-versus-a-copy\n",
      "  after removing the cwd from sys.path.\n",
      "c:\\users\\adamh\\pycharmprojects\\osbuddy\\venvstonks\\lib\\site-packages\\ipykernel_launcher.py:6: SettingWithCopyWarning: \n",
      "A value is trying to be set on a copy of a slice from a DataFrame.\n",
      "Try using .loc[row_indexer,col_indexer] = value instead\n",
      "\n",
      "See the caveats in the documentation: https://pandas.pydata.org/pandas-docs/stable/user_guide/indexing.html#returning-a-view-versus-a-copy\n",
      "  \n",
      "c:\\users\\adamh\\pycharmprojects\\osbuddy\\venvstonks\\lib\\site-packages\\ipykernel_launcher.py:9: SettingWithCopyWarning: \n",
      "A value is trying to be set on a copy of a slice from a DataFrame.\n",
      "Try using .loc[row_indexer,col_indexer] = value instead\n",
      "\n",
      "See the caveats in the documentation: https://pandas.pydata.org/pandas-docs/stable/user_guide/indexing.html#returning-a-view-versus-a-copy\n",
      "  if __name__ == '__main__':\n",
      "c:\\users\\adamh\\pycharmprojects\\osbuddy\\venvstonks\\lib\\site-packages\\numpy\\core\\_asarray.py:83: VisibleDeprecationWarning: Creating an ndarray from ragged nested sequences (which is a list-or-tuple of lists-or-tuples-or ndarrays with different lengths or shapes) is deprecated. If you meant to do this, you must specify 'dtype=object' when creating the ndarray\n",
      "  return array(a, dtype, copy=False, order=order)\n",
      "c:\\users\\adamh\\pycharmprojects\\osbuddy\\venvstonks\\lib\\site-packages\\ipykernel_launcher.py:12: SettingWithCopyWarning: \n",
      "A value is trying to be set on a copy of a slice from a DataFrame.\n",
      "Try using .loc[row_indexer,col_indexer] = value instead\n",
      "\n",
      "See the caveats in the documentation: https://pandas.pydata.org/pandas-docs/stable/user_guide/indexing.html#returning-a-view-versus-a-copy\n",
      "  if sys.path[0] == '':\n",
      "c:\\users\\adamh\\pycharmprojects\\osbuddy\\venvstonks\\lib\\site-packages\\ipykernel_launcher.py:17: SettingWithCopyWarning: \n",
      "A value is trying to be set on a copy of a slice from a DataFrame.\n",
      "Try using .loc[row_indexer,col_indexer] = value instead\n",
      "\n",
      "See the caveats in the documentation: https://pandas.pydata.org/pandas-docs/stable/user_guide/indexing.html#returning-a-view-versus-a-copy\n"
     ]
    },
    {
     "name": "stdout",
     "output_type": "stream",
     "text": [
      "(16, 14)\n",
      "(0, 14)\n",
      "(0, 14)\n",
      "Empty DataFrame\n",
      "Columns: [name, price_df, item_df_training, trimmed_df, regr, y_pred, y_test, mean_squared_error, r2_score, roi, record_df, perc_pred_increase, last_day, current_price]\n",
      "Index: []\n"
     ]
    },
    {
     "name": "stderr",
     "output_type": "stream",
     "text": [
      "c:\\users\\adamh\\pycharmprojects\\osbuddy\\venvstonks\\lib\\site-packages\\ipykernel_launcher.py:4: SettingWithCopyWarning: \n",
      "A value is trying to be set on a copy of a slice from a DataFrame.\n",
      "Try using .loc[row_indexer,col_indexer] = value instead\n",
      "\n",
      "See the caveats in the documentation: https://pandas.pydata.org/pandas-docs/stable/user_guide/indexing.html#returning-a-view-versus-a-copy\n",
      "  after removing the cwd from sys.path.\n",
      "c:\\users\\adamh\\pycharmprojects\\osbuddy\\venvstonks\\lib\\site-packages\\ipykernel_launcher.py:6: SettingWithCopyWarning: \n",
      "A value is trying to be set on a copy of a slice from a DataFrame.\n",
      "Try using .loc[row_indexer,col_indexer] = value instead\n",
      "\n",
      "See the caveats in the documentation: https://pandas.pydata.org/pandas-docs/stable/user_guide/indexing.html#returning-a-view-versus-a-copy\n",
      "  \n",
      "c:\\users\\adamh\\pycharmprojects\\osbuddy\\venvstonks\\lib\\site-packages\\ipykernel_launcher.py:9: SettingWithCopyWarning: \n",
      "A value is trying to be set on a copy of a slice from a DataFrame.\n",
      "Try using .loc[row_indexer,col_indexer] = value instead\n",
      "\n",
      "See the caveats in the documentation: https://pandas.pydata.org/pandas-docs/stable/user_guide/indexing.html#returning-a-view-versus-a-copy\n",
      "  if __name__ == '__main__':\n",
      "c:\\users\\adamh\\pycharmprojects\\osbuddy\\venvstonks\\lib\\site-packages\\numpy\\core\\_asarray.py:83: VisibleDeprecationWarning: Creating an ndarray from ragged nested sequences (which is a list-or-tuple of lists-or-tuples-or ndarrays with different lengths or shapes) is deprecated. If you meant to do this, you must specify 'dtype=object' when creating the ndarray\n",
      "  return array(a, dtype, copy=False, order=order)\n",
      "c:\\users\\adamh\\pycharmprojects\\osbuddy\\venvstonks\\lib\\site-packages\\ipykernel_launcher.py:12: SettingWithCopyWarning: \n",
      "A value is trying to be set on a copy of a slice from a DataFrame.\n",
      "Try using .loc[row_indexer,col_indexer] = value instead\n",
      "\n",
      "See the caveats in the documentation: https://pandas.pydata.org/pandas-docs/stable/user_guide/indexing.html#returning-a-view-versus-a-copy\n",
      "  if sys.path[0] == '':\n",
      "c:\\users\\adamh\\pycharmprojects\\osbuddy\\venvstonks\\lib\\site-packages\\ipykernel_launcher.py:17: SettingWithCopyWarning: \n",
      "A value is trying to be set on a copy of a slice from a DataFrame.\n",
      "Try using .loc[row_indexer,col_indexer] = value instead\n",
      "\n",
      "See the caveats in the documentation: https://pandas.pydata.org/pandas-docs/stable/user_guide/indexing.html#returning-a-view-versus-a-copy\n"
     ]
    },
    {
     "name": "stdout",
     "output_type": "stream",
     "text": [
      "(20, 14)\n",
      "(3, 14)\n",
      "(1, 14)\n",
      "                 name                                           price_df  \\\n",
      "1134  Frog%20slippers              Frog%20slippers price  Frog%20slip...   \n",
      "\n",
      "                                       item_df_training  \\\n",
      "1134              Frog%20slippers price  Frog%20slip...   \n",
      "\n",
      "                                             trimmed_df                regr  \\\n",
      "1134              Frog%20slippers price  Frog%20slip...  LinearRegression()   \n",
      "\n",
      "                                                 y_pred  \\\n",
      "1134  [49622.0161163522, 49256.3051788522, 48977.965...   \n",
      "\n",
      "                                                 y_test  mean_squared_error  \\\n",
      "1134  date_obj\n",
      "2020-05-21     49284.0\n",
      "2020-05-22    ...        2.556349e+07   \n",
      "\n",
      "      r2_score       roi                                          record_df  \\\n",
      "1134  0.974623  1.111439                 Prediction         Y     Y + 1 ...   \n",
      "\n",
      "      perc_pred_increase    last_day  current_price  \n",
      "1134           -0.018841  2020-08-13       140703.0  \n"
     ]
    },
    {
     "name": "stderr",
     "output_type": "stream",
     "text": [
      "c:\\users\\adamh\\pycharmprojects\\osbuddy\\venvstonks\\lib\\site-packages\\ipykernel_launcher.py:4: SettingWithCopyWarning: \n",
      "A value is trying to be set on a copy of a slice from a DataFrame.\n",
      "Try using .loc[row_indexer,col_indexer] = value instead\n",
      "\n",
      "See the caveats in the documentation: https://pandas.pydata.org/pandas-docs/stable/user_guide/indexing.html#returning-a-view-versus-a-copy\n",
      "  after removing the cwd from sys.path.\n",
      "c:\\users\\adamh\\pycharmprojects\\osbuddy\\venvstonks\\lib\\site-packages\\ipykernel_launcher.py:6: SettingWithCopyWarning: \n",
      "A value is trying to be set on a copy of a slice from a DataFrame.\n",
      "Try using .loc[row_indexer,col_indexer] = value instead\n",
      "\n",
      "See the caveats in the documentation: https://pandas.pydata.org/pandas-docs/stable/user_guide/indexing.html#returning-a-view-versus-a-copy\n",
      "  \n",
      "c:\\users\\adamh\\pycharmprojects\\osbuddy\\venvstonks\\lib\\site-packages\\ipykernel_launcher.py:9: SettingWithCopyWarning: \n",
      "A value is trying to be set on a copy of a slice from a DataFrame.\n",
      "Try using .loc[row_indexer,col_indexer] = value instead\n",
      "\n",
      "See the caveats in the documentation: https://pandas.pydata.org/pandas-docs/stable/user_guide/indexing.html#returning-a-view-versus-a-copy\n",
      "  if __name__ == '__main__':\n",
      "c:\\users\\adamh\\pycharmprojects\\osbuddy\\venvstonks\\lib\\site-packages\\numpy\\core\\_asarray.py:83: VisibleDeprecationWarning: Creating an ndarray from ragged nested sequences (which is a list-or-tuple of lists-or-tuples-or ndarrays with different lengths or shapes) is deprecated. If you meant to do this, you must specify 'dtype=object' when creating the ndarray\n",
      "  return array(a, dtype, copy=False, order=order)\n",
      "c:\\users\\adamh\\pycharmprojects\\osbuddy\\venvstonks\\lib\\site-packages\\ipykernel_launcher.py:12: SettingWithCopyWarning: \n",
      "A value is trying to be set on a copy of a slice from a DataFrame.\n",
      "Try using .loc[row_indexer,col_indexer] = value instead\n",
      "\n",
      "See the caveats in the documentation: https://pandas.pydata.org/pandas-docs/stable/user_guide/indexing.html#returning-a-view-versus-a-copy\n",
      "  if sys.path[0] == '':\n",
      "c:\\users\\adamh\\pycharmprojects\\osbuddy\\venvstonks\\lib\\site-packages\\ipykernel_launcher.py:17: SettingWithCopyWarning: \n",
      "A value is trying to be set on a copy of a slice from a DataFrame.\n",
      "Try using .loc[row_indexer,col_indexer] = value instead\n",
      "\n",
      "See the caveats in the documentation: https://pandas.pydata.org/pandas-docs/stable/user_guide/indexing.html#returning-a-view-versus-a-copy\n"
     ]
    },
    {
     "name": "stdout",
     "output_type": "stream",
     "text": [
      "(23, 14)\n",
      "(3, 14)\n",
      "(1, 14)\n",
      "                  name                                           price_df  \\\n",
      "1236  Granite%20hammer              Granite%20hammer price  Granite%20...   \n",
      "\n",
      "                                       item_df_training  \\\n",
      "1236              Granite%20hammer price  Granite%20...   \n",
      "\n",
      "                                             trimmed_df                regr  \\\n",
      "1236              Granite%20hammer price  Granite%20...  LinearRegression()   \n",
      "\n",
      "                                                 y_pred  \\\n",
      "1236  [718066.1453276698, 688719.8953276698, 714589....   \n",
      "\n",
      "                                                 y_test  mean_squared_error  \\\n",
      "1236  date_obj\n",
      "2020-04-28    708431.0\n",
      "2020-04-29    ...        1.290571e+09   \n",
      "\n",
      "      r2_score       roi                                          record_df  \\\n",
      "1236  0.946506  1.350989                 Prediction         Y     Y + 1 ...   \n",
      "\n",
      "      perc_pred_increase    last_day  current_price  \n",
      "1236            0.083619  2020-08-13       295346.0  \n"
     ]
    },
    {
     "name": "stderr",
     "output_type": "stream",
     "text": [
      "c:\\users\\adamh\\pycharmprojects\\osbuddy\\venvstonks\\lib\\site-packages\\ipykernel_launcher.py:4: SettingWithCopyWarning: \n",
      "A value is trying to be set on a copy of a slice from a DataFrame.\n",
      "Try using .loc[row_indexer,col_indexer] = value instead\n",
      "\n",
      "See the caveats in the documentation: https://pandas.pydata.org/pandas-docs/stable/user_guide/indexing.html#returning-a-view-versus-a-copy\n",
      "  after removing the cwd from sys.path.\n",
      "c:\\users\\adamh\\pycharmprojects\\osbuddy\\venvstonks\\lib\\site-packages\\ipykernel_launcher.py:6: SettingWithCopyWarning: \n",
      "A value is trying to be set on a copy of a slice from a DataFrame.\n",
      "Try using .loc[row_indexer,col_indexer] = value instead\n",
      "\n",
      "See the caveats in the documentation: https://pandas.pydata.org/pandas-docs/stable/user_guide/indexing.html#returning-a-view-versus-a-copy\n",
      "  \n",
      "c:\\users\\adamh\\pycharmprojects\\osbuddy\\venvstonks\\lib\\site-packages\\ipykernel_launcher.py:9: SettingWithCopyWarning: \n",
      "A value is trying to be set on a copy of a slice from a DataFrame.\n",
      "Try using .loc[row_indexer,col_indexer] = value instead\n",
      "\n",
      "See the caveats in the documentation: https://pandas.pydata.org/pandas-docs/stable/user_guide/indexing.html#returning-a-view-versus-a-copy\n",
      "  if __name__ == '__main__':\n",
      "c:\\users\\adamh\\pycharmprojects\\osbuddy\\venvstonks\\lib\\site-packages\\numpy\\core\\_asarray.py:83: VisibleDeprecationWarning: Creating an ndarray from ragged nested sequences (which is a list-or-tuple of lists-or-tuples-or ndarrays with different lengths or shapes) is deprecated. If you meant to do this, you must specify 'dtype=object' when creating the ndarray\n",
      "  return array(a, dtype, copy=False, order=order)\n",
      "c:\\users\\adamh\\pycharmprojects\\osbuddy\\venvstonks\\lib\\site-packages\\ipykernel_launcher.py:12: SettingWithCopyWarning: \n",
      "A value is trying to be set on a copy of a slice from a DataFrame.\n",
      "Try using .loc[row_indexer,col_indexer] = value instead\n",
      "\n",
      "See the caveats in the documentation: https://pandas.pydata.org/pandas-docs/stable/user_guide/indexing.html#returning-a-view-versus-a-copy\n",
      "  if sys.path[0] == '':\n",
      "c:\\users\\adamh\\pycharmprojects\\osbuddy\\venvstonks\\lib\\site-packages\\ipykernel_launcher.py:17: SettingWithCopyWarning: \n",
      "A value is trying to be set on a copy of a slice from a DataFrame.\n",
      "Try using .loc[row_indexer,col_indexer] = value instead\n",
      "\n",
      "See the caveats in the documentation: https://pandas.pydata.org/pandas-docs/stable/user_guide/indexing.html#returning-a-view-versus-a-copy\n"
     ]
    },
    {
     "name": "stdout",
     "output_type": "stream",
     "text": [
      "(30, 14)\n",
      "(3, 14)\n",
      "(0, 14)\n",
      "Empty DataFrame\n",
      "Columns: [name, price_df, item_df_training, trimmed_df, regr, y_pred, y_test, mean_squared_error, r2_score, roi, record_df, perc_pred_increase, last_day, current_price]\n",
      "Index: []\n"
     ]
    },
    {
     "name": "stderr",
     "output_type": "stream",
     "text": [
      "c:\\users\\adamh\\pycharmprojects\\osbuddy\\venvstonks\\lib\\site-packages\\ipykernel_launcher.py:4: SettingWithCopyWarning: \n",
      "A value is trying to be set on a copy of a slice from a DataFrame.\n",
      "Try using .loc[row_indexer,col_indexer] = value instead\n",
      "\n",
      "See the caveats in the documentation: https://pandas.pydata.org/pandas-docs/stable/user_guide/indexing.html#returning-a-view-versus-a-copy\n",
      "  after removing the cwd from sys.path.\n",
      "c:\\users\\adamh\\pycharmprojects\\osbuddy\\venvstonks\\lib\\site-packages\\ipykernel_launcher.py:6: SettingWithCopyWarning: \n",
      "A value is trying to be set on a copy of a slice from a DataFrame.\n",
      "Try using .loc[row_indexer,col_indexer] = value instead\n",
      "\n",
      "See the caveats in the documentation: https://pandas.pydata.org/pandas-docs/stable/user_guide/indexing.html#returning-a-view-versus-a-copy\n",
      "  \n",
      "c:\\users\\adamh\\pycharmprojects\\osbuddy\\venvstonks\\lib\\site-packages\\ipykernel_launcher.py:9: SettingWithCopyWarning: \n",
      "A value is trying to be set on a copy of a slice from a DataFrame.\n",
      "Try using .loc[row_indexer,col_indexer] = value instead\n",
      "\n",
      "See the caveats in the documentation: https://pandas.pydata.org/pandas-docs/stable/user_guide/indexing.html#returning-a-view-versus-a-copy\n",
      "  if __name__ == '__main__':\n",
      "c:\\users\\adamh\\pycharmprojects\\osbuddy\\venvstonks\\lib\\site-packages\\numpy\\core\\_asarray.py:83: VisibleDeprecationWarning: Creating an ndarray from ragged nested sequences (which is a list-or-tuple of lists-or-tuples-or ndarrays with different lengths or shapes) is deprecated. If you meant to do this, you must specify 'dtype=object' when creating the ndarray\n",
      "  return array(a, dtype, copy=False, order=order)\n",
      "c:\\users\\adamh\\pycharmprojects\\osbuddy\\venvstonks\\lib\\site-packages\\ipykernel_launcher.py:12: SettingWithCopyWarning: \n",
      "A value is trying to be set on a copy of a slice from a DataFrame.\n",
      "Try using .loc[row_indexer,col_indexer] = value instead\n",
      "\n",
      "See the caveats in the documentation: https://pandas.pydata.org/pandas-docs/stable/user_guide/indexing.html#returning-a-view-versus-a-copy\n",
      "  if sys.path[0] == '':\n",
      "c:\\users\\adamh\\pycharmprojects\\osbuddy\\venvstonks\\lib\\site-packages\\ipykernel_launcher.py:17: SettingWithCopyWarning: \n",
      "A value is trying to be set on a copy of a slice from a DataFrame.\n",
      "Try using .loc[row_indexer,col_indexer] = value instead\n",
      "\n",
      "See the caveats in the documentation: https://pandas.pydata.org/pandas-docs/stable/user_guide/indexing.html#returning-a-view-versus-a-copy\n"
     ]
    },
    {
     "name": "stdout",
     "output_type": "stream",
     "text": [
      "(30, 14)\n",
      "(2, 14)\n",
      "(0, 14)\n",
      "Empty DataFrame\n",
      "Columns: [name, price_df, item_df_training, trimmed_df, regr, y_pred, y_test, mean_squared_error, r2_score, roi, record_df, perc_pred_increase, last_day, current_price]\n",
      "Index: []\n"
     ]
    },
    {
     "name": "stderr",
     "output_type": "stream",
     "text": [
      "c:\\users\\adamh\\pycharmprojects\\osbuddy\\venvstonks\\lib\\site-packages\\ipykernel_launcher.py:4: SettingWithCopyWarning: \n",
      "A value is trying to be set on a copy of a slice from a DataFrame.\n",
      "Try using .loc[row_indexer,col_indexer] = value instead\n",
      "\n",
      "See the caveats in the documentation: https://pandas.pydata.org/pandas-docs/stable/user_guide/indexing.html#returning-a-view-versus-a-copy\n",
      "  after removing the cwd from sys.path.\n",
      "c:\\users\\adamh\\pycharmprojects\\osbuddy\\venvstonks\\lib\\site-packages\\ipykernel_launcher.py:6: SettingWithCopyWarning: \n",
      "A value is trying to be set on a copy of a slice from a DataFrame.\n",
      "Try using .loc[row_indexer,col_indexer] = value instead\n",
      "\n",
      "See the caveats in the documentation: https://pandas.pydata.org/pandas-docs/stable/user_guide/indexing.html#returning-a-view-versus-a-copy\n",
      "  \n",
      "c:\\users\\adamh\\pycharmprojects\\osbuddy\\venvstonks\\lib\\site-packages\\ipykernel_launcher.py:9: SettingWithCopyWarning: \n",
      "A value is trying to be set on a copy of a slice from a DataFrame.\n",
      "Try using .loc[row_indexer,col_indexer] = value instead\n",
      "\n",
      "See the caveats in the documentation: https://pandas.pydata.org/pandas-docs/stable/user_guide/indexing.html#returning-a-view-versus-a-copy\n",
      "  if __name__ == '__main__':\n",
      "c:\\users\\adamh\\pycharmprojects\\osbuddy\\venvstonks\\lib\\site-packages\\numpy\\core\\_asarray.py:83: VisibleDeprecationWarning: Creating an ndarray from ragged nested sequences (which is a list-or-tuple of lists-or-tuples-or ndarrays with different lengths or shapes) is deprecated. If you meant to do this, you must specify 'dtype=object' when creating the ndarray\n",
      "  return array(a, dtype, copy=False, order=order)\n",
      "c:\\users\\adamh\\pycharmprojects\\osbuddy\\venvstonks\\lib\\site-packages\\ipykernel_launcher.py:12: SettingWithCopyWarning: \n",
      "A value is trying to be set on a copy of a slice from a DataFrame.\n",
      "Try using .loc[row_indexer,col_indexer] = value instead\n",
      "\n",
      "See the caveats in the documentation: https://pandas.pydata.org/pandas-docs/stable/user_guide/indexing.html#returning-a-view-versus-a-copy\n",
      "  if sys.path[0] == '':\n",
      "c:\\users\\adamh\\pycharmprojects\\osbuddy\\venvstonks\\lib\\site-packages\\ipykernel_launcher.py:17: SettingWithCopyWarning: \n",
      "A value is trying to be set on a copy of a slice from a DataFrame.\n",
      "Try using .loc[row_indexer,col_indexer] = value instead\n",
      "\n",
      "See the caveats in the documentation: https://pandas.pydata.org/pandas-docs/stable/user_guide/indexing.html#returning-a-view-versus-a-copy\n"
     ]
    },
    {
     "name": "stdout",
     "output_type": "stream",
     "text": [
      "(15, 14)\n",
      "(0, 14)\n",
      "(0, 14)\n",
      "Empty DataFrame\n",
      "Columns: [name, price_df, item_df_training, trimmed_df, regr, y_pred, y_test, mean_squared_error, r2_score, roi, record_df, perc_pred_increase, last_day, current_price]\n",
      "Index: []\n"
     ]
    },
    {
     "name": "stderr",
     "output_type": "stream",
     "text": [
      "c:\\users\\adamh\\pycharmprojects\\osbuddy\\venvstonks\\lib\\site-packages\\ipykernel_launcher.py:4: SettingWithCopyWarning: \n",
      "A value is trying to be set on a copy of a slice from a DataFrame.\n",
      "Try using .loc[row_indexer,col_indexer] = value instead\n",
      "\n",
      "See the caveats in the documentation: https://pandas.pydata.org/pandas-docs/stable/user_guide/indexing.html#returning-a-view-versus-a-copy\n",
      "  after removing the cwd from sys.path.\n",
      "c:\\users\\adamh\\pycharmprojects\\osbuddy\\venvstonks\\lib\\site-packages\\ipykernel_launcher.py:6: SettingWithCopyWarning: \n",
      "A value is trying to be set on a copy of a slice from a DataFrame.\n",
      "Try using .loc[row_indexer,col_indexer] = value instead\n",
      "\n",
      "See the caveats in the documentation: https://pandas.pydata.org/pandas-docs/stable/user_guide/indexing.html#returning-a-view-versus-a-copy\n",
      "  \n",
      "c:\\users\\adamh\\pycharmprojects\\osbuddy\\venvstonks\\lib\\site-packages\\ipykernel_launcher.py:9: SettingWithCopyWarning: \n",
      "A value is trying to be set on a copy of a slice from a DataFrame.\n",
      "Try using .loc[row_indexer,col_indexer] = value instead\n",
      "\n",
      "See the caveats in the documentation: https://pandas.pydata.org/pandas-docs/stable/user_guide/indexing.html#returning-a-view-versus-a-copy\n",
      "  if __name__ == '__main__':\n",
      "c:\\users\\adamh\\pycharmprojects\\osbuddy\\venvstonks\\lib\\site-packages\\numpy\\core\\_asarray.py:83: VisibleDeprecationWarning: Creating an ndarray from ragged nested sequences (which is a list-or-tuple of lists-or-tuples-or ndarrays with different lengths or shapes) is deprecated. If you meant to do this, you must specify 'dtype=object' when creating the ndarray\n",
      "  return array(a, dtype, copy=False, order=order)\n",
      "c:\\users\\adamh\\pycharmprojects\\osbuddy\\venvstonks\\lib\\site-packages\\ipykernel_launcher.py:12: SettingWithCopyWarning: \n",
      "A value is trying to be set on a copy of a slice from a DataFrame.\n",
      "Try using .loc[row_indexer,col_indexer] = value instead\n",
      "\n",
      "See the caveats in the documentation: https://pandas.pydata.org/pandas-docs/stable/user_guide/indexing.html#returning-a-view-versus-a-copy\n",
      "  if sys.path[0] == '':\n",
      "c:\\users\\adamh\\pycharmprojects\\osbuddy\\venvstonks\\lib\\site-packages\\ipykernel_launcher.py:17: SettingWithCopyWarning: \n",
      "A value is trying to be set on a copy of a slice from a DataFrame.\n",
      "Try using .loc[row_indexer,col_indexer] = value instead\n",
      "\n",
      "See the caveats in the documentation: https://pandas.pydata.org/pandas-docs/stable/user_guide/indexing.html#returning-a-view-versus-a-copy\n"
     ]
    },
    {
     "name": "stdout",
     "output_type": "stream",
     "text": [
      "(27, 14)\n",
      "(3, 14)\n",
      "(1, 14)\n",
      "      name                                           price_df  \\\n",
      "1610  Logs              Logs price  Logs volume  Logs pric...   \n",
      "\n",
      "                                       item_df_training  \\\n",
      "1610              Logs price  Logs volume  Logs pric...   \n",
      "\n",
      "                                             trimmed_df                regr  \\\n",
      "1610              Logs price  Logs volume  Logs pric...  LinearRegression()   \n",
      "\n",
      "                                                 y_pred  \\\n",
      "1610  [34.69612199654308, 35.60577747998264, 38.3625...   \n",
      "\n",
      "                                                 y_test  mean_squared_error  \\\n",
      "1610  date_obj\n",
      "2020-04-27    41.0\n",
      "2020-04-28    44.0...          145.041793   \n",
      "\n",
      "      r2_score       roi                                          record_df  \\\n",
      "1610  0.870188  1.984616              Prediction     Y  Y + 1  Y - 1    ...   \n",
      "\n",
      "      perc_pred_increase    last_day  current_price  \n",
      "1610            0.059003  2020-08-13           73.0  \n"
     ]
    },
    {
     "name": "stderr",
     "output_type": "stream",
     "text": [
      "c:\\users\\adamh\\pycharmprojects\\osbuddy\\venvstonks\\lib\\site-packages\\ipykernel_launcher.py:4: SettingWithCopyWarning: \n",
      "A value is trying to be set on a copy of a slice from a DataFrame.\n",
      "Try using .loc[row_indexer,col_indexer] = value instead\n",
      "\n",
      "See the caveats in the documentation: https://pandas.pydata.org/pandas-docs/stable/user_guide/indexing.html#returning-a-view-versus-a-copy\n",
      "  after removing the cwd from sys.path.\n",
      "c:\\users\\adamh\\pycharmprojects\\osbuddy\\venvstonks\\lib\\site-packages\\ipykernel_launcher.py:6: SettingWithCopyWarning: \n",
      "A value is trying to be set on a copy of a slice from a DataFrame.\n",
      "Try using .loc[row_indexer,col_indexer] = value instead\n",
      "\n",
      "See the caveats in the documentation: https://pandas.pydata.org/pandas-docs/stable/user_guide/indexing.html#returning-a-view-versus-a-copy\n",
      "  \n",
      "c:\\users\\adamh\\pycharmprojects\\osbuddy\\venvstonks\\lib\\site-packages\\ipykernel_launcher.py:9: SettingWithCopyWarning: \n",
      "A value is trying to be set on a copy of a slice from a DataFrame.\n",
      "Try using .loc[row_indexer,col_indexer] = value instead\n",
      "\n",
      "See the caveats in the documentation: https://pandas.pydata.org/pandas-docs/stable/user_guide/indexing.html#returning-a-view-versus-a-copy\n",
      "  if __name__ == '__main__':\n",
      "c:\\users\\adamh\\pycharmprojects\\osbuddy\\venvstonks\\lib\\site-packages\\numpy\\core\\_asarray.py:83: VisibleDeprecationWarning: Creating an ndarray from ragged nested sequences (which is a list-or-tuple of lists-or-tuples-or ndarrays with different lengths or shapes) is deprecated. If you meant to do this, you must specify 'dtype=object' when creating the ndarray\n",
      "  return array(a, dtype, copy=False, order=order)\n",
      "c:\\users\\adamh\\pycharmprojects\\osbuddy\\venvstonks\\lib\\site-packages\\ipykernel_launcher.py:12: SettingWithCopyWarning: \n",
      "A value is trying to be set on a copy of a slice from a DataFrame.\n",
      "Try using .loc[row_indexer,col_indexer] = value instead\n",
      "\n",
      "See the caveats in the documentation: https://pandas.pydata.org/pandas-docs/stable/user_guide/indexing.html#returning-a-view-versus-a-copy\n",
      "  if sys.path[0] == '':\n",
      "c:\\users\\adamh\\pycharmprojects\\osbuddy\\venvstonks\\lib\\site-packages\\ipykernel_launcher.py:17: SettingWithCopyWarning: \n",
      "A value is trying to be set on a copy of a slice from a DataFrame.\n",
      "Try using .loc[row_indexer,col_indexer] = value instead\n",
      "\n",
      "See the caveats in the documentation: https://pandas.pydata.org/pandas-docs/stable/user_guide/indexing.html#returning-a-view-versus-a-copy\n"
     ]
    },
    {
     "name": "stdout",
     "output_type": "stream",
     "text": [
      "(22, 14)\n",
      "(3, 14)\n",
      "(1, 14)\n",
      "                name                                           price_df  \\\n",
      "1789  Molten%20glass              Molten%20glass price  Molten%20gla...   \n",
      "\n",
      "                                       item_df_training  \\\n",
      "1789              Molten%20glass price  Molten%20gla...   \n",
      "\n",
      "                                             trimmed_df                regr  \\\n",
      "1789              Molten%20glass price  Molten%20gla...  LinearRegression()   \n",
      "\n",
      "                                                 y_pred  \\\n",
      "1789  [155.69211413072705, 156.23549538884467, 155.0...   \n",
      "\n",
      "                                                 y_test  mean_squared_error  \\\n",
      "1789  date_obj\n",
      "2020-03-02    150.0\n",
      "2020-03-03    149...           40.818484   \n",
      "\n",
      "      r2_score       roi                                          record_df  \\\n",
      "1789    0.8836  1.082121              Prediction      Y  Y + 1  Y - 1   ...   \n",
      "\n",
      "      perc_pred_increase    last_day  current_price  \n",
      "1789            0.061818  2020-08-13          112.0  \n"
     ]
    },
    {
     "name": "stderr",
     "output_type": "stream",
     "text": [
      "c:\\users\\adamh\\pycharmprojects\\osbuddy\\venvstonks\\lib\\site-packages\\ipykernel_launcher.py:4: SettingWithCopyWarning: \n",
      "A value is trying to be set on a copy of a slice from a DataFrame.\n",
      "Try using .loc[row_indexer,col_indexer] = value instead\n",
      "\n",
      "See the caveats in the documentation: https://pandas.pydata.org/pandas-docs/stable/user_guide/indexing.html#returning-a-view-versus-a-copy\n",
      "  after removing the cwd from sys.path.\n",
      "c:\\users\\adamh\\pycharmprojects\\osbuddy\\venvstonks\\lib\\site-packages\\ipykernel_launcher.py:6: SettingWithCopyWarning: \n",
      "A value is trying to be set on a copy of a slice from a DataFrame.\n",
      "Try using .loc[row_indexer,col_indexer] = value instead\n",
      "\n",
      "See the caveats in the documentation: https://pandas.pydata.org/pandas-docs/stable/user_guide/indexing.html#returning-a-view-versus-a-copy\n",
      "  \n",
      "c:\\users\\adamh\\pycharmprojects\\osbuddy\\venvstonks\\lib\\site-packages\\ipykernel_launcher.py:9: SettingWithCopyWarning: \n",
      "A value is trying to be set on a copy of a slice from a DataFrame.\n",
      "Try using .loc[row_indexer,col_indexer] = value instead\n",
      "\n",
      "See the caveats in the documentation: https://pandas.pydata.org/pandas-docs/stable/user_guide/indexing.html#returning-a-view-versus-a-copy\n",
      "  if __name__ == '__main__':\n",
      "c:\\users\\adamh\\pycharmprojects\\osbuddy\\venvstonks\\lib\\site-packages\\numpy\\core\\_asarray.py:83: VisibleDeprecationWarning: Creating an ndarray from ragged nested sequences (which is a list-or-tuple of lists-or-tuples-or ndarrays with different lengths or shapes) is deprecated. If you meant to do this, you must specify 'dtype=object' when creating the ndarray\n",
      "  return array(a, dtype, copy=False, order=order)\n",
      "c:\\users\\adamh\\pycharmprojects\\osbuddy\\venvstonks\\lib\\site-packages\\ipykernel_launcher.py:12: SettingWithCopyWarning: \n",
      "A value is trying to be set on a copy of a slice from a DataFrame.\n",
      "Try using .loc[row_indexer,col_indexer] = value instead\n",
      "\n",
      "See the caveats in the documentation: https://pandas.pydata.org/pandas-docs/stable/user_guide/indexing.html#returning-a-view-versus-a-copy\n",
      "  if sys.path[0] == '':\n",
      "c:\\users\\adamh\\pycharmprojects\\osbuddy\\venvstonks\\lib\\site-packages\\ipykernel_launcher.py:17: SettingWithCopyWarning: \n",
      "A value is trying to be set on a copy of a slice from a DataFrame.\n",
      "Try using .loc[row_indexer,col_indexer] = value instead\n",
      "\n",
      "See the caveats in the documentation: https://pandas.pydata.org/pandas-docs/stable/user_guide/indexing.html#returning-a-view-versus-a-copy\n"
     ]
    },
    {
     "name": "stdout",
     "output_type": "stream",
     "text": [
      "(24, 14)\n",
      "(3, 14)\n",
      "(1, 14)\n",
      "                 name                                           price_df  \\\n",
      "1826  Musketeer%20hat              Musketeer%20hat price  Musketeer%2...   \n",
      "\n",
      "                                       item_df_training  \\\n",
      "1826              Musketeer%20hat price  Musketeer%2...   \n",
      "\n",
      "                                             trimmed_df                regr  \\\n",
      "1826              Musketeer%20hat price  Musketeer%2...  LinearRegression()   \n",
      "\n",
      "                                                 y_pred  \\\n",
      "1826  [93528.48256312343, 98659.18568812343, 101732....   \n",
      "\n",
      "                                                 y_test  mean_squared_error  \\\n",
      "1826  date_obj\n",
      "2020-04-30    104185.0\n",
      "2020-05-01    ...        4.015859e+07   \n",
      "\n",
      "      r2_score       roi                                          record_df  \\\n",
      "1826  0.895115  1.071996                 Prediction         Y     Y + 1 ...   \n",
      "\n",
      "      perc_pred_increase    last_day  current_price  \n",
      "1826             0.06015  2020-08-13       167673.0  \n"
     ]
    },
    {
     "name": "stderr",
     "output_type": "stream",
     "text": [
      "c:\\users\\adamh\\pycharmprojects\\osbuddy\\venvstonks\\lib\\site-packages\\ipykernel_launcher.py:4: SettingWithCopyWarning: \n",
      "A value is trying to be set on a copy of a slice from a DataFrame.\n",
      "Try using .loc[row_indexer,col_indexer] = value instead\n",
      "\n",
      "See the caveats in the documentation: https://pandas.pydata.org/pandas-docs/stable/user_guide/indexing.html#returning-a-view-versus-a-copy\n",
      "  after removing the cwd from sys.path.\n",
      "c:\\users\\adamh\\pycharmprojects\\osbuddy\\venvstonks\\lib\\site-packages\\ipykernel_launcher.py:6: SettingWithCopyWarning: \n",
      "A value is trying to be set on a copy of a slice from a DataFrame.\n",
      "Try using .loc[row_indexer,col_indexer] = value instead\n",
      "\n",
      "See the caveats in the documentation: https://pandas.pydata.org/pandas-docs/stable/user_guide/indexing.html#returning-a-view-versus-a-copy\n",
      "  \n",
      "c:\\users\\adamh\\pycharmprojects\\osbuddy\\venvstonks\\lib\\site-packages\\ipykernel_launcher.py:9: SettingWithCopyWarning: \n",
      "A value is trying to be set on a copy of a slice from a DataFrame.\n",
      "Try using .loc[row_indexer,col_indexer] = value instead\n",
      "\n",
      "See the caveats in the documentation: https://pandas.pydata.org/pandas-docs/stable/user_guide/indexing.html#returning-a-view-versus-a-copy\n",
      "  if __name__ == '__main__':\n",
      "c:\\users\\adamh\\pycharmprojects\\osbuddy\\venvstonks\\lib\\site-packages\\numpy\\core\\_asarray.py:83: VisibleDeprecationWarning: Creating an ndarray from ragged nested sequences (which is a list-or-tuple of lists-or-tuples-or ndarrays with different lengths or shapes) is deprecated. If you meant to do this, you must specify 'dtype=object' when creating the ndarray\n",
      "  return array(a, dtype, copy=False, order=order)\n",
      "c:\\users\\adamh\\pycharmprojects\\osbuddy\\venvstonks\\lib\\site-packages\\ipykernel_launcher.py:12: SettingWithCopyWarning: \n",
      "A value is trying to be set on a copy of a slice from a DataFrame.\n",
      "Try using .loc[row_indexer,col_indexer] = value instead\n",
      "\n",
      "See the caveats in the documentation: https://pandas.pydata.org/pandas-docs/stable/user_guide/indexing.html#returning-a-view-versus-a-copy\n",
      "  if sys.path[0] == '':\n",
      "c:\\users\\adamh\\pycharmprojects\\osbuddy\\venvstonks\\lib\\site-packages\\ipykernel_launcher.py:17: SettingWithCopyWarning: \n",
      "A value is trying to be set on a copy of a slice from a DataFrame.\n",
      "Try using .loc[row_indexer,col_indexer] = value instead\n",
      "\n",
      "See the caveats in the documentation: https://pandas.pydata.org/pandas-docs/stable/user_guide/indexing.html#returning-a-view-versus-a-copy\n"
     ]
    },
    {
     "name": "stdout",
     "output_type": "stream",
     "text": [
      "(22, 14)\n",
      "(1, 14)\n",
      "(0, 14)\n",
      "Empty DataFrame\n",
      "Columns: [name, price_df, item_df_training, trimmed_df, regr, y_pred, y_test, mean_squared_error, r2_score, roi, record_df, perc_pred_increase, last_day, current_price]\n",
      "Index: []\n"
     ]
    },
    {
     "name": "stderr",
     "output_type": "stream",
     "text": [
      "c:\\users\\adamh\\pycharmprojects\\osbuddy\\venvstonks\\lib\\site-packages\\ipykernel_launcher.py:4: SettingWithCopyWarning: \n",
      "A value is trying to be set on a copy of a slice from a DataFrame.\n",
      "Try using .loc[row_indexer,col_indexer] = value instead\n",
      "\n",
      "See the caveats in the documentation: https://pandas.pydata.org/pandas-docs/stable/user_guide/indexing.html#returning-a-view-versus-a-copy\n",
      "  after removing the cwd from sys.path.\n",
      "c:\\users\\adamh\\pycharmprojects\\osbuddy\\venvstonks\\lib\\site-packages\\ipykernel_launcher.py:6: SettingWithCopyWarning: \n",
      "A value is trying to be set on a copy of a slice from a DataFrame.\n",
      "Try using .loc[row_indexer,col_indexer] = value instead\n",
      "\n",
      "See the caveats in the documentation: https://pandas.pydata.org/pandas-docs/stable/user_guide/indexing.html#returning-a-view-versus-a-copy\n",
      "  \n",
      "c:\\users\\adamh\\pycharmprojects\\osbuddy\\venvstonks\\lib\\site-packages\\ipykernel_launcher.py:9: SettingWithCopyWarning: \n",
      "A value is trying to be set on a copy of a slice from a DataFrame.\n",
      "Try using .loc[row_indexer,col_indexer] = value instead\n",
      "\n",
      "See the caveats in the documentation: https://pandas.pydata.org/pandas-docs/stable/user_guide/indexing.html#returning-a-view-versus-a-copy\n",
      "  if __name__ == '__main__':\n",
      "c:\\users\\adamh\\pycharmprojects\\osbuddy\\venvstonks\\lib\\site-packages\\numpy\\core\\_asarray.py:83: VisibleDeprecationWarning: Creating an ndarray from ragged nested sequences (which is a list-or-tuple of lists-or-tuples-or ndarrays with different lengths or shapes) is deprecated. If you meant to do this, you must specify 'dtype=object' when creating the ndarray\n",
      "  return array(a, dtype, copy=False, order=order)\n",
      "c:\\users\\adamh\\pycharmprojects\\osbuddy\\venvstonks\\lib\\site-packages\\ipykernel_launcher.py:12: SettingWithCopyWarning: \n",
      "A value is trying to be set on a copy of a slice from a DataFrame.\n",
      "Try using .loc[row_indexer,col_indexer] = value instead\n",
      "\n",
      "See the caveats in the documentation: https://pandas.pydata.org/pandas-docs/stable/user_guide/indexing.html#returning-a-view-versus-a-copy\n",
      "  if sys.path[0] == '':\n",
      "c:\\users\\adamh\\pycharmprojects\\osbuddy\\venvstonks\\lib\\site-packages\\ipykernel_launcher.py:17: SettingWithCopyWarning: \n",
      "A value is trying to be set on a copy of a slice from a DataFrame.\n",
      "Try using .loc[row_indexer,col_indexer] = value instead\n",
      "\n",
      "See the caveats in the documentation: https://pandas.pydata.org/pandas-docs/stable/user_guide/indexing.html#returning-a-view-versus-a-copy\n"
     ]
    },
    {
     "name": "stdout",
     "output_type": "stream",
     "text": [
      "(26, 14)\n",
      "(0, 14)\n",
      "(0, 14)\n",
      "Empty DataFrame\n",
      "Columns: [name, price_df, item_df_training, trimmed_df, regr, y_pred, y_test, mean_squared_error, r2_score, roi, record_df, perc_pred_increase, last_day, current_price]\n",
      "Index: []\n"
     ]
    },
    {
     "name": "stderr",
     "output_type": "stream",
     "text": [
      "c:\\users\\adamh\\pycharmprojects\\osbuddy\\venvstonks\\lib\\site-packages\\ipykernel_launcher.py:4: SettingWithCopyWarning: \n",
      "A value is trying to be set on a copy of a slice from a DataFrame.\n",
      "Try using .loc[row_indexer,col_indexer] = value instead\n",
      "\n",
      "See the caveats in the documentation: https://pandas.pydata.org/pandas-docs/stable/user_guide/indexing.html#returning-a-view-versus-a-copy\n",
      "  after removing the cwd from sys.path.\n",
      "c:\\users\\adamh\\pycharmprojects\\osbuddy\\venvstonks\\lib\\site-packages\\ipykernel_launcher.py:6: SettingWithCopyWarning: \n",
      "A value is trying to be set on a copy of a slice from a DataFrame.\n",
      "Try using .loc[row_indexer,col_indexer] = value instead\n",
      "\n",
      "See the caveats in the documentation: https://pandas.pydata.org/pandas-docs/stable/user_guide/indexing.html#returning-a-view-versus-a-copy\n",
      "  \n",
      "c:\\users\\adamh\\pycharmprojects\\osbuddy\\venvstonks\\lib\\site-packages\\ipykernel_launcher.py:9: SettingWithCopyWarning: \n",
      "A value is trying to be set on a copy of a slice from a DataFrame.\n",
      "Try using .loc[row_indexer,col_indexer] = value instead\n",
      "\n",
      "See the caveats in the documentation: https://pandas.pydata.org/pandas-docs/stable/user_guide/indexing.html#returning-a-view-versus-a-copy\n",
      "  if __name__ == '__main__':\n",
      "c:\\users\\adamh\\pycharmprojects\\osbuddy\\venvstonks\\lib\\site-packages\\numpy\\core\\_asarray.py:83: VisibleDeprecationWarning: Creating an ndarray from ragged nested sequences (which is a list-or-tuple of lists-or-tuples-or ndarrays with different lengths or shapes) is deprecated. If you meant to do this, you must specify 'dtype=object' when creating the ndarray\n",
      "  return array(a, dtype, copy=False, order=order)\n",
      "c:\\users\\adamh\\pycharmprojects\\osbuddy\\venvstonks\\lib\\site-packages\\ipykernel_launcher.py:12: SettingWithCopyWarning: \n",
      "A value is trying to be set on a copy of a slice from a DataFrame.\n",
      "Try using .loc[row_indexer,col_indexer] = value instead\n",
      "\n",
      "See the caveats in the documentation: https://pandas.pydata.org/pandas-docs/stable/user_guide/indexing.html#returning-a-view-versus-a-copy\n",
      "  if sys.path[0] == '':\n",
      "c:\\users\\adamh\\pycharmprojects\\osbuddy\\venvstonks\\lib\\site-packages\\ipykernel_launcher.py:17: SettingWithCopyWarning: \n",
      "A value is trying to be set on a copy of a slice from a DataFrame.\n",
      "Try using .loc[row_indexer,col_indexer] = value instead\n",
      "\n",
      "See the caveats in the documentation: https://pandas.pydata.org/pandas-docs/stable/user_guide/indexing.html#returning-a-view-versus-a-copy\n"
     ]
    },
    {
     "name": "stdout",
     "output_type": "stream",
     "text": [
      "(29, 14)\n",
      "(5, 14)\n",
      "(1, 14)\n",
      "             name                                           price_df  \\\n",
      "2168  Raw%20shark              Raw%20shark price  Raw%20shark vol...   \n",
      "\n",
      "                                       item_df_training  \\\n",
      "2168              Raw%20shark price  Raw%20shark vol...   \n",
      "\n",
      "                                             trimmed_df                regr  \\\n",
      "2168              Raw%20shark price  Raw%20shark vol...  LinearRegression()   \n",
      "\n",
      "                                                 y_pred  \\\n",
      "2168  [1152.9200839981459, 1221.6977313742063, 1209....   \n",
      "\n",
      "                                                 y_test  mean_squared_error  \\\n",
      "2168  date_obj\n",
      "2020-03-01    1227.0\n",
      "2020-03-02    11...         2164.733003   \n",
      "\n",
      "      r2_score       roi                                          record_df  \\\n",
      "2168  0.943257  1.064824               Prediction       Y   Y + 1   Y - ...   \n",
      "\n",
      "      perc_pred_increase    last_day  current_price  \n",
      "2168           -0.010442  2020-08-13          611.0  \n"
     ]
    },
    {
     "name": "stderr",
     "output_type": "stream",
     "text": [
      "c:\\users\\adamh\\pycharmprojects\\osbuddy\\venvstonks\\lib\\site-packages\\ipykernel_launcher.py:4: SettingWithCopyWarning: \n",
      "A value is trying to be set on a copy of a slice from a DataFrame.\n",
      "Try using .loc[row_indexer,col_indexer] = value instead\n",
      "\n",
      "See the caveats in the documentation: https://pandas.pydata.org/pandas-docs/stable/user_guide/indexing.html#returning-a-view-versus-a-copy\n",
      "  after removing the cwd from sys.path.\n",
      "c:\\users\\adamh\\pycharmprojects\\osbuddy\\venvstonks\\lib\\site-packages\\ipykernel_launcher.py:6: SettingWithCopyWarning: \n",
      "A value is trying to be set on a copy of a slice from a DataFrame.\n",
      "Try using .loc[row_indexer,col_indexer] = value instead\n",
      "\n",
      "See the caveats in the documentation: https://pandas.pydata.org/pandas-docs/stable/user_guide/indexing.html#returning-a-view-versus-a-copy\n",
      "  \n",
      "c:\\users\\adamh\\pycharmprojects\\osbuddy\\venvstonks\\lib\\site-packages\\ipykernel_launcher.py:9: SettingWithCopyWarning: \n",
      "A value is trying to be set on a copy of a slice from a DataFrame.\n",
      "Try using .loc[row_indexer,col_indexer] = value instead\n",
      "\n",
      "See the caveats in the documentation: https://pandas.pydata.org/pandas-docs/stable/user_guide/indexing.html#returning-a-view-versus-a-copy\n",
      "  if __name__ == '__main__':\n",
      "c:\\users\\adamh\\pycharmprojects\\osbuddy\\venvstonks\\lib\\site-packages\\numpy\\core\\_asarray.py:83: VisibleDeprecationWarning: Creating an ndarray from ragged nested sequences (which is a list-or-tuple of lists-or-tuples-or ndarrays with different lengths or shapes) is deprecated. If you meant to do this, you must specify 'dtype=object' when creating the ndarray\n",
      "  return array(a, dtype, copy=False, order=order)\n",
      "c:\\users\\adamh\\pycharmprojects\\osbuddy\\venvstonks\\lib\\site-packages\\ipykernel_launcher.py:12: SettingWithCopyWarning: \n",
      "A value is trying to be set on a copy of a slice from a DataFrame.\n",
      "Try using .loc[row_indexer,col_indexer] = value instead\n",
      "\n",
      "See the caveats in the documentation: https://pandas.pydata.org/pandas-docs/stable/user_guide/indexing.html#returning-a-view-versus-a-copy\n",
      "  if sys.path[0] == '':\n",
      "c:\\users\\adamh\\pycharmprojects\\osbuddy\\venvstonks\\lib\\site-packages\\ipykernel_launcher.py:17: SettingWithCopyWarning: \n",
      "A value is trying to be set on a copy of a slice from a DataFrame.\n",
      "Try using .loc[row_indexer,col_indexer] = value instead\n",
      "\n",
      "See the caveats in the documentation: https://pandas.pydata.org/pandas-docs/stable/user_guide/indexing.html#returning-a-view-versus-a-copy\n"
     ]
    },
    {
     "name": "stdout",
     "output_type": "stream",
     "text": [
      "(17, 14)\n",
      "(3, 14)\n",
      "(0, 14)\n",
      "Empty DataFrame\n",
      "Columns: [name, price_df, item_df_training, trimmed_df, regr, y_pred, y_test, mean_squared_error, r2_score, roi, record_df, perc_pred_increase, last_day, current_price]\n",
      "Index: []\n"
     ]
    },
    {
     "name": "stderr",
     "output_type": "stream",
     "text": [
      "c:\\users\\adamh\\pycharmprojects\\osbuddy\\venvstonks\\lib\\site-packages\\ipykernel_launcher.py:4: SettingWithCopyWarning: \n",
      "A value is trying to be set on a copy of a slice from a DataFrame.\n",
      "Try using .loc[row_indexer,col_indexer] = value instead\n",
      "\n",
      "See the caveats in the documentation: https://pandas.pydata.org/pandas-docs/stable/user_guide/indexing.html#returning-a-view-versus-a-copy\n",
      "  after removing the cwd from sys.path.\n",
      "c:\\users\\adamh\\pycharmprojects\\osbuddy\\venvstonks\\lib\\site-packages\\ipykernel_launcher.py:6: SettingWithCopyWarning: \n",
      "A value is trying to be set on a copy of a slice from a DataFrame.\n",
      "Try using .loc[row_indexer,col_indexer] = value instead\n",
      "\n",
      "See the caveats in the documentation: https://pandas.pydata.org/pandas-docs/stable/user_guide/indexing.html#returning-a-view-versus-a-copy\n",
      "  \n",
      "c:\\users\\adamh\\pycharmprojects\\osbuddy\\venvstonks\\lib\\site-packages\\ipykernel_launcher.py:9: SettingWithCopyWarning: \n",
      "A value is trying to be set on a copy of a slice from a DataFrame.\n",
      "Try using .loc[row_indexer,col_indexer] = value instead\n",
      "\n",
      "See the caveats in the documentation: https://pandas.pydata.org/pandas-docs/stable/user_guide/indexing.html#returning-a-view-versus-a-copy\n",
      "  if __name__ == '__main__':\n",
      "c:\\users\\adamh\\pycharmprojects\\osbuddy\\venvstonks\\lib\\site-packages\\numpy\\core\\_asarray.py:83: VisibleDeprecationWarning: Creating an ndarray from ragged nested sequences (which is a list-or-tuple of lists-or-tuples-or ndarrays with different lengths or shapes) is deprecated. If you meant to do this, you must specify 'dtype=object' when creating the ndarray\n",
      "  return array(a, dtype, copy=False, order=order)\n",
      "c:\\users\\adamh\\pycharmprojects\\osbuddy\\venvstonks\\lib\\site-packages\\ipykernel_launcher.py:12: SettingWithCopyWarning: \n",
      "A value is trying to be set on a copy of a slice from a DataFrame.\n",
      "Try using .loc[row_indexer,col_indexer] = value instead\n",
      "\n",
      "See the caveats in the documentation: https://pandas.pydata.org/pandas-docs/stable/user_guide/indexing.html#returning-a-view-versus-a-copy\n",
      "  if sys.path[0] == '':\n",
      "c:\\users\\adamh\\pycharmprojects\\osbuddy\\venvstonks\\lib\\site-packages\\ipykernel_launcher.py:17: SettingWithCopyWarning: \n",
      "A value is trying to be set on a copy of a slice from a DataFrame.\n",
      "Try using .loc[row_indexer,col_indexer] = value instead\n",
      "\n",
      "See the caveats in the documentation: https://pandas.pydata.org/pandas-docs/stable/user_guide/indexing.html#returning-a-view-versus-a-copy\n"
     ]
    },
    {
     "name": "stdout",
     "output_type": "stream",
     "text": [
      "(18, 14)\n",
      "(4, 14)\n",
      "(0, 14)\n",
      "Empty DataFrame\n",
      "Columns: [name, price_df, item_df_training, trimmed_df, regr, y_pred, y_test, mean_squared_error, r2_score, roi, record_df, perc_pred_increase, last_day, current_price]\n",
      "Index: []\n"
     ]
    },
    {
     "name": "stderr",
     "output_type": "stream",
     "text": [
      "c:\\users\\adamh\\pycharmprojects\\osbuddy\\venvstonks\\lib\\site-packages\\ipykernel_launcher.py:4: SettingWithCopyWarning: \n",
      "A value is trying to be set on a copy of a slice from a DataFrame.\n",
      "Try using .loc[row_indexer,col_indexer] = value instead\n",
      "\n",
      "See the caveats in the documentation: https://pandas.pydata.org/pandas-docs/stable/user_guide/indexing.html#returning-a-view-versus-a-copy\n",
      "  after removing the cwd from sys.path.\n",
      "c:\\users\\adamh\\pycharmprojects\\osbuddy\\venvstonks\\lib\\site-packages\\ipykernel_launcher.py:6: SettingWithCopyWarning: \n",
      "A value is trying to be set on a copy of a slice from a DataFrame.\n",
      "Try using .loc[row_indexer,col_indexer] = value instead\n",
      "\n",
      "See the caveats in the documentation: https://pandas.pydata.org/pandas-docs/stable/user_guide/indexing.html#returning-a-view-versus-a-copy\n",
      "  \n",
      "c:\\users\\adamh\\pycharmprojects\\osbuddy\\venvstonks\\lib\\site-packages\\ipykernel_launcher.py:9: SettingWithCopyWarning: \n",
      "A value is trying to be set on a copy of a slice from a DataFrame.\n",
      "Try using .loc[row_indexer,col_indexer] = value instead\n",
      "\n",
      "See the caveats in the documentation: https://pandas.pydata.org/pandas-docs/stable/user_guide/indexing.html#returning-a-view-versus-a-copy\n",
      "  if __name__ == '__main__':\n",
      "c:\\users\\adamh\\pycharmprojects\\osbuddy\\venvstonks\\lib\\site-packages\\numpy\\core\\_asarray.py:83: VisibleDeprecationWarning: Creating an ndarray from ragged nested sequences (which is a list-or-tuple of lists-or-tuples-or ndarrays with different lengths or shapes) is deprecated. If you meant to do this, you must specify 'dtype=object' when creating the ndarray\n",
      "  return array(a, dtype, copy=False, order=order)\n",
      "c:\\users\\adamh\\pycharmprojects\\osbuddy\\venvstonks\\lib\\site-packages\\ipykernel_launcher.py:12: SettingWithCopyWarning: \n",
      "A value is trying to be set on a copy of a slice from a DataFrame.\n",
      "Try using .loc[row_indexer,col_indexer] = value instead\n",
      "\n",
      "See the caveats in the documentation: https://pandas.pydata.org/pandas-docs/stable/user_guide/indexing.html#returning-a-view-versus-a-copy\n",
      "  if sys.path[0] == '':\n",
      "c:\\users\\adamh\\pycharmprojects\\osbuddy\\venvstonks\\lib\\site-packages\\ipykernel_launcher.py:17: SettingWithCopyWarning: \n",
      "A value is trying to be set on a copy of a slice from a DataFrame.\n",
      "Try using .loc[row_indexer,col_indexer] = value instead\n",
      "\n",
      "See the caveats in the documentation: https://pandas.pydata.org/pandas-docs/stable/user_guide/indexing.html#returning-a-view-versus-a-copy\n"
     ]
    },
    {
     "name": "stdout",
     "output_type": "stream",
     "text": [
      "(25, 14)\n",
      "(3, 14)\n",
      "(0, 14)\n",
      "Empty DataFrame\n",
      "Columns: [name, price_df, item_df_training, trimmed_df, regr, y_pred, y_test, mean_squared_error, r2_score, roi, record_df, perc_pred_increase, last_day, current_price]\n",
      "Index: []\n"
     ]
    },
    {
     "name": "stderr",
     "output_type": "stream",
     "text": [
      "c:\\users\\adamh\\pycharmprojects\\osbuddy\\venvstonks\\lib\\site-packages\\ipykernel_launcher.py:4: SettingWithCopyWarning: \n",
      "A value is trying to be set on a copy of a slice from a DataFrame.\n",
      "Try using .loc[row_indexer,col_indexer] = value instead\n",
      "\n",
      "See the caveats in the documentation: https://pandas.pydata.org/pandas-docs/stable/user_guide/indexing.html#returning-a-view-versus-a-copy\n",
      "  after removing the cwd from sys.path.\n",
      "c:\\users\\adamh\\pycharmprojects\\osbuddy\\venvstonks\\lib\\site-packages\\ipykernel_launcher.py:6: SettingWithCopyWarning: \n",
      "A value is trying to be set on a copy of a slice from a DataFrame.\n",
      "Try using .loc[row_indexer,col_indexer] = value instead\n",
      "\n",
      "See the caveats in the documentation: https://pandas.pydata.org/pandas-docs/stable/user_guide/indexing.html#returning-a-view-versus-a-copy\n",
      "  \n",
      "c:\\users\\adamh\\pycharmprojects\\osbuddy\\venvstonks\\lib\\site-packages\\ipykernel_launcher.py:9: SettingWithCopyWarning: \n",
      "A value is trying to be set on a copy of a slice from a DataFrame.\n",
      "Try using .loc[row_indexer,col_indexer] = value instead\n",
      "\n",
      "See the caveats in the documentation: https://pandas.pydata.org/pandas-docs/stable/user_guide/indexing.html#returning-a-view-versus-a-copy\n",
      "  if __name__ == '__main__':\n",
      "c:\\users\\adamh\\pycharmprojects\\osbuddy\\venvstonks\\lib\\site-packages\\numpy\\core\\_asarray.py:83: VisibleDeprecationWarning: Creating an ndarray from ragged nested sequences (which is a list-or-tuple of lists-or-tuples-or ndarrays with different lengths or shapes) is deprecated. If you meant to do this, you must specify 'dtype=object' when creating the ndarray\n",
      "  return array(a, dtype, copy=False, order=order)\n",
      "c:\\users\\adamh\\pycharmprojects\\osbuddy\\venvstonks\\lib\\site-packages\\ipykernel_launcher.py:12: SettingWithCopyWarning: \n",
      "A value is trying to be set on a copy of a slice from a DataFrame.\n",
      "Try using .loc[row_indexer,col_indexer] = value instead\n",
      "\n",
      "See the caveats in the documentation: https://pandas.pydata.org/pandas-docs/stable/user_guide/indexing.html#returning-a-view-versus-a-copy\n",
      "  if sys.path[0] == '':\n",
      "c:\\users\\adamh\\pycharmprojects\\osbuddy\\venvstonks\\lib\\site-packages\\ipykernel_launcher.py:17: SettingWithCopyWarning: \n",
      "A value is trying to be set on a copy of a slice from a DataFrame.\n",
      "Try using .loc[row_indexer,col_indexer] = value instead\n",
      "\n",
      "See the caveats in the documentation: https://pandas.pydata.org/pandas-docs/stable/user_guide/indexing.html#returning-a-view-versus-a-copy\n"
     ]
    },
    {
     "name": "stdout",
     "output_type": "stream",
     "text": [
      "(27, 14)\n",
      "(1, 14)\n",
      "(0, 14)\n",
      "Empty DataFrame\n",
      "Columns: [name, price_df, item_df_training, trimmed_df, regr, y_pred, y_test, mean_squared_error, r2_score, roi, record_df, perc_pred_increase, last_day, current_price]\n",
      "Index: []\n"
     ]
    },
    {
     "name": "stderr",
     "output_type": "stream",
     "text": [
      "c:\\users\\adamh\\pycharmprojects\\osbuddy\\venvstonks\\lib\\site-packages\\ipykernel_launcher.py:4: SettingWithCopyWarning: \n",
      "A value is trying to be set on a copy of a slice from a DataFrame.\n",
      "Try using .loc[row_indexer,col_indexer] = value instead\n",
      "\n",
      "See the caveats in the documentation: https://pandas.pydata.org/pandas-docs/stable/user_guide/indexing.html#returning-a-view-versus-a-copy\n",
      "  after removing the cwd from sys.path.\n",
      "c:\\users\\adamh\\pycharmprojects\\osbuddy\\venvstonks\\lib\\site-packages\\ipykernel_launcher.py:6: SettingWithCopyWarning: \n",
      "A value is trying to be set on a copy of a slice from a DataFrame.\n",
      "Try using .loc[row_indexer,col_indexer] = value instead\n",
      "\n",
      "See the caveats in the documentation: https://pandas.pydata.org/pandas-docs/stable/user_guide/indexing.html#returning-a-view-versus-a-copy\n",
      "  \n",
      "c:\\users\\adamh\\pycharmprojects\\osbuddy\\venvstonks\\lib\\site-packages\\ipykernel_launcher.py:9: SettingWithCopyWarning: \n",
      "A value is trying to be set on a copy of a slice from a DataFrame.\n",
      "Try using .loc[row_indexer,col_indexer] = value instead\n",
      "\n",
      "See the caveats in the documentation: https://pandas.pydata.org/pandas-docs/stable/user_guide/indexing.html#returning-a-view-versus-a-copy\n",
      "  if __name__ == '__main__':\n",
      "c:\\users\\adamh\\pycharmprojects\\osbuddy\\venvstonks\\lib\\site-packages\\numpy\\core\\_asarray.py:83: VisibleDeprecationWarning: Creating an ndarray from ragged nested sequences (which is a list-or-tuple of lists-or-tuples-or ndarrays with different lengths or shapes) is deprecated. If you meant to do this, you must specify 'dtype=object' when creating the ndarray\n",
      "  return array(a, dtype, copy=False, order=order)\n",
      "c:\\users\\adamh\\pycharmprojects\\osbuddy\\venvstonks\\lib\\site-packages\\ipykernel_launcher.py:12: SettingWithCopyWarning: \n",
      "A value is trying to be set on a copy of a slice from a DataFrame.\n",
      "Try using .loc[row_indexer,col_indexer] = value instead\n",
      "\n",
      "See the caveats in the documentation: https://pandas.pydata.org/pandas-docs/stable/user_guide/indexing.html#returning-a-view-versus-a-copy\n",
      "  if sys.path[0] == '':\n",
      "c:\\users\\adamh\\pycharmprojects\\osbuddy\\venvstonks\\lib\\site-packages\\ipykernel_launcher.py:17: SettingWithCopyWarning: \n",
      "A value is trying to be set on a copy of a slice from a DataFrame.\n",
      "Try using .loc[row_indexer,col_indexer] = value instead\n",
      "\n",
      "See the caveats in the documentation: https://pandas.pydata.org/pandas-docs/stable/user_guide/indexing.html#returning-a-view-versus-a-copy\n"
     ]
    },
    {
     "name": "stdout",
     "output_type": "stream",
     "text": [
      "(29, 14)\n",
      "(2, 14)\n",
      "(0, 14)\n",
      "Empty DataFrame\n",
      "Columns: [name, price_df, item_df_training, trimmed_df, regr, y_pred, y_test, mean_squared_error, r2_score, roi, record_df, perc_pred_increase, last_day, current_price]\n",
      "Index: []\n"
     ]
    },
    {
     "name": "stderr",
     "output_type": "stream",
     "text": [
      "c:\\users\\adamh\\pycharmprojects\\osbuddy\\venvstonks\\lib\\site-packages\\ipykernel_launcher.py:4: SettingWithCopyWarning: \n",
      "A value is trying to be set on a copy of a slice from a DataFrame.\n",
      "Try using .loc[row_indexer,col_indexer] = value instead\n",
      "\n",
      "See the caveats in the documentation: https://pandas.pydata.org/pandas-docs/stable/user_guide/indexing.html#returning-a-view-versus-a-copy\n",
      "  after removing the cwd from sys.path.\n",
      "c:\\users\\adamh\\pycharmprojects\\osbuddy\\venvstonks\\lib\\site-packages\\ipykernel_launcher.py:6: SettingWithCopyWarning: \n",
      "A value is trying to be set on a copy of a slice from a DataFrame.\n",
      "Try using .loc[row_indexer,col_indexer] = value instead\n",
      "\n",
      "See the caveats in the documentation: https://pandas.pydata.org/pandas-docs/stable/user_guide/indexing.html#returning-a-view-versus-a-copy\n",
      "  \n",
      "c:\\users\\adamh\\pycharmprojects\\osbuddy\\venvstonks\\lib\\site-packages\\ipykernel_launcher.py:9: SettingWithCopyWarning: \n",
      "A value is trying to be set on a copy of a slice from a DataFrame.\n",
      "Try using .loc[row_indexer,col_indexer] = value instead\n",
      "\n",
      "See the caveats in the documentation: https://pandas.pydata.org/pandas-docs/stable/user_guide/indexing.html#returning-a-view-versus-a-copy\n",
      "  if __name__ == '__main__':\n",
      "c:\\users\\adamh\\pycharmprojects\\osbuddy\\venvstonks\\lib\\site-packages\\numpy\\core\\_asarray.py:83: VisibleDeprecationWarning: Creating an ndarray from ragged nested sequences (which is a list-or-tuple of lists-or-tuples-or ndarrays with different lengths or shapes) is deprecated. If you meant to do this, you must specify 'dtype=object' when creating the ndarray\n",
      "  return array(a, dtype, copy=False, order=order)\n",
      "c:\\users\\adamh\\pycharmprojects\\osbuddy\\venvstonks\\lib\\site-packages\\ipykernel_launcher.py:12: SettingWithCopyWarning: \n",
      "A value is trying to be set on a copy of a slice from a DataFrame.\n",
      "Try using .loc[row_indexer,col_indexer] = value instead\n",
      "\n",
      "See the caveats in the documentation: https://pandas.pydata.org/pandas-docs/stable/user_guide/indexing.html#returning-a-view-versus-a-copy\n",
      "  if sys.path[0] == '':\n",
      "c:\\users\\adamh\\pycharmprojects\\osbuddy\\venvstonks\\lib\\site-packages\\ipykernel_launcher.py:17: SettingWithCopyWarning: \n",
      "A value is trying to be set on a copy of a slice from a DataFrame.\n",
      "Try using .loc[row_indexer,col_indexer] = value instead\n",
      "\n",
      "See the caveats in the documentation: https://pandas.pydata.org/pandas-docs/stable/user_guide/indexing.html#returning-a-view-versus-a-copy\n"
     ]
    },
    {
     "name": "stdout",
     "output_type": "stream",
     "text": [
      "(37, 14)\n",
      "(3, 14)\n",
      "(0, 14)\n",
      "Empty DataFrame\n",
      "Columns: [name, price_df, item_df_training, trimmed_df, regr, y_pred, y_test, mean_squared_error, r2_score, roi, record_df, perc_pred_increase, last_day, current_price]\n",
      "Index: []\n"
     ]
    },
    {
     "name": "stderr",
     "output_type": "stream",
     "text": [
      "c:\\users\\adamh\\pycharmprojects\\osbuddy\\venvstonks\\lib\\site-packages\\ipykernel_launcher.py:4: SettingWithCopyWarning: \n",
      "A value is trying to be set on a copy of a slice from a DataFrame.\n",
      "Try using .loc[row_indexer,col_indexer] = value instead\n",
      "\n",
      "See the caveats in the documentation: https://pandas.pydata.org/pandas-docs/stable/user_guide/indexing.html#returning-a-view-versus-a-copy\n",
      "  after removing the cwd from sys.path.\n",
      "c:\\users\\adamh\\pycharmprojects\\osbuddy\\venvstonks\\lib\\site-packages\\ipykernel_launcher.py:6: SettingWithCopyWarning: \n",
      "A value is trying to be set on a copy of a slice from a DataFrame.\n",
      "Try using .loc[row_indexer,col_indexer] = value instead\n",
      "\n",
      "See the caveats in the documentation: https://pandas.pydata.org/pandas-docs/stable/user_guide/indexing.html#returning-a-view-versus-a-copy\n",
      "  \n",
      "c:\\users\\adamh\\pycharmprojects\\osbuddy\\venvstonks\\lib\\site-packages\\ipykernel_launcher.py:9: SettingWithCopyWarning: \n",
      "A value is trying to be set on a copy of a slice from a DataFrame.\n",
      "Try using .loc[row_indexer,col_indexer] = value instead\n",
      "\n",
      "See the caveats in the documentation: https://pandas.pydata.org/pandas-docs/stable/user_guide/indexing.html#returning-a-view-versus-a-copy\n",
      "  if __name__ == '__main__':\n",
      "c:\\users\\adamh\\pycharmprojects\\osbuddy\\venvstonks\\lib\\site-packages\\numpy\\core\\_asarray.py:83: VisibleDeprecationWarning: Creating an ndarray from ragged nested sequences (which is a list-or-tuple of lists-or-tuples-or ndarrays with different lengths or shapes) is deprecated. If you meant to do this, you must specify 'dtype=object' when creating the ndarray\n",
      "  return array(a, dtype, copy=False, order=order)\n",
      "c:\\users\\adamh\\pycharmprojects\\osbuddy\\venvstonks\\lib\\site-packages\\ipykernel_launcher.py:12: SettingWithCopyWarning: \n",
      "A value is trying to be set on a copy of a slice from a DataFrame.\n",
      "Try using .loc[row_indexer,col_indexer] = value instead\n",
      "\n",
      "See the caveats in the documentation: https://pandas.pydata.org/pandas-docs/stable/user_guide/indexing.html#returning-a-view-versus-a-copy\n",
      "  if sys.path[0] == '':\n",
      "c:\\users\\adamh\\pycharmprojects\\osbuddy\\venvstonks\\lib\\site-packages\\ipykernel_launcher.py:17: SettingWithCopyWarning: \n",
      "A value is trying to be set on a copy of a slice from a DataFrame.\n",
      "Try using .loc[row_indexer,col_indexer] = value instead\n",
      "\n",
      "See the caveats in the documentation: https://pandas.pydata.org/pandas-docs/stable/user_guide/indexing.html#returning-a-view-versus-a-copy\n"
     ]
    },
    {
     "name": "stdout",
     "output_type": "stream",
     "text": [
      "(17, 14)\n",
      "(0, 14)\n",
      "(0, 14)\n",
      "Empty DataFrame\n",
      "Columns: [name, price_df, item_df_training, trimmed_df, regr, y_pred, y_test, mean_squared_error, r2_score, roi, record_df, perc_pred_increase, last_day, current_price]\n",
      "Index: []\n"
     ]
    },
    {
     "name": "stderr",
     "output_type": "stream",
     "text": [
      "c:\\users\\adamh\\pycharmprojects\\osbuddy\\venvstonks\\lib\\site-packages\\ipykernel_launcher.py:4: SettingWithCopyWarning: \n",
      "A value is trying to be set on a copy of a slice from a DataFrame.\n",
      "Try using .loc[row_indexer,col_indexer] = value instead\n",
      "\n",
      "See the caveats in the documentation: https://pandas.pydata.org/pandas-docs/stable/user_guide/indexing.html#returning-a-view-versus-a-copy\n",
      "  after removing the cwd from sys.path.\n",
      "c:\\users\\adamh\\pycharmprojects\\osbuddy\\venvstonks\\lib\\site-packages\\ipykernel_launcher.py:6: SettingWithCopyWarning: \n",
      "A value is trying to be set on a copy of a slice from a DataFrame.\n",
      "Try using .loc[row_indexer,col_indexer] = value instead\n",
      "\n",
      "See the caveats in the documentation: https://pandas.pydata.org/pandas-docs/stable/user_guide/indexing.html#returning-a-view-versus-a-copy\n",
      "  \n",
      "c:\\users\\adamh\\pycharmprojects\\osbuddy\\venvstonks\\lib\\site-packages\\ipykernel_launcher.py:9: SettingWithCopyWarning: \n",
      "A value is trying to be set on a copy of a slice from a DataFrame.\n",
      "Try using .loc[row_indexer,col_indexer] = value instead\n",
      "\n",
      "See the caveats in the documentation: https://pandas.pydata.org/pandas-docs/stable/user_guide/indexing.html#returning-a-view-versus-a-copy\n",
      "  if __name__ == '__main__':\n",
      "c:\\users\\adamh\\pycharmprojects\\osbuddy\\venvstonks\\lib\\site-packages\\numpy\\core\\_asarray.py:83: VisibleDeprecationWarning: Creating an ndarray from ragged nested sequences (which is a list-or-tuple of lists-or-tuples-or ndarrays with different lengths or shapes) is deprecated. If you meant to do this, you must specify 'dtype=object' when creating the ndarray\n",
      "  return array(a, dtype, copy=False, order=order)\n",
      "c:\\users\\adamh\\pycharmprojects\\osbuddy\\venvstonks\\lib\\site-packages\\ipykernel_launcher.py:12: SettingWithCopyWarning: \n",
      "A value is trying to be set on a copy of a slice from a DataFrame.\n",
      "Try using .loc[row_indexer,col_indexer] = value instead\n",
      "\n",
      "See the caveats in the documentation: https://pandas.pydata.org/pandas-docs/stable/user_guide/indexing.html#returning-a-view-versus-a-copy\n",
      "  if sys.path[0] == '':\n",
      "c:\\users\\adamh\\pycharmprojects\\osbuddy\\venvstonks\\lib\\site-packages\\ipykernel_launcher.py:17: SettingWithCopyWarning: \n",
      "A value is trying to be set on a copy of a slice from a DataFrame.\n",
      "Try using .loc[row_indexer,col_indexer] = value instead\n",
      "\n",
      "See the caveats in the documentation: https://pandas.pydata.org/pandas-docs/stable/user_guide/indexing.html#returning-a-view-versus-a-copy\n"
     ]
    },
    {
     "name": "stdout",
     "output_type": "stream",
     "text": [
      "(34, 14)\n",
      "(0, 14)\n",
      "(0, 14)\n",
      "Empty DataFrame\n",
      "Columns: [name, price_df, item_df_training, trimmed_df, regr, y_pred, y_test, mean_squared_error, r2_score, roi, record_df, perc_pred_increase, last_day, current_price]\n",
      "Index: []\n"
     ]
    },
    {
     "name": "stderr",
     "output_type": "stream",
     "text": [
      "c:\\users\\adamh\\pycharmprojects\\osbuddy\\venvstonks\\lib\\site-packages\\ipykernel_launcher.py:4: SettingWithCopyWarning: \n",
      "A value is trying to be set on a copy of a slice from a DataFrame.\n",
      "Try using .loc[row_indexer,col_indexer] = value instead\n",
      "\n",
      "See the caveats in the documentation: https://pandas.pydata.org/pandas-docs/stable/user_guide/indexing.html#returning-a-view-versus-a-copy\n",
      "  after removing the cwd from sys.path.\n",
      "c:\\users\\adamh\\pycharmprojects\\osbuddy\\venvstonks\\lib\\site-packages\\ipykernel_launcher.py:6: SettingWithCopyWarning: \n",
      "A value is trying to be set on a copy of a slice from a DataFrame.\n",
      "Try using .loc[row_indexer,col_indexer] = value instead\n",
      "\n",
      "See the caveats in the documentation: https://pandas.pydata.org/pandas-docs/stable/user_guide/indexing.html#returning-a-view-versus-a-copy\n",
      "  \n",
      "c:\\users\\adamh\\pycharmprojects\\osbuddy\\venvstonks\\lib\\site-packages\\ipykernel_launcher.py:9: SettingWithCopyWarning: \n",
      "A value is trying to be set on a copy of a slice from a DataFrame.\n",
      "Try using .loc[row_indexer,col_indexer] = value instead\n",
      "\n",
      "See the caveats in the documentation: https://pandas.pydata.org/pandas-docs/stable/user_guide/indexing.html#returning-a-view-versus-a-copy\n",
      "  if __name__ == '__main__':\n",
      "c:\\users\\adamh\\pycharmprojects\\osbuddy\\venvstonks\\lib\\site-packages\\numpy\\core\\_asarray.py:83: VisibleDeprecationWarning: Creating an ndarray from ragged nested sequences (which is a list-or-tuple of lists-or-tuples-or ndarrays with different lengths or shapes) is deprecated. If you meant to do this, you must specify 'dtype=object' when creating the ndarray\n",
      "  return array(a, dtype, copy=False, order=order)\n",
      "c:\\users\\adamh\\pycharmprojects\\osbuddy\\venvstonks\\lib\\site-packages\\ipykernel_launcher.py:12: SettingWithCopyWarning: \n",
      "A value is trying to be set on a copy of a slice from a DataFrame.\n",
      "Try using .loc[row_indexer,col_indexer] = value instead\n",
      "\n",
      "See the caveats in the documentation: https://pandas.pydata.org/pandas-docs/stable/user_guide/indexing.html#returning-a-view-versus-a-copy\n",
      "  if sys.path[0] == '':\n",
      "c:\\users\\adamh\\pycharmprojects\\osbuddy\\venvstonks\\lib\\site-packages\\ipykernel_launcher.py:17: SettingWithCopyWarning: \n",
      "A value is trying to be set on a copy of a slice from a DataFrame.\n",
      "Try using .loc[row_indexer,col_indexer] = value instead\n",
      "\n",
      "See the caveats in the documentation: https://pandas.pydata.org/pandas-docs/stable/user_guide/indexing.html#returning-a-view-versus-a-copy\n"
     ]
    },
    {
     "name": "stdout",
     "output_type": "stream",
     "text": [
      "(40, 14)\n",
      "(5, 14)\n",
      "(2, 14)\n",
      "                       name  \\\n",
      "3015       Willow%20sapling   \n",
      "3040  Wooden%20shield%20(g)   \n",
      "\n",
      "                                               price_df  \\\n",
      "3015              Willow%20sapling price  Willow%20s...   \n",
      "3040              Wooden%20shield%20(g) price  Woode...   \n",
      "\n",
      "                                       item_df_training  \\\n",
      "3015              Willow%20sapling price  Willow%20s...   \n",
      "3040              Wooden%20shield%20(g) price  Woode...   \n",
      "\n",
      "                                             trimmed_df                regr  \\\n",
      "3015              Willow%20sapling price  Willow%20s...  LinearRegression()   \n",
      "3040              Wooden%20shield%20(g) price  Woode...  LinearRegression()   \n",
      "\n",
      "                                                 y_pred  \\\n",
      "3015  [3282.336814751059, 3559.493064751059, 3855.38...   \n",
      "3040  [82017.09375, 82637.0234375, 77573.796875, 810...   \n",
      "\n",
      "                                                 y_test  mean_squared_error  \\\n",
      "3015  date_obj\n",
      "2020-04-13    4049.0\n",
      "2020-04-14    42...        7.935159e+04   \n",
      "3040  date_obj\n",
      "2020-04-12     82705.0\n",
      "2020-04-13    ...        8.598240e+06   \n",
      "\n",
      "      r2_score       roi                                          record_df  \\\n",
      "3015  0.900885  1.271286               Prediction       Y   Y + 1   Y - ...   \n",
      "3040  0.936768  1.148592                 Prediction         Y     Y + 1 ...   \n",
      "\n",
      "      perc_pred_increase    last_day  current_price  \n",
      "3015            0.077852  2020-08-13         2668.0  \n",
      "3040            0.046777  2020-08-13       103187.0  \n"
     ]
    },
    {
     "name": "stderr",
     "output_type": "stream",
     "text": [
      "c:\\users\\adamh\\pycharmprojects\\osbuddy\\venvstonks\\lib\\site-packages\\ipykernel_launcher.py:4: SettingWithCopyWarning: \n",
      "A value is trying to be set on a copy of a slice from a DataFrame.\n",
      "Try using .loc[row_indexer,col_indexer] = value instead\n",
      "\n",
      "See the caveats in the documentation: https://pandas.pydata.org/pandas-docs/stable/user_guide/indexing.html#returning-a-view-versus-a-copy\n",
      "  after removing the cwd from sys.path.\n",
      "c:\\users\\adamh\\pycharmprojects\\osbuddy\\venvstonks\\lib\\site-packages\\ipykernel_launcher.py:6: SettingWithCopyWarning: \n",
      "A value is trying to be set on a copy of a slice from a DataFrame.\n",
      "Try using .loc[row_indexer,col_indexer] = value instead\n",
      "\n",
      "See the caveats in the documentation: https://pandas.pydata.org/pandas-docs/stable/user_guide/indexing.html#returning-a-view-versus-a-copy\n",
      "  \n",
      "c:\\users\\adamh\\pycharmprojects\\osbuddy\\venvstonks\\lib\\site-packages\\ipykernel_launcher.py:9: SettingWithCopyWarning: \n",
      "A value is trying to be set on a copy of a slice from a DataFrame.\n",
      "Try using .loc[row_indexer,col_indexer] = value instead\n",
      "\n",
      "See the caveats in the documentation: https://pandas.pydata.org/pandas-docs/stable/user_guide/indexing.html#returning-a-view-versus-a-copy\n",
      "  if __name__ == '__main__':\n",
      "c:\\users\\adamh\\pycharmprojects\\osbuddy\\venvstonks\\lib\\site-packages\\numpy\\core\\_asarray.py:83: VisibleDeprecationWarning: Creating an ndarray from ragged nested sequences (which is a list-or-tuple of lists-or-tuples-or ndarrays with different lengths or shapes) is deprecated. If you meant to do this, you must specify 'dtype=object' when creating the ndarray\n",
      "  return array(a, dtype, copy=False, order=order)\n"
     ]
    },
    {
     "name": "stdout",
     "output_type": "stream",
     "text": [
      "(11, 14)\n",
      "(0, 14)\n",
      "(0, 14)\n",
      "Empty DataFrame\n",
      "Columns: [name, price_df, item_df_training, trimmed_df, regr, y_pred, y_test, mean_squared_error, r2_score, roi, record_df, perc_pred_increase, last_day, current_price]\n",
      "Index: []\n"
     ]
    },
    {
     "name": "stderr",
     "output_type": "stream",
     "text": [
      "c:\\users\\adamh\\pycharmprojects\\osbuddy\\venvstonks\\lib\\site-packages\\ipykernel_launcher.py:12: SettingWithCopyWarning: \n",
      "A value is trying to be set on a copy of a slice from a DataFrame.\n",
      "Try using .loc[row_indexer,col_indexer] = value instead\n",
      "\n",
      "See the caveats in the documentation: https://pandas.pydata.org/pandas-docs/stable/user_guide/indexing.html#returning-a-view-versus-a-copy\n",
      "  if sys.path[0] == '':\n",
      "c:\\users\\adamh\\pycharmprojects\\osbuddy\\venvstonks\\lib\\site-packages\\ipykernel_launcher.py:17: SettingWithCopyWarning: \n",
      "A value is trying to be set on a copy of a slice from a DataFrame.\n",
      "Try using .loc[row_indexer,col_indexer] = value instead\n",
      "\n",
      "See the caveats in the documentation: https://pandas.pydata.org/pandas-docs/stable/user_guide/indexing.html#returning-a-view-versus-a-copy\n"
     ]
    }
   ],
   "source": [
    "for i in range(0,df.shape[0],batch_size):\n",
    "    tl_df = df.iloc[i:i+100,:]\n",
    "    \n",
    "    tl_df['item_df_training'] = tl_df['price_df'].apply(create_predictive_features)\n",
    "\n",
    "    tl_df['trimmed_df'] = tl_df['item_df_training'].apply(trim_df)\n",
    "    \n",
    "\n",
    "    tl_df['regr'], tl_df['y_pred'], tl_df['y_test'], tl_df['mean_squared_error'], tl_df['r2_score'] = zip(*tl_df.apply(create_model, axis=1))\n",
    "\n",
    "\n",
    "    tl_df['roi'], tl_df['record_df'] = zip(*tl_df.apply(create_backtest_df, axis=1))\n",
    "\n",
    "\n",
    "    tl_df.sort_values(by='roi', ascending = False)\n",
    "\n",
    "    tl_df['perc_pred_increase'], tl_df['last_day'], tl_df['current_price'] = zip(*tl_df.apply(make_predictions, axis=1))\n",
    "\n",
    "\n",
    "    filter_tl_df = tl_df.copy()\n",
    "\n",
    "    filter_tl_df = filter_tl_df.dropna(how='any')\n",
    "\n",
    "    filter_tl_df =filter_tl_df.loc[filter_tl_df['r2_score'].apply(lambda x: type(x)) != list]\n",
    "\n",
    "    filter_tl_df = filter_tl_df.loc[filter_tl_df['r2_score'] > r2_score_thresh]\n",
    "\n",
    "    print(filter_tl_df.shape)\n",
    "\n",
    "    filter_tl_df = filter_tl_df.loc[filter_tl_df['roi'] > roi_thresh]\n",
    "\n",
    "    print(filter_tl_df.shape)\n",
    "\n",
    "    filter_tl_df = filter_tl_df.loc[\n",
    "            (filter_tl_df['perc_pred_increase'] > perc_pred_increase_thresh) \\\n",
    "        | (filter_tl_df['name'].isin(bought['name']))\n",
    "                                   ]\n",
    "\n",
    "    print(filter_tl_df.shape)\n",
    "\n",
    "    print(filter_tl_df)\n",
    "    df_list.append(filter_tl_df)"
   ]
  },
  {
   "cell_type": "code",
   "execution_count": null,
   "metadata": {},
   "outputs": [],
   "source": []
  },
  {
   "cell_type": "code",
   "execution_count": 53,
   "metadata": {},
   "outputs": [
    {
     "data": {
      "text/html": [
       "<div>\n",
       "<style scoped>\n",
       "    .dataframe tbody tr th:only-of-type {\n",
       "        vertical-align: middle;\n",
       "    }\n",
       "\n",
       "    .dataframe tbody tr th {\n",
       "        vertical-align: top;\n",
       "    }\n",
       "\n",
       "    .dataframe thead th {\n",
       "        text-align: right;\n",
       "    }\n",
       "</style>\n",
       "<table border=\"1\" class=\"dataframe\">\n",
       "  <thead>\n",
       "    <tr style=\"text-align: right;\">\n",
       "      <th></th>\n",
       "      <th>name</th>\n",
       "      <th>price_df</th>\n",
       "      <th>item_df_training</th>\n",
       "      <th>trimmed_df</th>\n",
       "      <th>regr</th>\n",
       "      <th>y_pred</th>\n",
       "      <th>y_test</th>\n",
       "      <th>mean_squared_error</th>\n",
       "      <th>r2_score</th>\n",
       "      <th>roi</th>\n",
       "      <th>record_df</th>\n",
       "      <th>perc_pred_increase</th>\n",
       "      <th>last_day</th>\n",
       "      <th>current_price</th>\n",
       "    </tr>\n",
       "  </thead>\n",
       "  <tbody>\n",
       "  </tbody>\n",
       "</table>\n",
       "</div>"
      ],
      "text/plain": [
       "Empty DataFrame\n",
       "Columns: [name, price_df, item_df_training, trimmed_df, regr, y_pred, y_test, mean_squared_error, r2_score, roi, record_df, perc_pred_increase, last_day, current_price]\n",
       "Index: []"
      ]
     },
     "execution_count": 53,
     "metadata": {},
     "output_type": "execute_result"
    }
   ],
   "source": [
    "filter_tl_df"
   ]
  },
  {
   "cell_type": "code",
   "execution_count": 54,
   "metadata": {},
   "outputs": [
    {
     "data": {
      "text/plain": [
       "[Empty DataFrame\n",
       " Columns: [name, price_df, item_df_training, trimmed_df, regr, y_pred, y_test, mean_squared_error, r2_score, roi, record_df, perc_pred_increase, last_day, current_price]\n",
       " Index: [],\n",
       " Empty DataFrame\n",
       " Columns: [name, price_df, item_df_training, trimmed_df, regr, y_pred, y_test, mean_squared_error, r2_score, roi, record_df, perc_pred_increase, last_day, current_price]\n",
       " Index: [],\n",
       " Empty DataFrame\n",
       " Columns: [name, price_df, item_df_training, trimmed_df, regr, y_pred, y_test, mean_squared_error, r2_score, roi, record_df, perc_pred_increase, last_day, current_price]\n",
       " Index: [],\n",
       "                       name                                           price_df  \\\n",
       " 385  Black%20dragon%20mask              Black%20dragon%20mask price  Black...   \n",
       " \n",
       "                                       item_df_training  \\\n",
       " 385              Black%20dragon%20mask price  Black...   \n",
       " \n",
       "                                             trimmed_df                regr  \\\n",
       " 385              Black%20dragon%20mask price  Black...  LinearRegression()   \n",
       " \n",
       "                                                 y_pred  \\\n",
       " 385  [13323.232029544213, 13578.058201419213, 13868...   \n",
       " \n",
       "                                                 y_test  mean_squared_error  \\\n",
       " 385  date_obj\n",
       " 2020-04-16    13959.0\n",
       " 2020-04-17    1...        1.002733e+06   \n",
       " \n",
       "      r2_score       roi                                          record_df  \\\n",
       " 385  0.959761  1.104141                Prediction        Y    Y + 1    ...   \n",
       " \n",
       "      perc_pred_increase    last_day  current_price  \n",
       " 385           -0.015382  2020-08-13        30246.0  ,\n",
       "                            name  \\\n",
       " 452  Black%20wizard%20hat%20(g)   \n",
       " \n",
       "                                               price_df  \\\n",
       " 452              Black%20wizard%20hat%20(g) price  ...   \n",
       " \n",
       "                                       item_df_training  \\\n",
       " 452              Black%20wizard%20hat%20(g) price  ...   \n",
       " \n",
       "                                             trimmed_df                regr  \\\n",
       " 452              Black%20wizard%20hat%20(g) price  ...  LinearRegression()   \n",
       " \n",
       "                                                 y_pred  \\\n",
       " 452  [352136.67224945535, 353455.60974945535, 35412...   \n",
       " \n",
       "                                                 y_test  mean_squared_error  \\\n",
       " 452  date_obj\n",
       " 2020-04-16    353331.0\n",
       " 2020-04-17    ...        1.061751e+08   \n",
       " \n",
       "      r2_score       roi                                          record_df  \\\n",
       " 452  0.947597  1.322876                 Prediction         Y     Y + 1 ...   \n",
       " \n",
       "      perc_pred_increase    last_day  current_price  \n",
       " 452            0.085351  2020-08-13       313279.0  ,\n",
       " Empty DataFrame\n",
       " Columns: [name, price_df, item_df_training, trimmed_df, regr, y_pred, y_test, mean_squared_error, r2_score, roi, record_df, perc_pred_increase, last_day, current_price]\n",
       " Index: [],\n",
       " Empty DataFrame\n",
       " Columns: [name, price_df, item_df_training, trimmed_df, regr, y_pred, y_test, mean_squared_error, r2_score, roi, record_df, perc_pred_increase, last_day, current_price]\n",
       " Index: [],\n",
       "            name                                           price_df  \\\n",
       " 742  Clue%20box              Clue%20box price  Clue%20box volum...   \n",
       " \n",
       "                                       item_df_training  \\\n",
       " 742              Clue%20box price  Clue%20box volum...   \n",
       " \n",
       "                                             trimmed_df                regr  \\\n",
       " 742              Clue%20box price  Clue%20box volum...  LinearRegression()   \n",
       " \n",
       "                                                 y_pred  \\\n",
       " 742  [31229.90114819441, 37383.08864819441, 38586.7...   \n",
       " \n",
       "                                                 y_test  mean_squared_error  \\\n",
       " 742  date_obj\n",
       " 2020-04-14    36508.0\n",
       " 2020-04-15    3...        3.463242e+07   \n",
       " \n",
       "      r2_score       roi                                          record_df  \\\n",
       " 742  0.895413  1.572981                Prediction        Y    Y + 1    ...   \n",
       " \n",
       "      perc_pred_increase    last_day  current_price  \n",
       " 742            0.038904  2020-08-13        85973.0  ,\n",
       " Empty DataFrame\n",
       " Columns: [name, price_df, item_df_training, trimmed_df, regr, y_pred, y_test, mean_squared_error, r2_score, roi, record_df, perc_pred_increase, last_day, current_price]\n",
       " Index: [],\n",
       " Empty DataFrame\n",
       " Columns: [name, price_df, item_df_training, trimmed_df, regr, y_pred, y_test, mean_squared_error, r2_score, roi, record_df, perc_pred_increase, last_day, current_price]\n",
       " Index: [],\n",
       " Empty DataFrame\n",
       " Columns: [name, price_df, item_df_training, trimmed_df, regr, y_pred, y_test, mean_squared_error, r2_score, roi, record_df, perc_pred_increase, last_day, current_price]\n",
       " Index: [],\n",
       "                  name                                           price_df  \\\n",
       " 1134  Frog%20slippers              Frog%20slippers price  Frog%20slip...   \n",
       " \n",
       "                                        item_df_training  \\\n",
       " 1134              Frog%20slippers price  Frog%20slip...   \n",
       " \n",
       "                                              trimmed_df                regr  \\\n",
       " 1134              Frog%20slippers price  Frog%20slip...  LinearRegression()   \n",
       " \n",
       "                                                  y_pred  \\\n",
       " 1134  [49622.0161163522, 49256.3051788522, 48977.965...   \n",
       " \n",
       "                                                  y_test  mean_squared_error  \\\n",
       " 1134  date_obj\n",
       " 2020-05-21     49284.0\n",
       " 2020-05-22    ...        2.556349e+07   \n",
       " \n",
       "       r2_score       roi                                          record_df  \\\n",
       " 1134  0.974623  1.111439                 Prediction         Y     Y + 1 ...   \n",
       " \n",
       "       perc_pred_increase    last_day  current_price  \n",
       " 1134           -0.018841  2020-08-13       140703.0  ,\n",
       "                   name                                           price_df  \\\n",
       " 1236  Granite%20hammer              Granite%20hammer price  Granite%20...   \n",
       " \n",
       "                                        item_df_training  \\\n",
       " 1236              Granite%20hammer price  Granite%20...   \n",
       " \n",
       "                                              trimmed_df                regr  \\\n",
       " 1236              Granite%20hammer price  Granite%20...  LinearRegression()   \n",
       " \n",
       "                                                  y_pred  \\\n",
       " 1236  [718066.1453276698, 688719.8953276698, 714589....   \n",
       " \n",
       "                                                  y_test  mean_squared_error  \\\n",
       " 1236  date_obj\n",
       " 2020-04-28    708431.0\n",
       " 2020-04-29    ...        1.290571e+09   \n",
       " \n",
       "       r2_score       roi                                          record_df  \\\n",
       " 1236  0.946506  1.350989                 Prediction         Y     Y + 1 ...   \n",
       " \n",
       "       perc_pred_increase    last_day  current_price  \n",
       " 1236            0.083619  2020-08-13       295346.0  ,\n",
       " Empty DataFrame\n",
       " Columns: [name, price_df, item_df_training, trimmed_df, regr, y_pred, y_test, mean_squared_error, r2_score, roi, record_df, perc_pred_increase, last_day, current_price]\n",
       " Index: [],\n",
       " Empty DataFrame\n",
       " Columns: [name, price_df, item_df_training, trimmed_df, regr, y_pred, y_test, mean_squared_error, r2_score, roi, record_df, perc_pred_increase, last_day, current_price]\n",
       " Index: [],\n",
       " Empty DataFrame\n",
       " Columns: [name, price_df, item_df_training, trimmed_df, regr, y_pred, y_test, mean_squared_error, r2_score, roi, record_df, perc_pred_increase, last_day, current_price]\n",
       " Index: [],\n",
       "       name                                           price_df  \\\n",
       " 1610  Logs              Logs price  Logs volume  Logs pric...   \n",
       " \n",
       "                                        item_df_training  \\\n",
       " 1610              Logs price  Logs volume  Logs pric...   \n",
       " \n",
       "                                              trimmed_df                regr  \\\n",
       " 1610              Logs price  Logs volume  Logs pric...  LinearRegression()   \n",
       " \n",
       "                                                  y_pred  \\\n",
       " 1610  [34.69612199654308, 35.60577747998264, 38.3625...   \n",
       " \n",
       "                                                  y_test  mean_squared_error  \\\n",
       " 1610  date_obj\n",
       " 2020-04-27    41.0\n",
       " 2020-04-28    44.0...          145.041793   \n",
       " \n",
       "       r2_score       roi                                          record_df  \\\n",
       " 1610  0.870188  1.984616              Prediction     Y  Y + 1  Y - 1    ...   \n",
       " \n",
       "       perc_pred_increase    last_day  current_price  \n",
       " 1610            0.059003  2020-08-13           73.0  ,\n",
       "                 name                                           price_df  \\\n",
       " 1789  Molten%20glass              Molten%20glass price  Molten%20gla...   \n",
       " \n",
       "                                        item_df_training  \\\n",
       " 1789              Molten%20glass price  Molten%20gla...   \n",
       " \n",
       "                                              trimmed_df                regr  \\\n",
       " 1789              Molten%20glass price  Molten%20gla...  LinearRegression()   \n",
       " \n",
       "                                                  y_pred  \\\n",
       " 1789  [155.69211413072705, 156.23549538884467, 155.0...   \n",
       " \n",
       "                                                  y_test  mean_squared_error  \\\n",
       " 1789  date_obj\n",
       " 2020-03-02    150.0\n",
       " 2020-03-03    149...           40.818484   \n",
       " \n",
       "       r2_score       roi                                          record_df  \\\n",
       " 1789    0.8836  1.082121              Prediction      Y  Y + 1  Y - 1   ...   \n",
       " \n",
       "       perc_pred_increase    last_day  current_price  \n",
       " 1789            0.061818  2020-08-13          112.0  ,\n",
       "                  name                                           price_df  \\\n",
       " 1826  Musketeer%20hat              Musketeer%20hat price  Musketeer%2...   \n",
       " \n",
       "                                        item_df_training  \\\n",
       " 1826              Musketeer%20hat price  Musketeer%2...   \n",
       " \n",
       "                                              trimmed_df                regr  \\\n",
       " 1826              Musketeer%20hat price  Musketeer%2...  LinearRegression()   \n",
       " \n",
       "                                                  y_pred  \\\n",
       " 1826  [93528.48256312343, 98659.18568812343, 101732....   \n",
       " \n",
       "                                                  y_test  mean_squared_error  \\\n",
       " 1826  date_obj\n",
       " 2020-04-30    104185.0\n",
       " 2020-05-01    ...        4.015859e+07   \n",
       " \n",
       "       r2_score       roi                                          record_df  \\\n",
       " 1826  0.895115  1.071996                 Prediction         Y     Y + 1 ...   \n",
       " \n",
       "       perc_pred_increase    last_day  current_price  \n",
       " 1826             0.06015  2020-08-13       167673.0  ,\n",
       " Empty DataFrame\n",
       " Columns: [name, price_df, item_df_training, trimmed_df, regr, y_pred, y_test, mean_squared_error, r2_score, roi, record_df, perc_pred_increase, last_day, current_price]\n",
       " Index: [],\n",
       " Empty DataFrame\n",
       " Columns: [name, price_df, item_df_training, trimmed_df, regr, y_pred, y_test, mean_squared_error, r2_score, roi, record_df, perc_pred_increase, last_day, current_price]\n",
       " Index: [],\n",
       "              name                                           price_df  \\\n",
       " 2168  Raw%20shark              Raw%20shark price  Raw%20shark vol...   \n",
       " \n",
       "                                        item_df_training  \\\n",
       " 2168              Raw%20shark price  Raw%20shark vol...   \n",
       " \n",
       "                                              trimmed_df                regr  \\\n",
       " 2168              Raw%20shark price  Raw%20shark vol...  LinearRegression()   \n",
       " \n",
       "                                                  y_pred  \\\n",
       " 2168  [1152.9200839981459, 1221.6977313742063, 1209....   \n",
       " \n",
       "                                                  y_test  mean_squared_error  \\\n",
       " 2168  date_obj\n",
       " 2020-03-01    1227.0\n",
       " 2020-03-02    11...         2164.733003   \n",
       " \n",
       "       r2_score       roi                                          record_df  \\\n",
       " 2168  0.943257  1.064824               Prediction       Y   Y + 1   Y - ...   \n",
       " \n",
       "       perc_pred_increase    last_day  current_price  \n",
       " 2168           -0.010442  2020-08-13          611.0  ,\n",
       " Empty DataFrame\n",
       " Columns: [name, price_df, item_df_training, trimmed_df, regr, y_pred, y_test, mean_squared_error, r2_score, roi, record_df, perc_pred_increase, last_day, current_price]\n",
       " Index: [],\n",
       " Empty DataFrame\n",
       " Columns: [name, price_df, item_df_training, trimmed_df, regr, y_pred, y_test, mean_squared_error, r2_score, roi, record_df, perc_pred_increase, last_day, current_price]\n",
       " Index: [],\n",
       " Empty DataFrame\n",
       " Columns: [name, price_df, item_df_training, trimmed_df, regr, y_pred, y_test, mean_squared_error, r2_score, roi, record_df, perc_pred_increase, last_day, current_price]\n",
       " Index: [],\n",
       " Empty DataFrame\n",
       " Columns: [name, price_df, item_df_training, trimmed_df, regr, y_pred, y_test, mean_squared_error, r2_score, roi, record_df, perc_pred_increase, last_day, current_price]\n",
       " Index: [],\n",
       " Empty DataFrame\n",
       " Columns: [name, price_df, item_df_training, trimmed_df, regr, y_pred, y_test, mean_squared_error, r2_score, roi, record_df, perc_pred_increase, last_day, current_price]\n",
       " Index: [],\n",
       " Empty DataFrame\n",
       " Columns: [name, price_df, item_df_training, trimmed_df, regr, y_pred, y_test, mean_squared_error, r2_score, roi, record_df, perc_pred_increase, last_day, current_price]\n",
       " Index: [],\n",
       " Empty DataFrame\n",
       " Columns: [name, price_df, item_df_training, trimmed_df, regr, y_pred, y_test, mean_squared_error, r2_score, roi, record_df, perc_pred_increase, last_day, current_price]\n",
       " Index: [],\n",
       " Empty DataFrame\n",
       " Columns: [name, price_df, item_df_training, trimmed_df, regr, y_pred, y_test, mean_squared_error, r2_score, roi, record_df, perc_pred_increase, last_day, current_price]\n",
       " Index: [],\n",
       "                        name  \\\n",
       " 3015       Willow%20sapling   \n",
       " 3040  Wooden%20shield%20(g)   \n",
       " \n",
       "                                                price_df  \\\n",
       " 3015              Willow%20sapling price  Willow%20s...   \n",
       " 3040              Wooden%20shield%20(g) price  Woode...   \n",
       " \n",
       "                                        item_df_training  \\\n",
       " 3015              Willow%20sapling price  Willow%20s...   \n",
       " 3040              Wooden%20shield%20(g) price  Woode...   \n",
       " \n",
       "                                              trimmed_df                regr  \\\n",
       " 3015              Willow%20sapling price  Willow%20s...  LinearRegression()   \n",
       " 3040              Wooden%20shield%20(g) price  Woode...  LinearRegression()   \n",
       " \n",
       "                                                  y_pred  \\\n",
       " 3015  [3282.336814751059, 3559.493064751059, 3855.38...   \n",
       " 3040  [82017.09375, 82637.0234375, 77573.796875, 810...   \n",
       " \n",
       "                                                  y_test  mean_squared_error  \\\n",
       " 3015  date_obj\n",
       " 2020-04-13    4049.0\n",
       " 2020-04-14    42...        7.935159e+04   \n",
       " 3040  date_obj\n",
       " 2020-04-12     82705.0\n",
       " 2020-04-13    ...        8.598240e+06   \n",
       " \n",
       "       r2_score       roi                                          record_df  \\\n",
       " 3015  0.900885  1.271286               Prediction       Y   Y + 1   Y - ...   \n",
       " 3040  0.936768  1.148592                 Prediction         Y     Y + 1 ...   \n",
       " \n",
       "       perc_pred_increase    last_day  current_price  \n",
       " 3015            0.077852  2020-08-13         2668.0  \n",
       " 3040            0.046777  2020-08-13       103187.0  ,\n",
       " Empty DataFrame\n",
       " Columns: [name, price_df, item_df_training, trimmed_df, regr, y_pred, y_test, mean_squared_error, r2_score, roi, record_df, perc_pred_increase, last_day, current_price]\n",
       " Index: [],\n",
       " Empty DataFrame\n",
       " Columns: [name, price_df, item_df_training, trimmed_df, regr, y_pred, y_test, mean_squared_error, r2_score, roi, record_df, perc_pred_increase, last_day, current_price]\n",
       " Index: [],\n",
       " Empty DataFrame\n",
       " Columns: [name, price_df, item_df_training, trimmed_df, regr, y_pred, y_test, mean_squared_error, r2_score, roi, record_df, perc_pred_increase, last_day, current_price]\n",
       " Index: [],\n",
       " Empty DataFrame\n",
       " Columns: [name, price_df, item_df_training, trimmed_df, regr, y_pred, y_test, mean_squared_error, r2_score, roi, record_df, perc_pred_increase, last_day, current_price]\n",
       " Index: [],\n",
       "                       name                                           price_df  \\\n",
       " 385  Black%20dragon%20mask              Black%20dragon%20mask price  Black...   \n",
       " \n",
       "                                       item_df_training  \\\n",
       " 385              Black%20dragon%20mask price  Black...   \n",
       " \n",
       "                                             trimmed_df                regr  \\\n",
       " 385              Black%20dragon%20mask price  Black...  LinearRegression()   \n",
       " \n",
       "                                                 y_pred  \\\n",
       " 385  [13323.232029544213, 13578.058201419213, 13868...   \n",
       " \n",
       "                                                 y_test  mean_squared_error  \\\n",
       " 385  date_obj\n",
       " 2020-04-16    13959.0\n",
       " 2020-04-17    1...        1.002733e+06   \n",
       " \n",
       "      r2_score       roi                                          record_df  \\\n",
       " 385  0.959761  1.104141                Prediction        Y    Y + 1    ...   \n",
       " \n",
       "      perc_pred_increase    last_day  current_price  \n",
       " 385           -0.015382  2020-08-13        30246.0  ,\n",
       "                            name  \\\n",
       " 452  Black%20wizard%20hat%20(g)   \n",
       " \n",
       "                                               price_df  \\\n",
       " 452              Black%20wizard%20hat%20(g) price  ...   \n",
       " \n",
       "                                       item_df_training  \\\n",
       " 452              Black%20wizard%20hat%20(g) price  ...   \n",
       " \n",
       "                                             trimmed_df                regr  \\\n",
       " 452              Black%20wizard%20hat%20(g) price  ...  LinearRegression()   \n",
       " \n",
       "                                                 y_pred  \\\n",
       " 452  [352136.67224945535, 353455.60974945535, 35412...   \n",
       " \n",
       "                                                 y_test  mean_squared_error  \\\n",
       " 452  date_obj\n",
       " 2020-04-16    353331.0\n",
       " 2020-04-17    ...        1.061751e+08   \n",
       " \n",
       "      r2_score       roi                                          record_df  \\\n",
       " 452  0.947597  1.322876                 Prediction         Y     Y + 1 ...   \n",
       " \n",
       "      perc_pred_increase    last_day  current_price  \n",
       " 452            0.085351  2020-08-13       313279.0  ,\n",
       " Empty DataFrame\n",
       " Columns: [name, price_df, item_df_training, trimmed_df, regr, y_pred, y_test, mean_squared_error, r2_score, roi, record_df, perc_pred_increase, last_day, current_price]\n",
       " Index: [],\n",
       " Empty DataFrame\n",
       " Columns: [name, price_df, item_df_training, trimmed_df, regr, y_pred, y_test, mean_squared_error, r2_score, roi, record_df, perc_pred_increase, last_day, current_price]\n",
       " Index: [],\n",
       "            name                                           price_df  \\\n",
       " 742  Clue%20box              Clue%20box price  Clue%20box volum...   \n",
       " \n",
       "                                       item_df_training  \\\n",
       " 742              Clue%20box price  Clue%20box volum...   \n",
       " \n",
       "                                             trimmed_df                regr  \\\n",
       " 742              Clue%20box price  Clue%20box volum...  LinearRegression()   \n",
       " \n",
       "                                                 y_pred  \\\n",
       " 742  [31229.90114819441, 37383.08864819441, 38586.7...   \n",
       " \n",
       "                                                 y_test  mean_squared_error  \\\n",
       " 742  date_obj\n",
       " 2020-04-14    36508.0\n",
       " 2020-04-15    3...        3.463242e+07   \n",
       " \n",
       "      r2_score       roi                                          record_df  \\\n",
       " 742  0.895413  1.572981                Prediction        Y    Y + 1    ...   \n",
       " \n",
       "      perc_pred_increase    last_day  current_price  \n",
       " 742            0.038904  2020-08-13        85973.0  ,\n",
       " Empty DataFrame\n",
       " Columns: [name, price_df, item_df_training, trimmed_df, regr, y_pred, y_test, mean_squared_error, r2_score, roi, record_df, perc_pred_increase, last_day, current_price]\n",
       " Index: [],\n",
       " Empty DataFrame\n",
       " Columns: [name, price_df, item_df_training, trimmed_df, regr, y_pred, y_test, mean_squared_error, r2_score, roi, record_df, perc_pred_increase, last_day, current_price]\n",
       " Index: [],\n",
       " Empty DataFrame\n",
       " Columns: [name, price_df, item_df_training, trimmed_df, regr, y_pred, y_test, mean_squared_error, r2_score, roi, record_df, perc_pred_increase, last_day, current_price]\n",
       " Index: [],\n",
       "                  name                                           price_df  \\\n",
       " 1134  Frog%20slippers              Frog%20slippers price  Frog%20slip...   \n",
       " \n",
       "                                        item_df_training  \\\n",
       " 1134              Frog%20slippers price  Frog%20slip...   \n",
       " \n",
       "                                              trimmed_df                regr  \\\n",
       " 1134              Frog%20slippers price  Frog%20slip...  LinearRegression()   \n",
       " \n",
       "                                                  y_pred  \\\n",
       " 1134  [49622.0161163522, 49256.3051788522, 48977.965...   \n",
       " \n",
       "                                                  y_test  mean_squared_error  \\\n",
       " 1134  date_obj\n",
       " 2020-05-21     49284.0\n",
       " 2020-05-22    ...        2.556349e+07   \n",
       " \n",
       "       r2_score       roi                                          record_df  \\\n",
       " 1134  0.974623  1.111439                 Prediction         Y     Y + 1 ...   \n",
       " \n",
       "       perc_pred_increase    last_day  current_price  \n",
       " 1134           -0.018841  2020-08-13       140703.0  ,\n",
       "                   name                                           price_df  \\\n",
       " 1236  Granite%20hammer              Granite%20hammer price  Granite%20...   \n",
       " \n",
       "                                        item_df_training  \\\n",
       " 1236              Granite%20hammer price  Granite%20...   \n",
       " \n",
       "                                              trimmed_df                regr  \\\n",
       " 1236              Granite%20hammer price  Granite%20...  LinearRegression()   \n",
       " \n",
       "                                                  y_pred  \\\n",
       " 1236  [718066.1453276698, 688719.8953276698, 714589....   \n",
       " \n",
       "                                                  y_test  mean_squared_error  \\\n",
       " 1236  date_obj\n",
       " 2020-04-28    708431.0\n",
       " 2020-04-29    ...        1.290571e+09   \n",
       " \n",
       "       r2_score       roi                                          record_df  \\\n",
       " 1236  0.946506  1.350989                 Prediction         Y     Y + 1 ...   \n",
       " \n",
       "       perc_pred_increase    last_day  current_price  \n",
       " 1236            0.083619  2020-08-13       295346.0  ,\n",
       " Empty DataFrame\n",
       " Columns: [name, price_df, item_df_training, trimmed_df, regr, y_pred, y_test, mean_squared_error, r2_score, roi, record_df, perc_pred_increase, last_day, current_price]\n",
       " Index: [],\n",
       " Empty DataFrame\n",
       " Columns: [name, price_df, item_df_training, trimmed_df, regr, y_pred, y_test, mean_squared_error, r2_score, roi, record_df, perc_pred_increase, last_day, current_price]\n",
       " Index: [],\n",
       " Empty DataFrame\n",
       " Columns: [name, price_df, item_df_training, trimmed_df, regr, y_pred, y_test, mean_squared_error, r2_score, roi, record_df, perc_pred_increase, last_day, current_price]\n",
       " Index: [],\n",
       "       name                                           price_df  \\\n",
       " 1610  Logs              Logs price  Logs volume  Logs pric...   \n",
       " \n",
       "                                        item_df_training  \\\n",
       " 1610              Logs price  Logs volume  Logs pric...   \n",
       " \n",
       "                                              trimmed_df                regr  \\\n",
       " 1610              Logs price  Logs volume  Logs pric...  LinearRegression()   \n",
       " \n",
       "                                                  y_pred  \\\n",
       " 1610  [34.69612199654308, 35.60577747998264, 38.3625...   \n",
       " \n",
       "                                                  y_test  mean_squared_error  \\\n",
       " 1610  date_obj\n",
       " 2020-04-27    41.0\n",
       " 2020-04-28    44.0...          145.041793   \n",
       " \n",
       "       r2_score       roi                                          record_df  \\\n",
       " 1610  0.870188  1.984616              Prediction     Y  Y + 1  Y - 1    ...   \n",
       " \n",
       "       perc_pred_increase    last_day  current_price  \n",
       " 1610            0.059003  2020-08-13           73.0  ,\n",
       "                 name                                           price_df  \\\n",
       " 1789  Molten%20glass              Molten%20glass price  Molten%20gla...   \n",
       " \n",
       "                                        item_df_training  \\\n",
       " 1789              Molten%20glass price  Molten%20gla...   \n",
       " \n",
       "                                              trimmed_df                regr  \\\n",
       " 1789              Molten%20glass price  Molten%20gla...  LinearRegression()   \n",
       " \n",
       "                                                  y_pred  \\\n",
       " 1789  [155.69211413072705, 156.23549538884467, 155.0...   \n",
       " \n",
       "                                                  y_test  mean_squared_error  \\\n",
       " 1789  date_obj\n",
       " 2020-03-02    150.0\n",
       " 2020-03-03    149...           40.818484   \n",
       " \n",
       "       r2_score       roi                                          record_df  \\\n",
       " 1789    0.8836  1.082121              Prediction      Y  Y + 1  Y - 1   ...   \n",
       " \n",
       "       perc_pred_increase    last_day  current_price  \n",
       " 1789            0.061818  2020-08-13          112.0  ,\n",
       "                  name                                           price_df  \\\n",
       " 1826  Musketeer%20hat              Musketeer%20hat price  Musketeer%2...   \n",
       " \n",
       "                                        item_df_training  \\\n",
       " 1826              Musketeer%20hat price  Musketeer%2...   \n",
       " \n",
       "                                              trimmed_df                regr  \\\n",
       " 1826              Musketeer%20hat price  Musketeer%2...  LinearRegression()   \n",
       " \n",
       "                                                  y_pred  \\\n",
       " 1826  [93528.48256312343, 98659.18568812343, 101732....   \n",
       " \n",
       "                                                  y_test  mean_squared_error  \\\n",
       " 1826  date_obj\n",
       " 2020-04-30    104185.0\n",
       " 2020-05-01    ...        4.015859e+07   \n",
       " \n",
       "       r2_score       roi                                          record_df  \\\n",
       " 1826  0.895115  1.071996                 Prediction         Y     Y + 1 ...   \n",
       " \n",
       "       perc_pred_increase    last_day  current_price  \n",
       " 1826             0.06015  2020-08-13       167673.0  ,\n",
       " Empty DataFrame\n",
       " Columns: [name, price_df, item_df_training, trimmed_df, regr, y_pred, y_test, mean_squared_error, r2_score, roi, record_df, perc_pred_increase, last_day, current_price]\n",
       " Index: [],\n",
       " Empty DataFrame\n",
       " Columns: [name, price_df, item_df_training, trimmed_df, regr, y_pred, y_test, mean_squared_error, r2_score, roi, record_df, perc_pred_increase, last_day, current_price]\n",
       " Index: [],\n",
       "              name                                           price_df  \\\n",
       " 2168  Raw%20shark              Raw%20shark price  Raw%20shark vol...   \n",
       " \n",
       "                                        item_df_training  \\\n",
       " 2168              Raw%20shark price  Raw%20shark vol...   \n",
       " \n",
       "                                              trimmed_df                regr  \\\n",
       " 2168              Raw%20shark price  Raw%20shark vol...  LinearRegression()   \n",
       " \n",
       "                                                  y_pred  \\\n",
       " 2168  [1152.9200839981459, 1221.6977313742063, 1209....   \n",
       " \n",
       "                                                  y_test  mean_squared_error  \\\n",
       " 2168  date_obj\n",
       " 2020-03-01    1227.0\n",
       " 2020-03-02    11...         2164.733003   \n",
       " \n",
       "       r2_score       roi                                          record_df  \\\n",
       " 2168  0.943257  1.064824               Prediction       Y   Y + 1   Y - ...   \n",
       " \n",
       "       perc_pred_increase    last_day  current_price  \n",
       " 2168           -0.010442  2020-08-13          611.0  ,\n",
       " Empty DataFrame\n",
       " Columns: [name, price_df, item_df_training, trimmed_df, regr, y_pred, y_test, mean_squared_error, r2_score, roi, record_df, perc_pred_increase, last_day, current_price]\n",
       " Index: [],\n",
       " Empty DataFrame\n",
       " Columns: [name, price_df, item_df_training, trimmed_df, regr, y_pred, y_test, mean_squared_error, r2_score, roi, record_df, perc_pred_increase, last_day, current_price]\n",
       " Index: [],\n",
       " Empty DataFrame\n",
       " Columns: [name, price_df, item_df_training, trimmed_df, regr, y_pred, y_test, mean_squared_error, r2_score, roi, record_df, perc_pred_increase, last_day, current_price]\n",
       " Index: [],\n",
       " Empty DataFrame\n",
       " Columns: [name, price_df, item_df_training, trimmed_df, regr, y_pred, y_test, mean_squared_error, r2_score, roi, record_df, perc_pred_increase, last_day, current_price]\n",
       " Index: [],\n",
       " Empty DataFrame\n",
       " Columns: [name, price_df, item_df_training, trimmed_df, regr, y_pred, y_test, mean_squared_error, r2_score, roi, record_df, perc_pred_increase, last_day, current_price]\n",
       " Index: [],\n",
       " Empty DataFrame\n",
       " Columns: [name, price_df, item_df_training, trimmed_df, regr, y_pred, y_test, mean_squared_error, r2_score, roi, record_df, perc_pred_increase, last_day, current_price]\n",
       " Index: [],\n",
       " Empty DataFrame\n",
       " Columns: [name, price_df, item_df_training, trimmed_df, regr, y_pred, y_test, mean_squared_error, r2_score, roi, record_df, perc_pred_increase, last_day, current_price]\n",
       " Index: [],\n",
       " Empty DataFrame\n",
       " Columns: [name, price_df, item_df_training, trimmed_df, regr, y_pred, y_test, mean_squared_error, r2_score, roi, record_df, perc_pred_increase, last_day, current_price]\n",
       " Index: [],\n",
       "                        name  \\\n",
       " 3015       Willow%20sapling   \n",
       " 3040  Wooden%20shield%20(g)   \n",
       " \n",
       "                                                price_df  \\\n",
       " 3015              Willow%20sapling price  Willow%20s...   \n",
       " 3040              Wooden%20shield%20(g) price  Woode...   \n",
       " \n",
       "                                        item_df_training  \\\n",
       " 3015              Willow%20sapling price  Willow%20s...   \n",
       " 3040              Wooden%20shield%20(g) price  Woode...   \n",
       " \n",
       "                                              trimmed_df                regr  \\\n",
       " 3015              Willow%20sapling price  Willow%20s...  LinearRegression()   \n",
       " 3040              Wooden%20shield%20(g) price  Woode...  LinearRegression()   \n",
       " \n",
       "                                                  y_pred  \\\n",
       " 3015  [3282.336814751059, 3559.493064751059, 3855.38...   \n",
       " 3040  [82017.09375, 82637.0234375, 77573.796875, 810...   \n",
       " \n",
       "                                                  y_test  mean_squared_error  \\\n",
       " 3015  date_obj\n",
       " 2020-04-13    4049.0\n",
       " 2020-04-14    42...        7.935159e+04   \n",
       " 3040  date_obj\n",
       " 2020-04-12     82705.0\n",
       " 2020-04-13    ...        8.598240e+06   \n",
       " \n",
       "       r2_score       roi                                          record_df  \\\n",
       " 3015  0.900885  1.271286               Prediction       Y   Y + 1   Y - ...   \n",
       " 3040  0.936768  1.148592                 Prediction         Y     Y + 1 ...   \n",
       " \n",
       "       perc_pred_increase    last_day  current_price  \n",
       " 3015            0.077852  2020-08-13         2668.0  \n",
       " 3040            0.046777  2020-08-13       103187.0  ,\n",
       " Empty DataFrame\n",
       " Columns: [name, price_df, item_df_training, trimmed_df, regr, y_pred, y_test, mean_squared_error, r2_score, roi, record_df, perc_pred_increase, last_day, current_price]\n",
       " Index: []]"
      ]
     },
     "execution_count": 54,
     "metadata": {},
     "output_type": "execute_result"
    }
   ],
   "source": [
    "df_list"
   ]
  },
  {
   "cell_type": "code",
   "execution_count": 55,
   "metadata": {},
   "outputs": [
    {
     "data": {
      "text/plain": [
       "Index(['name', 'price_df', 'item_df_training', 'trimmed_df', 'regr', 'y_pred',\n",
       "       'y_test', 'mean_squared_error', 'r2_score', 'roi', 'record_df',\n",
       "       'perc_pred_increase', 'last_day', 'current_price'],\n",
       "      dtype='object')"
      ]
     },
     "execution_count": 55,
     "metadata": {},
     "output_type": "execute_result"
    }
   ],
   "source": [
    "trading_df = pd.concat(df_list, axis=0).sort_values(by='perc_pred_increase', ascending=False)\n",
    "trading_df.columns"
   ]
  },
  {
   "cell_type": "code",
   "execution_count": 56,
   "metadata": {},
   "outputs": [],
   "source": [
    "trading_df['pred_price'] = (trading_df['perc_pred_increase'] + 1) * trading_df['current_price']"
   ]
  },
  {
   "cell_type": "code",
   "execution_count": 57,
   "metadata": {},
   "outputs": [],
   "source": [
    "#trading_df.loc[:,['name', 'mean_squared_error', 'r2_score', 'roi', 'perc_pred_increase','last_day', 'current_price']]"
   ]
  },
  {
   "cell_type": "code",
   "execution_count": 58,
   "metadata": {},
   "outputs": [
    {
     "data": {
      "text/html": [
       "<div>\n",
       "<style scoped>\n",
       "    .dataframe tbody tr th:only-of-type {\n",
       "        vertical-align: middle;\n",
       "    }\n",
       "\n",
       "    .dataframe tbody tr th {\n",
       "        vertical-align: top;\n",
       "    }\n",
       "\n",
       "    .dataframe thead th {\n",
       "        text-align: right;\n",
       "    }\n",
       "</style>\n",
       "<table border=\"1\" class=\"dataframe\">\n",
       "  <thead>\n",
       "    <tr style=\"text-align: right;\">\n",
       "      <th></th>\n",
       "      <th>name</th>\n",
       "      <th>mean_squared_error</th>\n",
       "      <th>r2_score</th>\n",
       "      <th>roi</th>\n",
       "      <th>perc_pred_increase</th>\n",
       "      <th>last_day</th>\n",
       "      <th>current_price</th>\n",
       "      <th>pred_price</th>\n",
       "    </tr>\n",
       "  </thead>\n",
       "  <tbody>\n",
       "    <tr>\n",
       "      <th>3015</th>\n",
       "      <td>Willow%20sapling</td>\n",
       "      <td>7.935159e+04</td>\n",
       "      <td>0.900885</td>\n",
       "      <td>1.271286</td>\n",
       "      <td>0.077852</td>\n",
       "      <td>2020-08-13</td>\n",
       "      <td>2668.0</td>\n",
       "      <td>2875.707909</td>\n",
       "    </tr>\n",
       "    <tr>\n",
       "      <th>3015</th>\n",
       "      <td>Willow%20sapling</td>\n",
       "      <td>7.935159e+04</td>\n",
       "      <td>0.900885</td>\n",
       "      <td>1.271286</td>\n",
       "      <td>0.077852</td>\n",
       "      <td>2020-08-13</td>\n",
       "      <td>2668.0</td>\n",
       "      <td>2875.707909</td>\n",
       "    </tr>\n",
       "    <tr>\n",
       "      <th>1789</th>\n",
       "      <td>Molten%20glass</td>\n",
       "      <td>4.081848e+01</td>\n",
       "      <td>0.883600</td>\n",
       "      <td>1.082121</td>\n",
       "      <td>0.061818</td>\n",
       "      <td>2020-08-13</td>\n",
       "      <td>112.0</td>\n",
       "      <td>118.923611</td>\n",
       "    </tr>\n",
       "    <tr>\n",
       "      <th>1789</th>\n",
       "      <td>Molten%20glass</td>\n",
       "      <td>4.081848e+01</td>\n",
       "      <td>0.883600</td>\n",
       "      <td>1.082121</td>\n",
       "      <td>0.061818</td>\n",
       "      <td>2020-08-13</td>\n",
       "      <td>112.0</td>\n",
       "      <td>118.923611</td>\n",
       "    </tr>\n",
       "    <tr>\n",
       "      <th>1826</th>\n",
       "      <td>Musketeer%20hat</td>\n",
       "      <td>4.015859e+07</td>\n",
       "      <td>0.895115</td>\n",
       "      <td>1.071996</td>\n",
       "      <td>0.060150</td>\n",
       "      <td>2020-08-13</td>\n",
       "      <td>167673.0</td>\n",
       "      <td>177758.529438</td>\n",
       "    </tr>\n",
       "    <tr>\n",
       "      <th>1826</th>\n",
       "      <td>Musketeer%20hat</td>\n",
       "      <td>4.015859e+07</td>\n",
       "      <td>0.895115</td>\n",
       "      <td>1.071996</td>\n",
       "      <td>0.060150</td>\n",
       "      <td>2020-08-13</td>\n",
       "      <td>167673.0</td>\n",
       "      <td>177758.529438</td>\n",
       "    </tr>\n",
       "    <tr>\n",
       "      <th>1610</th>\n",
       "      <td>Logs</td>\n",
       "      <td>1.450418e+02</td>\n",
       "      <td>0.870188</td>\n",
       "      <td>1.984616</td>\n",
       "      <td>0.059003</td>\n",
       "      <td>2020-08-13</td>\n",
       "      <td>73.0</td>\n",
       "      <td>77.307183</td>\n",
       "    </tr>\n",
       "    <tr>\n",
       "      <th>1610</th>\n",
       "      <td>Logs</td>\n",
       "      <td>1.450418e+02</td>\n",
       "      <td>0.870188</td>\n",
       "      <td>1.984616</td>\n",
       "      <td>0.059003</td>\n",
       "      <td>2020-08-13</td>\n",
       "      <td>73.0</td>\n",
       "      <td>77.307183</td>\n",
       "    </tr>\n",
       "  </tbody>\n",
       "</table>\n",
       "</div>"
      ],
      "text/plain": [
       "                  name  mean_squared_error  r2_score       roi  \\\n",
       "3015  Willow%20sapling        7.935159e+04  0.900885  1.271286   \n",
       "3015  Willow%20sapling        7.935159e+04  0.900885  1.271286   \n",
       "1789    Molten%20glass        4.081848e+01  0.883600  1.082121   \n",
       "1789    Molten%20glass        4.081848e+01  0.883600  1.082121   \n",
       "1826   Musketeer%20hat        4.015859e+07  0.895115  1.071996   \n",
       "1826   Musketeer%20hat        4.015859e+07  0.895115  1.071996   \n",
       "1610              Logs        1.450418e+02  0.870188  1.984616   \n",
       "1610              Logs        1.450418e+02  0.870188  1.984616   \n",
       "\n",
       "      perc_pred_increase    last_day  current_price     pred_price  \n",
       "3015            0.077852  2020-08-13         2668.0    2875.707909  \n",
       "3015            0.077852  2020-08-13         2668.0    2875.707909  \n",
       "1789            0.061818  2020-08-13          112.0     118.923611  \n",
       "1789            0.061818  2020-08-13          112.0     118.923611  \n",
       "1826            0.060150  2020-08-13       167673.0  177758.529438  \n",
       "1826            0.060150  2020-08-13       167673.0  177758.529438  \n",
       "1610            0.059003  2020-08-13           73.0      77.307183  \n",
       "1610            0.059003  2020-08-13           73.0      77.307183  "
      ]
     },
     "execution_count": 58,
     "metadata": {},
     "output_type": "execute_result"
    }
   ],
   "source": [
    "to_buy = trading_df.loc[~trading_df['name'].isin(bought['name'])].loc[:,['name', 'mean_squared_error', 'r2_score', 'roi', 'perc_pred_increase','last_day', 'current_price', 'pred_price']]\n",
    "to_buy"
   ]
  },
  {
   "cell_type": "code",
   "execution_count": 59,
   "metadata": {},
   "outputs": [
    {
     "data": {
      "text/html": [
       "<div>\n",
       "<style scoped>\n",
       "    .dataframe tbody tr th:only-of-type {\n",
       "        vertical-align: middle;\n",
       "    }\n",
       "\n",
       "    .dataframe tbody tr th {\n",
       "        vertical-align: top;\n",
       "    }\n",
       "\n",
       "    .dataframe thead th {\n",
       "        text-align: right;\n",
       "    }\n",
       "</style>\n",
       "<table border=\"1\" class=\"dataframe\">\n",
       "  <thead>\n",
       "    <tr style=\"text-align: right;\">\n",
       "      <th></th>\n",
       "      <th>name</th>\n",
       "      <th>mean_squared_error</th>\n",
       "      <th>r2_score</th>\n",
       "      <th>roi</th>\n",
       "      <th>perc_pred_increase</th>\n",
       "      <th>last_day</th>\n",
       "      <th>current_price</th>\n",
       "      <th>pred_price</th>\n",
       "    </tr>\n",
       "  </thead>\n",
       "  <tbody>\n",
       "    <tr>\n",
       "      <th>452</th>\n",
       "      <td>Black%20wizard%20hat%20(g)</td>\n",
       "      <td>1.061751e+08</td>\n",
       "      <td>0.947597</td>\n",
       "      <td>1.322876</td>\n",
       "      <td>0.085351</td>\n",
       "      <td>2020-08-13</td>\n",
       "      <td>313279.0</td>\n",
       "      <td>340017.609749</td>\n",
       "    </tr>\n",
       "    <tr>\n",
       "      <th>452</th>\n",
       "      <td>Black%20wizard%20hat%20(g)</td>\n",
       "      <td>1.061751e+08</td>\n",
       "      <td>0.947597</td>\n",
       "      <td>1.322876</td>\n",
       "      <td>0.085351</td>\n",
       "      <td>2020-08-13</td>\n",
       "      <td>313279.0</td>\n",
       "      <td>340017.609749</td>\n",
       "    </tr>\n",
       "    <tr>\n",
       "      <th>1236</th>\n",
       "      <td>Granite%20hammer</td>\n",
       "      <td>1.290571e+09</td>\n",
       "      <td>0.946506</td>\n",
       "      <td>1.350989</td>\n",
       "      <td>0.083619</td>\n",
       "      <td>2020-08-13</td>\n",
       "      <td>295346.0</td>\n",
       "      <td>320042.676578</td>\n",
       "    </tr>\n",
       "    <tr>\n",
       "      <th>1236</th>\n",
       "      <td>Granite%20hammer</td>\n",
       "      <td>1.290571e+09</td>\n",
       "      <td>0.946506</td>\n",
       "      <td>1.350989</td>\n",
       "      <td>0.083619</td>\n",
       "      <td>2020-08-13</td>\n",
       "      <td>295346.0</td>\n",
       "      <td>320042.676578</td>\n",
       "    </tr>\n",
       "    <tr>\n",
       "      <th>3040</th>\n",
       "      <td>Wooden%20shield%20(g)</td>\n",
       "      <td>8.598240e+06</td>\n",
       "      <td>0.936768</td>\n",
       "      <td>1.148592</td>\n",
       "      <td>0.046777</td>\n",
       "      <td>2020-08-13</td>\n",
       "      <td>103187.0</td>\n",
       "      <td>108013.781250</td>\n",
       "    </tr>\n",
       "    <tr>\n",
       "      <th>3040</th>\n",
       "      <td>Wooden%20shield%20(g)</td>\n",
       "      <td>8.598240e+06</td>\n",
       "      <td>0.936768</td>\n",
       "      <td>1.148592</td>\n",
       "      <td>0.046777</td>\n",
       "      <td>2020-08-13</td>\n",
       "      <td>103187.0</td>\n",
       "      <td>108013.781250</td>\n",
       "    </tr>\n",
       "    <tr>\n",
       "      <th>742</th>\n",
       "      <td>Clue%20box</td>\n",
       "      <td>3.463242e+07</td>\n",
       "      <td>0.895413</td>\n",
       "      <td>1.572981</td>\n",
       "      <td>0.038904</td>\n",
       "      <td>2020-08-13</td>\n",
       "      <td>85973.0</td>\n",
       "      <td>89317.653101</td>\n",
       "    </tr>\n",
       "    <tr>\n",
       "      <th>742</th>\n",
       "      <td>Clue%20box</td>\n",
       "      <td>3.463242e+07</td>\n",
       "      <td>0.895413</td>\n",
       "      <td>1.572981</td>\n",
       "      <td>0.038904</td>\n",
       "      <td>2020-08-13</td>\n",
       "      <td>85973.0</td>\n",
       "      <td>89317.653101</td>\n",
       "    </tr>\n",
       "    <tr>\n",
       "      <th>2168</th>\n",
       "      <td>Raw%20shark</td>\n",
       "      <td>2.164733e+03</td>\n",
       "      <td>0.943257</td>\n",
       "      <td>1.064824</td>\n",
       "      <td>-0.010442</td>\n",
       "      <td>2020-08-13</td>\n",
       "      <td>611.0</td>\n",
       "      <td>604.620178</td>\n",
       "    </tr>\n",
       "    <tr>\n",
       "      <th>2168</th>\n",
       "      <td>Raw%20shark</td>\n",
       "      <td>2.164733e+03</td>\n",
       "      <td>0.943257</td>\n",
       "      <td>1.064824</td>\n",
       "      <td>-0.010442</td>\n",
       "      <td>2020-08-13</td>\n",
       "      <td>611.0</td>\n",
       "      <td>604.620178</td>\n",
       "    </tr>\n",
       "    <tr>\n",
       "      <th>385</th>\n",
       "      <td>Black%20dragon%20mask</td>\n",
       "      <td>1.002733e+06</td>\n",
       "      <td>0.959761</td>\n",
       "      <td>1.104141</td>\n",
       "      <td>-0.015382</td>\n",
       "      <td>2020-08-13</td>\n",
       "      <td>30246.0</td>\n",
       "      <td>29780.765233</td>\n",
       "    </tr>\n",
       "    <tr>\n",
       "      <th>385</th>\n",
       "      <td>Black%20dragon%20mask</td>\n",
       "      <td>1.002733e+06</td>\n",
       "      <td>0.959761</td>\n",
       "      <td>1.104141</td>\n",
       "      <td>-0.015382</td>\n",
       "      <td>2020-08-13</td>\n",
       "      <td>30246.0</td>\n",
       "      <td>29780.765233</td>\n",
       "    </tr>\n",
       "    <tr>\n",
       "      <th>1134</th>\n",
       "      <td>Frog%20slippers</td>\n",
       "      <td>2.556349e+07</td>\n",
       "      <td>0.974623</td>\n",
       "      <td>1.111439</td>\n",
       "      <td>-0.018841</td>\n",
       "      <td>2020-08-13</td>\n",
       "      <td>140703.0</td>\n",
       "      <td>138052.023929</td>\n",
       "    </tr>\n",
       "    <tr>\n",
       "      <th>1134</th>\n",
       "      <td>Frog%20slippers</td>\n",
       "      <td>2.556349e+07</td>\n",
       "      <td>0.974623</td>\n",
       "      <td>1.111439</td>\n",
       "      <td>-0.018841</td>\n",
       "      <td>2020-08-13</td>\n",
       "      <td>140703.0</td>\n",
       "      <td>138052.023929</td>\n",
       "    </tr>\n",
       "  </tbody>\n",
       "</table>\n",
       "</div>"
      ],
      "text/plain": [
       "                            name  mean_squared_error  r2_score       roi  \\\n",
       "452   Black%20wizard%20hat%20(g)        1.061751e+08  0.947597  1.322876   \n",
       "452   Black%20wizard%20hat%20(g)        1.061751e+08  0.947597  1.322876   \n",
       "1236            Granite%20hammer        1.290571e+09  0.946506  1.350989   \n",
       "1236            Granite%20hammer        1.290571e+09  0.946506  1.350989   \n",
       "3040       Wooden%20shield%20(g)        8.598240e+06  0.936768  1.148592   \n",
       "3040       Wooden%20shield%20(g)        8.598240e+06  0.936768  1.148592   \n",
       "742                   Clue%20box        3.463242e+07  0.895413  1.572981   \n",
       "742                   Clue%20box        3.463242e+07  0.895413  1.572981   \n",
       "2168                 Raw%20shark        2.164733e+03  0.943257  1.064824   \n",
       "2168                 Raw%20shark        2.164733e+03  0.943257  1.064824   \n",
       "385        Black%20dragon%20mask        1.002733e+06  0.959761  1.104141   \n",
       "385        Black%20dragon%20mask        1.002733e+06  0.959761  1.104141   \n",
       "1134             Frog%20slippers        2.556349e+07  0.974623  1.111439   \n",
       "1134             Frog%20slippers        2.556349e+07  0.974623  1.111439   \n",
       "\n",
       "      perc_pred_increase    last_day  current_price     pred_price  \n",
       "452             0.085351  2020-08-13       313279.0  340017.609749  \n",
       "452             0.085351  2020-08-13       313279.0  340017.609749  \n",
       "1236            0.083619  2020-08-13       295346.0  320042.676578  \n",
       "1236            0.083619  2020-08-13       295346.0  320042.676578  \n",
       "3040            0.046777  2020-08-13       103187.0  108013.781250  \n",
       "3040            0.046777  2020-08-13       103187.0  108013.781250  \n",
       "742             0.038904  2020-08-13        85973.0   89317.653101  \n",
       "742             0.038904  2020-08-13        85973.0   89317.653101  \n",
       "2168           -0.010442  2020-08-13          611.0     604.620178  \n",
       "2168           -0.010442  2020-08-13          611.0     604.620178  \n",
       "385            -0.015382  2020-08-13        30246.0   29780.765233  \n",
       "385            -0.015382  2020-08-13        30246.0   29780.765233  \n",
       "1134           -0.018841  2020-08-13       140703.0  138052.023929  \n",
       "1134           -0.018841  2020-08-13       140703.0  138052.023929  "
      ]
     },
     "execution_count": 59,
     "metadata": {},
     "output_type": "execute_result"
    }
   ],
   "source": [
    "to_sell = trading_df.loc[trading_df['name'].isin(bought['name'])].loc[:,['name', 'mean_squared_error', 'r2_score', 'roi', 'perc_pred_increase','last_day', 'current_price', 'pred_price']]\n",
    "to_sell"
   ]
  },
  {
   "cell_type": "markdown",
   "metadata": {},
   "source": [
    "\n",
    "# Update with actual trades"
   ]
  },
  {
   "cell_type": "code",
   "execution_count": null,
   "metadata": {},
   "outputs": [],
   "source": [
    "bought"
   ]
  },
  {
   "cell_type": "code",
   "execution_count": null,
   "metadata": {},
   "outputs": [],
   "source": [
    "bought"
   ]
  },
  {
   "cell_type": "code",
   "execution_count": 61,
   "metadata": {},
   "outputs": [
    {
     "data": {
      "text/plain": [
       "452     Black%20wizard%20hat%20(g)\n",
       "1236              Granite%20hammer\n",
       "Name: name, dtype: object"
      ]
     },
     "execution_count": 61,
     "metadata": {},
     "output_type": "execute_result"
    }
   ],
   "source": [
    "currently_buying = to_buy['name'][0:2]\n",
    "currently_buying\n"
   ]
  },
  {
   "cell_type": "code",
   "execution_count": 62,
   "metadata": {},
   "outputs": [
    {
     "data": {
      "text/html": [
       "<div>\n",
       "<style scoped>\n",
       "    .dataframe tbody tr th:only-of-type {\n",
       "        vertical-align: middle;\n",
       "    }\n",
       "\n",
       "    .dataframe tbody tr th {\n",
       "        vertical-align: top;\n",
       "    }\n",
       "\n",
       "    .dataframe thead th {\n",
       "        text-align: right;\n",
       "    }\n",
       "</style>\n",
       "<table border=\"1\" class=\"dataframe\">\n",
       "  <thead>\n",
       "    <tr style=\"text-align: right;\">\n",
       "      <th></th>\n",
       "      <th>name</th>\n",
       "    </tr>\n",
       "  </thead>\n",
       "  <tbody>\n",
       "    <tr>\n",
       "      <th>0</th>\n",
       "      <td>Raw%20shark</td>\n",
       "    </tr>\n",
       "    <tr>\n",
       "      <th>1</th>\n",
       "      <td>Black%20dragon%20mask</td>\n",
       "    </tr>\n",
       "    <tr>\n",
       "      <th>2</th>\n",
       "      <td>Frog%20slippers</td>\n",
       "    </tr>\n",
       "    <tr>\n",
       "      <th>3</th>\n",
       "      <td>Feather</td>\n",
       "    </tr>\n",
       "    <tr>\n",
       "      <th>4</th>\n",
       "      <td>Clue%20box</td>\n",
       "    </tr>\n",
       "    <tr>\n",
       "      <th>5</th>\n",
       "      <td>Wooden%20shield%20(g)</td>\n",
       "    </tr>\n",
       "    <tr>\n",
       "      <th>6</th>\n",
       "      <td>Black%20wizard%20hat%20(g)</td>\n",
       "    </tr>\n",
       "    <tr>\n",
       "      <th>7</th>\n",
       "      <td>Granite%20hammer</td>\n",
       "    </tr>\n",
       "  </tbody>\n",
       "</table>\n",
       "</div>"
      ],
      "text/plain": [
       "                         name\n",
       "0                 Raw%20shark\n",
       "1       Black%20dragon%20mask\n",
       "2             Frog%20slippers\n",
       "3                     Feather\n",
       "4                  Clue%20box\n",
       "5       Wooden%20shield%20(g)\n",
       "6  Black%20wizard%20hat%20(g)\n",
       "7            Granite%20hammer"
      ]
     },
     "execution_count": 62,
     "metadata": {},
     "output_type": "execute_result"
    }
   ],
   "source": [
    "bought.merge(currently_buying, how='outer')"
   ]
  },
  {
   "cell_type": "code",
   "execution_count": 65,
   "metadata": {},
   "outputs": [],
   "source": [
    "\n",
    "bought = bought.merge(currently_buying, how='outer')"
   ]
  },
  {
   "cell_type": "code",
   "execution_count": null,
   "metadata": {},
   "outputs": [],
   "source": [
    "#bought = bought.drop([0,2,3])"
   ]
  },
  {
   "cell_type": "code",
   "execution_count": 60,
   "metadata": {},
   "outputs": [],
   "source": [
    "#bought.loc[-1] = 'Bottomless%20compost%20bucket'"
   ]
  },
  {
   "cell_type": "code",
   "execution_count": 66,
   "metadata": {},
   "outputs": [
    {
     "data": {
      "text/html": [
       "<div>\n",
       "<style scoped>\n",
       "    .dataframe tbody tr th:only-of-type {\n",
       "        vertical-align: middle;\n",
       "    }\n",
       "\n",
       "    .dataframe tbody tr th {\n",
       "        vertical-align: top;\n",
       "    }\n",
       "\n",
       "    .dataframe thead th {\n",
       "        text-align: right;\n",
       "    }\n",
       "</style>\n",
       "<table border=\"1\" class=\"dataframe\">\n",
       "  <thead>\n",
       "    <tr style=\"text-align: right;\">\n",
       "      <th></th>\n",
       "      <th>name</th>\n",
       "    </tr>\n",
       "  </thead>\n",
       "  <tbody>\n",
       "    <tr>\n",
       "      <th>0</th>\n",
       "      <td>Raw%20shark</td>\n",
       "    </tr>\n",
       "    <tr>\n",
       "      <th>1</th>\n",
       "      <td>Black%20dragon%20mask</td>\n",
       "    </tr>\n",
       "    <tr>\n",
       "      <th>2</th>\n",
       "      <td>Frog%20slippers</td>\n",
       "    </tr>\n",
       "    <tr>\n",
       "      <th>3</th>\n",
       "      <td>Feather</td>\n",
       "    </tr>\n",
       "    <tr>\n",
       "      <th>4</th>\n",
       "      <td>Clue%20box</td>\n",
       "    </tr>\n",
       "    <tr>\n",
       "      <th>5</th>\n",
       "      <td>Wooden%20shield%20(g)</td>\n",
       "    </tr>\n",
       "    <tr>\n",
       "      <th>6</th>\n",
       "      <td>Black%20wizard%20hat%20(g)</td>\n",
       "    </tr>\n",
       "    <tr>\n",
       "      <th>7</th>\n",
       "      <td>Granite%20hammer</td>\n",
       "    </tr>\n",
       "  </tbody>\n",
       "</table>\n",
       "</div>"
      ],
      "text/plain": [
       "                         name\n",
       "0                 Raw%20shark\n",
       "1       Black%20dragon%20mask\n",
       "2             Frog%20slippers\n",
       "3                     Feather\n",
       "4                  Clue%20box\n",
       "5       Wooden%20shield%20(g)\n",
       "6  Black%20wizard%20hat%20(g)\n",
       "7            Granite%20hammer"
      ]
     },
     "execution_count": 66,
     "metadata": {},
     "output_type": "execute_result"
    }
   ],
   "source": [
    "bought"
   ]
  },
  {
   "cell_type": "code",
   "execution_count": 67,
   "metadata": {},
   "outputs": [],
   "source": [
    "#bought.merge(currently_buying)\n",
    "bought.to_csv('data/bought', index=False)"
   ]
  },
  {
   "cell_type": "code",
   "execution_count": 64,
   "metadata": {},
   "outputs": [
    {
     "data": {
      "text/html": [
       "<div>\n",
       "<style scoped>\n",
       "    .dataframe tbody tr th:only-of-type {\n",
       "        vertical-align: middle;\n",
       "    }\n",
       "\n",
       "    .dataframe tbody tr th {\n",
       "        vertical-align: top;\n",
       "    }\n",
       "\n",
       "    .dataframe thead th {\n",
       "        text-align: right;\n",
       "    }\n",
       "</style>\n",
       "<table border=\"1\" class=\"dataframe\">\n",
       "  <thead>\n",
       "    <tr style=\"text-align: right;\">\n",
       "      <th></th>\n",
       "      <th>name</th>\n",
       "    </tr>\n",
       "  </thead>\n",
       "  <tbody>\n",
       "    <tr>\n",
       "      <th>0</th>\n",
       "      <td>Raw%20shark</td>\n",
       "    </tr>\n",
       "    <tr>\n",
       "      <th>1</th>\n",
       "      <td>Black%20dragon%20mask</td>\n",
       "    </tr>\n",
       "    <tr>\n",
       "      <th>2</th>\n",
       "      <td>Frog%20slippers</td>\n",
       "    </tr>\n",
       "    <tr>\n",
       "      <th>3</th>\n",
       "      <td>Feather</td>\n",
       "    </tr>\n",
       "    <tr>\n",
       "      <th>4</th>\n",
       "      <td>Clue%20box</td>\n",
       "    </tr>\n",
       "    <tr>\n",
       "      <th>5</th>\n",
       "      <td>Wooden%20shield%20(g)</td>\n",
       "    </tr>\n",
       "  </tbody>\n",
       "</table>\n",
       "</div>"
      ],
      "text/plain": [
       "                    name\n",
       "0            Raw%20shark\n",
       "1  Black%20dragon%20mask\n",
       "2        Frog%20slippers\n",
       "3                Feather\n",
       "4             Clue%20box\n",
       "5  Wooden%20shield%20(g)"
      ]
     },
     "execution_count": 64,
     "metadata": {},
     "output_type": "execute_result"
    }
   ],
   "source": [
    "pd.read_csv('data/bought')"
   ]
  },
  {
   "cell_type": "code",
   "execution_count": null,
   "metadata": {},
   "outputs": [],
   "source": [
    "trading_"
   ]
  },
  {
   "cell_type": "code",
   "execution_count": null,
   "metadata": {},
   "outputs": [],
   "source": [
    "trading_df.loc[:,['name', 'mean_squared_error', 'r2_score', 'roi', 'perc_pred_increase','last_day']].to_csv('data/trading_8.2.csv')"
   ]
  },
  {
   "cell_type": "code",
   "execution_count": null,
   "metadata": {},
   "outputs": [],
   "source": []
  },
  {
   "cell_type": "markdown",
   "metadata": {},
   "source": [
    "# fastai tabular data"
   ]
  },
  {
   "cell_type": "code",
   "execution_count": null,
   "metadata": {},
   "outputs": [],
   "source": []
  },
  {
   "cell_type": "code",
   "execution_count": null,
   "metadata": {},
   "outputs": [],
   "source": [
    "procs = [Normalize]"
   ]
  },
  {
   "cell_type": "code",
   "execution_count": null,
   "metadata": {},
   "outputs": [],
   "source": [
    "valid_idx = range(int(len(df)*.8), len(df)-60)"
   ]
  },
  {
   "cell_type": "code",
   "execution_count": null,
   "metadata": {},
   "outputs": [],
   "source": [
    "dep_var = 'Y'"
   ]
  },
  {
   "cell_type": "code",
   "execution_count": null,
   "metadata": {},
   "outputs": [],
   "source": [
    "path = Path(f'./data/wiki_urls/{item_name}')"
   ]
  },
  {
   "cell_type": "code",
   "execution_count": null,
   "metadata": {},
   "outputs": [],
   "source": [
    "trimmed_df['date_obj'] = trimmed_df.index"
   ]
  },
  {
   "cell_type": "code",
   "execution_count": null,
   "metadata": {},
   "outputs": [],
   "source": [
    "trimmed_df['date_obj'] = trimmed_df['date_obj'].apply(lambda x: pd.to_datetime(x))"
   ]
  },
  {
   "cell_type": "code",
   "execution_count": null,
   "metadata": {},
   "outputs": [],
   "source": [
    "time_trimmed_df = trimmed_df.loc[trimmed_df['date_obj'] > pd.to_datetime('2018-05-01')]"
   ]
  },
  {
   "cell_type": "code",
   "execution_count": null,
   "metadata": {},
   "outputs": [],
   "source": [
    "time_trimmed_df[item_name].plot()"
   ]
  },
  {
   "cell_type": "code",
   "execution_count": null,
   "metadata": {},
   "outputs": [],
   "source": [
    "time_trimmed_df = time_trimmed_df.drop(columns=['date_obj'], axis=1)"
   ]
  },
  {
   "cell_type": "code",
   "execution_count": null,
   "metadata": {},
   "outputs": [],
   "source": [
    "trimmed_df = time_trimmed_df"
   ]
  },
  {
   "cell_type": "code",
   "execution_count": null,
   "metadata": {},
   "outputs": [],
   "source": []
  },
  {
   "cell_type": "code",
   "execution_count": null,
   "metadata": {},
   "outputs": [],
   "source": [
    "df = trimmed_df"
   ]
  },
  {
   "cell_type": "code",
   "execution_count": null,
   "metadata": {},
   "outputs": [],
   "source": [
    "df"
   ]
  },
  {
   "cell_type": "code",
   "execution_count": null,
   "metadata": {},
   "outputs": [],
   "source": [
    "data = TabularDataBunch.from_df(path, df, dep_var, valid_idx=valid_idx, procs=procs, cat_names=[])"
   ]
  },
  {
   "cell_type": "code",
   "execution_count": null,
   "metadata": {},
   "outputs": [],
   "source": [
    "learn = tabular_learner(data, layers=[500,100], emb_szs={'native-country': 10}, metrics=mean_squared_error)"
   ]
  },
  {
   "cell_type": "code",
   "execution_count": null,
   "metadata": {},
   "outputs": [],
   "source": [
    "data.show_batch()"
   ]
  },
  {
   "cell_type": "code",
   "execution_count": null,
   "metadata": {},
   "outputs": [],
   "source": [
    "learn.save('stage-0')"
   ]
  },
  {
   "cell_type": "code",
   "execution_count": null,
   "metadata": {},
   "outputs": [],
   "source": []
  },
  {
   "cell_type": "code",
   "execution_count": null,
   "metadata": {
    "scrolled": true
   },
   "outputs": [],
   "source": [
    "learn.lr_find(end_lr=1e3)"
   ]
  },
  {
   "cell_type": "code",
   "execution_count": null,
   "metadata": {},
   "outputs": [],
   "source": [
    "learn.recorder.plot()"
   ]
  },
  {
   "cell_type": "code",
   "execution_count": null,
   "metadata": {},
   "outputs": [],
   "source": [
    "learn.fit_one_cycle(5, max_lr=1e-2)"
   ]
  },
  {
   "cell_type": "code",
   "execution_count": null,
   "metadata": {},
   "outputs": [],
   "source": [
    "learn.fit_one_cycle(5, max_lr=1e-2)"
   ]
  },
  {
   "cell_type": "code",
   "execution_count": null,
   "metadata": {
    "scrolled": true
   },
   "outputs": [],
   "source": [
    "learn.show_results(ds_type=DatasetType.Train)"
   ]
  },
  {
   "cell_type": "code",
   "execution_count": null,
   "metadata": {},
   "outputs": [],
   "source": [
    "learn.save('stage-1')"
   ]
  },
  {
   "cell_type": "code",
   "execution_count": null,
   "metadata": {},
   "outputs": [],
   "source": [
    "learn = learn.load('stage-1')"
   ]
  },
  {
   "cell_type": "code",
   "execution_count": null,
   "metadata": {},
   "outputs": [],
   "source": [
    "learn.lr_find()"
   ]
  },
  {
   "cell_type": "code",
   "execution_count": null,
   "metadata": {},
   "outputs": [],
   "source": [
    "learn.recorder.plot()"
   ]
  },
  {
   "cell_type": "code",
   "execution_count": null,
   "metadata": {},
   "outputs": [],
   "source": [
    "learn.fit_one_cycle(5, 3e-5)"
   ]
  },
  {
   "cell_type": "code",
   "execution_count": null,
   "metadata": {},
   "outputs": [],
   "source": [
    "learn.show_results(ds_type=DatasetType.Train)"
   ]
  },
  {
   "cell_type": "code",
   "execution_count": null,
   "metadata": {},
   "outputs": [],
   "source": [
    "learn.save('stage-2')"
   ]
  },
  {
   "cell_type": "code",
   "execution_count": null,
   "metadata": {},
   "outputs": [],
   "source": [
    "learn.lr_find()"
   ]
  },
  {
   "cell_type": "code",
   "execution_count": null,
   "metadata": {},
   "outputs": [],
   "source": [
    "learn.recorder.plot()"
   ]
  },
  {
   "cell_type": "code",
   "execution_count": null,
   "metadata": {},
   "outputs": [],
   "source": []
  },
  {
   "cell_type": "code",
   "execution_count": null,
   "metadata": {},
   "outputs": [],
   "source": [
    "learn.fit_one_cycle(5, 3e-6)"
   ]
  },
  {
   "cell_type": "code",
   "execution_count": null,
   "metadata": {},
   "outputs": [],
   "source": [
    "learn.save('stage-3')\n"
   ]
  },
  {
   "cell_type": "code",
   "execution_count": null,
   "metadata": {},
   "outputs": [],
   "source": [
    "learn.show_results(ds_type=DatasetType.Train)"
   ]
  },
  {
   "cell_type": "code",
   "execution_count": null,
   "metadata": {},
   "outputs": [],
   "source": [
    "learn.lr_find()\n",
    "learn.recorder.plot()"
   ]
  },
  {
   "cell_type": "code",
   "execution_count": null,
   "metadata": {},
   "outputs": [],
   "source": [
    "learn.fit_one_cycle(5, 3e-4)"
   ]
  },
  {
   "cell_type": "code",
   "execution_count": null,
   "metadata": {
    "scrolled": true
   },
   "outputs": [],
   "source": [
    "learn.save('stage-4')"
   ]
  },
  {
   "cell_type": "code",
   "execution_count": null,
   "metadata": {},
   "outputs": [],
   "source": [
    "learn.lr_find(end_lr=1e2)\n",
    "learn.recorder.plot()"
   ]
  },
  {
   "cell_type": "code",
   "execution_count": null,
   "metadata": {
    "scrolled": true
   },
   "outputs": [],
   "source": [
    "learn.show_results(ds_type=DatasetType.Train)"
   ]
  },
  {
   "cell_type": "code",
   "execution_count": null,
   "metadata": {},
   "outputs": [],
   "source": [
    "learn.fit_one_cycle(10, 1e-4)"
   ]
  },
  {
   "cell_type": "code",
   "execution_count": null,
   "metadata": {},
   "outputs": [],
   "source": [
    "learn = learn.load('stage-4')"
   ]
  },
  {
   "cell_type": "code",
   "execution_count": null,
   "metadata": {
    "scrolled": true
   },
   "outputs": [],
   "source": [
    "learn.show_results(ds_type=DatasetType.Train)"
   ]
  },
  {
   "cell_type": "markdown",
   "metadata": {},
   "source": [
    "# Plot results"
   ]
  },
  {
   "cell_type": "code",
   "execution_count": null,
   "metadata": {},
   "outputs": [],
   "source": [
    "int(learn.predict(df.iloc[0])[1])"
   ]
  },
  {
   "cell_type": "code",
   "execution_count": null,
   "metadata": {},
   "outputs": [],
   "source": [
    "learn.predict(df.iloc[0])"
   ]
  },
  {
   "cell_type": "code",
   "execution_count": null,
   "metadata": {},
   "outputs": [],
   "source": [
    "plot_x = [float(learn.predict(df.iloc[i])[1]) for i in range(len(df))]"
   ]
  },
  {
   "cell_type": "code",
   "execution_count": null,
   "metadata": {},
   "outputs": [],
   "source": [
    "plot_y = df['Y']"
   ]
  },
  {
   "cell_type": "code",
   "execution_count": null,
   "metadata": {
    "scrolled": true
   },
   "outputs": [],
   "source": [
    "plot_y"
   ]
  },
  {
   "cell_type": "code",
   "execution_count": null,
   "metadata": {},
   "outputs": [],
   "source": [
    "plot_x"
   ]
  },
  {
   "cell_type": "code",
   "execution_count": null,
   "metadata": {},
   "outputs": [],
   "source": [
    "plot_df = pd.DataFrame(plot_y)"
   ]
  },
  {
   "cell_type": "code",
   "execution_count": null,
   "metadata": {},
   "outputs": [],
   "source": [
    "plot_df['x'] = plot_x"
   ]
  },
  {
   "cell_type": "code",
   "execution_count": null,
   "metadata": {},
   "outputs": [],
   "source": [
    "plot_df.head()"
   ]
  },
  {
   "cell_type": "code",
   "execution_count": null,
   "metadata": {},
   "outputs": [],
   "source": [
    "plot_df.plot()"
   ]
  },
  {
   "cell_type": "code",
   "execution_count": null,
   "metadata": {},
   "outputs": [],
   "source": [
    "plt.plot(plot_x)"
   ]
  },
  {
   "cell_type": "code",
   "execution_count": null,
   "metadata": {},
   "outputs": [],
   "source": [
    "plt.plot(plot_y)"
   ]
  },
  {
   "cell_type": "code",
   "execution_count": null,
   "metadata": {},
   "outputs": [],
   "source": [
    "plt.plot(range(len(plot_x)),np.array([plot_x,plot_y]).T)"
   ]
  },
  {
   "cell_type": "code",
   "execution_count": null,
   "metadata": {},
   "outputs": [],
   "source": [
    "len(plot_x)"
   ]
  },
  {
   "cell_type": "code",
   "execution_count": null,
   "metadata": {},
   "outputs": [],
   "source": [
    "plt.plot(range(len(plot_x[len(plot_x)-60:])), np.array([plot_x[len(plot_x)-60:], plot_y[len(plot_y)-60:]]).T)\n",
    "plt.legend()"
   ]
  },
  {
   "cell_type": "code",
   "execution_count": null,
   "metadata": {},
   "outputs": [],
   "source": [
    "plt.plot(plot_x[len(plot_x)-60:])"
   ]
  },
  {
   "cell_type": "code",
   "execution_count": null,
   "metadata": {},
   "outputs": [],
   "source": [
    "len(plot_x)"
   ]
  },
  {
   "cell_type": "code",
   "execution_count": null,
   "metadata": {},
   "outputs": [],
   "source": [
    "plt.plot(plot_y[len(plot_y)-60:])"
   ]
  },
  {
   "cell_type": "code",
   "execution_count": null,
   "metadata": {},
   "outputs": [],
   "source": [
    "x_series = pd.Series(plot_x, name='Predict')"
   ]
  },
  {
   "cell_type": "code",
   "execution_count": null,
   "metadata": {},
   "outputs": [],
   "source": [
    "type(x_series)"
   ]
  },
  {
   "cell_type": "code",
   "execution_count": null,
   "metadata": {},
   "outputs": [],
   "source": [
    "type(plot_y)"
   ]
  },
  {
   "cell_type": "code",
   "execution_count": null,
   "metadata": {},
   "outputs": [],
   "source": [
    "y_series = plot_y.reindex(x_series.index)"
   ]
  },
  {
   "cell_type": "code",
   "execution_count": null,
   "metadata": {},
   "outputs": [],
   "source": [
    "y_series"
   ]
  },
  {
   "cell_type": "code",
   "execution_count": null,
   "metadata": {},
   "outputs": [],
   "source": [
    "x_series"
   ]
  },
  {
   "cell_type": "code",
   "execution_count": null,
   "metadata": {},
   "outputs": [],
   "source": [
    "pd.concat([y_series, x_series],  axis=1).iloc[1705-60:].plot()"
   ]
  },
  {
   "cell_type": "code",
   "execution_count": null,
   "metadata": {},
   "outputs": [],
   "source": [
    "learn.drop"
   ]
  },
  {
   "cell_type": "code",
   "execution_count": null,
   "metadata": {},
   "outputs": [],
   "source": [
    "learn.save('stage-final')\n",
    "learn.export()"
   ]
  },
  {
   "cell_type": "markdown",
   "metadata": {},
   "source": [
    "# Load in the full data (recent rows will have been dropped because Ys were N/A)"
   ]
  },
  {
   "cell_type": "code",
   "execution_count": null,
   "metadata": {},
   "outputs": [],
   "source": [
    "prediction_df = item_df_training"
   ]
  },
  {
   "cell_type": "code",
   "execution_count": null,
   "metadata": {},
   "outputs": [],
   "source": [
    "prediction_df['constant'] = time_trimmed_df['Y'].mean() *scaling_factor"
   ]
  },
  {
   "cell_type": "code",
   "execution_count": null,
   "metadata": {},
   "outputs": [],
   "source": [
    "prediction_df.columns"
   ]
  },
  {
   "cell_type": "code",
   "execution_count": null,
   "metadata": {},
   "outputs": [],
   "source": [
    "prediction_df = prediction_df.fillna(method='ffill').fillna(method='bfill').fillna(0)"
   ]
  },
  {
   "cell_type": "code",
   "execution_count": null,
   "metadata": {},
   "outputs": [],
   "source": [
    "predict_data = TabularDataBunch.from_df(path, prediction_df, dep_var, valid_idx=valid_idx, procs=procs, cat_names=[])"
   ]
  },
  {
   "cell_type": "code",
   "execution_count": null,
   "metadata": {},
   "outputs": [],
   "source": [
    "predict_learn = tabular_learner(data, layers=[500,100], emb_szs={'native-country': 10}, metrics=mean_squared_error)"
   ]
  },
  {
   "cell_type": "code",
   "execution_count": null,
   "metadata": {},
   "outputs": [],
   "source": [
    "predict_learn =predict_learn.load('stage-final')"
   ]
  },
  {
   "cell_type": "code",
   "execution_count": null,
   "metadata": {},
   "outputs": [],
   "source": [
    "predict_learn.show_results(ds_type=DatasetType.Train)"
   ]
  },
  {
   "cell_type": "code",
   "execution_count": null,
   "metadata": {},
   "outputs": [],
   "source": [
    "predict_learn.predict(prediction_df.iloc[0])"
   ]
  },
  {
   "cell_type": "code",
   "execution_count": null,
   "metadata": {},
   "outputs": [],
   "source": [
    "predict_learn.predict(prediction_df.iloc[100])"
   ]
  },
  {
   "cell_type": "code",
   "execution_count": null,
   "metadata": {},
   "outputs": [],
   "source": [
    "prediction_df"
   ]
  },
  {
   "cell_type": "code",
   "execution_count": null,
   "metadata": {},
   "outputs": [],
   "source": [
    "predictions = [float(predict_learn.predict(prediction_df.iloc[i])[1]) for i in range(len(prediction_df))]\n"
   ]
  },
  {
   "cell_type": "code",
   "execution_count": null,
   "metadata": {},
   "outputs": [],
   "source": [
    "predictions"
   ]
  },
  {
   "cell_type": "code",
   "execution_count": null,
   "metadata": {
    "scrolled": true
   },
   "outputs": [],
   "source": [
    "prediction_df.tail()"
   ]
  },
  {
   "cell_type": "code",
   "execution_count": null,
   "metadata": {},
   "outputs": [],
   "source": [
    "prediction_df['predictions'] = predictions"
   ]
  },
  {
   "cell_type": "code",
   "execution_count": null,
   "metadata": {},
   "outputs": [],
   "source": [
    "prediction_df['predictions'].tail(30)"
   ]
  },
  {
   "cell_type": "code",
   "execution_count": null,
   "metadata": {},
   "outputs": [],
   "source": [
    "prediction_df"
   ]
  },
  {
   "cell_type": "markdown",
   "metadata": {},
   "source": [
    "#### "
   ]
  }
 ],
 "metadata": {
  "kernelspec": {
   "display_name": "Python 3",
   "language": "python",
   "name": "python3"
  },
  "language_info": {
   "codemirror_mode": {
    "name": "ipython",
    "version": 3
   },
   "file_extension": ".py",
   "mimetype": "text/x-python",
   "name": "python",
   "nbconvert_exporter": "python",
   "pygments_lexer": "ipython3",
   "version": "3.7.7"
  }
 },
 "nbformat": 4,
 "nbformat_minor": 1
}
